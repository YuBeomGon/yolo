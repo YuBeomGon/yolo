{
 "cells": [
  {
   "cell_type": "code",
   "execution_count": 1,
   "id": "da9c3964-fb70-45db-ab09-52c9ca56fe62",
   "metadata": {},
   "outputs": [],
   "source": [
    "import numpy as np\n",
    "import os\n",
    "import pandas as pd\n",
    "import torch\n",
    "import albumentations as A\n",
    "import albumentations.pytorch\n",
    "import cv2\n",
    "import sys\n",
    "import random\n",
    "import csv\n",
    "sys.path.append('../')\n",
    "\n",
    "from PIL import Image, ImageFile\n",
    "from torch.utils.data import Dataset, DataLoader\n",
    "from torchvision import transforms, utils\n",
    "from torch.utils.data.sampler import Sampler\n",
    "\n",
    "import sys\n",
    "import random\n",
    "import csv\n",
    "\n",
    "from pycocotools.coco import COCO\n",
    "\n",
    "import skimage.io\n",
    "import skimage.transform\n",
    "import skimage.color\n",
    "import skimage"
   ]
  },
  {
   "cell_type": "code",
   "execution_count": 2,
   "id": "344795e1-6b32-4ea2-836a-4edf61853b54",
   "metadata": {},
   "outputs": [],
   "source": [
    "class CocoDataset(Dataset):\n",
    "    \"\"\"Coco dataset.\"\"\"\n",
    "\n",
    "    def __init__(self, root_dir, set_name='train2017', transform=None):\n",
    "        \"\"\"\n",
    "        Args:\n",
    "            root_dir (string): COCO directory.\n",
    "            transform (callable, optional): Optional transform to be applied\n",
    "                on a sample.\n",
    "        \"\"\"\n",
    "        self.root_dir = root_dir\n",
    "        self.set_name = set_name\n",
    "        self.transform = transform\n",
    "\n",
    "        self.coco      = COCO(os.path.join(self.root_dir, 'annotations', 'instances_' + self.set_name + '.json'))\n",
    "        self.image_ids = self.coco.getImgIds()\n",
    "\n",
    "        self.load_classes()\n",
    "        self.img_dir = '/home/Dataset/scl/'\n",
    "\n",
    "    def load_classes(self):\n",
    "        # load class names (name -> label)\n",
    "        categories = self.coco.loadCats(self.coco.getCatIds())\n",
    "        categories.sort(key=lambda x: x['id'])\n",
    "\n",
    "        self.classes             = {}\n",
    "        self.coco_labels         = {}\n",
    "        self.coco_labels_inverse = {}\n",
    "        for c in categories:\n",
    "            self.coco_labels[len(self.classes)] = c['id']\n",
    "            self.coco_labels_inverse[c['id']] = len(self.classes)\n",
    "            self.classes[c['name']] = len(self.classes)\n",
    "\n",
    "        # also load the reverse (label -> name)\n",
    "        self.labels = {}\n",
    "        for key, value in self.classes.items():\n",
    "            self.labels[value] = key\n",
    "\n",
    "    def __len__(self):\n",
    "        return len(self.image_ids)\n",
    "\n",
    "    def __getitem__(self, idx):\n",
    "\n",
    "        img = self.load_image(idx)\n",
    "        annot = self.load_annotations(idx)\n",
    "        sample = {'img': img, 'annot': annot}\n",
    "        if self.transform:\n",
    "            sample = self.transform(sample)\n",
    "\n",
    "        return sample\n",
    "\n",
    "    def load_image(self, image_index):\n",
    "        \n",
    "        image_info = self.coco.loadImgs(self.image_ids[image_index])[0]\n",
    "        path       = os.path.join(self.img_dir, image_info['file_name'])\n",
    "#         print(path)\n",
    "#         img = skimage.io.imread(path)\n",
    "        img = cv2.imread(path)\n",
    "#         print(img.shape)\n",
    "\n",
    "        if len(img.shape) == 2:\n",
    "            img = skimage.color.gray2rgb(img)\n",
    "\n",
    "        return img.astype(np.float32)/255.0\n",
    "\n",
    "    def load_annotations(self, image_index):\n",
    "        # get ground truth annotations\n",
    "        annotations_ids = self.coco.getAnnIds(imgIds=self.image_ids[image_index], iscrowd=False)\n",
    "        annotations     = np.zeros((0, 5))\n",
    "\n",
    "        # some images appear to miss annotations (like image with id 257034)\n",
    "        if len(annotations_ids) == 0:\n",
    "            return annotations\n",
    "\n",
    "        # parse annotations\n",
    "        coco_annotations = self.coco.loadAnns(annotations_ids)\n",
    "        for idx, a in enumerate(coco_annotations):\n",
    "\n",
    "            # some annotations have basically no width / height, skip them\n",
    "            if a['bbox'][2] < 1 or a['bbox'][3] < 1:\n",
    "                continue\n",
    "\n",
    "            annotation        = np.zeros((1, 5))\n",
    "            annotation[0, :4] = a['bbox']\n",
    "            annotation[0, 4]  = self.coco_label_to_label(a['category_id'])\n",
    "            annotations       = np.append(annotations, annotation, axis=0)\n",
    "\n",
    "        # transform from [x, y, w, h] to [x1, y1, x2, y2]\n",
    "        annotations[:, 2] = annotations[:, 0] + annotations[:, 2]\n",
    "        annotations[:, 3] = annotations[:, 1] + annotations[:, 3]\n",
    "\n",
    "        return annotations\n",
    "\n",
    "    def coco_label_to_label(self, coco_label):\n",
    "        return self.coco_labels_inverse[coco_label]\n",
    "\n",
    "\n",
    "    def label_to_coco_label(self, label):\n",
    "        return self.coco_labels[label]\n",
    "\n",
    "    def image_aspect_ratio(self, image_index):\n",
    "        image = self.coco.loadImgs(self.image_ids[image_index])[0]\n",
    "        return float(image['width']) / float(image['height'])\n",
    "\n",
    "    def num_classes(self):\n",
    "        return 80"
   ]
  },
  {
   "cell_type": "code",
   "execution_count": 3,
   "id": "0449811f-3f04-4859-a5f2-21cebb7fc1a3",
   "metadata": {},
   "outputs": [
    {
     "name": "stdout",
     "output_type": "stream",
     "text": [
      "loading annotations into memory...\n",
      "Done (t=0.00s)\n",
      "creating index...\n",
      "index created!\n"
     ]
    }
   ],
   "source": [
    "# coco_path = '../data'\n",
    "# dataset_train = CocoDataset(coco_path, set_name='',\n",
    "#                             transform=transforms.Compose([Normalizer(), Augmenter(), Resizer()]))\n",
    "coco_path = '../data'\n",
    "dataset_train = CocoDataset(coco_path, set_name='train',\n",
    "                            transform=None)\n",
    "dataloader_train = DataLoader(dataset_train, batch_size=2, num_workers=3, collate_fn=None, batch_sampler=None)"
   ]
  },
  {
   "cell_type": "code",
   "execution_count": 4,
   "id": "52f7c0f2-16b3-47ff-adf3-44ba7ed99efc",
   "metadata": {},
   "outputs": [],
   "source": [
    "data = iter(dataloader_train).next()"
   ]
  },
  {
   "cell_type": "code",
   "execution_count": 5,
   "id": "43936e37-b098-4767-9afd-c89cf2c7bab0",
   "metadata": {},
   "outputs": [
    {
     "data": {
      "text/plain": [
       "torch.Size([2, 2048, 2048, 3])"
      ]
     },
     "execution_count": 5,
     "metadata": {},
     "output_type": "execute_result"
    }
   ],
   "source": [
    "data['img'].shape"
   ]
  },
  {
   "cell_type": "code",
   "execution_count": 10,
   "id": "4c6d4a31-22b1-459b-a4bd-f46446969f9d",
   "metadata": {},
   "outputs": [],
   "source": [
    "import json\n",
    "json_dir = '../data/annotations/'\n",
    "\n",
    "with open(json_dir + 'instances_lbc84_lsil.json') as f1:\n",
    "    j1 = json.load(f1)\n",
    "    \n",
    "with open(json_dir + 'instances_lbc85_lsil.json') as f2:\n",
    "    j2 = json.load(f2)    \n"
   ]
  },
  {
   "cell_type": "code",
   "execution_count": 13,
   "id": "065168f9-4006-4866-b630-a710c1fb7865",
   "metadata": {},
   "outputs": [
    {
     "data": {
      "text/plain": [
       "dict_keys(['licenses', 'info', 'categories', 'images', 'annotations'])"
      ]
     },
     "execution_count": 13,
     "metadata": {},
     "output_type": "execute_result"
    }
   ],
   "source": [
    "j1.keys()"
   ]
  },
  {
   "cell_type": "code",
   "execution_count": 14,
   "id": "0a85fcc2-7c61-49bc-9845-8a6a54112cc1",
   "metadata": {},
   "outputs": [
    {
     "data": {
      "text/plain": [
       "[{'id': 1, 'name': 'Benign atypia', 'supercategory': ''},\n",
       " {'id': 2, 'name': 'Reactive change', 'supercategory': ''},\n",
       " {'id': 3, 'name': 'ASC-US', 'supercategory': ''},\n",
       " {'id': 4, 'name': 'ASCUS-SIL', 'supercategory': ''},\n",
       " {'id': 5, 'name': 'ASC-H', 'supercategory': ''},\n",
       " {'id': 6, 'name': 'LSIL', 'supercategory': ''},\n",
       " {'id': 7, 'name': 'HSIL', 'supercategory': ''},\n",
       " {'id': 8, 'name': 'Carcinoma', 'supercategory': ''},\n",
       " {'id': 9, 'name': 'AGUS', 'supercategory': ''},\n",
       " {'id': 10, 'name': 'AIS', 'supercategory': ''},\n",
       " {'id': 11, 'name': 'Adenocarcinoma', 'supercategory': ''},\n",
       " {'id': 12, 'name': 'HPV-Infection', 'supercategory': ''},\n",
       " {'id': 13, 'name': 'Negative', 'supercategory': ''}]"
      ]
     },
     "execution_count": 14,
     "metadata": {},
     "output_type": "execute_result"
    }
   ],
   "source": [
    "j1['categories']"
   ]
  },
  {
   "cell_type": "code",
   "execution_count": 16,
   "id": "d8d6b698-d01d-4aa5-b828-70d6f85e83a1",
   "metadata": {},
   "outputs": [
    {
     "data": {
      "text/plain": [
       "[{'id': 1,\n",
       "  'width': 2048,\n",
       "  'height': 2048,\n",
       "  'file_name': 'patch_images/2021.01.07/LBC84-20210104(1)/LBC84-20210104(1)_1000.png',\n",
       "  'license': 0,\n",
       "  'flickr_url': '',\n",
       "  'coco_url': '',\n",
       "  'date_captured': 0},\n",
       " {'id': 2,\n",
       "  'width': 2048,\n",
       "  'height': 2048,\n",
       "  'file_name': 'patch_images/2021.01.07/LBC84-20210104(1)/LBC84-20210104(1)_1001.png',\n",
       "  'license': 0,\n",
       "  'flickr_url': '',\n",
       "  'coco_url': '',\n",
       "  'date_captured': 0},\n",
       " {'id': 3,\n",
       "  'width': 2048,\n",
       "  'height': 2048,\n",
       "  'file_name': 'patch_images/2021.01.07/LBC84-20210104(1)/LBC84-20210104(1)_1002.png',\n",
       "  'license': 0,\n",
       "  'flickr_url': '',\n",
       "  'coco_url': '',\n",
       "  'date_captured': 0},\n",
       " {'id': 4,\n",
       "  'width': 2048,\n",
       "  'height': 2048,\n",
       "  'file_name': 'patch_images/2021.01.07/LBC84-20210104(1)/LBC84-20210104(1)_1003.png',\n",
       "  'license': 0,\n",
       "  'flickr_url': '',\n",
       "  'coco_url': '',\n",
       "  'date_captured': 0},\n",
       " {'id': 5,\n",
       "  'width': 2048,\n",
       "  'height': 2048,\n",
       "  'file_name': 'patch_images/2021.01.07/LBC84-20210104(1)/LBC84-20210104(1)_1004.png',\n",
       "  'license': 0,\n",
       "  'flickr_url': '',\n",
       "  'coco_url': '',\n",
       "  'date_captured': 0}]"
      ]
     },
     "execution_count": 16,
     "metadata": {},
     "output_type": "execute_result"
    }
   ],
   "source": [
    "j1['images'][:5]"
   ]
  },
  {
   "cell_type": "code",
   "execution_count": 17,
   "id": "20148d8d-e896-484e-99fb-36ec75802232",
   "metadata": {},
   "outputs": [
    {
     "data": {
      "text/plain": [
       "[{'id': 1,\n",
       "  'image_id': 44,\n",
       "  'category_id': 6,\n",
       "  'segmentation': [],\n",
       "  'area': 21606.5276,\n",
       "  'bbox': [1549.27, 1385.64, 174.19, 124.04],\n",
       "  'iscrowd': 0,\n",
       "  'attributes': {'Description': 'Low-grade squamous intraepithelial lesion',\n",
       "   'occluded': False}},\n",
       " {'id': 2,\n",
       "  'image_id': 45,\n",
       "  'category_id': 3,\n",
       "  'segmentation': [],\n",
       "  'area': 14487.371099999993,\n",
       "  'bbox': [345.81, 1364.53, 137.23, 105.57],\n",
       "  'iscrowd': 0,\n",
       "  'attributes': {'Description': 'Atypical squamous cells of undetermined significants',\n",
       "   'occluded': False}},\n",
       " {'id': 3,\n",
       "  'image_id': 60,\n",
       "  'category_id': 3,\n",
       "  'segmentation': [],\n",
       "  'area': 20284.071999999996,\n",
       "  'bbox': [63.41, 1530.79, 137.24, 147.8],\n",
       "  'iscrowd': 0,\n",
       "  'attributes': {'Description': 'Atypical squamous cells of undetermined significants',\n",
       "   'occluded': False}},\n",
       " {'id': 4,\n",
       "  'image_id': 72,\n",
       "  'category_id': 6,\n",
       "  'segmentation': [],\n",
       "  'area': 23549.171999999988,\n",
       "  'bbox': [1385.64, 353.72, 182.1, 129.32],\n",
       "  'iscrowd': 0,\n",
       "  'attributes': {'Description': 'Low-grade squamous intraepithelial lesion',\n",
       "   'occluded': False}},\n",
       " {'id': 5,\n",
       "  'image_id': 72,\n",
       "  'category_id': 6,\n",
       "  'segmentation': [],\n",
       "  'area': 25130.690399999996,\n",
       "  'bbox': [1348.69, 467.21, 216.42, 116.12],\n",
       "  'iscrowd': 0,\n",
       "  'attributes': {'Description': 'Low-grade squamous intraepithelial lesion',\n",
       "   'occluded': False}}]"
      ]
     },
     "execution_count": 17,
     "metadata": {},
     "output_type": "execute_result"
    }
   ],
   "source": [
    "j1['annotations'][:5]"
   ]
  },
  {
   "cell_type": "code",
   "execution_count": null,
   "id": "aa21f9b4-d62b-4e40-87ab-994905fc76db",
   "metadata": {},
   "outputs": [],
   "source": []
  }
 ],
 "metadata": {
  "kernelspec": {
   "display_name": "pytorch_retina",
   "language": "python",
   "name": "pytorch_retina"
  },
  "language_info": {
   "codemirror_mode": {
    "name": "ipython",
    "version": 3
   },
   "file_extension": ".py",
   "mimetype": "text/x-python",
   "name": "python",
   "nbconvert_exporter": "python",
   "pygments_lexer": "ipython3",
   "version": "3.7.10"
  }
 },
 "nbformat": 4,
 "nbformat_minor": 5
}
