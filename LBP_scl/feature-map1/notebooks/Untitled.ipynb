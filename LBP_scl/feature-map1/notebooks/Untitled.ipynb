{
 "cells": [
  {
   "cell_type": "code",
   "execution_count": 2,
   "id": "6fa7a8a3-a203-4845-b377-c24cf2fea7be",
   "metadata": {},
   "outputs": [],
   "source": [
    "import torch\n",
    "import torch.nn as nn"
   ]
  },
  {
   "cell_type": "code",
   "execution_count": 15,
   "id": "bc8f09a6-b2cc-4a91-ace1-c4098bc8e8d1",
   "metadata": {},
   "outputs": [
    {
     "data": {
      "text/plain": [
       "tensor([[0.1000, 0.2000, 0.5000],\n",
       "        [0.7000, 0.1200, 0.1500],\n",
       "        [1.0000, 0.1200, 0.1500]])"
      ]
     },
     "execution_count": 15,
     "metadata": {},
     "output_type": "execute_result"
    }
   ],
   "source": [
    "a = torch.tensor([[0.1, 0.2, 0.5], [0.7, 0.12, 0.15], [1., 0.12, 0.15]])\n",
    "a"
   ]
  },
  {
   "cell_type": "code",
   "execution_count": 17,
   "id": "19b1c16f-9a60-4e3c-baaf-b38cdae7cc05",
   "metadata": {},
   "outputs": [
    {
     "data": {
      "text/plain": [
       "tensor([0.0000, 0.7000, 1.0000])"
      ]
     },
     "execution_count": 17,
     "metadata": {},
     "output_type": "execute_result"
    }
   ],
   "source": [
    "# a[:,0][a[:,0] < 0.8] = 0\n",
    "b = a[:,0]\n",
    "b[b < 0.5] = 0\n",
    "b"
   ]
  },
  {
   "cell_type": "code",
   "execution_count": 18,
   "id": "89002008-5db9-4181-8d64-bffca7cad8f4",
   "metadata": {},
   "outputs": [
    {
     "data": {
      "text/plain": [
       "tensor([[0.0000, 0.2000, 0.5000],\n",
       "        [0.7000, 0.1200, 0.1500],\n",
       "        [1.0000, 0.1200, 0.1500]])"
      ]
     },
     "execution_count": 18,
     "metadata": {},
     "output_type": "execute_result"
    }
   ],
   "source": [
    "a"
   ]
  },
  {
   "cell_type": "code",
   "execution_count": null,
   "id": "078ef9cb-c588-4692-aec4-4599c7815050",
   "metadata": {},
   "outputs": [],
   "source": []
  },
  {
   "cell_type": "code",
   "execution_count": 28,
   "id": "2cd15f55-41a3-4b21-b3f6-dc223f324d95",
   "metadata": {},
   "outputs": [
    {
     "data": {
      "text/plain": [
       "tensor([[[0.0000, 0.2000, 0.5000],\n",
       "         [0.7000, 0.1200, 0.1500],\n",
       "         [1.0000, 0.1200, 0.1500]]])"
      ]
     },
     "execution_count": 28,
     "metadata": {},
     "output_type": "execute_result"
    }
   ],
   "source": [
    "c = a.unsqueeze(dim=0)\n",
    "c"
   ]
  },
  {
   "cell_type": "code",
   "execution_count": 33,
   "id": "b4143953-b624-4ee3-a19c-eff941a105d4",
   "metadata": {},
   "outputs": [
    {
     "data": {
      "text/plain": [
       "tensor([0.0000, 0.7000, 1.0000])"
      ]
     },
     "execution_count": 33,
     "metadata": {},
     "output_type": "execute_result"
    }
   ],
   "source": [
    "c[0][:,0]"
   ]
  },
  {
   "cell_type": "code",
   "execution_count": 37,
   "id": "814fcafb-57fc-4c3e-a97d-23241df4bad5",
   "metadata": {},
   "outputs": [
    {
     "data": {
      "text/plain": [
       "(tensor([2]),)"
      ]
     },
     "execution_count": 37,
     "metadata": {},
     "output_type": "execute_result"
    }
   ],
   "source": [
    "su = (c[0][:,0] == 1.).sum()\n",
    "su\n",
    "row = torch.where(c[0][:,0] == 1.)\n",
    "row\n",
    "# row = (ab_point_label[i][1] == 1.)"
   ]
  },
  {
   "cell_type": "code",
   "execution_count": 44,
   "id": "58e9c213-5a8f-444f-aa5c-3615ce110481",
   "metadata": {},
   "outputs": [
    {
     "data": {
      "text/plain": [
       "tensor([[0.1200, 0.1500]])"
      ]
     },
     "execution_count": 44,
     "metadata": {},
     "output_type": "execute_result"
    }
   ],
   "source": [
    "c[0][row,1:3]"
   ]
  },
  {
   "cell_type": "code",
   "execution_count": 46,
   "id": "9d4c27a4-6bdd-401b-93ca-8e2f7164de03",
   "metadata": {},
   "outputs": [
    {
     "data": {
      "text/plain": [
       "torch.Size([3, 5])"
      ]
     },
     "execution_count": 46,
     "metadata": {},
     "output_type": "execute_result"
    }
   ],
   "source": [
    "loss = nn.MSELoss()\n",
    "input = torch.randn(3, 5, requires_grad=True)\n",
    "input.shape"
   ]
  },
  {
   "cell_type": "code",
   "execution_count": 47,
   "id": "96017438-beeb-4481-bcf8-33998c81f31a",
   "metadata": {},
   "outputs": [
    {
     "data": {
      "text/plain": [
       "tensor([[-0.7216, -0.0329, -0.4858,  2.3753, -0.3192],\n",
       "        [ 0.1442, -0.8391, -0.7905,  2.4424, -0.9289],\n",
       "        [ 0.6851, -0.2978, -1.1662, -0.3938,  0.3350]])"
      ]
     },
     "execution_count": 47,
     "metadata": {},
     "output_type": "execute_result"
    }
   ],
   "source": [
    "target = torch.randn(3, 5)\n",
    "target"
   ]
  },
  {
   "cell_type": "code",
   "execution_count": 48,
   "id": "40d233d1-376b-4804-aa31-7a8c3dd4a5d5",
   "metadata": {},
   "outputs": [
    {
     "data": {
      "text/plain": [
       "tensor(1.6983, grad_fn=<MseLossBackward>)"
      ]
     },
     "execution_count": 48,
     "metadata": {},
     "output_type": "execute_result"
    }
   ],
   "source": [
    "output = loss(input, target)\n",
    "output"
   ]
  },
  {
   "cell_type": "code",
   "execution_count": 49,
   "id": "e0743990-6906-4dd5-93d7-9780633b28cb",
   "metadata": {},
   "outputs": [
    {
     "data": {
      "text/plain": [
       "torch.Size([2, 4096, 3])"
      ]
     },
     "execution_count": 49,
     "metadata": {},
     "output_type": "execute_result"
    }
   ],
   "source": [
    "label = torch.randn([2,4096, 3])\n",
    "label.shape"
   ]
  },
  {
   "cell_type": "code",
   "execution_count": 50,
   "id": "6af2b1f1-40db-4588-877a-b5ba4f550a31",
   "metadata": {},
   "outputs": [
    {
     "data": {
      "text/plain": [
       "torch.Size([2, 4096])"
      ]
     },
     "execution_count": 50,
     "metadata": {},
     "output_type": "execute_result"
    }
   ],
   "source": [
    "targets = label[:,:,0]\n",
    "targets.shape"
   ]
  },
  {
   "cell_type": "code",
   "execution_count": 70,
   "id": "dfde331c-b4bc-4ca5-9aee-3179b724128a",
   "metadata": {},
   "outputs": [
    {
     "data": {
      "text/plain": [
       "torch.Size([2, 4096, 3])"
      ]
     },
     "execution_count": 70,
     "metadata": {},
     "output_type": "execute_result"
    }
   ],
   "source": [
    "a = torch.randn(2,4096,3, device='cuda:0')\n",
    "a.shape"
   ]
  },
  {
   "cell_type": "code",
   "execution_count": 71,
   "id": "36e637d9-441f-4552-8c43-15a8e75022a8",
   "metadata": {},
   "outputs": [],
   "source": [
    "row = torch.tensor([2, 3], device='cuda:0')"
   ]
  },
  {
   "cell_type": "code",
   "execution_count": 72,
   "id": "28c1fd9d-da6f-4ab9-a337-1538d6288e5c",
   "metadata": {},
   "outputs": [
    {
     "data": {
      "text/plain": [
       "tensor([[-0.7832, -0.7880],\n",
       "        [-0.3987,  0.1176]], device='cuda:0')"
      ]
     },
     "execution_count": 72,
     "metadata": {},
     "output_type": "execute_result"
    }
   ],
   "source": [
    "a[0][row,1:3]"
   ]
  },
  {
   "cell_type": "code",
   "execution_count": 73,
   "id": "46c2152d-9700-4441-814c-0843d525d33e",
   "metadata": {},
   "outputs": [
    {
     "data": {
      "text/plain": [
       "tensor([[-0.7832, -0.7880],\n",
       "        [-0.3987,  0.1176]], device='cuda:0')"
      ]
     },
     "execution_count": 73,
     "metadata": {},
     "output_type": "execute_result"
    }
   ],
   "source": [
    "a[0, row, 1:3]"
   ]
  },
  {
   "cell_type": "code",
   "execution_count": 68,
   "id": "0e9723f3-b679-4e7f-a5b6-47d829581bb6",
   "metadata": {},
   "outputs": [],
   "source": [
    "row = torch.tensor([1354, 1738], device='cuda:0')"
   ]
  },
  {
   "cell_type": "code",
   "execution_count": 69,
   "id": "1818768c-308a-46bb-bd3b-28ee14b3e897",
   "metadata": {},
   "outputs": [
    {
     "data": {
      "text/plain": [
       "tensor([[ 0.5838,  1.1541],\n",
       "        [ 0.7144, -0.2882]], device='cuda:0')"
      ]
     },
     "execution_count": 69,
     "metadata": {},
     "output_type": "execute_result"
    }
   ],
   "source": [
    "a[0][row,1:3]"
   ]
  },
  {
   "cell_type": "code",
   "execution_count": 90,
   "id": "46477c36-4c7f-44b6-a8eb-f6a41fedc947",
   "metadata": {},
   "outputs": [
    {
     "data": {
      "text/plain": [
       "[tensor(0.)]"
      ]
     },
     "execution_count": 90,
     "metadata": {},
     "output_type": "execute_result"
    }
   ],
   "source": [
    "ad = []\n",
    "ad.append(torch.tensor(0.))\n",
    "# ad.append(torch.tensor(1.))\n",
    "ad"
   ]
  },
  {
   "cell_type": "code",
   "execution_count": 91,
   "id": "a5563ed2-80eb-436b-a0bc-78a747e0af75",
   "metadata": {},
   "outputs": [
    {
     "data": {
      "text/plain": [
       "tensor(0.)"
      ]
     },
     "execution_count": 91,
     "metadata": {},
     "output_type": "execute_result"
    }
   ],
   "source": [
    "torch.stack(ad).mean()"
   ]
  },
  {
   "cell_type": "code",
   "execution_count": 3,
   "id": "2c80d1ef-69e6-4840-b502-de11e2a10635",
   "metadata": {},
   "outputs": [],
   "source": [
    "a = torch.tensor([], device='cuda:0', dtype=torch.int64)"
   ]
  },
  {
   "cell_type": "code",
   "execution_count": 4,
   "id": "ddc64b1a-16d9-4d70-b9d9-046faf797ef1",
   "metadata": {},
   "outputs": [
    {
     "data": {
      "text/plain": [
       "0"
      ]
     },
     "execution_count": 4,
     "metadata": {},
     "output_type": "execute_result"
    }
   ],
   "source": [
    "len(a)"
   ]
  },
  {
   "cell_type": "code",
   "execution_count": 6,
   "id": "d4aa18ea-e54d-4d21-92b9-e6bdc3c65e63",
   "metadata": {},
   "outputs": [
    {
     "data": {
      "text/plain": [
       "0"
      ]
     },
     "execution_count": 6,
     "metadata": {},
     "output_type": "execute_result"
    }
   ],
   "source": [
    "len(torch.tensor([], device='cuda:0', dtype=torch.int64),)"
   ]
  },
  {
   "cell_type": "code",
   "execution_count": 12,
   "id": "eb204a1b-c69f-411c-a16b-d81c2e571db2",
   "metadata": {},
   "outputs": [],
   "source": [
    "import torch\n",
    "import torch.nn as nn"
   ]
  },
  {
   "cell_type": "code",
   "execution_count": 10,
   "id": "f7816bb8-4a0f-474f-bf45-c79be9055266",
   "metadata": {},
   "outputs": [],
   "source": [
    "a = (torch.tensor([ 100, 3030]),)"
   ]
  },
  {
   "cell_type": "code",
   "execution_count": 11,
   "id": "83d47a24-7c23-4bb1-97e2-4a04fec3ef9d",
   "metadata": {},
   "outputs": [
    {
     "data": {
      "text/plain": [
       "2"
      ]
     },
     "execution_count": 11,
     "metadata": {},
     "output_type": "execute_result"
    }
   ],
   "source": [
    "len(a[0])"
   ]
  },
  {
   "cell_type": "code",
   "execution_count": 23,
   "id": "6a6ede07-04ce-4f65-b415-58c9034b5b39",
   "metadata": {},
   "outputs": [],
   "source": [
    "a = torch.sigmoid(torch.randn(2, 4))\n",
    "b = torch.sigmoid(torch.randn(2, 4))"
   ]
  },
  {
   "cell_type": "code",
   "execution_count": 24,
   "id": "289d561b-8193-44e2-9710-b7a1165db3f2",
   "metadata": {},
   "outputs": [
    {
     "data": {
      "text/plain": [
       "tensor(0.1027)"
      ]
     },
     "execution_count": 24,
     "metadata": {},
     "output_type": "execute_result"
    }
   ],
   "source": [
    "mse = nn.MSELoss()\n",
    "mse(a, b)"
   ]
  },
  {
   "cell_type": "code",
   "execution_count": 21,
   "id": "2cdddd17-ea85-4a6e-9989-96d078942089",
   "metadata": {},
   "outputs": [
    {
     "data": {
      "text/plain": [
       "tensor(2.9090)"
      ]
     },
     "execution_count": 21,
     "metadata": {},
     "output_type": "execute_result"
    }
   ],
   "source": [
    "c = a-b\n",
    "(c.square()).mean()"
   ]
  },
  {
   "cell_type": "code",
   "execution_count": 22,
   "id": "ad5c60ef-6f47-4ae1-855c-c7b9fe4c1fec",
   "metadata": {},
   "outputs": [
    {
     "data": {
      "text/plain": [
       "tensor([[7.8894, 5.3267, 3.4270, 1.5393],\n",
       "        [0.2646, 3.7188, 0.2768, 0.8294]])"
      ]
     },
     "execution_count": 22,
     "metadata": {},
     "output_type": "execute_result"
    }
   ],
   "source": [
    "c.square()"
   ]
  },
  {
   "cell_type": "code",
   "execution_count": 1,
   "id": "ab095309-1bb6-4471-8583-655e82d5b736",
   "metadata": {},
   "outputs": [
    {
     "name": "stdout",
     "output_type": "stream",
     "text": [
      "hi\n"
     ]
    }
   ],
   "source": [
    "for i in range(1,2) :\n",
    "    print('hi')"
   ]
  },
  {
   "cell_type": "code",
   "execution_count": 8,
   "id": "3cca0fe0-f798-4f50-a8a8-f3b2505a8d3d",
   "metadata": {},
   "outputs": [
    {
     "name": "stdout",
     "output_type": "stream",
     "text": [
      "[0.05, 0.04865316251735946, 0.04733092121760996, 0.04603324297661734, 0.044760072860790666, 0.04351133533380851, 0.04228693541925528, 0.04108675982038566, 0.039910677998211255, 0.03875854320908087, 0.03763019350290237, 0.036525452683131156, 0.03544413122962764, 0.03438602718546297, 0.03335092700873027, 0.03233860639039575, 0.03134883103920233, 0.03038135743461612, 0.029435933548784463, 0.02851229953845293, 0.027610188407766852, 0.026729326642862435, 0.0258694348191314, 0.02503022818202251, 0.024211417202223286, 0.023412708106044778, 0.022633803381812992, 0.021874402263050555, 0.021134201189213463, 0.020412894244728436, 0.019710173577058048, 0.019025729794502285, 0.018359252344427215, 0.01771042987259352, 0.017078950564240473, 0.01646450246756338, 0.015866773800205982, 0.015285453239372483, 0.014720230196147639, 0.014170795074597514, 0.013636839516207507, 0.013118056630199177, 0.012614141210252096, 0.012124789938142182, 0.01164970157479352, 0.011188577139226377, 0.01074112007587025, 0.010307036410697063, 0.009886034896616365, 0.009477827148561213, 0.00908212776868068, 0.008698654462042411, 0.008327128143236372, 0.007967273034258992, 0.007618816754045216, 0.007281490400004488, 0.0069550286219056115, 0.006639169688444405, 0.006333655546817535, 0.006038231875615415, 0.0057526481313369794, 0.005476657588819173, 0.005210017375864422, 0.004952488502339805, 0.0047038358840126235, 0.004463828361377953, 0.004232238713725156, 0.0040088436686817695, 0.003793423907464925, 0.0035857640660624155, 0.003385652732557608, 0.003192882440804887, 0.003007249660654731, 0.002828554784920417, 0.0026566021132712558, 0.002491199833230446, 0.002332159998448957, 0.0021792985044204625, 0.002032435061795979, 0.0018913931674508465, 0.0017560000734507363, 0.0016260867540576012, 0.0015014878709109722, 0.0013820417365145198, 0.0012675902761526024, 0.001157978988356383, 0.0010530569040342207, 0.0009526765443761946, 0.0008566938776380115, 0.0007649682749050573, 0.0006773624649329806, 0.0005937424881569955, 0.0005139776499580108, 0.0004379404732697358, 0.00036550665060709975, 0.00029655499559261376, 0.00023096739405375057, 0.00016862875476094587, 0.00010942695987249608, 5.325281514938651e-05]\n"
     ]
    }
   ],
   "source": [
    "import math\n",
    "import numpy as np\n",
    "\n",
    "NUM_EPOCH = 100\n",
    "lr_list = [1] * NUM_EPOCH\n",
    "e = math.exp(1)\n",
    "for i,v in enumerate(lr_list) :\n",
    "    lr_list[i] = 0.05 * (math.cos(i*math.pi/(NUM_EPOCH*2)))* math.exp(1.*i*-e/NUM_EPOCH)\n",
    "#     lr_list[i] = 0.05 * math.exp(1.*i*-e/NUM_EPOCH)\n",
    "print(lr_list)\n",
    "# lr_list = [0.1, 0.1, 0.05, 0.05, 0.05, 0.02, 0.02, \n",
    "#            0.01, 0.01, 0.01, 0.005, 0.002,\n",
    "#            0.001, 0.0005, 0.0005, 0.0005, 0.0001, 0.0001, 0.00005, 0.00005]"
   ]
  },
  {
   "cell_type": "code",
   "execution_count": 12,
   "id": "f4af4071-cd5b-4398-a465-9878da4efc96",
   "metadata": {},
   "outputs": [],
   "source": [
    "# for i in range(100) :\n",
    "#     lr = 0.1 * (0.1 ** (i / 30))\n",
    "#     print(lr)"
   ]
  },
  {
   "cell_type": "code",
   "execution_count": null,
   "id": "01dbeae4-a537-4a10-81dc-d8273ea263de",
   "metadata": {},
   "outputs": [],
   "source": []
  }
 ],
 "metadata": {
  "kernelspec": {
   "display_name": "pytorch_retina",
   "language": "python",
   "name": "pytorch_retina"
  },
  "language_info": {
   "codemirror_mode": {
    "name": "ipython",
    "version": 3
   },
   "file_extension": ".py",
   "mimetype": "text/x-python",
   "name": "python",
   "nbconvert_exporter": "python",
   "pygments_lexer": "ipython3",
   "version": "3.7.10"
  }
 },
 "nbformat": 4,
 "nbformat_minor": 5
}
