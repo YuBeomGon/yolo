{
 "cells": [
  {
   "cell_type": "code",
   "execution_count": 43,
   "id": "9fda434a-881a-4e50-9a7e-398133db4738",
   "metadata": {},
   "outputs": [],
   "source": [
    "%matplotlib inline\n",
    "import matplotlib.pyplot as plt\n",
    "import cv2\n",
    "import numpy as np\n",
    "import scipy as sp\n",
    "import os\n",
    "import pandas as pd\n",
    "\n",
    "from skimage import img_as_float\n",
    "from skimage.morphology import reconstruction, h_maxima, h_minima\n",
    "from skimage import morphology\n",
    "\n",
    "import torch\n",
    "import torch.nn as nn\n",
    "import torch.nn.functional as F\n"
   ]
  },
  {
   "cell_type": "code",
   "execution_count": 8,
   "id": "108b51fa-22ca-4f74-b9c3-7497da3462aa",
   "metadata": {},
   "outputs": [],
   "source": [
    "df = pd.read_csv('../data/df.csv')\n",
    "df['label_id'] = df.label.apply( lambda x : 0.)\n",
    "df_data = df.groupby('path')\n",
    "def get_data(img_id):\n",
    "    if img_id not in df_data.groups:\n",
    "        return dict(image_id=img_id, boxes=list())\n",
    "    \n",
    "    data  = df_data.get_group(img_id)\n",
    "#     boxes = data['bbox'].values\n",
    "    boxes = data[['xmin', 'ymin', 'w', 'h', 'label_id']].values\n",
    "#     labels = data['label'].values\n",
    "    return dict(image_id = img_id, boxes = boxes)\n",
    "#     return dict(image_id = img_id, boxes = boxes, labels=labels)"
   ]
  },
  {
   "cell_type": "code",
   "execution_count": 17,
   "id": "9d6ebce7-25d3-487c-aa1d-6812f86f1a3e",
   "metadata": {},
   "outputs": [
    {
     "data": {
      "image/png": "[encoded data removed]",
      "text/plain": [
       "<Figure size 360x720 with 1 Axes>"
      ]
     },
     "metadata": {
      "needs_background": "light"
     },
     "output_type": "display_data"
    }
   ],
   "source": [
    "path = '/home/Dataset/scl/patch_images/2021.01.06/LBC24-20210102(1)/'\n",
    "file_list = ['patch_images/2021.01.06/LBC24-20210102(1)/' + d for d in os.listdir(path)]\n",
    "file_list[:2]\n",
    "\n",
    "test_list = [get_data(img_id) for img_id in file_list]\n",
    "test_list[:2]\n",
    "img = cv2.imread('/home/Dataset/scl/' + test_list[100]['image_id'])\n",
    "gray = cv2.cvtColor(img, cv2.COLOR_BGR2GRAY)\n",
    "gray = cv2.medianBlur(gray,7)\n",
    "gray = cv2.resize(gray, (512,512))\n",
    "bit_map = gray < 200\n",
    "\n",
    "plt.figure(figsize=(5, 10))\n",
    "plt.imshow(bit_map);"
   ]
  },
  {
   "cell_type": "code",
   "execution_count": 40,
   "id": "76575a7e-2b1a-463f-aace-3172d9c37cd6",
   "metadata": {},
   "outputs": [],
   "source": [
    "# import numpy as np\n",
    "\n",
    "# def conv2d_np(image, kernel, strides):\n",
    "#     kernel = np.flipud(np.fliplr(kernel)) #XCorrel\n",
    "#     print(image.strides)\n",
    "    \n",
    "#     sub_matrices = np.lib.stride_tricks.as_strided(image,\n",
    "#                                                    shape = tuple(np.subtract(image.shape, kernel.shape))+kernel.shape, \n",
    "# #                                                    strides = image.strides * 2)\n",
    "#                                                    strides = strides)\n",
    "\n",
    "#     return np.einsum('ij,klij->kl', kernel, sub_matrices)"
   ]
  },
  {
   "cell_type": "code",
   "execution_count": 41,
   "id": "f08037ed-e9db-46ba-b17f-17336f95a0dc",
   "metadata": {},
   "outputs": [],
   "source": [
    "# # np.pad(bit_map, (3,3), 'constant', constant_values=0).shape\n",
    "# # kernel = [[1,1,1], [1,1,1], [1,1,1]]\n",
    "# kernel = np.ones((64,64))\n",
    "# label = conv2d_np(bit_map, kernel, (512, 32))/(64*64)\n"
   ]
  },
  {
   "cell_type": "code",
   "execution_count": 84,
   "id": "1fcc4e86-de99-4ef2-b6e3-7e41d818ccb3",
   "metadata": {},
   "outputs": [],
   "source": [
    "kernel = torch.ones((1, 1, 64,64))\n",
    "# weights = weights.view(1, 1, 3, 3).repeat(1, nb_channels, 1, 1)\n",
    "\n",
    "output = F.conv2d(torch.tensor(bit_map).reshape(1,1,512,512).float(), kernel, stride=32)"
   ]
  },
  {
   "cell_type": "code",
   "execution_count": 86,
   "id": "55d2ac57-884e-4e53-9b19-b5e7d7373766",
   "metadata": {},
   "outputs": [
    {
     "data": {
      "text/plain": [
       "torch.Size([1, 1, 15, 15])"
      ]
     },
     "execution_count": 86,
     "metadata": {},
     "output_type": "execute_result"
    }
   ],
   "source": [
    "(output/(64*64) > 0.5 ).float().shape"
   ]
  },
  {
   "cell_type": "code",
   "execution_count": 77,
   "id": "1848edf0-3e77-4bc9-a5a0-f38553715491",
   "metadata": {},
   "outputs": [
    {
     "data": {
      "text/plain": [
       "tensor([[[[4.7803e-01, 4.5898e-01, 4.3311e-01, 4.3945e-01, 4.9463e-01,\n",
       "           4.7510e-01, 4.2529e-01, 3.3594e-01, 2.7051e-01, 2.2778e-01,\n",
       "           2.2095e-01, 1.3745e-01, 1.5625e-02, 0.0000e+00, 0.0000e+00,\n",
       "           0.0000e+00, 0.0000e+00, 0.0000e+00, 0.0000e+00, 0.0000e+00,\n",
       "           0.0000e+00, 0.0000e+00, 0.0000e+00, 0.0000e+00, 0.0000e+00,\n",
       "           0.0000e+00, 0.0000e+00, 0.0000e+00, 0.0000e+00],\n",
       "          [1.0000e+00, 1.0000e+00, 1.0000e+00, 1.0000e+00, 1.0000e+00,\n",
       "           4.8242e-01, 4.1895e-01, 3.5864e-01, 3.5815e-01, 3.5986e-01,\n",
       "           3.4302e-01, 2.0850e-01, 2.5391e-02, 0.0000e+00, 0.0000e+00,\n",
       "           0.0000e+00, 2.6855e-03, 2.6855e-03, 2.6855e-03, 2.6855e-03,\n",
       "           0.0000e+00, 0.0000e+00, 0.0000e+00, 0.0000e+00, 0.0000e+00,\n",
       "           0.0000e+00, 0.0000e+00, 0.0000e+00, 0.0000e+00],\n",
       "          [1.0000e+00, 1.0000e+00, 1.0000e+00, 1.0000e+00, 1.0000e+00,\n",
       "           3.8330e-01, 3.4009e-01, 3.5693e-01, 4.1309e-01, 4.4409e-01,\n",
       "           4.4507e-01, 2.9004e-01, 7.2510e-02, 1.7822e-02, 0.0000e+00,\n",
       "           3.4180e-03, 3.0762e-02, 3.0762e-02, 3.0762e-02, 2.7344e-02,\n",
       "           0.0000e+00, 0.0000e+00, 0.0000e+00, 0.0000e+00, 0.0000e+00,\n",
       "           0.0000e+00, 0.0000e+00, 0.0000e+00, 0.0000e+00],\n",
       "          [4.0747e-01, 1.0000e+00, 1.0000e+00, 1.0000e+00, 4.3066e-01,\n",
       "           2.8882e-01, 2.6367e-01, 3.3887e-01, 4.7656e-01, 1.0000e+00,\n",
       "           1.0000e+00, 4.3018e-01, 1.8433e-01, 6.7139e-02, 0.0000e+00,\n",
       "           3.4180e-03, 3.0762e-02, 3.0762e-02, 3.0762e-02, 2.7344e-02,\n",
       "           0.0000e+00, 0.0000e+00, 0.0000e+00, 0.0000e+00, 0.0000e+00,\n",
       "           0.0000e+00, 0.0000e+00, 4.8828e-04, 1.4160e-02],\n",
       "          [2.6099e-01, 3.2666e-01, 3.2715e-01, 3.2715e-01, 2.4854e-01,\n",
       "           1.4917e-01, 1.4331e-01, 2.9321e-01, 4.9365e-01, 1.0000e+00,\n",
       "           1.0000e+00, 1.0000e+00, 2.9199e-01, 1.2476e-01, 2.8320e-02,\n",
       "           7.4463e-02, 1.2793e-01, 1.3232e-01, 1.3086e-01, 7.4219e-02,\n",
       "           2.0752e-02, 1.6357e-02, 0.0000e+00, 0.0000e+00, 0.0000e+00,\n",
       "           0.0000e+00, 1.4893e-02, 1.8799e-02, 9.0576e-02],\n",
       "          [1.1841e-01, 1.2988e-01, 1.2378e-01, 1.1035e-01, 4.8584e-02,\n",
       "           7.3242e-03, 5.6152e-02, 2.7612e-01, 1.0000e+00, 1.0000e+00,\n",
       "           1.0000e+00, 1.0000e+00, 3.0298e-01, 1.3281e-01, 7.3730e-02,\n",
       "           1.7285e-01, 2.6440e-01, 3.2666e-01, 3.1567e-01, 2.0605e-01,\n",
       "           1.1450e-01, 5.2246e-02, 0.0000e+00, 0.0000e+00, 0.0000e+00,\n",
       "           0.0000e+00, 1.4893e-02, 1.8799e-02, 1.1206e-01],\n",
       "          [1.2451e-02, 1.2451e-02, 1.2451e-02, 1.2451e-02, 0.0000e+00,\n",
       "           2.4414e-04, 1.0474e-01, 3.5107e-01, 1.0000e+00, 1.0000e+00,\n",
       "           1.0000e+00, 4.4531e-01, 2.5269e-01, 1.1499e-01, 7.3730e-02,\n",
       "           1.6943e-01, 2.8052e-01, 4.0186e-01, 4.0283e-01, 2.9663e-01,\n",
       "           1.8555e-01, 6.4209e-02, 0.0000e+00, 0.0000e+00, 0.0000e+00,\n",
       "           0.0000e+00, 1.4893e-02, 1.8799e-02, 1.1206e-01],\n",
       "          [0.0000e+00, 0.0000e+00, 0.0000e+00, 0.0000e+00, 0.0000e+00,\n",
       "           1.9531e-03, 1.6675e-01, 4.1577e-01, 1.0000e+00, 1.0000e+00,\n",
       "           1.0000e+00, 2.9272e-01, 1.6162e-01, 1.2158e-01, 1.5625e-01,\n",
       "           2.6562e-01, 3.6768e-01, 4.5435e-01, 4.2871e-01, 3.0884e-01,\n",
       "           1.8604e-01, 6.4209e-02, 0.0000e+00, 0.0000e+00, 0.0000e+00,\n",
       "           0.0000e+00, 1.4893e-02, 1.8311e-02, 9.7900e-02],\n",
       "          [0.0000e+00, 0.0000e+00, 0.0000e+00, 0.0000e+00, 2.1973e-03,\n",
       "           3.7354e-02, 2.4390e-01, 4.9097e-01, 1.0000e+00, 1.0000e+00,\n",
       "           3.6670e-01, 1.3208e-01, 1.1597e-01, 2.0093e-01, 3.2690e-01,\n",
       "           4.4360e-01, 4.8169e-01, 1.0000e+00, 4.1528e-01, 2.8613e-01,\n",
       "           1.6528e-01, 4.7852e-02, 0.0000e+00, 0.0000e+00, 0.0000e+00,\n",
       "           0.0000e+00, 0.0000e+00, 0.0000e+00, 2.1484e-02],\n",
       "          [0.0000e+00, 5.1270e-03, 6.3477e-03, 6.3477e-03, 5.7373e-02,\n",
       "           1.4990e-01, 3.8794e-01, 1.0000e+00, 1.0000e+00, 1.0000e+00,\n",
       "           3.0444e-01, 1.3867e-01, 1.9360e-01, 3.4692e-01, 4.8779e-01,\n",
       "           1.0000e+00, 4.8047e-01, 3.8672e-01, 2.5781e-01, 1.5210e-01,\n",
       "           7.1533e-02, 1.1963e-02, 0.0000e+00, 0.0000e+00, 0.0000e+00,\n",
       "           0.0000e+00, 0.0000e+00, 0.0000e+00, 0.0000e+00],\n",
       "          [0.0000e+00, 1.3428e-02, 1.6357e-02, 1.8555e-02, 1.1475e-01,\n",
       "           2.5928e-01, 4.7607e-01, 1.0000e+00, 1.0000e+00, 1.0000e+00,\n",
       "           2.9053e-01, 1.6309e-01, 2.0312e-01, 3.7012e-01, 1.0000e+00,\n",
       "           1.0000e+00, 4.6265e-01, 2.9614e-01, 1.4258e-01, 3.6865e-02,\n",
       "           4.8828e-04, 6.1035e-03, 6.1035e-03, 6.1035e-03, 6.1035e-03,\n",
       "           0.0000e+00, 0.0000e+00, 0.0000e+00, 0.0000e+00],\n",
       "          [0.0000e+00, 1.3428e-02, 1.6357e-02, 2.1973e-02, 1.3745e-01,\n",
       "           2.9590e-01, 4.6094e-01, 1.0000e+00, 1.0000e+00, 3.9600e-01,\n",
       "           2.2803e-01, 1.6455e-01, 2.5195e-01, 4.4141e-01, 1.0000e+00,\n",
       "           1.0000e+00, 4.4458e-01, 2.5513e-01, 1.1670e-01, 2.4658e-02,\n",
       "           3.6377e-02, 1.0425e-01, 1.1548e-01, 1.1548e-01, 7.9102e-02,\n",
       "           1.1230e-02, 0.0000e+00, 0.0000e+00, 1.4893e-02],\n",
       "          [0.0000e+00, 1.3428e-02, 1.6357e-02, 2.1973e-02, 1.3525e-01,\n",
       "           2.6050e-01, 3.6426e-01, 4.7363e-01, 4.8901e-01, 3.5034e-01,\n",
       "           2.4365e-01, 1.8896e-01, 2.0068e-01, 3.3252e-01, 4.0894e-01,\n",
       "           3.7817e-01, 2.3828e-01, 1.0645e-01, 3.0029e-02, 4.8828e-04,\n",
       "           7.1289e-02, 1.8286e-01, 1.9482e-01, 1.9482e-01, 1.2354e-01,\n",
       "           1.1963e-02, 0.0000e+00, 0.0000e+00, 1.5625e-02],\n",
       "          [0.0000e+00, 8.3008e-03, 1.0010e-02, 1.5625e-02, 8.0078e-02,\n",
       "           1.4795e-01, 1.9165e-01, 3.2300e-01, 4.1528e-01, 3.5449e-01,\n",
       "           3.0908e-01, 1.8896e-01, 1.1768e-01, 1.7847e-01, 2.0264e-01,\n",
       "           1.8579e-01, 1.0034e-01, 2.4170e-02, 0.0000e+00, 0.0000e+00,\n",
       "           1.1377e-01, 2.5586e-01, 2.6782e-01, 2.6782e-01, 1.5405e-01,\n",
       "           1.1963e-02, 2.0264e-02, 2.5391e-02, 4.1016e-02],\n",
       "          [0.0000e+00, 0.0000e+00, 0.0000e+00, 3.4180e-03, 2.2705e-02,\n",
       "           3.8330e-02, 5.0537e-02, 1.8018e-01, 3.0688e-01, 3.0664e-01,\n",
       "           2.9443e-01, 1.7749e-01, 1.0815e-01, 1.5527e-01, 1.6675e-01,\n",
       "           1.5063e-01, 7.3975e-02, 1.1475e-02, 0.0000e+00, 0.0000e+00,\n",
       "           1.4258e-01, 3.4082e-01, 3.5498e-01, 3.5498e-01, 2.1240e-01,\n",
       "           1.4160e-02, 6.8115e-02, 9.0576e-02, 1.0620e-01],\n",
       "          [5.7373e-02, 5.7373e-02, 3.2959e-02, 1.9531e-03, 0.0000e+00,\n",
       "           0.0000e+00, 1.1963e-02, 1.3550e-01, 2.6929e-01, 2.8467e-01,\n",
       "           2.7271e-01, 1.5430e-01, 3.8574e-02, 2.8076e-02, 3.1982e-02,\n",
       "           2.9297e-02, 1.1230e-02, 6.3477e-03, 2.4414e-03, 0.0000e+00,\n",
       "           1.0693e-01, 2.5464e-01, 2.5757e-01, 2.5757e-01, 1.5063e-01,\n",
       "           2.9297e-03, 8.7891e-02, 1.2842e-01, 1.2964e-01],\n",
       "          [2.3535e-01, 1.9873e-01, 1.1182e-01, 1.8799e-02, 0.0000e+00,\n",
       "           0.0000e+00, 1.6602e-02, 9.5703e-02, 1.8823e-01, 2.0361e-01,\n",
       "           1.8701e-01, 1.0791e-01, 1.5381e-02, 0.0000e+00, 3.9062e-03,\n",
       "           6.3477e-03, 6.3477e-03, 6.3477e-03, 2.4414e-03, 0.0000e+00,\n",
       "           7.2021e-02, 1.7603e-01, 1.7822e-01, 1.7822e-01, 1.0620e-01,\n",
       "           2.1973e-03, 1.0571e-01, 1.7725e-01, 1.8872e-01],\n",
       "          [3.3691e-01, 2.4902e-01, 1.2231e-01, 1.8799e-02, 0.0000e+00,\n",
       "           0.0000e+00, 1.5381e-02, 3.5400e-02, 6.5430e-02, 6.5430e-02,\n",
       "           5.0049e-02, 3.0029e-02, 0.0000e+00, 0.0000e+00, 3.9062e-03,\n",
       "           6.3477e-03, 6.3477e-03, 6.3477e-03, 2.4414e-03, 0.0000e+00,\n",
       "           2.9541e-02, 1.0303e-01, 1.0522e-01, 1.0522e-01, 9.0576e-02,\n",
       "           2.2705e-02, 1.4136e-01, 2.7026e-01, 2.8345e-01],\n",
       "          [3.3789e-01, 2.4902e-01, 1.2231e-01, 1.8799e-02, 0.0000e+00,\n",
       "           0.0000e+00, 1.5381e-02, 1.5381e-02, 1.5381e-02, 1.5381e-02,\n",
       "           0.0000e+00, 0.0000e+00, 0.0000e+00, 0.0000e+00, 3.9062e-03,\n",
       "           6.3477e-03, 6.3477e-03, 6.3477e-03, 2.4414e-03, 0.0000e+00,\n",
       "           7.3242e-04, 1.1963e-02, 1.1963e-02, 1.1963e-02, 3.7598e-02,\n",
       "           7.2021e-02, 1.8823e-01, 3.4717e-01, 3.6938e-01],\n",
       "          [2.9150e-01, 1.9165e-01, 8.9355e-02, 1.6846e-02, 0.0000e+00,\n",
       "           0.0000e+00, 5.8594e-03, 2.0752e-02, 5.7617e-02, 7.9834e-02,\n",
       "           7.3975e-02, 5.9082e-02, 2.2217e-02, 0.0000e+00, 0.0000e+00,\n",
       "           0.0000e+00, 0.0000e+00, 0.0000e+00, 0.0000e+00, 0.0000e+00,\n",
       "           0.0000e+00, 0.0000e+00, 0.0000e+00, 1.3672e-02, 4.1016e-02,\n",
       "           1.1792e-01, 2.7686e-01, 4.2236e-01, 4.4360e-01],\n",
       "          [1.1353e-01, 5.1025e-02, 2.9785e-02, 1.9287e-02, 3.1982e-02,\n",
       "           3.7109e-02, 1.8555e-02, 7.0801e-02, 1.5747e-01, 1.9385e-01,\n",
       "           1.9385e-01, 1.4160e-01, 4.2236e-02, 0.0000e+00, 0.0000e+00,\n",
       "           0.0000e+00, 0.0000e+00, 0.0000e+00, 0.0000e+00, 0.0000e+00,\n",
       "           0.0000e+00, 4.8828e-03, 5.8594e-03, 2.1973e-02, 4.9561e-02,\n",
       "           1.2695e-01, 2.7734e-01, 4.3774e-01, 1.0000e+00],\n",
       "          [1.5869e-02, 4.8340e-02, 1.2622e-01, 1.3452e-01, 1.4331e-01,\n",
       "           1.0474e-01, 2.6855e-02, 7.2021e-02, 1.6089e-01, 1.9727e-01,\n",
       "           1.9727e-01, 1.4380e-01, 4.2236e-02, 0.0000e+00, 0.0000e+00,\n",
       "           0.0000e+00, 0.0000e+00, 0.0000e+00, 0.0000e+00, 0.0000e+00,\n",
       "           0.0000e+00, 2.4170e-02, 2.6855e-02, 4.2969e-02, 5.5664e-02,\n",
       "           1.0815e-01, 2.2534e-01, 3.8501e-01, 1.0000e+00],\n",
       "          [1.0278e-01, 1.2256e-01, 1.8018e-01, 1.8848e-01, 1.8018e-01,\n",
       "           1.1401e-01, 2.6855e-02, 7.2021e-02, 1.6089e-01, 1.9727e-01,\n",
       "           1.9727e-01, 1.4380e-01, 4.2236e-02, 0.0000e+00, 0.0000e+00,\n",
       "           0.0000e+00, 0.0000e+00, 0.0000e+00, 0.0000e+00, 0.0000e+00,\n",
       "           0.0000e+00, 2.4170e-02, 2.6855e-02, 4.2969e-02, 4.4189e-02,\n",
       "           5.6641e-02, 1.3062e-01, 2.7490e-01, 4.3555e-01],\n",
       "          [1.6406e-01, 1.3232e-01, 1.8018e-01, 1.8848e-01, 1.8018e-01,\n",
       "           1.1401e-01, 2.6855e-02, 5.7129e-02, 1.0913e-01, 1.2329e-01,\n",
       "           1.2329e-01, 8.4717e-02, 2.0020e-02, 0.0000e+00, 0.0000e+00,\n",
       "           0.0000e+00, 0.0000e+00, 0.0000e+00, 0.0000e+00, 0.0000e+00,\n",
       "           0.0000e+00, 2.4170e-02, 2.6855e-02, 2.9297e-02, 2.9541e-02,\n",
       "           1.0742e-02, 2.2217e-02, 1.9800e-01, 4.2163e-01],\n",
       "          [2.2510e-01, 1.3354e-01, 1.8896e-01, 1.9897e-01, 1.7798e-01,\n",
       "           1.0596e-01, 1.0010e-02, 1.2207e-03, 3.4180e-03, 3.4180e-03,\n",
       "           3.4180e-03, 2.1973e-03, 0.0000e+00, 0.0000e+00, 0.0000e+00,\n",
       "           0.0000e+00, 0.0000e+00, 0.0000e+00, 0.0000e+00, 0.0000e+00,\n",
       "           0.0000e+00, 1.9287e-02, 2.0996e-02, 2.0996e-02, 2.0996e-02,\n",
       "           1.7090e-03, 3.9062e-03, 1.6895e-01, 3.9819e-01],\n",
       "          [2.2827e-01, 8.9111e-02, 1.4771e-01, 1.8921e-01, 1.7212e-01,\n",
       "           1.4062e-01, 4.1504e-02, 0.0000e+00, 0.0000e+00, 0.0000e+00,\n",
       "           0.0000e+00, 0.0000e+00, 0.0000e+00, 0.0000e+00, 1.3916e-02,\n",
       "           5.2002e-02, 5.2979e-02, 5.2979e-02, 3.9062e-02, 9.7656e-04,\n",
       "           0.0000e+00, 0.0000e+00, 0.0000e+00, 0.0000e+00, 0.0000e+00,\n",
       "           0.0000e+00, 0.0000e+00, 1.0327e-01, 2.7856e-01],\n",
       "          [1.4038e-01, 1.4893e-02, 1.1133e-01, 1.6870e-01, 1.6870e-01,\n",
       "           1.6479e-01, 5.7373e-02, 0.0000e+00, 0.0000e+00, 0.0000e+00,\n",
       "           0.0000e+00, 0.0000e+00, 0.0000e+00, 2.9297e-03, 6.6406e-02,\n",
       "           1.6016e-01, 1.6187e-01, 1.5894e-01, 9.5459e-02, 1.7090e-03,\n",
       "           0.0000e+00, 0.0000e+00, 3.6621e-03, 3.4180e-02, 4.1260e-02,\n",
       "           4.1260e-02, 3.7598e-02, 7.8369e-02, 2.0337e-01],\n",
       "          [6.8115e-02, 5.1270e-03, 1.1133e-01, 1.6870e-01, 1.6870e-01,\n",
       "           1.6577e-01, 6.0059e-02, 6.5918e-03, 6.5918e-03, 5.6152e-03,\n",
       "           3.9062e-03, 0.0000e+00, 0.0000e+00, 2.9297e-03, 8.0811e-02,\n",
       "           1.9165e-01, 1.9336e-01, 1.9043e-01, 1.1255e-01, 1.7090e-03,\n",
       "           0.0000e+00, 0.0000e+00, 1.6357e-02, 1.0938e-01, 1.3135e-01,\n",
       "           1.3135e-01, 1.1499e-01, 5.7129e-02, 1.0474e-01],\n",
       "          [2.2461e-02, 3.1738e-03, 8.3252e-02, 1.3892e-01, 1.3892e-01,\n",
       "           1.6187e-01, 1.0962e-01, 9.2773e-02, 9.2773e-02, 6.6650e-02,\n",
       "           3.8818e-02, 0.0000e+00, 0.0000e+00, 3.1738e-03, 1.3672e-01,\n",
       "           2.8052e-01, 2.8247e-01, 2.7930e-01, 1.4575e-01, 1.9531e-03,\n",
       "           0.0000e+00, 0.0000e+00, 1.7578e-02, 1.2671e-01, 1.4868e-01,\n",
       "           1.4868e-01, 1.3110e-01, 2.1973e-02, 8.5449e-03]]]])"
      ]
     },
     "execution_count": 77,
     "metadata": {},
     "output_type": "execute_result"
    }
   ],
   "source": [
    "torch.max((output/(64*64) > 0.5 ).float(), (output/(64*64)).float())"
   ]
  },
  {
   "cell_type": "code",
   "execution_count": 9,
   "id": "6160ab0c-353a-476d-bfa8-a9456bfcc2f7",
   "metadata": {},
   "outputs": [
    {
     "data": {
      "text/plain": [
       "tensor(0.2689)"
      ]
     },
     "execution_count": 9,
     "metadata": {},
     "output_type": "execute_result"
    }
   ],
   "source": [
    "import torch\n",
    "torch.sigmoid(torch.tensor(-1.))"
   ]
  },
  {
   "cell_type": "code",
   "execution_count": 12,
   "id": "9901a31f-ac02-43e4-b863-0fd25a5af3cd",
   "metadata": {},
   "outputs": [],
   "source": [
    "a = torch.tensor([1,2,3])\n",
    "b = torch.tensor([2,1,1])"
   ]
  },
  {
   "cell_type": "code",
   "execution_count": 13,
   "id": "3528e950-9dd3-4a4b-bd6f-f7864990cb41",
   "metadata": {},
   "outputs": [
    {
     "data": {
      "text/plain": [
       "tensor([2, 2, 3])"
      ]
     },
     "execution_count": 13,
     "metadata": {},
     "output_type": "execute_result"
    }
   ],
   "source": [
    "torch.max(a,b)"
   ]
  },
  {
   "cell_type": "code",
   "execution_count": 15,
   "id": "593a783d-7a43-40e3-a32b-09e937d10360",
   "metadata": {},
   "outputs": [],
   "source": [
    "lo = torch.tensor([[0.0034, 0.0307, 0.0506,  0.0000, 0.2295, 0.0252],\n",
    "        [0.2786, 0.0475, 0.0429,  0.0000, 0.0044, 0.0153],\n",
    "        [0.0000, 0.0000, 0.1448,  0.1705, 0.1219, 0.1533],\n",
    "        [0.0925, 0.0904, 0.0915,  0.2252, 0.2903, 0.0000],\n",
    "        [0.0000, 0.1572, 0.2799,  0.0729, 0.0000, 0.0000],\n",
    "        [0.1246, 0.1087, 0.0000,  0.1131, 0.3599, 0.0000]],)"
   ]
  },
  {
   "cell_type": "code",
   "execution_count": 16,
   "id": "75136f85-2d75-47e4-a63f-51757ac50afd",
   "metadata": {},
   "outputs": [
    {
     "data": {
      "text/plain": [
       "tensor(0.0924)"
      ]
     },
     "execution_count": 16,
     "metadata": {},
     "output_type": "execute_result"
    }
   ],
   "source": [
    "lo.mean()"
   ]
  },
  {
   "cell_type": "code",
   "execution_count": null,
   "id": "410df8ac-112a-4985-95af-7a85915849f8",
   "metadata": {},
   "outputs": [],
   "source": []
  }
 ],
 "metadata": {
  "kernelspec": {
   "display_name": "pytorch_retina",
   "language": "python",
   "name": "pytorch_retina"
  },
  "language_info": {
   "codemirror_mode": {
    "name": "ipython",
    "version": 3
   },
   "file_extension": ".py",
   "mimetype": "text/x-python",
   "name": "python",
   "nbconvert_exporter": "python",
   "pygments_lexer": "ipython3",
   "version": "3.7.10"
  }
 },
 "nbformat": 4,
 "nbformat_minor": 5
}
