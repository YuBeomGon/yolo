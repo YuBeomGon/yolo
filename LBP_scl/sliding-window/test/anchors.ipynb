{
 "cells": [
  {
   "cell_type": "code",
   "execution_count": 8,
   "id": "8d839418-c624-41f3-b07a-1083cf7e1264",
   "metadata": {},
   "outputs": [],
   "source": [
    "import torch\n",
    "import sys\n",
    "import numpy as np\n",
    "sys.path.append('../')\n",
    "\n",
    "# from utils import intersection_over_union"
   ]
  },
  {
   "cell_type": "code",
   "execution_count": 74,
   "id": "4030b9aa-5786-40ce-b9c7-43bb3738937a",
   "metadata": {},
   "outputs": [
    {
     "data": {
      "text/plain": [
       "(5, 5, 4)"
      ]
     },
     "execution_count": 74,
     "metadata": {},
     "output_type": "execute_result"
    }
   ],
   "source": [
    "class anchors () :\n",
    "    def __init__(self) :\n",
    "        self.grid_size = 5\n",
    "        self.stride = 32\n",
    "        self.kernel_size = 128\n",
    "#         self.anchors = torch.zeros([self.grid_size, self.grid_size,4])\n",
    "        self.anchors = np.zeros([self.grid_size, self.grid_size,4])\n",
    "anchor = anchors()   \n",
    "anchor.anchors.shape"
   ]
  },
  {
   "cell_type": "code",
   "execution_count": 75,
   "id": "35484c9d-797e-4f72-932f-fa99c48ed322",
   "metadata": {},
   "outputs": [],
   "source": [
    "# anchors = torch.zeros([self.grid_size, self.grid_size,4])\n",
    "\n",
    "for x in range(anchor.grid_size) :         \n",
    "    for y in range(anchor.grid_size) :\n",
    "        anchor.anchors[x][y][1] = anchor.stride * x\n",
    "        anchor.anchors[x][y][3] = anchor.stride * x + anchor.kernel_size   \n",
    "        anchor.anchors[x][y][0] = anchor.stride * y\n",
    "        anchor.anchors[x][y][2] = anchor.stride * y + anchor.kernel_size"
   ]
  },
  {
   "cell_type": "code",
   "execution_count": 76,
   "id": "1d2ed078-c4f8-415a-bf24-f3fa1c943e5d",
   "metadata": {},
   "outputs": [
    {
     "data": {
      "text/plain": [
       "array([[[  0.,   0., 128., 128.],\n",
       "        [ 32.,   0., 160., 128.],\n",
       "        [ 64.,   0., 192., 128.],\n",
       "        [ 96.,   0., 224., 128.],\n",
       "        [128.,   0., 256., 128.]],\n",
       "\n",
       "       [[  0.,  32., 128., 160.],\n",
       "        [ 32.,  32., 160., 160.],\n",
       "        [ 64.,  32., 192., 160.],\n",
       "        [ 96.,  32., 224., 160.],\n",
       "        [128.,  32., 256., 160.]],\n",
       "\n",
       "       [[  0.,  64., 128., 192.],\n",
       "        [ 32.,  64., 160., 192.],\n",
       "        [ 64.,  64., 192., 192.],\n",
       "        [ 96.,  64., 224., 192.],\n",
       "        [128.,  64., 256., 192.]],\n",
       "\n",
       "       [[  0.,  96., 128., 224.],\n",
       "        [ 32.,  96., 160., 224.],\n",
       "        [ 64.,  96., 192., 224.],\n",
       "        [ 96.,  96., 224., 224.],\n",
       "        [128.,  96., 256., 224.]],\n",
       "\n",
       "       [[  0., 128., 128., 256.],\n",
       "        [ 32., 128., 160., 256.],\n",
       "        [ 64., 128., 192., 256.],\n",
       "        [ 96., 128., 224., 256.],\n",
       "        [128., 128., 256., 256.]]])"
      ]
     },
     "execution_count": 76,
     "metadata": {},
     "output_type": "execute_result"
    }
   ],
   "source": [
    "anchor.anchors"
   ]
  },
  {
   "cell_type": "code",
   "execution_count": 12,
   "id": "4f5a7cce-ea4f-4c14-9f21-6f11f16432ed",
   "metadata": {},
   "outputs": [],
   "source": [
    "bbox = [[62, 140, 180, 300], [127,95,250,220]]"
   ]
  },
  {
   "cell_type": "code",
   "execution_count": 13,
   "id": "e043e295-126c-4505-a52e-2cc97f534f58",
   "metadata": {},
   "outputs": [],
   "source": [
    "def batch_iou(boxes, box):\n",
    "    \"\"\"Compute the Intersection-Over-Union of a batch of boxes with another\n",
    "    box.\n",
    "    Args:\n",
    "    box1: 2D array of [cx, cy, width, height].\n",
    "    box2: a single array of [cx, cy, width, height]\n",
    "    Returns:\n",
    "    ious: array of a float number in range [0, 1].\n",
    "    \"\"\"\n",
    "    lr = np.maximum(\n",
    "        np.minimum(boxes[:,0]+0.5*boxes[:,2], box[0]+0.5*box[2]) - \\\n",
    "        np.maximum(boxes[:,0]-0.5*boxes[:,2], box[0]-0.5*box[2]),\n",
    "        0\n",
    "    )\n",
    "    tb = np.maximum(\n",
    "        np.minimum(boxes[:,1]+0.5*boxes[:,3], box[1]+0.5*box[3]) - \\\n",
    "        np.maximum(boxes[:,1]-0.5*boxes[:,3], box[1]-0.5*box[3]),\n",
    "        0\n",
    "    )\n",
    "    inter = lr*tb\n",
    "    union = boxes[:,2]*boxes[:,3] + box[2]*box[3] - inter\n",
    "    return inter/union"
   ]
  },
  {
   "cell_type": "code",
   "execution_count": 14,
   "id": "2bc0f812-4111-4a72-90fd-f3ccaa783dd5",
   "metadata": {},
   "outputs": [
    {
     "data": {
      "text/plain": [
       "array([0.07366964, 0.1301093 , 0.1860375 , 0.24146117, 0.29036433,\n",
       "       0.11646895, 0.20966531, 0.30563256, 0.40449613, 0.49447125,\n",
       "       0.15787329, 0.28960434, 0.43059146, 0.58184576, 0.72431374,\n",
       "       0.1947681 , 0.36314526, 0.5495826 , 0.7571505 , 0.9591239 ,\n",
       "       0.16933571, 0.30717885, 0.45135307, 0.6023048 , 0.7396877 ],\n",
       "      dtype=float32)"
      ]
     },
     "execution_count": 14,
     "metadata": {},
     "output_type": "execute_result"
    }
   ],
   "source": [
    "\n",
    "batch_iou(anchor.anchors.view(-1,4).numpy(), np.array(bbox[1]))"
   ]
  },
  {
   "cell_type": "code",
   "execution_count": 15,
   "id": "9b54c115-54d7-45bd-993a-c618816bb326",
   "metadata": {},
   "outputs": [
    {
     "data": {
      "text/plain": [
       "array([0.10708443, 0.16157205, 0.20411916, 0.17699316, 0.14894068,\n",
       "       0.17743771, 0.27319258, 0.3499044 , 0.29556993, 0.2426717 ,\n",
       "       0.24850641, 0.3906763 , 0.5077658 , 0.41725105, 0.33423012,\n",
       "       0.32030153, 0.51449764, 0.6792688 , 0.5421601 , 0.42369068,\n",
       "       0.3725639 , 0.60622466, 0.8074012 , 0.6293608 , 0.48263544],\n",
       "      dtype=float32)"
      ]
     },
     "execution_count": 15,
     "metadata": {},
     "output_type": "execute_result"
    }
   ],
   "source": [
    "batch_iou(anchor.anchors.view(-1,4).numpy(), np.array(bbox[0]))"
   ]
  },
  {
   "cell_type": "code",
   "execution_count": 16,
   "id": "f53a77cd-6829-4870-a8a7-333bc794edb5",
   "metadata": {},
   "outputs": [],
   "source": [
    "def batch_iom(boxes, box):\n",
    "    \"\"\"Compute the Intersection-Over-Union of a batch of boxes with another\n",
    "    box.\n",
    "    Args:\n",
    "    box1: 2D array of [cx, cy, width, height].\n",
    "    box2: a single array of [cx, cy, width, height]\n",
    "    Returns:\n",
    "    ious: array of a float number in range [0, 1].\n",
    "    \"\"\"\n",
    "    lr = np.maximum(\n",
    "        np.minimum(boxes[:,0]+0.5*boxes[:,2], box[0]+0.5*box[2]) - \\\n",
    "        np.maximum(boxes[:,0]-0.5*boxes[:,2], box[0]-0.5*box[2]),\n",
    "        0\n",
    "    )\n",
    "    tb = np.maximum(\n",
    "        np.minimum(boxes[:,1]+0.5*boxes[:,3], box[1]+0.5*box[3]) - \\\n",
    "        np.maximum(boxes[:,1]-0.5*boxes[:,3], box[1]-0.5*box[3]),\n",
    "        0\n",
    "    )\n",
    "    inter = lr*tb\n",
    "#     union = boxes[:,2]*boxes[:,3] + box[2]*box[3] - inter\n",
    "    iou_max = boxes[:,2]*boxes[:,3]\n",
    "    return inter/iou_max"
   ]
  },
  {
   "cell_type": "code",
   "execution_count": 17,
   "id": "7130a9ca-8631-4ddd-9fbb-7042aa6aa94e",
   "metadata": {},
   "outputs": [
    {
     "data": {
      "text/plain": [
       "array([0.41552734, 0.5058594 , 0.5419922 , 0.43359375, 0.34326172,\n",
       "       0.5480469 , 0.6671875 , 0.71484375, 0.571875  , 0.45273438,\n",
       "       0.63639325, 0.77473956, 0.8300781 , 0.6640625 , 0.5257161 ,\n",
       "       0.69949776, 0.8515625 , 0.9123884 , 0.72991073, 0.577846  ,\n",
       "       0.71875   , 0.875     , 0.9375    , 0.75      , 0.59375   ],\n",
       "      dtype=float32)"
      ]
     },
     "execution_count": 17,
     "metadata": {},
     "output_type": "execute_result"
    }
   ],
   "source": [
    "batch_iom(anchor.anchors.view(-1,4).numpy(), np.array(bbox[0]))"
   ]
  },
  {
   "cell_type": "code",
   "execution_count": 18,
   "id": "f3012362-800c-4410-87ea-e378bc4087d2",
   "metadata": {},
   "outputs": [
    {
     "data": {
      "text/plain": [
       "array([0.41552734, 0.5058594 , 0.5419922 , 0.43359375, 0.34326172,\n",
       "       0.5480469 , 0.6671875 , 0.71484375, 0.571875  , 0.45273438,\n",
       "       0.63639325, 0.77473956, 0.8300781 , 0.6640625 , 0.5257161 ,\n",
       "       0.69949776, 0.8515625 , 0.9123884 , 0.72991073, 0.577846  ,\n",
       "       0.71875   , 0.875     , 0.9375    , 0.75      , 0.59375   ],\n",
       "      dtype=float32)"
      ]
     },
     "execution_count": 18,
     "metadata": {},
     "output_type": "execute_result"
    }
   ],
   "source": [
    "batch_iom(anchor.anchors.view(-1,4).numpy(), np.array(bbox[0]))"
   ]
  },
  {
   "cell_type": "code",
   "execution_count": 19,
   "id": "5ec023b9-4688-416a-9eba-19d6f1f789ee",
   "metadata": {},
   "outputs": [],
   "source": [
    "def batch_iom1(boxes, box):\n",
    "    \"\"\"Compute the Intersection-Over-Union of a batch of boxes with another\n",
    "    box.\n",
    "    Args:\n",
    "    box1: 2D array of [cx, cy, width, height].\n",
    "    box2: a single array of [cx, cy, width, height]\n",
    "    Returns:\n",
    "    ious: array of a float number in range [0, 1].\n",
    "    \"\"\"\n",
    "    lr = np.maximum(\n",
    "        np.minimum(boxes[:,0]+0.5*boxes[:,2], box[0]+0.5*box[2]) - \\\n",
    "        np.maximum(boxes[:,0]-0.5*boxes[:,2], box[0]-0.5*box[2]),\n",
    "        0\n",
    "    )\n",
    "    tb = np.maximum(\n",
    "        np.minimum(boxes[:,1]+0.5*boxes[:,3], box[1]+0.5*box[3]) - \\\n",
    "        np.maximum(boxes[:,1]-0.5*boxes[:,3], box[1]-0.5*box[3]),\n",
    "        0\n",
    "    )\n",
    "    inter = lr*tb\n",
    "#     union = boxes[:,2]*boxes[:,3] + box[2]*box[3] - inter\n",
    "    iou_max = box[2]*box[3]\n",
    "    return inter/iou_max"
   ]
  },
  {
   "cell_type": "code",
   "execution_count": 20,
   "id": "493a0219-88d3-4dd5-a30b-990e1cfd4127",
   "metadata": {},
   "outputs": [
    {
     "data": {
      "text/plain": [
       "array([0.12607408, 0.19185185, 0.24666667, 0.23022223, 0.2082963 ,\n",
       "       0.20785186, 0.3162963 , 0.40666667, 0.37955555, 0.34340742,\n",
       "       0.28962964, 0.44074073, 0.56666666, 0.5288889 , 0.47851852,\n",
       "       0.37140742, 0.5651852 , 0.7266667 , 0.67822224, 0.61362964,\n",
       "       0.43614814, 0.6637037 , 0.85333335, 0.7964444 , 0.7205926 ],\n",
       "      dtype=float32)"
      ]
     },
     "execution_count": 20,
     "metadata": {},
     "output_type": "execute_result"
    }
   ],
   "source": [
    "batch_iom1(anchor.anchors.view(-1,4).numpy(), np.array(bbox[0]))"
   ]
  },
  {
   "cell_type": "code",
   "execution_count": 21,
   "id": "b2f3f122-ee6b-4b20-8d16-624da4bbb471",
   "metadata": {},
   "outputs": [
    {
     "data": {
      "text/plain": [
       "tensor([[[  0.,   0., 128., 128.],\n",
       "         [ 32.,   0., 160., 128.],\n",
       "         [ 64.,   0., 192., 128.],\n",
       "         [ 96.,   0., 224., 128.],\n",
       "         [128.,   0., 256., 128.]],\n",
       "\n",
       "        [[  0.,  32., 128., 160.],\n",
       "         [ 32.,  32., 160., 160.],\n",
       "         [ 64.,  32., 192., 160.],\n",
       "         [ 96.,  32., 224., 160.],\n",
       "         [128.,  32., 256., 160.]],\n",
       "\n",
       "        [[  0.,  64., 128., 192.],\n",
       "         [ 32.,  64., 160., 192.],\n",
       "         [ 64.,  64., 192., 192.],\n",
       "         [ 96.,  64., 224., 192.],\n",
       "         [128.,  64., 256., 192.]],\n",
       "\n",
       "        [[  0.,  96., 128., 224.],\n",
       "         [ 32.,  96., 160., 224.],\n",
       "         [ 64.,  96., 192., 224.],\n",
       "         [ 96.,  96., 224., 224.],\n",
       "         [128.,  96., 256., 224.]],\n",
       "\n",
       "        [[  0., 128., 128., 256.],\n",
       "         [ 32., 128., 160., 256.],\n",
       "         [ 64., 128., 192., 256.],\n",
       "         [ 96., 128., 224., 256.],\n",
       "         [128., 128., 256., 256.]]])"
      ]
     },
     "execution_count": 21,
     "metadata": {},
     "output_type": "execute_result"
    }
   ],
   "source": [
    "anchor.anchors"
   ]
  },
  {
   "cell_type": "code",
   "execution_count": 22,
   "id": "3a69d2c7-57b1-42e4-a0c0-f7bcf7c5d007",
   "metadata": {},
   "outputs": [],
   "source": [
    "bbox = [[120, 90, 180, 180], [127,95,250,220], [120,90,260,240]]"
   ]
  },
  {
   "cell_type": "code",
   "execution_count": 23,
   "id": "0d8b4aff-3d6b-4e5c-9459-2f30e6e40c3a",
   "metadata": {},
   "outputs": [
    {
     "data": {
      "text/plain": [
       "array([0.11147436, 0.18378206, 0.25608975, 0.32839742, 0.37660256,\n",
       "       0.16839744, 0.2776282 , 0.38685897, 0.49608976, 0.56891024,\n",
       "       0.22532052, 0.37147436, 0.5176282 , 0.66378206, 0.76121795,\n",
       "       0.26564103, 0.4379487 , 0.61025643, 0.7825641 , 0.8974359 ,\n",
       "       0.24903846, 0.4105769 , 0.57211536, 0.73365384, 0.84134614],\n",
       "      dtype=float32)"
      ]
     },
     "execution_count": 23,
     "metadata": {},
     "output_type": "execute_result"
    }
   ],
   "source": [
    "batch_iom1(anchor.anchors.view(-1,4).numpy(), np.array(bbox[2]))"
   ]
  },
  {
   "cell_type": "code",
   "execution_count": 24,
   "id": "8766ae43-e897-4de0-9775-f3cab054bc79",
   "metadata": {},
   "outputs": [
    {
     "data": {
      "text/plain": [
       "array([0.42456055, 0.55996096, 0.65022784, 0.7147042 , 0.7171631 ,\n",
       "       0.51308596, 0.6767188 , 0.7858073 , 0.8637277 , 0.8666992 ,\n",
       "       0.57210284, 0.7545573 , 0.8761936 , 0.96307665, 0.96638995,\n",
       "       0.578125  , 0.7625    , 0.8854167 , 0.97321427, 0.9765625 ,\n",
       "       0.47424316, 0.6254883 , 0.72631836, 0.79833984, 0.8010864 ],\n",
       "      dtype=float32)"
      ]
     },
     "execution_count": 24,
     "metadata": {},
     "output_type": "execute_result"
    }
   ],
   "source": [
    "batch_iom(anchor.anchors.view(-1,4).numpy(), np.array(bbox[2]))"
   ]
  },
  {
   "cell_type": "code",
   "execution_count": 25,
   "id": "d21fdb7b-cce6-425d-869d-e3804d73f0d6",
   "metadata": {},
   "outputs": [
    {
     "data": {
      "text/plain": [
       "array([0.07366964, 0.1301093 , 0.1860375 , 0.24146117, 0.29036433,\n",
       "       0.11646895, 0.20966531, 0.30563256, 0.40449613, 0.49447125,\n",
       "       0.15787329, 0.28960434, 0.43059146, 0.58184576, 0.72431374,\n",
       "       0.1947681 , 0.36314526, 0.5495826 , 0.7571505 , 0.9591239 ,\n",
       "       0.16933571, 0.30717885, 0.45135307, 0.6023048 , 0.7396877 ],\n",
       "      dtype=float32)"
      ]
     },
     "execution_count": 25,
     "metadata": {},
     "output_type": "execute_result"
    }
   ],
   "source": [
    "batch_iou(anchor.anchors.view(-1,4).numpy(), np.array(bbox[1]))"
   ]
  },
  {
   "cell_type": "code",
   "execution_count": 63,
   "id": "84e4300d-506d-4121-adf8-74a1bcf1eb49",
   "metadata": {},
   "outputs": [],
   "source": [
    "def batch_iou_all(boxes, box):\n",
    "    \"\"\"Compute the Intersection-Over-Union of a batch of boxes with another\n",
    "    box.\n",
    "    Args:\n",
    "    box1: 2D array of [cx, cy, width, height].\n",
    "    box2: a single array of [cx, cy, width, height]\n",
    "    Returns:\n",
    "    ious: array of a float number in range [0, 1].\n",
    "    \"\"\"\n",
    "    lr = np.maximum(\n",
    "        np.minimum(boxes[:,0]+0.5*boxes[:,2], box[0]+0.5*box[2]) - \\\n",
    "        np.maximum(boxes[:,0]-0.5*boxes[:,2], box[0]-0.5*box[2]),\n",
    "        0\n",
    "    )\n",
    "    tb = np.maximum(\n",
    "        np.minimum(boxes[:,1]+0.5*boxes[:,3], box[1]+0.5*box[3]) - \\\n",
    "        np.maximum(boxes[:,1]-0.5*boxes[:,3], box[1]-0.5*box[3]),\n",
    "        0\n",
    "    )\n",
    "    inter = lr*tb\n",
    "    union = boxes[:,2]*boxes[:,3] + box[2]*box[3] - inter  # iou case\n",
    "    iou_max = box[2]*box[3] # anchors include bbox\n",
    "    iou_max1 = boxes[:,2]*boxes[:,3]  # bbox include anchors\n",
    "    return np.maximum(inter/union, inter/iou_max, inter/iou_max1)"
   ]
  },
  {
   "cell_type": "code",
   "execution_count": 58,
   "id": "7ddd652f-b807-41c8-8af3-b7b6741f0cc0",
   "metadata": {},
   "outputs": [
    {
     "data": {
      "text/plain": [
       "array([0.06716049, 0.16197531, 0.25679013, 0.35160494, 0.35555556,\n",
       "       0.11753087, 0.2834568 , 0.44938272, 0.61530864, 0.62222224,\n",
       "       0.16790123, 0.40493828, 0.6419753 , 0.87901235, 0.8888889 ,\n",
       "       0.18888889, 0.45555556, 0.7222222 , 0.98888886, 1.        ,\n",
       "       0.18888889, 0.45555556, 0.7222222 , 0.98888886, 1.        ],\n",
       "      dtype=float32)"
      ]
     },
     "execution_count": 58,
     "metadata": {},
     "output_type": "execute_result"
    }
   ],
   "source": [
    "batch_iou_all(anchor.anchors.view(-1,4).numpy(), np.array(bbox[0]))"
   ]
  },
  {
   "cell_type": "code",
   "execution_count": 59,
   "id": "d910a06a-fbb1-4aae-94e2-8fb39edd13d4",
   "metadata": {},
   "outputs": [
    {
     "data": {
      "text/plain": [
       "array([0.04668726, 0.11017803, 0.17099638, 0.22930756, 0.21473308,\n",
       "       0.07760026, 0.18813504, 0.29983526, 0.41271946, 0.37894738,\n",
       "       0.10555728, 0.2624    , 0.42918456, 0.60688716, 0.5459509 ,\n",
       "       0.11136992, 0.27599102, 0.4499308 , 0.63400346, 0.56501114,\n",
       "       0.10364449, 0.25187713, 0.40239373, 0.5552475 , 0.49438477],\n",
       "      dtype=float32)"
      ]
     },
     "execution_count": 59,
     "metadata": {},
     "output_type": "execute_result"
    }
   ],
   "source": [
    "batch_iou(anchor.anchors.view(-1,4).numpy(), np.array(bbox[0]))"
   ]
  },
  {
   "cell_type": "code",
   "execution_count": 60,
   "id": "7630192e-9baf-4b63-af6c-189c5453988e",
   "metadata": {},
   "outputs": [
    {
     "data": {
      "text/plain": [
       "array([0.1328125 , 0.25625   , 0.33854166, 0.39732143, 0.3515625 ,\n",
       "       0.1859375 , 0.35875   , 0.47395834, 0.55625   , 0.4921875 ,\n",
       "       0.22135417, 0.42708334, 0.5642361 , 0.66220236, 0.5859375 ,\n",
       "       0.21344866, 0.41183037, 0.54408485, 0.6385523 , 0.56501114,\n",
       "       0.18676758, 0.36035156, 0.47607422, 0.5587333 , 0.49438477],\n",
       "      dtype=float32)"
      ]
     },
     "execution_count": 60,
     "metadata": {},
     "output_type": "execute_result"
    }
   ],
   "source": [
    "batch_iom(anchor.anchors.view(-1,4).numpy(), np.array(bbox[0]))"
   ]
  },
  {
   "cell_type": "code",
   "execution_count": 61,
   "id": "02efb3c4-0076-47ce-a1c1-2cbcaaae12a4",
   "metadata": {},
   "outputs": [
    {
     "data": {
      "text/plain": [
       "array([0.06716049, 0.16197531, 0.25679013, 0.35160494, 0.35555556,\n",
       "       0.11753087, 0.2834568 , 0.44938272, 0.61530864, 0.62222224,\n",
       "       0.16790123, 0.40493828, 0.6419753 , 0.87901235, 0.8888889 ,\n",
       "       0.18888889, 0.45555556, 0.7222222 , 0.98888886, 1.        ,\n",
       "       0.18888889, 0.45555556, 0.7222222 , 0.98888886, 1.        ],\n",
       "      dtype=float32)"
      ]
     },
     "execution_count": 61,
     "metadata": {},
     "output_type": "execute_result"
    }
   ],
   "source": [
    "batch_iom1(anchor.anchors.view(-1,4).numpy(), np.array(bbox[0]))"
   ]
  },
  {
   "cell_type": "code",
   "execution_count": 68,
   "id": "348ca73b-723e-418a-8556-32464051b4fa",
   "metadata": {},
   "outputs": [
    {
     "data": {
      "text/plain": [
       "array([0.06716049, 0.16197531, 0.25679013, 0.35160494, 0.35555556,\n",
       "       0.11753087, 0.2834568 , 0.44938272, 0.61530864, 0.62222224,\n",
       "       0.16790123, 0.40493828, 0.6419753 , 0.87901235, 0.8888889 ,\n",
       "       0.18888889, 0.45555556, 0.7222222 , 0.98888886, 1.        ,\n",
       "       0.18888889, 0.45555556, 0.7222222 , 0.98888886, 1.        ],\n",
       "      dtype=float32)"
      ]
     },
     "execution_count": 68,
     "metadata": {},
     "output_type": "execute_result"
    }
   ],
   "source": [
    "batch_iou_all(anchor.anchors.view(-1,4).numpy(), np.array(bbox[0]))"
   ]
  },
  {
   "cell_type": "code",
   "execution_count": null,
   "id": "b9eeec54-9347-4b16-a284-7893e1523584",
   "metadata": {},
   "outputs": [],
   "source": []
  },
  {
   "cell_type": "code",
   "execution_count": null,
   "id": "2bbe77a6-6149-4008-a439-719cfc026854",
   "metadata": {},
   "outputs": [],
   "source": []
  },
  {
   "cell_type": "code",
   "execution_count": null,
   "id": "ebe31267-0c7f-478f-a939-2afc3dcc59d6",
   "metadata": {},
   "outputs": [],
   "source": []
  }
 ],
 "metadata": {
  "kernelspec": {
   "display_name": "pytorch_retina",
   "language": "python",
   "name": "pytorch_retina"
  },
  "language_info": {
   "codemirror_mode": {
    "name": "ipython",
    "version": 3
   },
   "file_extension": ".py",
   "mimetype": "text/x-python",
   "name": "python",
   "nbconvert_exporter": "python",
   "pygments_lexer": "ipython3",
   "version": "3.7.10"
  }
 },
 "nbformat": 4,
 "nbformat_minor": 5
}
