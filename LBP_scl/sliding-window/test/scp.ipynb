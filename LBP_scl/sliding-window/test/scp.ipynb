{
 "cells": [
  {
   "cell_type": "code",
   "execution_count": null,
   "id": "0385479b-d3a2-4cc0-9fa8-c2075b0d2943",
   "metadata": {},
   "outputs": [],
   "source": [
    "# pip install paramiko \n",
    "# pip install scp\n",
    "# https://my-devblog.tistory.com/20"
   ]
  },
  {
   "cell_type": "code",
   "execution_count": 1,
   "id": "c2252766-471a-473d-af0b-2f86a770ef83",
   "metadata": {},
   "outputs": [],
   "source": []
  },
  {
   "cell_type": "code",
   "execution_count": 4,
   "id": "f336aaf3-0861-42d9-94fc-5111d7a81be7",
   "metadata": {},
   "outputs": [],
   "source": []
  },
  {
   "cell_type": "code",
   "execution_count": 5,
   "id": "fab1d6ed-ac9c-415f-93fe-e317bb6c1b4e",
   "metadata": {},
   "outputs": [],
   "source": [
    "import numpy as np\n",
    "import os\n",
    "import pandas as pd\n",
    "import torch\n",
    "import albumentations as A\n",
    "import albumentations.pytorch\n",
    "import cv2\n",
    "import sys\n",
    "import random\n",
    "import csv\n",
    "import json\n",
    "import matplotlib.pyplot as plt"
   ]
  },
  {
   "cell_type": "code",
   "execution_count": 7,
   "id": "f9e7fec2-8bd0-4941-94e6-374d47e752e4",
   "metadata": {},
   "outputs": [
    {
     "data": {
      "text/html": [
       "<div>\n",
       "<style scoped>\n",
       "    .dataframe tbody tr th:only-of-type {\n",
       "        vertical-align: middle;\n",
       "    }\n",
       "\n",
       "    .dataframe tbody tr th {\n",
       "        vertical-align: top;\n",
       "    }\n",
       "\n",
       "    .dataframe thead th {\n",
       "        text-align: right;\n",
       "    }\n",
       "</style>\n",
       "<table border=\"1\" class=\"dataframe\">\n",
       "  <thead>\n",
       "    <tr style=\"text-align: right;\">\n",
       "      <th></th>\n",
       "      <th>index</th>\n",
       "      <th>label</th>\n",
       "      <th>bbox</th>\n",
       "      <th>xmin</th>\n",
       "      <th>ymin</th>\n",
       "      <th>w</th>\n",
       "      <th>h</th>\n",
       "      <th>occluded</th>\n",
       "      <th>description</th>\n",
       "      <th>cell_type</th>\n",
       "      <th>iscrowd</th>\n",
       "      <th>path</th>\n",
       "    </tr>\n",
       "  </thead>\n",
       "  <tbody>\n",
       "    <tr>\n",
       "      <th>0</th>\n",
       "      <td>0</td>\n",
       "      <td>ASC-US</td>\n",
       "      <td>[1558.58, 1603.23, 96.86, 73.23]</td>\n",
       "      <td>1558</td>\n",
       "      <td>1603</td>\n",
       "      <td>96</td>\n",
       "      <td>73</td>\n",
       "      <td>False</td>\n",
       "      <td>Atypical squamous cells of undetermined signif...</td>\n",
       "      <td>NaN</td>\n",
       "      <td>0</td>\n",
       "      <td>patch_images/2021.01.08/LBC141-20210105(1)/LBC...</td>\n",
       "    </tr>\n",
       "    <tr>\n",
       "      <th>1</th>\n",
       "      <td>1</td>\n",
       "      <td>ASC-US</td>\n",
       "      <td>[1452.26, 1263.03, 82.69, 94.5]</td>\n",
       "      <td>1452</td>\n",
       "      <td>1263</td>\n",
       "      <td>82</td>\n",
       "      <td>94</td>\n",
       "      <td>False</td>\n",
       "      <td>Atypical squamous cells of undetermined signif...</td>\n",
       "      <td>NaN</td>\n",
       "      <td>0</td>\n",
       "      <td>patch_images/2021.01.08/LBC141-20210105(1)/LBC...</td>\n",
       "    </tr>\n",
       "    <tr>\n",
       "      <th>2</th>\n",
       "      <td>2</td>\n",
       "      <td>ASC-US</td>\n",
       "      <td>[159.33, 1259.04, 178.83, 152.57]</td>\n",
       "      <td>159</td>\n",
       "      <td>1259</td>\n",
       "      <td>178</td>\n",
       "      <td>152</td>\n",
       "      <td>False</td>\n",
       "      <td>Atypical squamous cells of undetermined signif...</td>\n",
       "      <td>NaN</td>\n",
       "      <td>0</td>\n",
       "      <td>patch_images/2021.01.08/LBC141-20210105(1)/LBC...</td>\n",
       "    </tr>\n",
       "    <tr>\n",
       "      <th>3</th>\n",
       "      <td>3</td>\n",
       "      <td>ASC-US</td>\n",
       "      <td>[1522.68, 1224.58, 168.99, 114.85]</td>\n",
       "      <td>1522</td>\n",
       "      <td>1224</td>\n",
       "      <td>168</td>\n",
       "      <td>114</td>\n",
       "      <td>False</td>\n",
       "      <td>Atypical squamous cells of undetermined signif...</td>\n",
       "      <td>NaN</td>\n",
       "      <td>0</td>\n",
       "      <td>patch_images/2021.01.08/LBC141-20210105(1)/LBC...</td>\n",
       "    </tr>\n",
       "    <tr>\n",
       "      <th>4</th>\n",
       "      <td>4</td>\n",
       "      <td>ASC-US</td>\n",
       "      <td>[1514.32, 1057.17, 102.37, 51.19]</td>\n",
       "      <td>1514</td>\n",
       "      <td>1057</td>\n",
       "      <td>102</td>\n",
       "      <td>51</td>\n",
       "      <td>False</td>\n",
       "      <td>Atypical squamous cells of undetermined signif...</td>\n",
       "      <td>NaN</td>\n",
       "      <td>0</td>\n",
       "      <td>patch_images/2021.01.08/LBC141-20210105(1)/LBC...</td>\n",
       "    </tr>\n",
       "  </tbody>\n",
       "</table>\n",
       "</div>"
      ],
      "text/plain": [
       "   index   label                                bbox  xmin  ymin    w    h  \\\n",
       "0      0  ASC-US    [1558.58, 1603.23, 96.86, 73.23]  1558  1603   96   73   \n",
       "1      1  ASC-US     [1452.26, 1263.03, 82.69, 94.5]  1452  1263   82   94   \n",
       "2      2  ASC-US   [159.33, 1259.04, 178.83, 152.57]   159  1259  178  152   \n",
       "3      3  ASC-US  [1522.68, 1224.58, 168.99, 114.85]  1522  1224  168  114   \n",
       "4      4  ASC-US   [1514.32, 1057.17, 102.37, 51.19]  1514  1057  102   51   \n",
       "\n",
       "   occluded                                        description cell_type  \\\n",
       "0     False  Atypical squamous cells of undetermined signif...       NaN   \n",
       "1     False  Atypical squamous cells of undetermined signif...       NaN   \n",
       "2     False  Atypical squamous cells of undetermined signif...       NaN   \n",
       "3     False  Atypical squamous cells of undetermined signif...       NaN   \n",
       "4     False  Atypical squamous cells of undetermined signif...       NaN   \n",
       "\n",
       "   iscrowd                                               path  \n",
       "0        0  patch_images/2021.01.08/LBC141-20210105(1)/LBC...  \n",
       "1        0  patch_images/2021.01.08/LBC141-20210105(1)/LBC...  \n",
       "2        0  patch_images/2021.01.08/LBC141-20210105(1)/LBC...  \n",
       "3        0  patch_images/2021.01.08/LBC141-20210105(1)/LBC...  \n",
       "4        0  patch_images/2021.01.08/LBC141-20210105(1)/LBC...  "
      ]
     },
     "execution_count": 7,
     "metadata": {},
     "output_type": "execute_result"
    }
   ],
   "source": [
    "df = pd.read_csv('../data/df.csv')\n",
    "df.head()"
   ]
  },
  {
   "cell_type": "code",
   "execution_count": 27,
   "id": "7abf199f-9454-403a-8deb-878a1d54b984",
   "metadata": {},
   "outputs": [
    {
     "data": {
      "text/plain": [
       "['patch_images/2021.01.08/LBC141-20210105(1)/LBC141-20210105(1)_1001.png',\n",
       " 'patch_images/2021.01.08/LBC141-20210105(1)/LBC141-20210105(1)_1003.png',\n",
       " 'patch_images/2021.01.08/LBC141-20210105(1)/LBC141-20210105(1)_1006.png',\n",
       " 'patch_images/2021.01.08/LBC141-20210105(1)/LBC141-20210105(1)_1007.png',\n",
       " 'patch_images/2021.01.08/LBC141-20210105(1)/LBC141-20210105(1)_1020.png']"
      ]
     },
     "execution_count": 27,
     "metadata": {},
     "output_type": "execute_result"
    }
   ],
   "source": [
    "images = list(df.path.unique())\n",
    "images[:5]"
   ]
  },
  {
   "cell_type": "code",
   "execution_count": 68,
   "id": "0aa0324c-f4fb-4008-ac6b-3229623651fb",
   "metadata": {},
   "outputs": [],
   "source": [
    "img_dir = '/home/Dataset/scl/'\n",
    "img_d = []\n",
    "for image in images :\n",
    "#     print(image)\n",
    "    d = '/'.join(image.split('/')[:3]) + '/'\n",
    "    img_d.append(img_dir+d)\n",
    "#     d = d.replace('(', '\\(')\n",
    "#     d = d.replace(')', '\\)')\n",
    "#     print(img_dir+d)\n",
    "# #     dd\n",
    "#     os.mkdir(img_dir+d)"
   ]
  },
  {
   "cell_type": "code",
   "execution_count": 69,
   "id": "7ddb2974-6836-485b-b1d5-edbf74eafc52",
   "metadata": {},
   "outputs": [
    {
     "name": "stdout",
     "output_type": "stream",
     "text": [
      "/home/Dataset/scl/patch_images/2021.01.08/LBC141-20210105(1)/\n",
      "/home/Dataset/scl/patch_images/2021.01.12/LBC304-20210108(1)/\n",
      "/home/Dataset/scl/patch_images/2021.01.11/LBC198-20210106(1)/\n",
      "/home/Dataset/scl/patch_images/2021.01.12/LBC311-20210108(1)/\n",
      "/home/Dataset/scl/patch_images/2021.01.06/LBC24-20210102(1)/\n",
      "/home/Dataset/scl/patch_images/2021.01.11/LBC200-20210106(1)/\n",
      "/home/Dataset/scl/patch_images/2021.01.13/LBC360-20210109(1)/\n",
      "/home/Dataset/scl/patch_images/2021.01.14/LBC367-20210111(1)/\n",
      "/home/Dataset/scl/patch_images/2021.01.12/LBC302-20210108(1)/\n",
      "/home/Dataset/scl/patch_images/2021.01.12/LBC310-20210108(1)/\n",
      "/home/Dataset/scl/patch_images/2021.01.07/LBC85-20210104(1)/\n",
      "/home/Dataset/scl/patch_images/2021.01.08/LBC142-20210105(1)/\n",
      "/home/Dataset/scl/patch_images/2021.01.11/LBC201-20210106(1)/\n",
      "/home/Dataset/scl/patch_images/2021.01.06/LBC31-20210102(1)/\n",
      "/home/Dataset/scl/patch_images/2021.01.07/LBC84-20210104(1)/\n",
      "/home/Dataset/scl/patch_images/2021.01.06/LBC30-20210102(1)/\n",
      "/home/Dataset/scl/patch_images/2021.01.07/LBC69-20210104(1)/\n",
      "/home/Dataset/scl/patch_images/2021.01.12/LBC309-20210108(1)/\n",
      "/home/Dataset/scl/patch_images/2021.01.08/LBC143-20210105(1)/\n",
      "/home/Dataset/scl/patch_images/2021.01.11/LBC199-20210106(1)/\n",
      "/home/Dataset/scl/patch_images/2021.01.06/LBC26-20210102(1)/\n"
     ]
    }
   ],
   "source": [
    "\n",
    "# try:\n",
    "#    if not os.path.exists(os.path.dirname(mydir)):\n",
    "#        os.makedirs(os.path.dirname(mydir))\n",
    "        \n",
    "for d in set(img_d) :\n",
    "#     print(d)\n",
    "#     d = d.replace('(', '\\(')\n",
    "#     d = d.replace(')', '\\)')    \n",
    "#     print(d)\n",
    "#     if not os.path.exists(os.path.dirname(d)):\n",
    "    print(d)\n",
    "    os.makedirs(d,  exist_ok=True)\n",
    "    "
   ]
  },
  {
   "cell_type": "code",
   "execution_count": 38,
   "id": "44b8a555-4c97-4bbe-8cf2-71aa1297d4ca",
   "metadata": {},
   "outputs": [],
   "source": [
    "# set(img_d)"
   ]
  },
  {
   "cell_type": "code",
   "execution_count": 61,
   "id": "b4b4e0ed-dcce-4af9-a42e-0f0d49c0c3d7",
   "metadata": {},
   "outputs": [
    {
     "name": "stdout",
     "output_type": "stream",
     "text": [
      "home/beomgon/Dataset/scl/patch_images/2021.01.12/LBC304-20210108(1)\n",
      "home/beomgon/Dataset/scl/patch_images/2021.01.12/LBC309-20210108(1)\n",
      "home/beomgon/Dataset/scl/patch_images/2021.01.07/LBC85-20210104(1)\n",
      "home/beomgon/Dataset/scl/patch_images/2021.01.12/LBC311-20210108(1)\n",
      "home/beomgon/Dataset/scl/patch_images/2021.01.11/LBC198-20210106(1)\n",
      "home/beomgon/Dataset/scl/patch_images/2021.01.07/LBC69-20210104(1)\n",
      "home/beomgon/Dataset/scl/patch_images/2021.01.08/LBC141-20210105(1)\n",
      "home/beomgon/Dataset/scl/patch_images/2021.01.12/LBC302-20210108(1)\n",
      "home/beomgon/Dataset/scl/patch_images/2021.01.06/LBC31-20210102(1)\n",
      "home/beomgon/Dataset/scl/patch_images/2021.01.14/LBC367-20210111(1)\n",
      "home/beomgon/Dataset/scl/patch_images/2021.01.13/LBC360-20210109(1)\n",
      "home/beomgon/Dataset/scl/patch_images/2021.01.11/LBC201-20210106(1)\n",
      "home/beomgon/Dataset/scl/patch_images/2021.01.06/LBC24-20210102(1)\n",
      "home/beomgon/Dataset/scl/patch_images/2021.01.11/LBC200-20210106(1)\n",
      "home/beomgon/Dataset/scl/patch_images/2021.01.08/LBC142-20210105(1)\n",
      "home/beomgon/Dataset/scl/patch_images/2021.01.08/LBC143-20210105(1)\n",
      "home/beomgon/Dataset/scl/patch_images/2021.01.11/LBC199-20210106(1)\n",
      "home/beomgon/Dataset/scl/patch_images/2021.01.12/LBC310-20210108(1)\n",
      "home/beomgon/Dataset/scl/patch_images/2021.01.06/LBC26-20210102(1)\n",
      "home/beomgon/Dataset/scl/patch_images/2021.01.07/LBC84-20210104(1)\n",
      "home/beomgon/Dataset/scl/patch_images/2021.01.06/LBC30-20210102(1)\n"
     ]
    }
   ],
   "source": [
    "# # pathlib.Path('/tmp/sub1/sub2').mkdir(parents=True, exist_ok=True)\n",
    "# from pathlib import Path\n",
    "# for d in set(img_d) :\n",
    "#     path = Path(d+'/')\n",
    "# #     if not os.path.isdir(d):\n",
    "# #     print(d)\n",
    "#     print(path)\n",
    "#     path.mkdir(parents=True, exist_ok=True)"
   ]
  },
  {
   "cell_type": "code",
   "execution_count": 62,
   "id": "115d4b94-3d44-4e91-9454-8c5954fc234e",
   "metadata": {},
   "outputs": [
    {
     "name": "stdout",
     "output_type": "stream",
     "text": [
      "/home/beomgon/pytorch/LBP_scl/sliding-window/notebooks\n"
     ]
    }
   ],
   "source": [
    "!pwd"
   ]
  },
  {
   "cell_type": "code",
   "execution_count": 70,
   "id": "b218ff62-dd48-4d95-9347-d6ca42a09453",
   "metadata": {},
   "outputs": [],
   "source": [
    "import paramiko \n",
    "from scp import SCPClient, SCPException \n",
    "class SSHManager: \n",
    "    \"\"\" usage: >>> import SSHManager >>> ssh_manager = SSHManager() >>> ssh_manager.create_ssh_client(hostname, username, password) >>> ssh_manager.send_command(\"ls -al\") >>> ssh_manager.send_file(\"/path/to/local_path\", \"/path/to/remote_path\") >>> ssh_manager.get_file(\"/path/to/remote_path\", \"/path/to/local_path\") ... >>> ssh_manager.close_ssh_client() \"\"\" \n",
    "    def __init__(self): \n",
    "        self.ssh_client = None \n",
    "        \n",
    "    def create_ssh_client(self, hostname, username, password): \n",
    "        \"\"\"Create SSH client session to remote server\"\"\" \n",
    "        if self.ssh_client is None: \n",
    "            self.ssh_client = paramiko.SSHClient() \n",
    "            self.ssh_client.set_missing_host_key_policy(paramiko.AutoAddPolicy()) \n",
    "            self.ssh_client.connect(hostname, username=username, password=password) \n",
    "        else: print(\"SSH client session exist.\") \n",
    "            \n",
    "    def close_ssh_client(self): \n",
    "        \"\"\"Close SSH client session\"\"\" \n",
    "        self.ssh_client.close() \n",
    "        \n",
    "    def send_file(self, local_path, remote_path): \n",
    "        \"\"\"Send a single file to remote path\"\"\" \n",
    "        try: \n",
    "            with SCPClient(self.ssh_client.get_transport()) as scp: \n",
    "                scp.put(local_path, remote_path, preserve_times=True) \n",
    "        except SCPException: \n",
    "            raise SCPException.message \n",
    "            \n",
    "    def get_file(self, remote_path, local_path): \n",
    "        \"\"\"Get a single file from remote path\"\"\" \n",
    "        try: \n",
    "            with SCPClient(self.ssh_client.get_transport()) as scp: \n",
    "                scp.get(remote_path, local_path) \n",
    "        except SCPException: \n",
    "            raise SCPException.message \n",
    "            \n",
    "    def send_command(self, command): \n",
    "        \"\"\"Send a single command\"\"\" \n",
    "        stdin, stdout, stderr = self.ssh_client.exec_command(command) \n",
    "        return stdout.readlines()"
   ]
  },
  {
   "cell_type": "code",
   "execution_count": null,
   "id": "beddd61e-c7d9-4263-8982-22195c972b87",
   "metadata": {},
   "outputs": [],
   "source": [
    "# ssh_manager = SSHManager() \n",
    "# # ssh_manager.create_ssh_client(\"hostname\", \"username\", \"password\") # 세션생성 \n",
    "# # ssh_manager.send_file(\"local_path\", \"remote_path\") # 파일전송 \n",
    "# # ssh_manager.get_file('remote_path', 'local_path') # 파일다운로드 \n",
    "# # ssh_manager.close_ssh_client() # 세션종료\n",
    "\n",
    "# ssh_manager.create_ssh_client(\"192.168.40.242\", \"beomgon\", \"kkk3249\") # 세션생성 \n",
    "# # ssh_manager.send_file(\"local_path\", \"remote_path\") # 파일전송 \n",
    "# # /home/NAS/nas4/project_scl/patch_images/2021.01.12/LBC302-20210108\\(1\\)/\n",
    "# ssh_manager.get_file('/home/NAS/nas4/project_scl/patch_images/2021.01.12/LBC302-20210108(1)/LBC302-20210108(1)_459.png', './') # 파일다운로드 \n",
    "# ssh_manager.close_ssh_client() # 세션종료\n",
    "\n"
   ]
  },
  {
   "cell_type": "code",
   "execution_count": 76,
   "id": "e088cdbb-73a3-4cc9-95de-241ac599b22f",
   "metadata": {},
   "outputs": [],
   "source": [
    "ssh_manager = SSHManager() \n",
    "ssh_manager.create_ssh_client(\"192.168.40.242\", \"beomgon\", \"kkk3249\") # 세션생성 \n",
    "\n",
    "images[:5]\n",
    "for path in images :\n",
    "#     print('/home/Dataset/scl/'+path)\n",
    "    if not os.path.isfile('/home/Dataset/scl/'+path) :\n",
    "        ssh_manager.get_file('/home/NAS/nas4/project_scl/' + path, '/home/Dataset/scl/'+path) # 파일다운로드 \n",
    "ssh_manager.close_ssh_client() # 세션종료    "
   ]
  },
  {
   "cell_type": "code",
   "execution_count": 73,
   "id": "8857a3ae-5d72-4c56-960e-b1ec9385d813",
   "metadata": {},
   "outputs": [
    {
     "data": {
      "text/plain": [
       "'patch_images/2021.01.08/LBC141-20210105(1)/LBC141-20210105(1)_1001.png'"
      ]
     },
     "execution_count": 73,
     "metadata": {},
     "output_type": "execute_result"
    }
   ],
   "source": [
    "images[0]"
   ]
  },
  {
   "cell_type": "code",
   "execution_count": null,
   "id": "3bc8b8ed-70ee-4799-b9df-88f26b6f7b26",
   "metadata": {},
   "outputs": [],
   "source": []
  }
 ],
 "metadata": {
  "kernelspec": {
   "display_name": "pytorch_retina",
   "language": "python",
   "name": "pytorch_retina"
  },
  "language_info": {
   "codemirror_mode": {
    "name": "ipython",
    "version": 3
   },
   "file_extension": ".py",
   "mimetype": "text/x-python",
   "name": "python",
   "nbconvert_exporter": "python",
   "pygments_lexer": "ipython3",
   "version": "3.7.10"
  }
 },
 "nbformat": 4,
 "nbformat_minor": 5
}
