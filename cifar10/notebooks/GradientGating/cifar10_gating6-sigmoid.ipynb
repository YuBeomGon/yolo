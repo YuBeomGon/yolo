{
 "cells": [
  {
   "cell_type": "code",
   "execution_count": 1,
   "id": "e953aaff-5e25-46ee-a200-7043b49bf93e",
   "metadata": {},
   "outputs": [],
   "source": [
    "# https://discuss.pytorch.org/t/call-backward-on-function-inside-a-backpropagation-step/3793\n",
    "# https://discuss.pytorch.org/t/implementing-a-custom-convolution-using-conv2d-input-and-conv2d-weight/18556\n",
    "# https://discuss.pytorch.org/t/implementing-a-custom-convolution-using-conv2d-input-and-conv2d-weight/18556/21"
   ]
  },
  {
   "cell_type": "code",
   "execution_count": 2,
   "id": "5d81d1b7-de30-4c36-a039-14389f064908",
   "metadata": {},
   "outputs": [],
   "source": [
    "import torch\n",
    "import torch.nn as nn\n",
    "import torch.nn.functional as F\n",
    "import torch.optim as optim\n",
    "import torchvision\n",
    "import torchvision.transforms as transforms\n",
    "\n",
    "import numpy as np\n",
    "import sys\n",
    "sys.path.append('./')\n",
    "from gated import Net, Net1, NetA, NetS, Conv2dFunction, Conv2dFunctionG, Conv2dFunctionG2"
   ]
  },
  {
   "cell_type": "code",
   "execution_count": 3,
   "id": "6fbec456-07f5-48e8-ac80-64201f5d4e96",
   "metadata": {},
   "outputs": [
    {
     "name": "stdout",
     "output_type": "stream",
     "text": [
      "Files already downloaded and verified\n",
      "Files already downloaded and verified\n"
     ]
    }
   ],
   "source": [
    "# device = torch.device(\"cpu\")\n",
    "device = torch.device(\"cuda\")\n",
    "dtype = torch.float\n",
    "transform = transforms.Compose(\n",
    "    [transforms.ToTensor(),\n",
    "     transforms.Normalize((0.5, 0.5, 0.5), (0.5, 0.5, 0.5))])\n",
    "\n",
    "batch_size = 64\n",
    "\n",
    "trainset = torchvision.datasets.CIFAR10(root='../data', train=True,\n",
    "                                        download=True, transform=transform)\n",
    "trainloader = torch.utils.data.DataLoader(trainset, batch_size=batch_size,\n",
    "                                          shuffle=True, num_workers=8)\n",
    "\n",
    "testset = torchvision.datasets.CIFAR10(root='../data', train=False,\n",
    "                                       download=True, transform=transform)\n",
    "testloader = torch.utils.data.DataLoader(testset, batch_size=batch_size,\n",
    "                                         shuffle=False, num_workers=8)\n",
    "\n",
    "classes = ('plane', 'car', 'bird', 'cat',\n",
    "           'deer', 'dog', 'frog', 'horse', 'ship', 'truck')"
   ]
  },
  {
   "cell_type": "code",
   "execution_count": 4,
   "id": "0714c16b-d4d3-4993-9880-6ac5862e56bd",
   "metadata": {},
   "outputs": [
    {
     "name": "stderr",
     "output_type": "stream",
     "text": [
      "/home/beomgon/anaconda3/envs/pytorch_retina/lib/python3.7/site-packages/ipykernel_launcher.py:18: UserWarning: To copy construct from a tensor, it is recommended to use sourceTensor.clone().detach() or sourceTensor.clone().detach().requires_grad_(True), rather than torch.tensor(sourceTensor).\n",
      "/home/beomgon/anaconda3/envs/pytorch_retina/lib/python3.7/site-packages/ipykernel_launcher.py:19: UserWarning: To copy construct from a tensor, it is recommended to use sourceTensor.clone().detach() or sourceTensor.clone().detach().requires_grad_(True), rather than torch.tensor(sourceTensor).\n",
      "/home/beomgon/anaconda3/envs/pytorch_retina/lib/python3.7/site-packages/ipykernel_launcher.py:20: UserWarning: To copy construct from a tensor, it is recommended to use sourceTensor.clone().detach() or sourceTensor.clone().detach().requires_grad_(True), rather than torch.tensor(sourceTensor).\n",
      "/home/beomgon/anaconda3/envs/pytorch_retina/lib/python3.7/site-packages/ipykernel_launcher.py:21: UserWarning: To copy construct from a tensor, it is recommended to use sourceTensor.clone().detach() or sourceTensor.clone().detach().requires_grad_(True), rather than torch.tensor(sourceTensor).\n",
      "/home/beomgon/anaconda3/envs/pytorch_retina/lib/python3.7/site-packages/ipykernel_launcher.py:22: UserWarning: To copy construct from a tensor, it is recommended to use sourceTensor.clone().detach() or sourceTensor.clone().detach().requires_grad_(True), rather than torch.tensor(sourceTensor).\n",
      "/home/beomgon/anaconda3/envs/pytorch_retina/lib/python3.7/site-packages/ipykernel_launcher.py:25: UserWarning: To copy construct from a tensor, it is recommended to use sourceTensor.clone().detach() or sourceTensor.clone().detach().requires_grad_(True), rather than torch.tensor(sourceTensor).\n",
      "/home/beomgon/anaconda3/envs/pytorch_retina/lib/python3.7/site-packages/ipykernel_launcher.py:26: UserWarning: To copy construct from a tensor, it is recommended to use sourceTensor.clone().detach() or sourceTensor.clone().detach().requires_grad_(True), rather than torch.tensor(sourceTensor).\n",
      "/home/beomgon/anaconda3/envs/pytorch_retina/lib/python3.7/site-packages/ipykernel_launcher.py:27: UserWarning: To copy construct from a tensor, it is recommended to use sourceTensor.clone().detach() or sourceTensor.clone().detach().requires_grad_(True), rather than torch.tensor(sourceTensor).\n",
      "/home/beomgon/anaconda3/envs/pytorch_retina/lib/python3.7/site-packages/ipykernel_launcher.py:28: UserWarning: To copy construct from a tensor, it is recommended to use sourceTensor.clone().detach() or sourceTensor.clone().detach().requires_grad_(True), rather than torch.tensor(sourceTensor).\n",
      "/home/beomgon/anaconda3/envs/pytorch_retina/lib/python3.7/site-packages/ipykernel_launcher.py:29: UserWarning: To copy construct from a tensor, it is recommended to use sourceTensor.clone().detach() or sourceTensor.clone().detach().requires_grad_(True), rather than torch.tensor(sourceTensor).\n"
     ]
    }
   ],
   "source": [
    "# N, C_in, C_out, K_size = batch_size, 3, 12, 3\n",
    "# Create random Tensors for weights.\n",
    "conw1 = torch.randn(8,3,5,5, device=device, dtype=dtype, requires_grad=True)\n",
    "conw2 = torch.randn(32,8,3,3, device=device, dtype=dtype, requires_grad=True)\n",
    "conw3 = torch.randn(128,32,3,3, device=device, dtype=dtype, requires_grad=True)\n",
    "conw4 = torch.randn(128,128,3,3, device=device, dtype=dtype, requires_grad=True)\n",
    "conw5 = torch.randn(10,128,1,1, device=device, dtype=dtype, requires_grad=True)\n",
    "\n",
    "# weight for normal\n",
    "conw1 = torch.nn.init.xavier_uniform_(conw1, gain=1.0)\n",
    "conw2 = torch.nn.init.xavier_uniform_(conw2, gain=1.0)\n",
    "conw3 = torch.nn.init.xavier_uniform_(conw3, gain=1.0)\n",
    "conw4 = torch.nn.init.xavier_uniform_(conw4, gain=1.0)\n",
    "conw5 = torch.nn.init.xavier_uniform_(conw5, gain=1.0)\n",
    "\n",
    "# weight for gated\n",
    "# conw1g = conw1.clone().detatch(requires_grad=True)\n",
    "conw1g = torch.tensor(conw1, device=device, dtype=dtype, requires_grad=True)\n",
    "conw2g = torch.tensor(conw2, device=device, dtype=dtype, requires_grad=True)\n",
    "conw3g = torch.tensor(conw3, device=device, dtype=dtype, requires_grad=True)\n",
    "conw4g = torch.tensor(conw4, device=device, dtype=dtype, requires_grad=True)\n",
    "conw5g = torch.tensor(conw5, device=device, dtype=dtype, requires_grad=True)\n",
    "\n",
    "# weight for adam \n",
    "conw1a = torch.tensor(conw1, device=device, dtype=dtype, requires_grad=True)\n",
    "conw2a = torch.tensor(conw2, device=device, dtype=dtype, requires_grad=True)\n",
    "conw3a = torch.tensor(conw3, device=device, dtype=dtype, requires_grad=True)\n",
    "conw4a = torch.tensor(conw4, device=device, dtype=dtype, requires_grad=True)\n",
    "conw5a = torch.tensor(conw5, device=device, dtype=dtype, requires_grad=True)\n",
    "\n",
    "conw1a_list = [conw1a, conw2a, conw3a, conw4a, conw5a]\n",
    "conw1g_list = [conw1g, conw2g, conw3g, conw4g, conw5g]\n",
    "# conw1_list = [conw1, conw2, conw3, conw4, conw5]\n",
    "# print(conw1[0][0])\n",
    "# print(torch.nn.init.xavier_uniform_(conw1, gain=1.0)[0][0])\n",
    "# print(conw2)"
   ]
  },
  {
   "cell_type": "code",
   "execution_count": 5,
   "id": "8ac85c29-61e9-4b91-aa7e-c2077b9ffc24",
   "metadata": {},
   "outputs": [
    {
     "data": {
      "text/plain": [
       "False"
      ]
     },
     "execution_count": 5,
     "metadata": {},
     "output_type": "execute_result"
    }
   ],
   "source": [
    "conw1 is conw1g"
   ]
  },
  {
   "cell_type": "code",
   "execution_count": 6,
   "id": "12f00a2e-56f8-400a-8f67-c2566254a401",
   "metadata": {},
   "outputs": [],
   "source": [
    "# Net1 act first\n",
    "# Net bn first \n",
    "# Conv2dFunctionG 2*torch.sigmoid(out)\n",
    "# Conv2dFunctionG2 2*(torch.sigmoid(torch.abs(out)))\n",
    "\n",
    "# net = Net(conw1a_list, Conv2dFunctionG).to(device)\n",
    "# netg = Net1(conw1g_list, Conv2dFunctionG).to(device)\n",
    "neta = NetA().to(device)\n",
    "criterion = nn.CrossEntropyLoss().to(device)"
   ]
  },
  {
   "cell_type": "code",
   "execution_count": 7,
   "id": "e125c3c4-b8bc-41b3-9bae-894a6e1b8c3d",
   "metadata": {},
   "outputs": [
    {
     "data": {
      "text/plain": [
       "<All keys matched successfully>"
      ]
     },
     "execution_count": 7,
     "metadata": {},
     "output_type": "execute_result"
    }
   ],
   "source": [
    "# parameter for adam should be same with other model\n",
    "neta_dict = neta.state_dict()\n",
    "for p in neta_dict :\n",
    "    if 'conv1' in p :\n",
    "        neta_dict[p] = conw1\n",
    "    elif 'conv2' in p :\n",
    "        neta_dict[p] = conw2\n",
    "    elif 'conv3' in p :\n",
    "        neta_dict[p] = conw3\n",
    "    elif 'conv4' in p :\n",
    "        neta_dict[p] = conw4\n",
    "    elif 'conv5' in p :\n",
    "        neta_dict[p] = conw5       \n",
    "#     print(p)\n",
    "#     print(neta.state_dict()[p].shape)\n",
    "#     print()\n",
    "neta.load_state_dict(neta_dict)"
   ]
  },
  {
   "cell_type": "code",
   "execution_count": 8,
   "id": "5f2c4fbe-b6f4-412b-bfcd-30d6182cb74b",
   "metadata": {},
   "outputs": [
    {
     "name": "stdout",
     "output_type": "stream",
     "text": [
      "torch.Size([64, 10])\n",
      "tensor([ 0.1130,  0.0017,  0.0098, -0.1232,  0.0967], device='cuda:0',\n",
      "       grad_fn=<SelectBackward>)\n",
      "tensor([ 0.1130,  0.0017,  0.0098, -0.1232,  0.0967], device='cuda:0',\n",
      "       grad_fn=<SelectBackward>)\n",
      "tensor([1., 1., 1., 1., 1.], device='cuda:0')\n"
     ]
    }
   ],
   "source": [
    "image, labels = iter(trainloader).next()\n",
    "optimizer = optim.Adam([conw1, conw2, conw3, conw4, conw5], lr=0.01)\n",
    "optimizerbn = optim.Adam(neta.parameters(), lr=0.01)\n",
    "outputs = neta(image.to(device)).to(device)\n",
    "print(outputs.shape)\n",
    "print(conw1[0][0][0])\n",
    "# print(outputs.sum(dim=1))\n",
    "# print(outputs)\n",
    "loss = criterion(outputs, labels.to(device))\n",
    "loss.backward()\n",
    "# optimizer.step()\n",
    "# optimizerbn.step()\n",
    "print(conw1[0][0][0])\n",
    "# print(torch.nn.Softmax(dim=1)(outputs).sum(dim=1))\n",
    "# outputs\n",
    "for i in neta.state_dict() :\n",
    "    if 'bn1.wei' in i :\n",
    "        print(neta.state_dict()[i][:5])\n"
   ]
  },
  {
   "cell_type": "code",
   "execution_count": 9,
   "id": "540d731a-2533-4854-91f7-3627e7149d33",
   "metadata": {},
   "outputs": [],
   "source": [
    "import math\n",
    "import numpy as np\n",
    "\n",
    "NUM_EPOCH = 15\n",
    "# lr_list = [1] * NUM_EPOCH\n",
    "# e = math.exp(1)\n",
    "# for i,v in enumerate(lr_list) :\n",
    "# #     lr_list[i] = 0.1 * (math.cos(i*math.pi/(NUM_EPOCH*2)))**4\n",
    "#     lr_list[i] = 0.1 * math.exp(1.*i*-e/NUM_EPOCH)\n",
    "# print(lr_list)\n",
    "lr_list = [0.1, 0.1, 0.05, 0.05, 0.05, 0.02, 0.02, \n",
    "           0.01, 0.01, 0.01, 0.005, 0.002,\n",
    "           0.001, 0.0005, 0.0005, 0.0005, 0.0001, 0.0001, 0.00005, 0.00005]\n"
   ]
  },
  {
   "cell_type": "code",
   "execution_count": 10,
   "id": "ca3b139d-e355-4d97-9ea1-753a561e76d4",
   "metadata": {},
   "outputs": [],
   "source": [
    "def test (model) :\n",
    "    correct = 0\n",
    "    total = 0\n",
    "    # since we're not training, we don't need to calculate the gradients for our outputs\n",
    "    with torch.no_grad():\n",
    "        for data in testloader:\n",
    "            inputs, labels = data\n",
    "            outputs = model(inputs.to(device))\n",
    "            # the class with the highest energy is what we choose as prediction\n",
    "            _, predicted = torch.max(outputs.data, 1)\n",
    "            total += labels.size(0)\n",
    "            correct += (predicted == labels.to(device)).sum().item()\n",
    "\n",
    "    print('Accuracy of the network on the 10000 test images: %d %%' % (\n",
    "        100 * correct / total))\n",
    "    return (100 * correct / total)    "
   ]
  },
  {
   "cell_type": "code",
   "execution_count": 11,
   "id": "5f4ced22-f3fa-4f20-a474-ab4cbc3a2a64",
   "metadata": {},
   "outputs": [
    {
     "name": "stdout",
     "output_type": "stream",
     "text": [
      "******************normal case with adam****************\n",
      "[1,   400] loss: 2.021\n",
      "tensor(1.3172, device='cuda:0')\n",
      "Accuracy of the network on the 10000 test images: 57 %\n",
      "[2,   400] loss: 1.846\n",
      "tensor(1.1839, device='cuda:0')\n",
      "Accuracy of the network on the 10000 test images: 64 %\n",
      "[3,   400] loss: 1.789\n",
      "tensor(1.6049, device='cuda:0')\n",
      "Accuracy of the network on the 10000 test images: 67 %\n",
      "[4,   400] loss: 1.754\n",
      "tensor(2.0947, device='cuda:0')\n",
      "Accuracy of the network on the 10000 test images: 68 %\n",
      "[5,   400] loss: 1.728\n",
      "tensor(0.9243, device='cuda:0')\n",
      "Accuracy of the network on the 10000 test images: 66 %\n",
      "[6,   400] loss: 1.710\n",
      "tensor(1.2966, device='cuda:0')\n",
      "Accuracy of the network on the 10000 test images: 65 %\n",
      "[7,   400] loss: 1.689\n",
      "tensor(1.8355, device='cuda:0')\n",
      "Accuracy of the network on the 10000 test images: 70 %\n",
      "[8,   400] loss: 1.676\n",
      "tensor(1.2665, device='cuda:0')\n",
      "Accuracy of the network on the 10000 test images: 69 %\n",
      "[9,   400] loss: 1.663\n",
      "tensor(1.9148, device='cuda:0')\n",
      "Accuracy of the network on the 10000 test images: 72 %\n",
      "[10,   400] loss: 1.651\n",
      "tensor(0.9867, device='cuda:0')\n",
      "Accuracy of the network on the 10000 test images: 73 %\n",
      "[11,   400] loss: 1.633\n",
      "tensor(0.9778, device='cuda:0')\n",
      "Accuracy of the network on the 10000 test images: 73 %\n",
      "[12,   400] loss: 1.629\n",
      "tensor(0.9468, device='cuda:0')\n",
      "Accuracy of the network on the 10000 test images: 71 %\n",
      "[13,   400] loss: 1.617\n",
      "tensor(1.3964, device='cuda:0')\n",
      "Accuracy of the network on the 10000 test images: 74 %\n",
      "[14,   400] loss: 1.607\n",
      "tensor(1.2696, device='cuda:0')\n",
      "Accuracy of the network on the 10000 test images: 71 %\n",
      "[15,   400] loss: 1.595\n",
      "tensor(1.0102, device='cuda:0')\n",
      "Accuracy of the network on the 10000 test images: 72 %\n"
     ]
    }
   ],
   "source": [
    "print('******************normal case with adam****************')\n",
    "learning_rate = 0.001\n",
    "criterion = nn.CrossEntropyLoss().to(device)\n",
    "optimizer = optim.Adam(neta.parameters(), lr=learning_rate)\n",
    "adam_loss = []\n",
    "adam_accuracy = []\n",
    "grad_mean = []\n",
    "for epoch in range(NUM_EPOCH) :  \n",
    "# for epoch in range(20) :   \n",
    "    running_loss = 0.0\n",
    "    grad = 0\n",
    "    neta.train()\n",
    "    for i, data in enumerate(trainloader, 0):\n",
    "        inputs, labels = data\n",
    "\n",
    "        outputs = neta(inputs.to(device))\n",
    "        loss = criterion(outputs, labels.to(device))\n",
    "        loss.backward()  \n",
    "\n",
    "        # print statistics\n",
    "        running_loss += loss.item()\n",
    "        grad += torch.norm(neta.conv1.weight.grad)\n",
    "        if i % 400 == 399:    # print every 2000 mini-batches\n",
    "            print('[%d, %5d] loss: %.3f' %\n",
    "                  (epoch +\n",
    "                   1, i + 1, running_loss / (i+1)))\n",
    "            print(torch.norm(neta.conv1.weight.grad))\n",
    "            \n",
    "        optimizer.step()\n",
    "        optimizer.zero_grad()            \n",
    "    \n",
    "    neta.eval()\n",
    "    test_acc = test(neta)\n",
    "    adam_loss.append(running_loss/len(trainloader))\n",
    "    grad_mean.append(grad/len(trainloader))\n",
    "    adam_accuracy.append(test_acc)"
   ]
  },
  {
   "cell_type": "code",
   "execution_count": 12,
   "id": "58e69910-ca9b-451f-890a-75b4a2a0a901",
   "metadata": {},
   "outputs": [],
   "source": [
    "# grad_mean"
   ]
  },
  {
   "cell_type": "code",
   "execution_count": 13,
   "id": "bbec478f-7ec7-4285-a566-0b84ee01939a",
   "metadata": {},
   "outputs": [
    {
     "data": {
      "text/plain": [
       "tensor([ 0.1130,  0.0017,  0.0098, -0.1232,  0.0967], device='cuda:0',\n",
       "       grad_fn=<SelectBackward>)"
      ]
     },
     "execution_count": 13,
     "metadata": {},
     "output_type": "execute_result"
    }
   ],
   "source": [
    "conw1a[0][0][0]"
   ]
  },
  {
   "cell_type": "code",
   "execution_count": 14,
   "id": "f77f9ed2-268b-4051-8747-3c2298b92ac2",
   "metadata": {},
   "outputs": [],
   "source": [
    "# saved_p = neta.state_dict()\n",
    "# for p in saved_p :\n",
    "#     if 'conv1.weight' in p :\n",
    "#         conw1a = conw1g = saved_p[p]\n",
    "#     elif 'conv2.weight' in p :\n",
    "#         conw2a = conw2g = saved_p[p]\n",
    "#     elif 'conv3.weight' in p :\n",
    "#         conw3a = conw3g = saved_p[p]     \n",
    "#     elif 'conv4.weight' in p :\n",
    "#         conw4a = conw4g = saved_p[p]  \n",
    "#     elif 'conv5.weight' in p :\n",
    "#         conw5a = conw5g = saved_p[p]        \n",
    "        \n",
    "conw1a_list = [conw1a, conw2a, conw3a, conw4a, conw5a]\n",
    "conw1g_list = [conw1g, conw2g, conw3g, conw4g, conw5g]\n",
    "\n",
    "net = Net(conw1a_list, Conv2dFunctionG).to(device)\n",
    "netg = Net(conw1g_list, Conv2dFunction).to(device)\n",
    "# print(conw1a[0][0][0])\n",
    "# # print(conw1a_list[0][0][0][0])"
   ]
  },
  {
   "cell_type": "code",
   "execution_count": 15,
   "id": "cf0bd085-9905-451d-98d2-bcdcdec2b9b7",
   "metadata": {},
   "outputs": [
    {
     "name": "stdout",
     "output_type": "stream",
     "text": [
      "******************normal case****************\n",
      "[1,   400] loss: 2.046\n",
      "tensor(0.8240, device='cuda:0')\n",
      "Accuracy of the network on the 10000 test images: 53 %\n",
      "[2,   400] loss: 1.880\n",
      "tensor(0.9336, device='cuda:0')\n",
      "Accuracy of the network on the 10000 test images: 60 %\n",
      "[3,   400] loss: 1.785\n",
      "tensor(0.6387, device='cuda:0')\n",
      "Accuracy of the network on the 10000 test images: 68 %\n",
      "[4,   400] loss: 1.746\n",
      "tensor(0.5217, device='cuda:0')\n",
      "Accuracy of the network on the 10000 test images: 66 %\n",
      "[5,   400] loss: 1.716\n",
      "tensor(0.5745, device='cuda:0')\n",
      "Accuracy of the network on the 10000 test images: 69 %\n",
      "[6,   400] loss: 1.679\n",
      "tensor(0.4693, device='cuda:0')\n",
      "Accuracy of the network on the 10000 test images: 71 %\n",
      "[7,   400] loss: 1.655\n",
      "tensor(0.6778, device='cuda:0')\n",
      "Accuracy of the network on the 10000 test images: 72 %\n",
      "[8,   400] loss: 1.638\n",
      "tensor(0.4589, device='cuda:0')\n",
      "Accuracy of the network on the 10000 test images: 71 %\n",
      "[9,   400] loss: 1.630\n",
      "tensor(1.0728, device='cuda:0')\n",
      "Accuracy of the network on the 10000 test images: 72 %\n",
      "[10,   400] loss: 1.624\n",
      "tensor(0.8205, device='cuda:0')\n",
      "Accuracy of the network on the 10000 test images: 71 %\n",
      "[11,   400] loss: 1.613\n",
      "tensor(0.5175, device='cuda:0')\n",
      "Accuracy of the network on the 10000 test images: 72 %\n",
      "[12,   400] loss: 1.608\n",
      "tensor(0.8662, device='cuda:0')\n",
      "Accuracy of the network on the 10000 test images: 72 %\n",
      "[13,   400] loss: 1.607\n",
      "tensor(0.5329, device='cuda:0')\n",
      "Accuracy of the network on the 10000 test images: 72 %\n",
      "[14,   400] loss: 1.604\n",
      "tensor(0.6406, device='cuda:0')\n",
      "Accuracy of the network on the 10000 test images: 72 %\n",
      "[15,   400] loss: 1.606\n",
      "tensor(0.4162, device='cuda:0')\n",
      "Accuracy of the network on the 10000 test images: 72 %\n"
     ]
    }
   ],
   "source": [
    "print('******************normal case****************')\n",
    "# lr_list = [0.05] * NUM_EPOCH\n",
    "criterion = nn.CrossEntropyLoss().to(device)\n",
    "\n",
    "gated2_loss = []\n",
    "gated2_accuracy = []\n",
    "# optimizer = optim.SGD(conw1a_list, lr=learning_rate, momentum=0.9)\n",
    "# optimizerbn = optim.SGD(net.parameters(), lr=learning_rate, momentum=0.9) \n",
    "for epoch in range(NUM_EPOCH) :   \n",
    "    running_loss = 0.0\n",
    "    learning_rate = lr_list[epoch]\n",
    "    optimizer = optim.SGD(conw1a_list, lr=learning_rate)\n",
    "    optimizerbn = optim.SGD(net.parameters(), lr=learning_rate)       \n",
    "    for i, data in enumerate(trainloader, 0):\n",
    "        inputs, labels = data\n",
    "        \n",
    "\n",
    "        outputs = net(inputs.to(device))\n",
    "        loss = criterion(outputs, labels.to(device))\n",
    "\n",
    "        loss.backward()   \n",
    "\n",
    "        # print statistics\n",
    "        running_loss += loss.item()\n",
    "        if i % 400 == 399:    # print every 2000 mini-batches\n",
    "            print('[%d, %5d] loss: %.3f' %\n",
    "                  (epoch + 1, i + 1, running_loss / (i+1)))   \n",
    "            print(torch.norm(conw1a.grad))\n",
    "            \n",
    "        optimizer.step()\n",
    "        optimizerbn.step()            \n",
    "            \n",
    "        optimizer.zero_grad()\n",
    "        optimizerbn.zero_grad()            \n",
    "            \n",
    "    test_acc = test(net)\n",
    "    gated2_loss.append(running_loss/len(trainloader))\n",
    "    gated2_accuracy.append(test_acc)    "
   ]
  },
  {
   "cell_type": "code",
   "execution_count": 16,
   "id": "168023b4-6e15-484e-a039-ba67ca2e4b8a",
   "metadata": {},
   "outputs": [
    {
     "name": "stdout",
     "output_type": "stream",
     "text": [
      "torch.Size([64, 10])\n",
      "tensor([ 0.1130,  0.0017,  0.0098, -0.1232,  0.0967], device='cuda:0',\n",
      "       grad_fn=<SelectBackward>)\n"
     ]
    }
   ],
   "source": [
    "# print(net.conv11.weight.grad) \n",
    "# print(net.conv21.bias.grad)\n",
    "# net.bn1.weight.grad\n",
    "image, labels = iter(trainloader).next()\n",
    "optimizer = optim.Adam(conw1a_list, lr=0.01)\n",
    "optimizerbn = optim.Adam(net.parameters(), lr=0.01)\n",
    "outputs = net(image.to(device)).to(device)\n",
    "print(outputs.shape)\n",
    "print(conw1[0][0][0])\n",
    "# print(outputs.sum(dim=1))\n",
    "# print(outputs)\n",
    "loss = criterion(outputs, labels.to(device))\n",
    "loss.backward()"
   ]
  },
  {
   "cell_type": "code",
   "execution_count": 17,
   "id": "41cd0ca0-7b4e-41fa-9d10-33201164ffbb",
   "metadata": {},
   "outputs": [],
   "source": [
    "# temp = torch.randn(4,3,2,2)\n",
    "# temp[0]\n",
    "# # print(temp[0])\n",
    "# temp1 = temp.view(4,-1)\n",
    "# # print(temp[0])\n",
    "# so = torch.sigmoid(temp1)\n",
    "# torch.norm(temp1, dim=1)\n",
    "# # denom = torch.norm(temp1, dim=1).unsqueeze(dim=1)\n",
    "# # denom.view(4,-1)\n",
    "# # (temp1 / torch.sqrt(denom)).view(4,3,2,2)[0]"
   ]
  },
  {
   "cell_type": "code",
   "execution_count": 18,
   "id": "ccfd6334-d7a6-4286-9393-3acd3b1bbbd0",
   "metadata": {},
   "outputs": [
    {
     "data": {
      "text/plain": [
       "torch.Size([64, 32, 16, 16])"
      ]
     },
     "execution_count": 18,
     "metadata": {},
     "output_type": "execute_result"
    }
   ],
   "source": [
    "c1, c2, c3, c4, c5 = net.conv_return()\n",
    "c2.shape"
   ]
  },
  {
   "cell_type": "code",
   "execution_count": 19,
   "id": "271b5ee3-fd9d-4b35-a490-8950c3934d2f",
   "metadata": {},
   "outputs": [],
   "source": [
    "# c2"
   ]
  },
  {
   "cell_type": "code",
   "execution_count": 20,
   "id": "9b16a145-4012-4823-a938-bd0dda5d638b",
   "metadata": {},
   "outputs": [],
   "source": [
    "# conw1a_list[1].grad"
   ]
  },
  {
   "cell_type": "code",
   "execution_count": 21,
   "id": "a332d3a2-134f-4002-9ef1-038ee90c7ea8",
   "metadata": {},
   "outputs": [
    {
     "data": {
      "text/plain": [
       "tensor([1.0000, 1.0000, 1.0000, 1.0000, 1.0000, 1.0000, 1.0000, 1.0000, 1.0000,\n",
       "        1.0000, 1.0000, 1.0000, 1.0000, 1.0000, 1.0000, 1.0000, 1.0000, 1.0000,\n",
       "        1.0000, 1.0000, 1.0000, 1.0000, 1.0000, 1.0000, 1.0000, 1.0000, 1.0000,\n",
       "        1.0000, 1.0000, 1.0000, 1.0000, 1.0000, 1.0000, 1.0000, 1.0000, 1.0000,\n",
       "        1.0000, 1.0000, 1.0000, 1.0000, 1.0000, 1.0000, 1.0000, 1.0000, 1.0000,\n",
       "        1.0000, 1.0000, 1.0000, 1.0000, 1.0000, 1.0000, 1.0000, 1.0000, 1.0000,\n",
       "        1.0000, 1.0000, 1.0000, 1.0000, 1.0000, 1.0000, 1.0000, 1.0000, 1.0000,\n",
       "        1.0000], device='cuda:0', grad_fn=<CopyBackwards>)"
      ]
     },
     "execution_count": 21,
     "metadata": {},
     "output_type": "execute_result"
    }
   ],
   "source": [
    "v = (torch.norm(c2.view(64, -1), dim=1)).unsqueeze(dim=1)\n",
    "\n",
    "d = c2.view(64, -1) / v\n",
    "torch.norm(d, dim=1)"
   ]
  },
  {
   "cell_type": "code",
   "execution_count": 22,
   "id": "29bc470f-420e-48ef-9db7-987caa5d099e",
   "metadata": {},
   "outputs": [],
   "source": [
    "# c5_1 = c5.view(64,-1) / torch.sqrt(torch.norm(c5.view(64,-1), dim=1)).unsqueeze(dim=1)\n",
    "# torch.abs(c5_1.view(64, 10, 2, 2))[0]"
   ]
  },
  {
   "cell_type": "code",
   "execution_count": 23,
   "id": "3ddcfd3e-2237-49b5-8605-929c6538bbdb",
   "metadata": {},
   "outputs": [],
   "source": [
    "# c2_1 = c2.view(64,-1) / torch.sqrt(torch.norm(c2.view(64,-1), dim=1)).unsqueeze(dim=1)\n",
    "# torch.abs(c2_1.view(64, 32, 16, 16))[0]"
   ]
  },
  {
   "cell_type": "code",
   "execution_count": 24,
   "id": "382b50d6-56b4-480c-a926-d0efb8c98dec",
   "metadata": {},
   "outputs": [
    {
     "data": {
      "text/plain": [
       "torch.Size([10, 128, 1, 1])"
      ]
     },
     "execution_count": 24,
     "metadata": {},
     "output_type": "execute_result"
    }
   ],
   "source": [
    "(conw1a_list[4].shape)"
   ]
  },
  {
   "cell_type": "code",
   "execution_count": null,
   "id": "055325d7-b43b-49b0-bb97-aef8997584ad",
   "metadata": {},
   "outputs": [],
   "source": []
  },
  {
   "cell_type": "code",
   "execution_count": 25,
   "id": "bdfeb2d1-947e-48c5-8b39-1f7d32063239",
   "metadata": {},
   "outputs": [
    {
     "name": "stdout",
     "output_type": "stream",
     "text": [
      "******************grad gated****************\n",
      "[1,   400] loss: 2.059\n",
      "tensor(0.6066, device='cuda:0')\n",
      "Accuracy of the network on the 10000 test images: 53 %\n",
      "[2,   400] loss: 1.887\n",
      "tensor(0.3863, device='cuda:0')\n",
      "Accuracy of the network on the 10000 test images: 61 %\n",
      "[3,   400] loss: 1.799\n",
      "tensor(0.4862, device='cuda:0')\n",
      "Accuracy of the network on the 10000 test images: 64 %\n",
      "[4,   400] loss: 1.762\n",
      "tensor(0.5870, device='cuda:0')\n",
      "Accuracy of the network on the 10000 test images: 67 %\n",
      "[5,   400] loss: 1.734\n",
      "tensor(1.0514, device='cuda:0')\n",
      "Accuracy of the network on the 10000 test images: 68 %\n",
      "[6,   400] loss: 1.696\n",
      "tensor(0.5906, device='cuda:0')\n",
      "Accuracy of the network on the 10000 test images: 69 %\n",
      "[7,   400] loss: 1.681\n",
      "tensor(0.5493, device='cuda:0')\n",
      "Accuracy of the network on the 10000 test images: 70 %\n",
      "[8,   400] loss: 1.664\n",
      "tensor(0.4752, device='cuda:0')\n",
      "Accuracy of the network on the 10000 test images: 70 %\n",
      "[9,   400] loss: 1.654\n",
      "tensor(0.8805, device='cuda:0')\n",
      "Accuracy of the network on the 10000 test images: 70 %\n",
      "[10,   400] loss: 1.650\n",
      "tensor(0.8711, device='cuda:0')\n",
      "Accuracy of the network on the 10000 test images: 70 %\n",
      "[11,   400] loss: 1.636\n",
      "tensor(0.3970, device='cuda:0')\n",
      "Accuracy of the network on the 10000 test images: 71 %\n",
      "[12,   400] loss: 1.635\n",
      "tensor(0.6968, device='cuda:0')\n",
      "Accuracy of the network on the 10000 test images: 71 %\n",
      "[13,   400] loss: 1.630\n",
      "tensor(0.4516, device='cuda:0')\n",
      "Accuracy of the network on the 10000 test images: 71 %\n",
      "[14,   400] loss: 1.631\n",
      "tensor(0.9250, device='cuda:0')\n",
      "Accuracy of the network on the 10000 test images: 71 %\n",
      "[15,   400] loss: 1.631\n",
      "tensor(0.4358, device='cuda:0')\n",
      "Accuracy of the network on the 10000 test images: 71 %\n"
     ]
    }
   ],
   "source": [
    "\n",
    "print('******************grad gated****************')\n",
    "# lr_list = [0.05] * NUM_EPOCH\n",
    "criterion = nn.CrossEntropyLoss().to(device)\n",
    "\n",
    "gated1_loss = []\n",
    "gated1_accuracy = []\n",
    "learning_rate = 0.1\n",
    "# optimizer = optim.SGD(conw1g_list, lr=learning_rate, momentum=0.9)\n",
    "# optimizerbn = optim.SGD(netg.parameters(), lr=learning_rate, momentum=0.9)  \n",
    "for epoch in range(NUM_EPOCH) :    \n",
    "    running_loss = 0.0\n",
    "    learning_rate = lr_list[epoch]\n",
    "#     learning_rate = 0.05\n",
    "    optimizer = optim.SGD(conw1g_list, lr=learning_rate)\n",
    "    optimizerbn = optim.SGD(netg.parameters(), lr=learning_rate)    \n",
    "    for i, data in enumerate(trainloader, 0):\n",
    "        inputs, labels = data\n",
    "\n",
    "        outputs = netg(inputs.to(device))\n",
    "        loss = criterion(outputs, labels.to(device))\n",
    "        loss.backward()\n",
    "\n",
    "        # print statistics\n",
    "        running_loss += loss.item()\n",
    "        if i % 400 == 399:    # print every 2000 mini-batches\n",
    "            print('[%d, %5d] loss: %.3f' %\n",
    "                  (epoch + 1, i + 1, running_loss / (i+1)))\n",
    "            print(torch.norm(conw1g.grad))\n",
    "            \n",
    "        optimizer.step()\n",
    "        optimizerbn.step()\n",
    "        \n",
    "        optimizer.zero_grad()\n",
    "        optimizerbn.zero_grad()            \n",
    "            \n",
    "    test_acc = test(netg)\n",
    "    gated1_loss.append(running_loss/len(trainloader))\n",
    "    gated1_accuracy.append(test_acc)"
   ]
  },
  {
   "cell_type": "code",
   "execution_count": null,
   "id": "5a6f9e45-a17e-40b6-b739-78325b3a6c09",
   "metadata": {},
   "outputs": [],
   "source": []
  },
  {
   "cell_type": "code",
   "execution_count": 26,
   "id": "874e72e3-b916-49a3-bbd4-9c0cdd2c0c48",
   "metadata": {},
   "outputs": [
    {
     "name": "stdout",
     "output_type": "stream",
     "text": [
      "bn1.weight\n",
      "tensor([1.2686, 0.8932, 0.8955, 1.0403, 1.1475, 0.8215, 1.0426, 0.8289],\n",
      "       device='cuda:0')\n",
      "bn1.bias\n",
      "tensor([ 0.1005,  0.1046,  0.0775, -0.0125, -0.0153,  0.0469, -0.0091, -0.0649],\n",
      "       device='cuda:0')\n",
      "bn1.running_mean\n",
      "tensor([0.2115, 0.2026, 0.1683, 0.1823, 0.2687, 0.1982, 0.1819, 0.3053],\n",
      "       device='cuda:0')\n",
      "bn1.running_var\n",
      "tensor([0.1940, 0.1449, 0.0929, 0.0871, 0.1685, 0.1048, 0.0925, 0.2041],\n",
      "       device='cuda:0')\n",
      "bn1.num_batches_tracked\n",
      "tensor(14086, device='cuda:0')\n"
     ]
    }
   ],
   "source": [
    "for k in net.state_dict() :\n",
    "    if 'bn1' in k :\n",
    "        print(k)\n",
    "        print(net.state_dict()[k])      "
   ]
  },
  {
   "cell_type": "code",
   "execution_count": 27,
   "id": "3d2eb9d7-947b-4bda-9cbf-a41913ad6f9d",
   "metadata": {},
   "outputs": [
    {
     "data": {
      "image/png": "[encoded data removed]",
      "text/plain": [
       "<Figure size 432x288 with 1 Axes>"
      ]
     },
     "metadata": {
      "needs_background": "light"
     },
     "output_type": "display_data"
    }
   ],
   "source": [
    "import matplotlib.pyplot as plt\n",
    "%matplotlib inline\n",
    "\n",
    "X = np.arange(0,NUM_EPOCH,1)\n",
    "plt.plot(X, adam_loss,  color='red')\n",
    "plt.plot(X, gated1_loss, color='blue')\n",
    "plt.plot(X, gated2_loss, color='green')\n",
    "# plt.plot(X, gated3_loss, color='yellow')\n",
    "# plt.plot(X, gated4_loss, color='orange')\n",
    "plt.legend(['adam', 'gated1', 'gated2', 'gated3', 'gated4'])\n",
    "plt.show()\n"
   ]
  },
  {
   "cell_type": "code",
   "execution_count": 28,
   "id": "740b0e00-0d6b-45e7-b5ed-acb133063d1c",
   "metadata": {},
   "outputs": [
    {
     "data": {
      "image/png": "[encoded data removed]",
      "text/plain": [
       "<Figure size 432x288 with 1 Axes>"
      ]
     },
     "metadata": {
      "needs_background": "light"
     },
     "output_type": "display_data"
    }
   ],
   "source": [
    "import matplotlib.pyplot as plt\n",
    "%matplotlib inline\n",
    "\n",
    "X = np.arange(0,NUM_EPOCH,1)\n",
    "plt.plot(X, adam_accuracy,  color='red')\n",
    "plt.plot(X, gated1_accuracy, color='blue')\n",
    "plt.plot(X, gated2_accuracy, color='green')\n",
    "# plt.plot(X, gated3_accuracy, color='yellow')\n",
    "# plt.plot(X, gated4_accuracy, color='orange')\n",
    "plt.legend(['adam', 'gated1', 'gated2', 'gated3', 'gated4'])\n",
    "plt.show()"
   ]
  },
  {
   "cell_type": "code",
   "execution_count": null,
   "id": "e710eb41-7640-4ae6-86b4-bb68aba4907e",
   "metadata": {},
   "outputs": [],
   "source": []
  }
 ],
 "metadata": {
  "kernelspec": {
   "display_name": "pytorch_retina",
   "language": "python",
   "name": "pytorch_retina"
  },
  "language_info": {
   "codemirror_mode": {
    "name": "ipython",
    "version": 3
   },
   "file_extension": ".py",
   "mimetype": "text/x-python",
   "name": "python",
   "nbconvert_exporter": "python",
   "pygments_lexer": "ipython3",
   "version": "3.7.10"
  }
 },
 "nbformat": 4,
 "nbformat_minor": 5
}
