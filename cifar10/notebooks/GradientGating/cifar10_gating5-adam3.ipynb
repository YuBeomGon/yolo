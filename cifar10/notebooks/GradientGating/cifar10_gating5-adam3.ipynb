{
 "cells": [
  {
   "cell_type": "code",
   "execution_count": 1,
   "id": "e953aaff-5e25-46ee-a200-7043b49bf93e",
   "metadata": {},
   "outputs": [],
   "source": [
    "# https://discuss.pytorch.org/t/call-backward-on-function-inside-a-backpropagation-step/3793\n",
    "# https://discuss.pytorch.org/t/implementing-a-custom-convolution-using-conv2d-input-and-conv2d-weight/18556\n",
    "# https://discuss.pytorch.org/t/implementing-a-custom-convolution-using-conv2d-input-and-conv2d-weight/18556/21"
   ]
  },
  {
   "cell_type": "code",
   "execution_count": 2,
   "id": "5d81d1b7-de30-4c36-a039-14389f064908",
   "metadata": {},
   "outputs": [],
   "source": [
    "import torch\n",
    "import torch.nn as nn\n",
    "import torch.nn.functional as F\n",
    "import torch.optim as optim\n",
    "import torchvision\n",
    "import torchvision.transforms as transforms\n",
    "\n",
    "import numpy as np\n",
    "import sys\n",
    "sys.path.append('./')\n",
    "from gated import Net, Net1, NetA, Conv2dFunction, Conv2dFunctionG, Conv2dFunctionG2"
   ]
  },
  {
   "cell_type": "code",
   "execution_count": 3,
   "id": "6fbec456-07f5-48e8-ac80-64201f5d4e96",
   "metadata": {},
   "outputs": [
    {
     "name": "stdout",
     "output_type": "stream",
     "text": [
      "Files already downloaded and verified\n",
      "Files already downloaded and verified\n"
     ]
    }
   ],
   "source": [
    "# device = torch.device(\"cpu\")\n",
    "device = torch.device(\"cuda\")\n",
    "dtype = torch.float\n",
    "transform = transforms.Compose(\n",
    "    [transforms.ToTensor(),\n",
    "     transforms.Normalize((0.5, 0.5, 0.5), (0.5, 0.5, 0.5))])\n",
    "\n",
    "batch_size = 64\n",
    "\n",
    "trainset = torchvision.datasets.CIFAR10(root='../data', train=True,\n",
    "                                        download=True, transform=transform)\n",
    "trainloader = torch.utils.data.DataLoader(trainset, batch_size=batch_size,\n",
    "                                          shuffle=True, num_workers=8)\n",
    "\n",
    "testset = torchvision.datasets.CIFAR10(root='../data', train=False,\n",
    "                                       download=True, transform=transform)\n",
    "testloader = torch.utils.data.DataLoader(testset, batch_size=batch_size,\n",
    "                                         shuffle=False, num_workers=8)\n",
    "\n",
    "classes = ('plane', 'car', 'bird', 'cat',\n",
    "           'deer', 'dog', 'frog', 'horse', 'ship', 'truck')"
   ]
  },
  {
   "cell_type": "code",
   "execution_count": 4,
   "id": "0714c16b-d4d3-4993-9880-6ac5862e56bd",
   "metadata": {},
   "outputs": [
    {
     "name": "stderr",
     "output_type": "stream",
     "text": [
      "/home/beomgon/anaconda3/envs/pytorch_retina/lib/python3.7/site-packages/ipykernel_launcher.py:18: UserWarning: To copy construct from a tensor, it is recommended to use sourceTensor.clone().detach() or sourceTensor.clone().detach().requires_grad_(True), rather than torch.tensor(sourceTensor).\n",
      "/home/beomgon/anaconda3/envs/pytorch_retina/lib/python3.7/site-packages/ipykernel_launcher.py:19: UserWarning: To copy construct from a tensor, it is recommended to use sourceTensor.clone().detach() or sourceTensor.clone().detach().requires_grad_(True), rather than torch.tensor(sourceTensor).\n",
      "/home/beomgon/anaconda3/envs/pytorch_retina/lib/python3.7/site-packages/ipykernel_launcher.py:20: UserWarning: To copy construct from a tensor, it is recommended to use sourceTensor.clone().detach() or sourceTensor.clone().detach().requires_grad_(True), rather than torch.tensor(sourceTensor).\n",
      "/home/beomgon/anaconda3/envs/pytorch_retina/lib/python3.7/site-packages/ipykernel_launcher.py:21: UserWarning: To copy construct from a tensor, it is recommended to use sourceTensor.clone().detach() or sourceTensor.clone().detach().requires_grad_(True), rather than torch.tensor(sourceTensor).\n",
      "/home/beomgon/anaconda3/envs/pytorch_retina/lib/python3.7/site-packages/ipykernel_launcher.py:22: UserWarning: To copy construct from a tensor, it is recommended to use sourceTensor.clone().detach() or sourceTensor.clone().detach().requires_grad_(True), rather than torch.tensor(sourceTensor).\n",
      "/home/beomgon/anaconda3/envs/pytorch_retina/lib/python3.7/site-packages/ipykernel_launcher.py:25: UserWarning: To copy construct from a tensor, it is recommended to use sourceTensor.clone().detach() or sourceTensor.clone().detach().requires_grad_(True), rather than torch.tensor(sourceTensor).\n",
      "/home/beomgon/anaconda3/envs/pytorch_retina/lib/python3.7/site-packages/ipykernel_launcher.py:26: UserWarning: To copy construct from a tensor, it is recommended to use sourceTensor.clone().detach() or sourceTensor.clone().detach().requires_grad_(True), rather than torch.tensor(sourceTensor).\n",
      "/home/beomgon/anaconda3/envs/pytorch_retina/lib/python3.7/site-packages/ipykernel_launcher.py:27: UserWarning: To copy construct from a tensor, it is recommended to use sourceTensor.clone().detach() or sourceTensor.clone().detach().requires_grad_(True), rather than torch.tensor(sourceTensor).\n",
      "/home/beomgon/anaconda3/envs/pytorch_retina/lib/python3.7/site-packages/ipykernel_launcher.py:28: UserWarning: To copy construct from a tensor, it is recommended to use sourceTensor.clone().detach() or sourceTensor.clone().detach().requires_grad_(True), rather than torch.tensor(sourceTensor).\n",
      "/home/beomgon/anaconda3/envs/pytorch_retina/lib/python3.7/site-packages/ipykernel_launcher.py:29: UserWarning: To copy construct from a tensor, it is recommended to use sourceTensor.clone().detach() or sourceTensor.clone().detach().requires_grad_(True), rather than torch.tensor(sourceTensor).\n"
     ]
    }
   ],
   "source": [
    "# N, C_in, C_out, K_size = batch_size, 3, 12, 3\n",
    "# Create random Tensors for weights.\n",
    "conw1 = torch.randn(8,3,5,5, device=device, dtype=dtype, requires_grad=True)\n",
    "conw2 = torch.randn(32,8,3,3, device=device, dtype=dtype, requires_grad=True)\n",
    "conw3 = torch.randn(128,32,3,3, device=device, dtype=dtype, requires_grad=True)\n",
    "conw4 = torch.randn(128,128,3,3, device=device, dtype=dtype, requires_grad=True)\n",
    "conw5 = torch.randn(10,128,1,1, device=device, dtype=dtype, requires_grad=True)\n",
    "\n",
    "# weight for normal\n",
    "conw1 = torch.nn.init.xavier_uniform_(conw1, gain=1.0)\n",
    "conw2 = torch.nn.init.xavier_uniform_(conw2, gain=1.0)\n",
    "conw3 = torch.nn.init.xavier_uniform_(conw3, gain=1.0)\n",
    "conw4 = torch.nn.init.xavier_uniform_(conw4, gain=1.0)\n",
    "conw5 = torch.nn.init.xavier_uniform_(conw5, gain=1.0)\n",
    "\n",
    "# weight for gated\n",
    "# conw1g = conw1.clone().detatch(requires_grad=True)\n",
    "conw1g = torch.tensor(conw1, device=device, dtype=dtype, requires_grad=True)\n",
    "conw2g = torch.tensor(conw2, device=device, dtype=dtype, requires_grad=True)\n",
    "conw3g = torch.tensor(conw3, device=device, dtype=dtype, requires_grad=True)\n",
    "conw4g = torch.tensor(conw4, device=device, dtype=dtype, requires_grad=True)\n",
    "conw5g = torch.tensor(conw5, device=device, dtype=dtype, requires_grad=True)\n",
    "\n",
    "# weight for adam \n",
    "conw1a = torch.tensor(conw1, device=device, dtype=dtype, requires_grad=True)\n",
    "conw2a = torch.tensor(conw2, device=device, dtype=dtype, requires_grad=True)\n",
    "conw3a = torch.tensor(conw3, device=device, dtype=dtype, requires_grad=True)\n",
    "conw4a = torch.tensor(conw4, device=device, dtype=dtype, requires_grad=True)\n",
    "conw5a = torch.tensor(conw5, device=device, dtype=dtype, requires_grad=True)\n",
    "\n",
    "conw1a_list = [conw1a, conw2a, conw3a, conw4a, conw5a]\n",
    "conw1g_list = [conw1g, conw2g, conw3g, conw4g, conw5g]\n",
    "# conw1_list = [conw1, conw2, conw3, conw4, conw5]\n",
    "# print(conw1[0][0])\n",
    "# print(torch.nn.init.xavier_uniform_(conw1, gain=1.0)[0][0])\n",
    "# print(conw2)"
   ]
  },
  {
   "cell_type": "code",
   "execution_count": 5,
   "id": "8ac85c29-61e9-4b91-aa7e-c2077b9ffc24",
   "metadata": {},
   "outputs": [
    {
     "data": {
      "text/plain": [
       "False"
      ]
     },
     "execution_count": 5,
     "metadata": {},
     "output_type": "execute_result"
    }
   ],
   "source": [
    "conw1 is conw1g"
   ]
  },
  {
   "cell_type": "code",
   "execution_count": 6,
   "id": "12f00a2e-56f8-400a-8f67-c2566254a401",
   "metadata": {},
   "outputs": [],
   "source": [
    "# Net1 act first\n",
    "# Net bn first \n",
    "# Conv2dFunctionG 2*torch.sigmoid(out)\n",
    "# Conv2dFunctionG2 2*(torch.sigmoid(torch.abs(out)))\n",
    "\n",
    "net = Net(conw1a_list, Conv2dFunctionG2).to(device)\n",
    "netg = Net(conw1g_list, Conv2dFunctionG).to(device)\n",
    "neta = NetA().to(device)\n",
    "criterion = nn.CrossEntropyLoss().to(device)"
   ]
  },
  {
   "cell_type": "code",
   "execution_count": 7,
   "id": "e125c3c4-b8bc-41b3-9bae-894a6e1b8c3d",
   "metadata": {},
   "outputs": [
    {
     "data": {
      "text/plain": [
       "<All keys matched successfully>"
      ]
     },
     "execution_count": 7,
     "metadata": {},
     "output_type": "execute_result"
    }
   ],
   "source": [
    "# parameter for adam should be same with other model\n",
    "neta_dict = neta.state_dict()\n",
    "for p in neta_dict :\n",
    "    if 'conv1' in p :\n",
    "        neta_dict[p] = conw1\n",
    "    elif 'conv2' in p :\n",
    "        neta_dict[p] = conw2\n",
    "    elif 'conv3' in p :\n",
    "        neta_dict[p] = conw3\n",
    "    elif 'conv4' in p :\n",
    "        neta_dict[p] = conw4\n",
    "    elif 'conv5' in p :\n",
    "        neta_dict[p] = conw5       \n",
    "#     print(p)\n",
    "#     print(neta.state_dict()[p].shape)\n",
    "#     print()\n",
    "neta.load_state_dict(neta_dict)"
   ]
  },
  {
   "cell_type": "code",
   "execution_count": 8,
   "id": "5f2c4fbe-b6f4-412b-bfcd-30d6182cb74b",
   "metadata": {},
   "outputs": [
    {
     "name": "stdout",
     "output_type": "stream",
     "text": [
      "torch.Size([64, 10])\n",
      "tensor([-0.0410,  0.0838, -0.0521, -0.1324, -0.1114], device='cuda:0',\n",
      "       grad_fn=<SelectBackward>)\n",
      "tensor([-0.0410,  0.0838, -0.0521, -0.1324, -0.1114], device='cuda:0',\n",
      "       grad_fn=<SelectBackward>)\n",
      "tensor([1., 1., 1., 1., 1.], device='cuda:0')\n"
     ]
    }
   ],
   "source": [
    "image, labels = iter(trainloader).next()\n",
    "optimizer = optim.Adam([conw1, conw2, conw3, conw4, conw5], lr=0.01)\n",
    "optimizerbn = optim.Adam(netg.parameters(), lr=0.01)\n",
    "outputs = netg(image.to(device)).to(device)\n",
    "print(outputs.shape)\n",
    "print(conw1[0][0][0])\n",
    "# print(outputs.sum(dim=1))\n",
    "# print(outputs)\n",
    "loss = criterion(outputs, labels.to(device))\n",
    "loss.backward()\n",
    "# optimizer.step()\n",
    "# optimizerbn.step()\n",
    "print(conw1[0][0][0])\n",
    "# print(torch.nn.Softmax(dim=1)(outputs).sum(dim=1))\n",
    "# outputs\n",
    "for i in net.state_dict() :\n",
    "    if 'bn1.wei' in i :\n",
    "        print(net.state_dict()[i][:5])\n"
   ]
  },
  {
   "cell_type": "code",
   "execution_count": 9,
   "id": "cf08457c-bdf5-454d-b152-91959d5d4f18",
   "metadata": {},
   "outputs": [],
   "source": [
    "# conw5.grad"
   ]
  },
  {
   "cell_type": "code",
   "execution_count": 10,
   "id": "2d8cf486-5b31-4932-be7a-65eda393e100",
   "metadata": {},
   "outputs": [],
   "source": [
    "NUM_EPOCH = 20\n",
    "lr_list = [0.1, 0.1, 0.05, 0.05, 0.05, 0.05, 0.01, \n",
    "           0.01, 0.01, 0.01, 0.01, 0.005,\n",
    "           0.005, 0.005, 0.005, 0.001, 0.001, 0.001, 0.0005, 0.0005]"
   ]
  },
  {
   "cell_type": "code",
   "execution_count": 11,
   "id": "ca3b139d-e355-4d97-9ea1-753a561e76d4",
   "metadata": {},
   "outputs": [],
   "source": [
    "def test (model) :\n",
    "    correct = 0\n",
    "    total = 0\n",
    "    # since we're not training, we don't need to calculate the gradients for our outputs\n",
    "    with torch.no_grad():\n",
    "        for data in testloader:\n",
    "            inputs, labels = data\n",
    "            outputs = model(inputs.to(device))\n",
    "            # the class with the highest energy is what we choose as prediction\n",
    "            _, predicted = torch.max(outputs.data, 1)\n",
    "            total += labels.size(0)\n",
    "            correct += (predicted == labels.to(device)).sum().item()\n",
    "\n",
    "    print('Accuracy of the network on the 10000 test images: %d %%' % (\n",
    "        100 * correct / total))\n",
    "    return (100 * correct / total)    "
   ]
  },
  {
   "cell_type": "code",
   "execution_count": 12,
   "id": "5f4ced22-f3fa-4f20-a474-ab4cbc3a2a64",
   "metadata": {},
   "outputs": [
    {
     "name": "stdout",
     "output_type": "stream",
     "text": [
      "******************normal case with adam****************\n",
      "[1,   400] loss: 2.063\n",
      "Accuracy of the network on the 10000 test images: 49 %\n",
      "[2,   400] loss: 1.938\n",
      "Accuracy of the network on the 10000 test images: 55 %\n",
      "[3,   400] loss: 1.839\n",
      "Accuracy of the network on the 10000 test images: 62 %\n",
      "[4,   400] loss: 1.806\n",
      "Accuracy of the network on the 10000 test images: 63 %\n",
      "[5,   400] loss: 1.764\n",
      "Accuracy of the network on the 10000 test images: 64 %\n",
      "[6,   400] loss: 1.731\n",
      "Accuracy of the network on the 10000 test images: 70 %\n",
      "[7,   400] loss: 1.709\n",
      "Accuracy of the network on the 10000 test images: 70 %\n",
      "[8,   400] loss: 1.688\n",
      "Accuracy of the network on the 10000 test images: 69 %\n",
      "[9,   400] loss: 1.674\n",
      "Accuracy of the network on the 10000 test images: 71 %\n",
      "[10,   400] loss: 1.657\n",
      "Accuracy of the network on the 10000 test images: 70 %\n",
      "[11,   400] loss: 1.649\n",
      "Accuracy of the network on the 10000 test images: 70 %\n",
      "[12,   400] loss: 1.638\n",
      "Accuracy of the network on the 10000 test images: 66 %\n",
      "[13,   400] loss: 1.623\n",
      "Accuracy of the network on the 10000 test images: 72 %\n",
      "[14,   400] loss: 1.613\n",
      "Accuracy of the network on the 10000 test images: 72 %\n",
      "[15,   400] loss: 1.604\n",
      "Accuracy of the network on the 10000 test images: 73 %\n",
      "[16,   400] loss: 1.598\n",
      "Accuracy of the network on the 10000 test images: 71 %\n",
      "[17,   400] loss: 1.596\n",
      "Accuracy of the network on the 10000 test images: 73 %\n",
      "[18,   400] loss: 1.585\n",
      "Accuracy of the network on the 10000 test images: 72 %\n",
      "[19,   400] loss: 1.580\n",
      "Accuracy of the network on the 10000 test images: 73 %\n",
      "[20,   400] loss: 1.570\n",
      "Accuracy of the network on the 10000 test images: 73 %\n"
     ]
    }
   ],
   "source": [
    "print('******************normal case with adam****************')\n",
    "learning_rate = 0.001\n",
    "criterion = nn.CrossEntropyLoss().to(device)\n",
    "optimizer = optim.Adam(neta.parameters(), lr=learning_rate)\n",
    "adam_loss = []\n",
    "adam_accuracy = []\n",
    "for epoch in range(NUM_EPOCH) :    \n",
    "    running_loss = 0.0\n",
    "    neta.train()\n",
    "    for i, data in enumerate(trainloader, 0):\n",
    "        inputs, labels = data\n",
    "\n",
    "        outputs = neta(inputs.to(device))\n",
    "        loss = criterion(outputs, labels.to(device))\n",
    "        loss.backward()  \n",
    "        optimizer.step()\n",
    "        optimizer.zero_grad()\n",
    "\n",
    "        # print statistics\n",
    "        running_loss += loss.item()\n",
    "        if i % 400 == 399:    # print every 2000 mini-batches\n",
    "            print('[%d, %5d] loss: %.3f' %\n",
    "                  (epoch +\n",
    "                   1, i + 1, running_loss / (i+1)))\n",
    "    \n",
    "    neta.eval()\n",
    "    test_acc = test(neta)\n",
    "    adam_loss.append(running_loss/len(trainloader))\n",
    "    adam_accuracy.append(test_acc)"
   ]
  },
  {
   "cell_type": "code",
   "execution_count": 13,
   "id": "bdfeb2d1-947e-48c5-8b39-1f7d32063239",
   "metadata": {},
   "outputs": [
    {
     "name": "stdout",
     "output_type": "stream",
     "text": [
      "******************grad gated****************\n",
      "[1,   400] loss: 2.082\n",
      "Accuracy of the network on the 10000 test images: 49 %\n",
      "[2,   400] loss: 1.944\n",
      "Accuracy of the network on the 10000 test images: 51 %\n",
      "[3,   400] loss: 1.893\n",
      "Accuracy of the network on the 10000 test images: 57 %\n",
      "[4,   400] loss: 1.872\n",
      "Accuracy of the network on the 10000 test images: 56 %\n",
      "[5,   400] loss: 1.854\n",
      "Accuracy of the network on the 10000 test images: 58 %\n",
      "[6,   400] loss: 1.847\n",
      "Accuracy of the network on the 10000 test images: 59 %\n",
      "[7,   400] loss: 1.825\n",
      "Accuracy of the network on the 10000 test images: 61 %\n",
      "[8,   400] loss: 1.817\n",
      "Accuracy of the network on the 10000 test images: 61 %\n",
      "[9,   400] loss: 1.814\n",
      "Accuracy of the network on the 10000 test images: 61 %\n",
      "[10,   400] loss: 1.814\n",
      "Accuracy of the network on the 10000 test images: 61 %\n",
      "[11,   400] loss: 1.808\n",
      "Accuracy of the network on the 10000 test images: 61 %\n",
      "[12,   400] loss: 1.808\n",
      "Accuracy of the network on the 10000 test images: 61 %\n",
      "[13,   400] loss: 1.806\n",
      "Accuracy of the network on the 10000 test images: 61 %\n",
      "[14,   400] loss: 1.804\n",
      "Accuracy of the network on the 10000 test images: 61 %\n",
      "[15,   400] loss: 1.802\n",
      "Accuracy of the network on the 10000 test images: 61 %\n",
      "[16,   400] loss: 1.802\n",
      "Accuracy of the network on the 10000 test images: 61 %\n",
      "[17,   400] loss: 1.800\n",
      "Accuracy of the network on the 10000 test images: 61 %\n",
      "[18,   400] loss: 1.799\n",
      "Accuracy of the network on the 10000 test images: 61 %\n",
      "[19,   400] loss: 1.799\n",
      "Accuracy of the network on the 10000 test images: 61 %\n",
      "[20,   400] loss: 1.795\n",
      "Accuracy of the network on the 10000 test images: 61 %\n"
     ]
    }
   ],
   "source": [
    "\n",
    "print('******************grad gated****************')\n",
    "# lr_list = [0.05] * NUM_EPOCH\n",
    "criterion = nn.CrossEntropyLoss().to(device)\n",
    "\n",
    "gated1_loss = []\n",
    "gated1_accuracy = []\n",
    "# optimizer = optim.Adam([conw1g, conw2g, conw3g, conw4g, conw5g], lr=0.001)\n",
    "# optimizerbn = optim.Adam(netg.parameters(), lr=0.001)\n",
    "for epoch in range(NUM_EPOCH) :    \n",
    "    running_loss = 0.0\n",
    "    learning_rate = lr_list[epoch]\n",
    "#     learning_rate = 0.05\n",
    "    optimizer = optim.SGD(conw1g_list, lr=learning_rate)\n",
    "    optimizerbn = optim.SGD(netg.parameters(), lr=learning_rate)    \n",
    "    for i, data in enumerate(trainloader, 0):\n",
    "        inputs, labels = data\n",
    "\n",
    "        outputs = netg(inputs.to(device))\n",
    "        loss = criterion(outputs, labels.to(device))\n",
    "        loss.backward()\n",
    "        optimizer.step()\n",
    "        optimizerbn.step()\n",
    "        \n",
    "        optimizer.zero_grad()\n",
    "        optimizerbn.zero_grad()\n",
    "\n",
    "        # print statistics\n",
    "        running_loss += loss.item()\n",
    "        if i % 400 == 399:    # print every 2000 mini-batches\n",
    "            print('[%d, %5d] loss: %.3f' %\n",
    "                  (epoch + 1, i + 1, running_loss / (i+1)))\n",
    "            \n",
    "    test_acc = test(netg)\n",
    "    gated1_loss.append(running_loss/len(trainloader))\n",
    "    gated1_accuracy.append(test_acc)"
   ]
  },
  {
   "cell_type": "code",
   "execution_count": 14,
   "id": "3be209fc-1dc9-4503-8cac-cb289ca17d2a",
   "metadata": {},
   "outputs": [
    {
     "name": "stdout",
     "output_type": "stream",
     "text": [
      "******************normal case****************\n",
      "[1,   400] loss: 2.085\n",
      "Accuracy of the network on the 10000 test images: 45 %\n",
      "[2,   400] loss: 1.952\n",
      "Accuracy of the network on the 10000 test images: 53 %\n",
      "[3,   400] loss: 1.889\n",
      "Accuracy of the network on the 10000 test images: 57 %\n",
      "[4,   400] loss: 1.865\n",
      "Accuracy of the network on the 10000 test images: 54 %\n",
      "[5,   400] loss: 1.856\n",
      "Accuracy of the network on the 10000 test images: 56 %\n",
      "[6,   400] loss: 1.839\n",
      "Accuracy of the network on the 10000 test images: 59 %\n",
      "[7,   400] loss: 1.811\n",
      "Accuracy of the network on the 10000 test images: 61 %\n",
      "[8,   400] loss: 1.801\n",
      "Accuracy of the network on the 10000 test images: 62 %\n",
      "[9,   400] loss: 1.797\n",
      "Accuracy of the network on the 10000 test images: 62 %\n",
      "[10,   400] loss: 1.789\n",
      "Accuracy of the network on the 10000 test images: 61 %\n",
      "[11,   400] loss: 1.789\n",
      "Accuracy of the network on the 10000 test images: 62 %\n",
      "[12,   400] loss: 1.782\n",
      "Accuracy of the network on the 10000 test images: 62 %\n",
      "[13,   400] loss: 1.780\n",
      "Accuracy of the network on the 10000 test images: 62 %\n",
      "[14,   400] loss: 1.778\n",
      "Accuracy of the network on the 10000 test images: 62 %\n",
      "[15,   400] loss: 1.777\n",
      "Accuracy of the network on the 10000 test images: 62 %\n",
      "[16,   400] loss: 1.773\n",
      "Accuracy of the network on the 10000 test images: 62 %\n",
      "[17,   400] loss: 1.770\n",
      "Accuracy of the network on the 10000 test images: 62 %\n",
      "[18,   400] loss: 1.772\n",
      "Accuracy of the network on the 10000 test images: 62 %\n",
      "[19,   400] loss: 1.768\n",
      "Accuracy of the network on the 10000 test images: 62 %\n",
      "[20,   400] loss: 1.769\n",
      "Accuracy of the network on the 10000 test images: 62 %\n"
     ]
    }
   ],
   "source": [
    "print('******************normal case****************')\n",
    "# lr_list = [0.05] * NUM_EPOCH\n",
    "criterion = nn.CrossEntropyLoss().to(device)\n",
    "\n",
    "gated2_loss = []\n",
    "gated2_accuracy = []\n",
    "for epoch in range(NUM_EPOCH) :    \n",
    "    running_loss = 0.0\n",
    "    learning_rate = lr_list[epoch]\n",
    "    optimizer = optim.SGD(conw1a_list, lr=learning_rate)\n",
    "    optimizerbn = optim.SGD(net.parameters(), lr=learning_rate)       \n",
    "    for i, data in enumerate(trainloader, 0):\n",
    "        inputs, labels = data\n",
    "\n",
    "        outputs = net(inputs.to(device))\n",
    "        loss = criterion(outputs, labels.to(device))\n",
    "\n",
    "        loss.backward()   \n",
    "        optimizer.step()\n",
    "        optimizerbn.step()\n",
    "        \n",
    "        optimizer.zero_grad()\n",
    "        optimizerbn.zero_grad()\n",
    "\n",
    "        # print statistics\n",
    "        running_loss += loss.item()\n",
    "        if i % 400 == 399:    # print every 2000 mini-batches\n",
    "            print('[%d, %5d] loss: %.3f' %\n",
    "                  (epoch + 1, i + 1, running_loss / (i+1)))               \n",
    "            \n",
    "    test_acc = test(net)\n",
    "    gated2_loss.append(running_loss/len(trainloader))\n",
    "    gated2_accuracy.append(test_acc)    "
   ]
  },
  {
   "cell_type": "code",
   "execution_count": 15,
   "id": "d8c54c8d-e0f3-41ef-9744-e2d469d29234",
   "metadata": {},
   "outputs": [
    {
     "name": "stderr",
     "output_type": "stream",
     "text": [
      "/home/beomgon/anaconda3/envs/pytorch_retina/lib/python3.7/site-packages/ipykernel_launcher.py:1: UserWarning: To copy construct from a tensor, it is recommended to use sourceTensor.clone().detach() or sourceTensor.clone().detach().requires_grad_(True), rather than torch.tensor(sourceTensor).\n",
      "  \"\"\"Entry point for launching an IPython kernel.\n",
      "/home/beomgon/anaconda3/envs/pytorch_retina/lib/python3.7/site-packages/ipykernel_launcher.py:2: UserWarning: To copy construct from a tensor, it is recommended to use sourceTensor.clone().detach() or sourceTensor.clone().detach().requires_grad_(True), rather than torch.tensor(sourceTensor).\n",
      "  \n",
      "/home/beomgon/anaconda3/envs/pytorch_retina/lib/python3.7/site-packages/ipykernel_launcher.py:3: UserWarning: To copy construct from a tensor, it is recommended to use sourceTensor.clone().detach() or sourceTensor.clone().detach().requires_grad_(True), rather than torch.tensor(sourceTensor).\n",
      "  This is separate from the ipykernel package so we can avoid doing imports until\n",
      "/home/beomgon/anaconda3/envs/pytorch_retina/lib/python3.7/site-packages/ipykernel_launcher.py:4: UserWarning: To copy construct from a tensor, it is recommended to use sourceTensor.clone().detach() or sourceTensor.clone().detach().requires_grad_(True), rather than torch.tensor(sourceTensor).\n",
      "  after removing the cwd from sys.path.\n",
      "/home/beomgon/anaconda3/envs/pytorch_retina/lib/python3.7/site-packages/ipykernel_launcher.py:5: UserWarning: To copy construct from a tensor, it is recommended to use sourceTensor.clone().detach() or sourceTensor.clone().detach().requires_grad_(True), rather than torch.tensor(sourceTensor).\n",
      "  \"\"\"\n",
      "/home/beomgon/anaconda3/envs/pytorch_retina/lib/python3.7/site-packages/ipykernel_launcher.py:8: UserWarning: To copy construct from a tensor, it is recommended to use sourceTensor.clone().detach() or sourceTensor.clone().detach().requires_grad_(True), rather than torch.tensor(sourceTensor).\n",
      "  \n",
      "/home/beomgon/anaconda3/envs/pytorch_retina/lib/python3.7/site-packages/ipykernel_launcher.py:9: UserWarning: To copy construct from a tensor, it is recommended to use sourceTensor.clone().detach() or sourceTensor.clone().detach().requires_grad_(True), rather than torch.tensor(sourceTensor).\n",
      "  if __name__ == '__main__':\n",
      "/home/beomgon/anaconda3/envs/pytorch_retina/lib/python3.7/site-packages/ipykernel_launcher.py:10: UserWarning: To copy construct from a tensor, it is recommended to use sourceTensor.clone().detach() or sourceTensor.clone().detach().requires_grad_(True), rather than torch.tensor(sourceTensor).\n",
      "  # Remove the CWD from sys.path while we load stuff.\n",
      "/home/beomgon/anaconda3/envs/pytorch_retina/lib/python3.7/site-packages/ipykernel_launcher.py:11: UserWarning: To copy construct from a tensor, it is recommended to use sourceTensor.clone().detach() or sourceTensor.clone().detach().requires_grad_(True), rather than torch.tensor(sourceTensor).\n",
      "  # This is added back by InteractiveShellApp.init_path()\n",
      "/home/beomgon/anaconda3/envs/pytorch_retina/lib/python3.7/site-packages/ipykernel_launcher.py:12: UserWarning: To copy construct from a tensor, it is recommended to use sourceTensor.clone().detach() or sourceTensor.clone().detach().requires_grad_(True), rather than torch.tensor(sourceTensor).\n",
      "  if sys.path[0] == '':\n"
     ]
    }
   ],
   "source": [
    "conw1g = torch.tensor(conw1, device=device, dtype=dtype, requires_grad=True)\n",
    "conw2g = torch.tensor(conw2, device=device, dtype=dtype, requires_grad=True)\n",
    "conw3g = torch.tensor(conw3, device=device, dtype=dtype, requires_grad=True)\n",
    "conw4g = torch.tensor(conw4, device=device, dtype=dtype, requires_grad=True)\n",
    "conw5g = torch.tensor(conw5, device=device, dtype=dtype, requires_grad=True)\n",
    "\n",
    "# weight for adam \n",
    "conw1a = torch.tensor(conw1, device=device, dtype=dtype, requires_grad=True)\n",
    "conw2a = torch.tensor(conw2, device=device, dtype=dtype, requires_grad=True)\n",
    "conw3a = torch.tensor(conw3, device=device, dtype=dtype, requires_grad=True)\n",
    "conw4a = torch.tensor(conw4, device=device, dtype=dtype, requires_grad=True)\n",
    "conw5a = torch.tensor(conw5, device=device, dtype=dtype, requires_grad=True)\n",
    "\n",
    "conw1a_list = [conw1a, conw2a, conw3a, conw4a, conw5a]\n",
    "conw1g_list = [conw1g, conw2g, conw3g, conw4g, conw5g]\n",
    "net = Net1(conw1a_list, Conv2dFunctionG2).to(device)\n",
    "netg = Net1(conw1g_list, Conv2dFunctionG).to(device)"
   ]
  },
  {
   "cell_type": "code",
   "execution_count": 16,
   "id": "352a54a5-56ec-4ea2-b29c-2e72f7908fea",
   "metadata": {},
   "outputs": [
    {
     "name": "stdout",
     "output_type": "stream",
     "text": [
      "******************grad gated****************\n",
      "[1,   400] loss: 2.081\n",
      "Accuracy of the network on the 10000 test images: 43 %\n",
      "[2,   400] loss: 1.941\n",
      "Accuracy of the network on the 10000 test images: 51 %\n",
      "[3,   400] loss: 1.874\n",
      "Accuracy of the network on the 10000 test images: 57 %\n",
      "[4,   400] loss: 1.844\n",
      "Accuracy of the network on the 10000 test images: 58 %\n",
      "[5,   400] loss: 1.826\n",
      "Accuracy of the network on the 10000 test images: 59 %\n",
      "[6,   400] loss: 1.809\n",
      "Accuracy of the network on the 10000 test images: 61 %\n",
      "[7,   400] loss: 1.750\n",
      "Accuracy of the network on the 10000 test images: 66 %\n",
      "[8,   400] loss: 1.718\n",
      "Accuracy of the network on the 10000 test images: 67 %\n",
      "[9,   400] loss: 1.701\n",
      "Accuracy of the network on the 10000 test images: 67 %\n",
      "[10,   400] loss: 1.694\n",
      "Accuracy of the network on the 10000 test images: 67 %\n",
      "[11,   400] loss: 1.687\n",
      "Accuracy of the network on the 10000 test images: 67 %\n",
      "[12,   400] loss: 1.678\n",
      "Accuracy of the network on the 10000 test images: 68 %\n",
      "[13,   400] loss: 1.671\n",
      "Accuracy of the network on the 10000 test images: 67 %\n",
      "[14,   400] loss: 1.664\n",
      "Accuracy of the network on the 10000 test images: 68 %\n",
      "[15,   400] loss: 1.663\n",
      "Accuracy of the network on the 10000 test images: 68 %\n",
      "[16,   400] loss: 1.659\n",
      "Accuracy of the network on the 10000 test images: 68 %\n",
      "[17,   400] loss: 1.659\n",
      "Accuracy of the network on the 10000 test images: 68 %\n",
      "[18,   400] loss: 1.656\n",
      "Accuracy of the network on the 10000 test images: 68 %\n",
      "[19,   400] loss: 1.654\n",
      "Accuracy of the network on the 10000 test images: 68 %\n",
      "[20,   400] loss: 1.655\n",
      "Accuracy of the network on the 10000 test images: 68 %\n"
     ]
    }
   ],
   "source": [
    "\n",
    "print('******************grad gated****************')\n",
    "# lr_list = [0.05] * NUM_EPOCH\n",
    "criterion = nn.CrossEntropyLoss().to(device)\n",
    "\n",
    "gated3_loss = []\n",
    "gated3_accuracy = []\n",
    "# optimizer = optim.Adam([conw1g, conw2g, conw3g, conw4g, conw5g], lr=0.001)\n",
    "# optimizerbn = optim.Adam(netg.parameters(), lr=0.001)\n",
    "for epoch in range(NUM_EPOCH) :    \n",
    "    running_loss = 0.0\n",
    "    learning_rate = lr_list[epoch]\n",
    "#     learning_rate = 0.05\n",
    "    optimizer = optim.SGD(conw1g_list, lr=learning_rate)\n",
    "    optimizerbn = optim.SGD(netg.parameters(), lr=learning_rate)    \n",
    "    for i, data in enumerate(trainloader, 0):\n",
    "        inputs, labels = data\n",
    "\n",
    "        outputs = netg(inputs.to(device))\n",
    "        loss = criterion(outputs, labels.to(device))\n",
    "        loss.backward()\n",
    "        optimizer.step()\n",
    "        optimizerbn.step()\n",
    "        \n",
    "        optimizer.zero_grad()\n",
    "        optimizerbn.zero_grad()\n",
    "\n",
    "        # print statistics\n",
    "        running_loss += loss.item()\n",
    "        if i % 400 == 399:    # print every 2000 mini-batches\n",
    "            print('[%d, %5d] loss: %.3f' %\n",
    "                  (epoch + 1, i + 1, running_loss / (i+1)))\n",
    "            \n",
    "    test_acc = test(netg)\n",
    "    gated3_loss.append(running_loss/len(trainloader))\n",
    "    gated3_accuracy.append(test_acc)"
   ]
  },
  {
   "cell_type": "code",
   "execution_count": 17,
   "id": "2efe767a-878f-4ed3-a47e-d8257ed205b9",
   "metadata": {},
   "outputs": [
    {
     "name": "stdout",
     "output_type": "stream",
     "text": [
      "******************normal case****************\n",
      "[1,   400] loss: 2.073\n",
      "Accuracy of the network on the 10000 test images: 52 %\n",
      "[2,   400] loss: 1.901\n",
      "Accuracy of the network on the 10000 test images: 60 %\n",
      "[3,   400] loss: 1.814\n",
      "Accuracy of the network on the 10000 test images: 64 %\n",
      "[4,   400] loss: 1.778\n",
      "Accuracy of the network on the 10000 test images: 65 %\n",
      "[5,   400] loss: 1.748\n",
      "Accuracy of the network on the 10000 test images: 66 %\n",
      "[6,   400] loss: 1.732\n",
      "Accuracy of the network on the 10000 test images: 67 %\n",
      "[7,   400] loss: 1.704\n",
      "Accuracy of the network on the 10000 test images: 68 %\n",
      "[8,   400] loss: 1.687\n",
      "Accuracy of the network on the 10000 test images: 69 %\n",
      "[9,   400] loss: 1.678\n",
      "Accuracy of the network on the 10000 test images: 69 %\n",
      "[10,   400] loss: 1.670\n",
      "Accuracy of the network on the 10000 test images: 69 %\n",
      "[11,   400] loss: 1.664\n",
      "Accuracy of the network on the 10000 test images: 69 %\n",
      "[12,   400] loss: 1.660\n",
      "Accuracy of the network on the 10000 test images: 69 %\n",
      "[13,   400] loss: 1.656\n",
      "Accuracy of the network on the 10000 test images: 69 %\n",
      "[14,   400] loss: 1.650\n",
      "Accuracy of the network on the 10000 test images: 69 %\n",
      "[15,   400] loss: 1.649\n",
      "Accuracy of the network on the 10000 test images: 69 %\n",
      "[16,   400] loss: 1.644\n",
      "Accuracy of the network on the 10000 test images: 69 %\n",
      "[17,   400] loss: 1.641\n",
      "Accuracy of the network on the 10000 test images: 70 %\n",
      "[18,   400] loss: 1.641\n",
      "Accuracy of the network on the 10000 test images: 70 %\n",
      "[19,   400] loss: 1.638\n",
      "Accuracy of the network on the 10000 test images: 70 %\n",
      "[20,   400] loss: 1.639\n",
      "Accuracy of the network on the 10000 test images: 70 %\n"
     ]
    }
   ],
   "source": [
    "print('******************normal case****************')\n",
    "# lr_list = [0.05] * NUM_EPOCH\n",
    "criterion = nn.CrossEntropyLoss().to(device)\n",
    "\n",
    "gated4_loss = []\n",
    "gated4_accuracy = []\n",
    "for epoch in range(NUM_EPOCH) :    \n",
    "    running_loss = 0.0\n",
    "    learning_rate = lr_list[epoch]\n",
    "    optimizer = optim.SGD(conw1a_list, lr=learning_rate)\n",
    "    optimizerbn = optim.SGD(net.parameters(), lr=learning_rate)       \n",
    "    for i, data in enumerate(trainloader, 0):\n",
    "        inputs, labels = data\n",
    "\n",
    "        outputs = net(inputs.to(device))\n",
    "        loss = criterion(outputs, labels.to(device))\n",
    "\n",
    "        loss.backward()   \n",
    "        optimizer.step()\n",
    "        optimizerbn.step()\n",
    "        \n",
    "        optimizer.zero_grad()\n",
    "        optimizerbn.zero_grad()\n",
    "\n",
    "        # print statistics\n",
    "        running_loss += loss.item()\n",
    "        if i % 400 == 399:    # print every 2000 mini-batches\n",
    "            print('[%d, %5d] loss: %.3f' %\n",
    "                  (epoch + 1, i + 1, running_loss / (i+1)))               \n",
    "            \n",
    "    test_acc = test(net)\n",
    "    gated4_loss.append(running_loss/len(trainloader))\n",
    "    gated4_accuracy.append(test_acc)    "
   ]
  },
  {
   "cell_type": "code",
   "execution_count": null,
   "id": "5a6f9e45-a17e-40b6-b739-78325b3a6c09",
   "metadata": {},
   "outputs": [],
   "source": []
  },
  {
   "cell_type": "code",
   "execution_count": 18,
   "id": "874e72e3-b916-49a3-bbd4-9c0cdd2c0c48",
   "metadata": {},
   "outputs": [
    {
     "name": "stdout",
     "output_type": "stream",
     "text": [
      "bn1.weight\n",
      "tensor([1.0409, 1.8050, 1.4086, 0.9828, 1.4804, 1.0182, 1.4671, 1.2228],\n",
      "       device='cuda:0')\n",
      "bn1.bias\n",
      "tensor([ 0.5389, -0.0515, -0.0895,  0.1923,  0.0346, -0.0414,  0.2461,  0.0012],\n",
      "       device='cuda:0')\n",
      "bn1.running_mean\n",
      "tensor([0.8033, 0.7481, 0.5095, 0.5462, 0.8824, 0.7094, 0.7738, 0.5595],\n",
      "       device='cuda:0')\n",
      "bn1.running_var\n",
      "tensor([1.7843, 2.0043, 0.6982, 0.9772, 2.3760, 1.1039, 1.6064, 1.1002],\n",
      "       device='cuda:0')\n",
      "bn1.num_batches_tracked\n",
      "tensor(18780, device='cuda:0')\n"
     ]
    }
   ],
   "source": [
    "for k in net.state_dict() :\n",
    "    if 'bn1' in k :\n",
    "        print(k)\n",
    "        print(net.state_dict()[k])      "
   ]
  },
  {
   "cell_type": "code",
   "execution_count": 19,
   "id": "3d2eb9d7-947b-4bda-9cbf-a41913ad6f9d",
   "metadata": {},
   "outputs": [
    {
     "data": {
      "image/png": "[encoded data removed]",
      "text/plain": [
       "<Figure size 432x288 with 1 Axes>"
      ]
     },
     "metadata": {
      "needs_background": "light"
     },
     "output_type": "display_data"
    }
   ],
   "source": [
    "import matplotlib.pyplot as plt\n",
    "%matplotlib inline\n",
    "\n",
    "X = np.arange(0,NUM_EPOCH,1)\n",
    "plt.plot(X, adam_loss,  color='red')\n",
    "plt.plot(X, gated1_loss, color='blue')\n",
    "plt.plot(X, gated2_loss, color='green')\n",
    "plt.plot(X, gated3_loss, color='yellow')\n",
    "plt.plot(X, gated4_loss, color='orange')\n",
    "plt.legend(['adam', 'gated1', 'gated2', 'gated3', 'gated4'])\n",
    "plt.show()\n"
   ]
  },
  {
   "cell_type": "code",
   "execution_count": 20,
   "id": "740b0e00-0d6b-45e7-b5ed-acb133063d1c",
   "metadata": {},
   "outputs": [
    {
     "data": {
      "image/png": "[encoded data removed]",
      "text/plain": [
       "<Figure size 432x288 with 1 Axes>"
      ]
     },
     "metadata": {
      "needs_background": "light"
     },
     "output_type": "display_data"
    }
   ],
   "source": [
    "import matplotlib.pyplot as plt\n",
    "%matplotlib inline\n",
    "\n",
    "X = np.arange(0,NUM_EPOCH,1)\n",
    "plt.plot(X, adam_accuracy,  color='red')\n",
    "plt.plot(X, gated1_accuracy, color='blue')\n",
    "plt.plot(X, gated2_accuracy, color='green')\n",
    "plt.plot(X, gated3_accuracy, color='yellow')\n",
    "plt.plot(X, gated4_accuracy, color='orange')\n",
    "plt.legend(['adam', 'gated1', 'gated2', 'gated3', 'gated4'])\n",
    "plt.show()"
   ]
  },
  {
   "cell_type": "code",
   "execution_count": null,
   "id": "e710eb41-7640-4ae6-86b4-bb68aba4907e",
   "metadata": {},
   "outputs": [],
   "source": []
  }
 ],
 "metadata": {
  "kernelspec": {
   "display_name": "pytorch_retina",
   "language": "python",
   "name": "pytorch_retina"
  },
  "language_info": {
   "codemirror_mode": {
    "name": "ipython",
    "version": 3
   },
   "file_extension": ".py",
   "mimetype": "text/x-python",
   "name": "python",
   "nbconvert_exporter": "python",
   "pygments_lexer": "ipython3",
   "version": "3.7.10"
  }
 },
 "nbformat": 4,
 "nbformat_minor": 5
}
