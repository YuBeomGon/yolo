{
 "cells": [
  {
   "cell_type": "code",
   "execution_count": 1,
   "id": "e953aaff-5e25-46ee-a200-7043b49bf93e",
   "metadata": {},
   "outputs": [],
   "source": [
    "# https://discuss.pytorch.org/t/call-backward-on-function-inside-a-backpropagation-step/3793\n",
    "# https://discuss.pytorch.org/t/implementing-a-custom-convolution-using-conv2d-input-and-conv2d-weight/18556\n",
    "# https://discuss.pytorch.org/t/implementing-a-custom-convolution-using-conv2d-input-and-conv2d-weight/18556/21"
   ]
  },
  {
   "cell_type": "code",
   "execution_count": 2,
   "id": "5d81d1b7-de30-4c36-a039-14389f064908",
   "metadata": {},
   "outputs": [],
   "source": [
    "import torch\n",
    "import torch.nn as nn\n",
    "import torch.nn.functional as F\n",
    "import torch.optim as optim\n",
    "import torchvision\n",
    "import torchvision.transforms as transforms\n",
    "\n",
    "import numpy as np\n",
    "import sys\n",
    "sys.path.append('./')\n",
    "from gated import Conv2dFunctionG, Conv2dFunction, CustomBatchNormManualFunction, Net, NetA, NetG"
   ]
  },
  {
   "cell_type": "code",
   "execution_count": null,
   "id": "4e3e9003-9102-4e71-98f6-bab909d4376a",
   "metadata": {},
   "outputs": [],
   "source": []
  },
  {
   "cell_type": "code",
   "execution_count": null,
   "id": "335decb8-b3ae-49d9-b7f3-2c60ae3f931c",
   "metadata": {},
   "outputs": [],
   "source": []
  },
  {
   "cell_type": "code",
   "execution_count": 3,
   "id": "fd706d30-a744-47e1-b4e7-b000f8dd4c50",
   "metadata": {},
   "outputs": [],
   "source": [
    "# from torch.autograd import gradcheck\n",
    "# conv = Conv2dFunction.apply\n",
    "# gradcheck takes a tuple of tensors as input, check if your gradient\n",
    "# evaluated with these tensors are close enough to numerical\n",
    "# approximations and returns True if they all verify this condition.\n",
    "# input = (torch.randn(20,20,dtype=torch.double,requires_grad=True), torch.randn(30,20,dtype=torch.double,requires_grad=True))\n",
    "# test = gradcheck(linear, input, eps=1e-6, atol=1e-4)\n",
    "# print(test)\n"
   ]
  },
  {
   "cell_type": "code",
   "execution_count": 4,
   "id": "6fbec456-07f5-48e8-ac80-64201f5d4e96",
   "metadata": {},
   "outputs": [
    {
     "name": "stdout",
     "output_type": "stream",
     "text": [
      "Files already downloaded and verified\n",
      "Files already downloaded and verified\n"
     ]
    }
   ],
   "source": [
    "# device = torch.device(\"cpu\")\n",
    "device = torch.device(\"cuda\")\n",
    "dtype = torch.float\n",
    "transform = transforms.Compose(\n",
    "    [transforms.ToTensor(),\n",
    "     transforms.Normalize((0.5, 0.5, 0.5), (0.5, 0.5, 0.5))])\n",
    "\n",
    "batch_size = 64\n",
    "\n",
    "trainset = torchvision.datasets.CIFAR10(root='../data', train=True,\n",
    "                                        download=True, transform=transform)\n",
    "trainloader = torch.utils.data.DataLoader(trainset, batch_size=batch_size,\n",
    "                                          shuffle=True, num_workers=8)\n",
    "\n",
    "testset = torchvision.datasets.CIFAR10(root='../data', train=False,\n",
    "                                       download=True, transform=transform)\n",
    "testloader = torch.utils.data.DataLoader(testset, batch_size=batch_size,\n",
    "                                         shuffle=False, num_workers=8)\n",
    "\n",
    "classes = ('plane', 'car', 'bird', 'cat',\n",
    "           'deer', 'dog', 'frog', 'horse', 'ship', 'truck')"
   ]
  },
  {
   "cell_type": "code",
   "execution_count": 5,
   "id": "0714c16b-d4d3-4993-9880-6ac5862e56bd",
   "metadata": {},
   "outputs": [
    {
     "name": "stderr",
     "output_type": "stream",
     "text": [
      "/home/beomgon/anaconda3/envs/pytorch_retina/lib/python3.7/site-packages/ipykernel_launcher.py:30: UserWarning: To copy construct from a tensor, it is recommended to use sourceTensor.clone().detach() or sourceTensor.clone().detach().requires_grad_(True), rather than torch.tensor(sourceTensor).\n",
      "/home/beomgon/anaconda3/envs/pytorch_retina/lib/python3.7/site-packages/ipykernel_launcher.py:31: UserWarning: To copy construct from a tensor, it is recommended to use sourceTensor.clone().detach() or sourceTensor.clone().detach().requires_grad_(True), rather than torch.tensor(sourceTensor).\n",
      "/home/beomgon/anaconda3/envs/pytorch_retina/lib/python3.7/site-packages/ipykernel_launcher.py:32: UserWarning: To copy construct from a tensor, it is recommended to use sourceTensor.clone().detach() or sourceTensor.clone().detach().requires_grad_(True), rather than torch.tensor(sourceTensor).\n",
      "/home/beomgon/anaconda3/envs/pytorch_retina/lib/python3.7/site-packages/ipykernel_launcher.py:33: UserWarning: To copy construct from a tensor, it is recommended to use sourceTensor.clone().detach() or sourceTensor.clone().detach().requires_grad_(True), rather than torch.tensor(sourceTensor).\n",
      "/home/beomgon/anaconda3/envs/pytorch_retina/lib/python3.7/site-packages/ipykernel_launcher.py:34: UserWarning: To copy construct from a tensor, it is recommended to use sourceTensor.clone().detach() or sourceTensor.clone().detach().requires_grad_(True), rather than torch.tensor(sourceTensor).\n",
      "/home/beomgon/anaconda3/envs/pytorch_retina/lib/python3.7/site-packages/ipykernel_launcher.py:37: UserWarning: To copy construct from a tensor, it is recommended to use sourceTensor.clone().detach() or sourceTensor.clone().detach().requires_grad_(True), rather than torch.tensor(sourceTensor).\n",
      "/home/beomgon/anaconda3/envs/pytorch_retina/lib/python3.7/site-packages/ipykernel_launcher.py:38: UserWarning: To copy construct from a tensor, it is recommended to use sourceTensor.clone().detach() or sourceTensor.clone().detach().requires_grad_(True), rather than torch.tensor(sourceTensor).\n",
      "/home/beomgon/anaconda3/envs/pytorch_retina/lib/python3.7/site-packages/ipykernel_launcher.py:39: UserWarning: To copy construct from a tensor, it is recommended to use sourceTensor.clone().detach() or sourceTensor.clone().detach().requires_grad_(True), rather than torch.tensor(sourceTensor).\n",
      "/home/beomgon/anaconda3/envs/pytorch_retina/lib/python3.7/site-packages/ipykernel_launcher.py:40: UserWarning: To copy construct from a tensor, it is recommended to use sourceTensor.clone().detach() or sourceTensor.clone().detach().requires_grad_(True), rather than torch.tensor(sourceTensor).\n",
      "/home/beomgon/anaconda3/envs/pytorch_retina/lib/python3.7/site-packages/ipykernel_launcher.py:41: UserWarning: To copy construct from a tensor, it is recommended to use sourceTensor.clone().detach() or sourceTensor.clone().detach().requires_grad_(True), rather than torch.tensor(sourceTensor).\n"
     ]
    }
   ],
   "source": [
    "# N, C_in, C_out, K_size = batch_size, 3, 12, 3\n",
    "# Create random Tensors for weights.\n",
    "conw1 = torch.randn(8,3,5,5, device=device, dtype=dtype, requires_grad=True)\n",
    "conw2 = torch.randn(32,8,3,3, device=device, dtype=dtype, requires_grad=True)\n",
    "conw3 = torch.randn(128,32,3,3, device=device, dtype=dtype, requires_grad=True)\n",
    "conw4 = torch.randn(128,128,3,3, device=device, dtype=dtype, requires_grad=True)\n",
    "conw5 = torch.randn(10,128,1,1, device=device, dtype=dtype, requires_grad=True)\n",
    "\n",
    "# weight for normal\n",
    "conw1 = torch.nn.init.xavier_uniform_(conw1, gain=1.0)\n",
    "conw2 = torch.nn.init.xavier_uniform_(conw2, gain=1.0)\n",
    "conw3 = torch.nn.init.xavier_uniform_(conw3, gain=1.0)\n",
    "conw4 = torch.nn.init.xavier_uniform_(conw4, gain=1.0)\n",
    "conw5 = torch.nn.init.xavier_uniform_(conw5, gain=1.0)\n",
    "\n",
    "# weights of batch norm for custom backward, normal case \n",
    "bn1w = torch.ones(8, device=device, dtype=dtype, requires_grad=True)\n",
    "bn1b = torch.zeros(8, device=device, dtype=dtype, requires_grad=True)\n",
    "bn2w = torch.ones(32, device=device, dtype=dtype, requires_grad=True)\n",
    "bn2b = torch.zeros(32, device=device, dtype=dtype, requires_grad=True)\n",
    "bn3w = torch.ones(128, device=device, dtype=dtype, requires_grad=True)\n",
    "bn3b = torch.zeros(128, device=device, dtype=dtype, requires_grad=True)\n",
    "bn4w = torch.ones(128, device=device, dtype=dtype, requires_grad=True)\n",
    "bn4b = torch.zeros(128, device=device, dtype=dtype, requires_grad=True)\n",
    "conw_list = [conw1, conw2, conw3, conw4, conw5]\n",
    "bn_list = [ bn1w, bn1b, bn2w, bn2b, bn3w, bn3b, bn4w, bn4b,]\n",
    "\n",
    "# weight for gated\n",
    "# conw1g = conw1.clone().detatch(requires_grad=True)\n",
    "conw1g = torch.tensor(conw1, device=device, dtype=dtype, requires_grad=True)\n",
    "conw2g = torch.tensor(conw2, device=device, dtype=dtype, requires_grad=True)\n",
    "conw3g = torch.tensor(conw3, device=device, dtype=dtype, requires_grad=True)\n",
    "conw4g = torch.tensor(conw4, device=device, dtype=dtype, requires_grad=True)\n",
    "conw5g = torch.tensor(conw5, device=device, dtype=dtype, requires_grad=True)\n",
    "\n",
    "# weight for adam \n",
    "conw1a = torch.tensor(conw1, device=device, dtype=dtype, requires_grad=True)\n",
    "conw2a = torch.tensor(conw2, device=device, dtype=dtype, requires_grad=True)\n",
    "conw3a = torch.tensor(conw3, device=device, dtype=dtype, requires_grad=True)\n",
    "conw4a = torch.tensor(conw4, device=device, dtype=dtype, requires_grad=True)\n",
    "conw5a = torch.tensor(conw5, device=device, dtype=dtype, requires_grad=True)\n",
    "\n",
    "\n",
    "\n",
    "# weights of batch norm for custom backward, gated case \n",
    "bn1wg = torch.ones(8, device=device, dtype=dtype, requires_grad=True)\n",
    "bn1bg = torch.zeros(8, device=device, dtype=dtype, requires_grad=True)\n",
    "bn2wg = torch.ones(32, device=device, dtype=dtype, requires_grad=True)\n",
    "bn2bg = torch.zeros(32, device=device, dtype=dtype, requires_grad=True)\n",
    "bn3wg = torch.ones(128, device=device, dtype=dtype, requires_grad=True)\n",
    "bn3bg = torch.zeros(128, device=device, dtype=dtype, requires_grad=True)\n",
    "bn4wg = torch.ones(128, device=device, dtype=dtype, requires_grad=True)\n",
    "bn4bg = torch.zeros(128, device=device, dtype=dtype, requires_grad=True)\n",
    "\n",
    "\n",
    "# print(conw1[0][0])\n",
    "# print(torch.nn.init.xavier_uniform_(conw1, gain=1.0)[0][0])\n",
    "# print(conw2)"
   ]
  },
  {
   "cell_type": "code",
   "execution_count": 6,
   "id": "8ac85c29-61e9-4b91-aa7e-c2077b9ffc24",
   "metadata": {},
   "outputs": [
    {
     "data": {
      "text/plain": [
       "False"
      ]
     },
     "execution_count": 6,
     "metadata": {},
     "output_type": "execute_result"
    }
   ],
   "source": [
    "conw1 is conw1g"
   ]
  },
  {
   "cell_type": "code",
   "execution_count": 7,
   "id": "31cdcc33-4b9d-4116-9403-15e1fc416f6e",
   "metadata": {},
   "outputs": [],
   "source": [
    "# print(conw1)"
   ]
  },
  {
   "cell_type": "code",
   "execution_count": 8,
   "id": "b67ad14c-9a63-4152-aee0-5ea1d976d84c",
   "metadata": {},
   "outputs": [],
   "source": [
    "# print(conw1g)"
   ]
  },
  {
   "cell_type": "code",
   "execution_count": null,
   "id": "23d83544-adbf-49f9-bf2e-de7891fa75e7",
   "metadata": {},
   "outputs": [],
   "source": []
  },
  {
   "cell_type": "code",
   "execution_count": 9,
   "id": "12f00a2e-56f8-400a-8f67-c2566254a401",
   "metadata": {},
   "outputs": [],
   "source": [
    "net = Net(conw_list, bn_list).to(device)\n",
    "# netg = NetG(conw_list, bn_list).to(device)\n",
    "# neta = NetA(conw_list, bn_list).to(device)\n",
    "criterion = nn.CrossEntropyLoss().to(device)"
   ]
  },
  {
   "cell_type": "code",
   "execution_count": 10,
   "id": "2f330ad0-bb90-47df-acae-e51e49f0ec65",
   "metadata": {},
   "outputs": [
    {
     "name": "stdout",
     "output_type": "stream",
     "text": [
      "torch.Size([10, 128])\n",
      "torch.Size([10])\n"
     ]
    }
   ],
   "source": [
    "# for k in neta.state_dict() :\n",
    "#     if 'bn1' in k :\n",
    "#         print(k)\n",
    "#         print(neta.state_dict()[k])\n",
    "        \n",
    "# for k in netg.state_dict() :\n",
    "#     if 'bn1' in k :\n",
    "#         print(k)\n",
    "#         print(netg.state_dict()[k])   \n",
    "for k in net.parameters() :\n",
    "    print(k.shape)\n",
    "#     if 'bn2' in k :\n",
    "#         print(k)\n",
    "#         print(net.state_dict()[k])              "
   ]
  },
  {
   "cell_type": "code",
   "execution_count": 11,
   "id": "02a5c621-d1ae-4e31-a55c-403b5ba31886",
   "metadata": {},
   "outputs": [],
   "source": [
    "# for p in neta.parameters() :\n",
    "#     print(p[0][0][0])"
   ]
  },
  {
   "cell_type": "code",
   "execution_count": 12,
   "id": "e125c3c4-b8bc-41b3-9bae-894a6e1b8c3d",
   "metadata": {},
   "outputs": [],
   "source": [
    "# for param in neta.parameters() :\n",
    "#     print(param.shape)\n",
    "\n",
    "# # parameter for adam should be same with other model\n",
    "# neta_dict = neta.state_dict()\n",
    "# for p in neta_dict :\n",
    "#     if 'conv1' in p :\n",
    "#         neta_dict[p] = conw1a\n",
    "#     elif 'conv2' in p :\n",
    "#         neta_dict[p] = conw2a\n",
    "#     elif 'conv3' in p :\n",
    "#         neta_dict[p] = conw3a\n",
    "#     elif 'conv4' in p :\n",
    "#         neta_dict[p] = conw4a\n",
    "#     elif 'conv5' in p :\n",
    "#         neta_dict[p] = conw5a        \n",
    "# #     print(p)\n",
    "# #     print(neta.state_dict()[p].shape)\n",
    "# #     print()\n",
    "# neta.load_state_dict(neta_dict)"
   ]
  },
  {
   "cell_type": "code",
   "execution_count": 13,
   "id": "8f3efdec-9d54-4b5a-bde2-7f5d01347aac",
   "metadata": {},
   "outputs": [],
   "source": [
    "# for p in neta.parameters() :\n",
    "#     print(p[0][0][0])\n",
    "# print(conw1a[0][0][0])    "
   ]
  },
  {
   "cell_type": "code",
   "execution_count": null,
   "id": "610eb50f-2961-4154-81a9-fce75b43ad93",
   "metadata": {},
   "outputs": [],
   "source": []
  },
  {
   "cell_type": "code",
   "execution_count": 14,
   "id": "5bb5f59f-6c53-4939-904a-c0bc8dcbec09",
   "metadata": {},
   "outputs": [
    {
     "name": "stdout",
     "output_type": "stream",
     "text": [
      "torch.Size([64, 3, 32, 32])\n"
     ]
    }
   ],
   "source": [
    "image, label = iter(trainloader).next()\n",
    "print(image.shape)"
   ]
  },
  {
   "cell_type": "code",
   "execution_count": 15,
   "id": "38e7b5f1-5973-4a1a-81e6-b9604c18860e",
   "metadata": {},
   "outputs": [],
   "source": [
    "a = torch.randn(64,128,4,4).view(64,4,4,128)\n",
    "b = torch.randn(128)\n",
    "# a * b"
   ]
  },
  {
   "cell_type": "code",
   "execution_count": 16,
   "id": "5f2c4fbe-b6f4-412b-bfcd-30d6182cb74b",
   "metadata": {},
   "outputs": [
    {
     "ename": "RuntimeError",
     "evalue": "The size of tensor a (8) must match the size of tensor b (32) at non-singleton dimension 3",
     "output_type": "error",
     "traceback": [
      "\u001b[0;31m---------------------------------------------------------------------------\u001b[0m",
      "\u001b[0;31mRuntimeError\u001b[0m                              Traceback (most recent call last)",
      "\u001b[0;32m<ipython-input-16-b261ffd198b9>\u001b[0m in \u001b[0;36m<module>\u001b[0;34m\u001b[0m\n\u001b[1;32m      1\u001b[0m \u001b[0mimage\u001b[0m\u001b[0;34m,\u001b[0m \u001b[0mlabels\u001b[0m \u001b[0;34m=\u001b[0m \u001b[0miter\u001b[0m\u001b[0;34m(\u001b[0m\u001b[0mtrainloader\u001b[0m\u001b[0;34m)\u001b[0m\u001b[0;34m.\u001b[0m\u001b[0mnext\u001b[0m\u001b[0;34m(\u001b[0m\u001b[0;34m)\u001b[0m\u001b[0;34m\u001b[0m\u001b[0;34m\u001b[0m\u001b[0m\n\u001b[0;32m----> 2\u001b[0;31m \u001b[0moutputs\u001b[0m \u001b[0;34m=\u001b[0m \u001b[0mnet\u001b[0m\u001b[0;34m(\u001b[0m\u001b[0mimage\u001b[0m\u001b[0;34m.\u001b[0m\u001b[0mto\u001b[0m\u001b[0;34m(\u001b[0m\u001b[0mdevice\u001b[0m\u001b[0;34m)\u001b[0m\u001b[0;34m)\u001b[0m\u001b[0;34m.\u001b[0m\u001b[0mto\u001b[0m\u001b[0;34m(\u001b[0m\u001b[0mdevice\u001b[0m\u001b[0;34m)\u001b[0m\u001b[0;34m\u001b[0m\u001b[0;34m\u001b[0m\u001b[0m\n\u001b[0m\u001b[1;32m      3\u001b[0m \u001b[0mprint\u001b[0m\u001b[0;34m(\u001b[0m\u001b[0moutputs\u001b[0m\u001b[0;34m.\u001b[0m\u001b[0mshape\u001b[0m\u001b[0;34m)\u001b[0m\u001b[0;34m\u001b[0m\u001b[0;34m\u001b[0m\u001b[0m\n\u001b[1;32m      4\u001b[0m \u001b[0;31m# print(outputs.sum(dim=1))\u001b[0m\u001b[0;34m\u001b[0m\u001b[0;34m\u001b[0m\u001b[0;34m\u001b[0m\u001b[0m\n\u001b[1;32m      5\u001b[0m \u001b[0;31m# print(outputs)\u001b[0m\u001b[0;34m\u001b[0m\u001b[0;34m\u001b[0m\u001b[0;34m\u001b[0m\u001b[0m\n",
      "\u001b[0;32m~/anaconda3/envs/pytorch_retina/lib/python3.7/site-packages/torch/nn/modules/module.py\u001b[0m in \u001b[0;36m_call_impl\u001b[0;34m(self, *input, **kwargs)\u001b[0m\n\u001b[1;32m    887\u001b[0m             \u001b[0mresult\u001b[0m \u001b[0;34m=\u001b[0m \u001b[0mself\u001b[0m\u001b[0;34m.\u001b[0m\u001b[0m_slow_forward\u001b[0m\u001b[0;34m(\u001b[0m\u001b[0;34m*\u001b[0m\u001b[0minput\u001b[0m\u001b[0;34m,\u001b[0m \u001b[0;34m**\u001b[0m\u001b[0mkwargs\u001b[0m\u001b[0;34m)\u001b[0m\u001b[0;34m\u001b[0m\u001b[0;34m\u001b[0m\u001b[0m\n\u001b[1;32m    888\u001b[0m         \u001b[0;32melse\u001b[0m\u001b[0;34m:\u001b[0m\u001b[0;34m\u001b[0m\u001b[0;34m\u001b[0m\u001b[0m\n\u001b[0;32m--> 889\u001b[0;31m             \u001b[0mresult\u001b[0m \u001b[0;34m=\u001b[0m \u001b[0mself\u001b[0m\u001b[0;34m.\u001b[0m\u001b[0mforward\u001b[0m\u001b[0;34m(\u001b[0m\u001b[0;34m*\u001b[0m\u001b[0minput\u001b[0m\u001b[0;34m,\u001b[0m \u001b[0;34m**\u001b[0m\u001b[0mkwargs\u001b[0m\u001b[0;34m)\u001b[0m\u001b[0;34m\u001b[0m\u001b[0;34m\u001b[0m\u001b[0m\n\u001b[0m\u001b[1;32m    890\u001b[0m         for hook in itertools.chain(\n\u001b[1;32m    891\u001b[0m                 \u001b[0m_global_forward_hooks\u001b[0m\u001b[0;34m.\u001b[0m\u001b[0mvalues\u001b[0m\u001b[0;34m(\u001b[0m\u001b[0;34m)\u001b[0m\u001b[0;34m,\u001b[0m\u001b[0;34m\u001b[0m\u001b[0;34m\u001b[0m\u001b[0m\n",
      "\u001b[0;32m~/pytorch/cifar10/notebooks/GradientGating/gated.py\u001b[0m in \u001b[0;36mforward\u001b[0;34m(self, x)\u001b[0m\n\u001b[1;32m    320\u001b[0m     \u001b[0;32mdef\u001b[0m \u001b[0mforward\u001b[0m\u001b[0;34m(\u001b[0m\u001b[0mself\u001b[0m\u001b[0;34m,\u001b[0m \u001b[0mx\u001b[0m\u001b[0;34m)\u001b[0m\u001b[0;34m:\u001b[0m\u001b[0;34m\u001b[0m\u001b[0;34m\u001b[0m\u001b[0m\n\u001b[1;32m    321\u001b[0m         \u001b[0mx\u001b[0m \u001b[0;34m=\u001b[0m \u001b[0mself\u001b[0m\u001b[0;34m.\u001b[0m\u001b[0mact\u001b[0m\u001b[0;34m(\u001b[0m\u001b[0mself\u001b[0m\u001b[0;34m.\u001b[0m\u001b[0mconv1\u001b[0m\u001b[0;34m(\u001b[0m\u001b[0mx\u001b[0m\u001b[0;34m,\u001b[0m \u001b[0mself\u001b[0m\u001b[0;34m.\u001b[0m\u001b[0mconw1\u001b[0m\u001b[0;34m)\u001b[0m\u001b[0;34m)\u001b[0m\u001b[0;34m\u001b[0m\u001b[0;34m\u001b[0m\u001b[0m\n\u001b[0;32m--> 322\u001b[0;31m         \u001b[0mx\u001b[0m \u001b[0;34m=\u001b[0m \u001b[0mself\u001b[0m\u001b[0;34m.\u001b[0m\u001b[0mbn1\u001b[0m\u001b[0;34m(\u001b[0m\u001b[0mx\u001b[0m\u001b[0;34m,\u001b[0m \u001b[0mself\u001b[0m\u001b[0;34m.\u001b[0m\u001b[0mbn1w\u001b[0m\u001b[0;34m,\u001b[0m \u001b[0mself\u001b[0m\u001b[0;34m.\u001b[0m\u001b[0mbn1b\u001b[0m \u001b[0;34m)\u001b[0m\u001b[0;34m\u001b[0m\u001b[0;34m\u001b[0m\u001b[0m\n\u001b[0m\u001b[1;32m    323\u001b[0m         \u001b[0mx\u001b[0m \u001b[0;34m=\u001b[0m \u001b[0mself\u001b[0m\u001b[0;34m.\u001b[0m\u001b[0mmaxpool\u001b[0m\u001b[0;34m(\u001b[0m\u001b[0mx\u001b[0m\u001b[0;34m)\u001b[0m\u001b[0;34m\u001b[0m\u001b[0;34m\u001b[0m\u001b[0m\n\u001b[1;32m    324\u001b[0m         \u001b[0mx\u001b[0m \u001b[0;34m=\u001b[0m \u001b[0mself\u001b[0m\u001b[0;34m.\u001b[0m\u001b[0mact\u001b[0m\u001b[0;34m(\u001b[0m\u001b[0mself\u001b[0m\u001b[0;34m.\u001b[0m\u001b[0mconv2\u001b[0m\u001b[0;34m(\u001b[0m\u001b[0mx\u001b[0m\u001b[0;34m,\u001b[0m \u001b[0mself\u001b[0m\u001b[0;34m.\u001b[0m\u001b[0mconw2\u001b[0m\u001b[0;34m)\u001b[0m\u001b[0;34m)\u001b[0m\u001b[0;34m\u001b[0m\u001b[0;34m\u001b[0m\u001b[0m\n",
      "\u001b[0;32m~/pytorch/cifar10/notebooks/GradientGating/gated.py\u001b[0m in \u001b[0;36mforward\u001b[0;34m(ctx, input, gamma, beta, eps)\u001b[0m\n\u001b[1;32m    181\u001b[0m \u001b[0;34m\u001b[0m\u001b[0m\n\u001b[1;32m    182\u001b[0m         \u001b[0;31m#scale and shift\u001b[0m\u001b[0;34m\u001b[0m\u001b[0;34m\u001b[0m\u001b[0;34m\u001b[0m\u001b[0m\n\u001b[0;32m--> 183\u001b[0;31m         \u001b[0mout\u001b[0m \u001b[0;34m=\u001b[0m \u001b[0;34m(\u001b[0m\u001b[0mgamma\u001b[0m \u001b[0;34m*\u001b[0m \u001b[0min_hat\u001b[0m \u001b[0;34m+\u001b[0m \u001b[0mbeta\u001b[0m\u001b[0;34m)\u001b[0m\u001b[0;34m.\u001b[0m\u001b[0mview\u001b[0m\u001b[0;34m(\u001b[0m\u001b[0mnbatch\u001b[0m\u001b[0;34m,\u001b[0m\u001b[0mchannel\u001b[0m\u001b[0;34m,\u001b[0m\u001b[0mheight\u001b[0m\u001b[0;34m,\u001b[0m\u001b[0mwidth\u001b[0m\u001b[0;34m)\u001b[0m\u001b[0;34m\u001b[0m\u001b[0;34m\u001b[0m\u001b[0m\n\u001b[0m\u001b[1;32m    184\u001b[0m \u001b[0;34m\u001b[0m\u001b[0m\n\u001b[1;32m    185\u001b[0m         \u001b[0;31m#store constants\u001b[0m\u001b[0;34m\u001b[0m\u001b[0;34m\u001b[0m\u001b[0;34m\u001b[0m\u001b[0m\n",
      "\u001b[0;31mRuntimeError\u001b[0m: The size of tensor a (8) must match the size of tensor b (32) at non-singleton dimension 3"
     ]
    }
   ],
   "source": [
    "image, labels = iter(trainloader).next()\n",
    "outputs = net(image.to(device)).to(device)\n",
    "print(outputs.shape)\n",
    "# print(outputs.sum(dim=1))\n",
    "# print(outputs)\n",
    "loss = criterion(outputs, labels.to(device))\n",
    "loss.backward()\n",
    "# print(torch.nn.Softmax(dim=1)(outputs).sum(dim=1))\n",
    "# outputs\n",
    "print(net.bn1w.grad)\n",
    "print(net.bn4w.grad[0:5])"
   ]
  },
  {
   "cell_type": "code",
   "execution_count": null,
   "id": "fafd4dc4-a8b2-459a-bda8-bcc367d5cff0",
   "metadata": {},
   "outputs": [],
   "source": [
    "# net.print_weight()\n",
    "net.update_weight(0.05)\n",
    "print(net.bn1w)\n",
    "print(net.bn4w[0:5])"
   ]
  },
  {
   "cell_type": "code",
   "execution_count": null,
   "id": "cf08457c-bdf5-454d-b152-91959d5d4f18",
   "metadata": {},
   "outputs": [],
   "source": [
    "# conw5.grad"
   ]
  },
  {
   "cell_type": "code",
   "execution_count": null,
   "id": "7a08cb68-a7a9-4163-b096-420b0da1e4fb",
   "metadata": {},
   "outputs": [],
   "source": [
    "def test (model, w1=None, w2=None, w3=None, w4=None, w5=None) :\n",
    "    correct = 0\n",
    "    total = 0\n",
    "    # since we're not training, we don't need to calculate the gradients for our outputs\n",
    "    with torch.no_grad():\n",
    "        for data in testloader:\n",
    "            inputs, labels = data\n",
    "            if w1 == None :\n",
    "                outputs = model(inputs.to(device))\n",
    "            else :\n",
    "                outputs = model(inputs.to(device))\n",
    "            # the class with the highest energy is what we choose as prediction\n",
    "            _, predicted = torch.max(outputs.data, 1)\n",
    "            total += labels.size(0)\n",
    "            correct += (predicted == labels.to(device)).sum().item()\n",
    "\n",
    "    print('Accuracy of the network on the 10000 test images: %d %%' % (\n",
    "        100 * correct / total))\n",
    "    return (100 * correct / total)"
   ]
  },
  {
   "cell_type": "code",
   "execution_count": null,
   "id": "2d8cf486-5b31-4932-be7a-65eda393e100",
   "metadata": {},
   "outputs": [],
   "source": [
    "NUM_EPOCH = 15"
   ]
  },
  {
   "cell_type": "code",
   "execution_count": null,
   "id": "3589402e-f6ce-495d-bcac-22b40f4edf12",
   "metadata": {},
   "outputs": [],
   "source": [
    "lr_list = [0.1, 0.1, 0.05, 0.05, 0.05, 0.02, 0.02, \n",
    "           0.02, 0.01, 0.01, 0.01, 0.005,\n",
    "           0.005, 0.002, 0.001]\n",
    "print('******************normal case****************')\n",
    "# lr_list = [0.05] * NUM_EPOCH\n",
    "criterion = nn.CrossEntropyLoss().to(device)\n",
    "normal_loss = []\n",
    "normal_accuracy = []\n",
    "for epoch in range(NUM_EPOCH) :    \n",
    "    running_loss = 0.0\n",
    "    learning_rate = lr_list[epoch]\n",
    "    for i, data in enumerate(trainloader, 0):\n",
    "        inputs, labels = data\n",
    "\n",
    "        outputs = net(inputs.to(device))\n",
    "        loss = criterion(outputs, labels.to(device))\n",
    "#         print(loss)\n",
    "        loss.backward()   \n",
    "\n",
    "        # print statistics\n",
    "        running_loss += loss.item()\n",
    "        if i % 200 == 199:    # print every 2000 mini-batches\n",
    "            print('[%d, %5d] loss: %.3f' %\n",
    "                  (epoch + 1, i + 1, running_loss / (i+1)))\n",
    "#             net.print_weight()\n",
    "            \n",
    "        net.update_weight(learning_rate)             \n",
    "            \n",
    "    test_acc = test(net)\n",
    "    normal_loss.append(running_loss/len(trainloader))\n",
    "    normal_accuracy.append(test_acc)    "
   ]
  },
  {
   "cell_type": "code",
   "execution_count": null,
   "id": "2309ec7d-2cba-4900-ab93-c2515453ca67",
   "metadata": {},
   "outputs": [],
   "source": [
    "# print('******************normal case with adam****************')\n",
    "# learning_rate = 0.001\n",
    "# criterion = nn.CrossEntropyLoss().to(device)\n",
    "# optimizer = optim.Adam(neta.parameters(), lr=learning_rate)\n",
    "# adam_loss = []\n",
    "# adam_accuracy = []\n",
    "# for epoch in range(NUM_EPOCH) :    \n",
    "#     running_loss = 0.0\n",
    "#     neta.train()\n",
    "#     for i, data in enumerate(trainloader, 0):\n",
    "#         inputs, labels = data\n",
    "\n",
    "#         outputs = neta(inputs.to(device))\n",
    "#         loss = criterion(outputs, labels.to(device))\n",
    "#         loss.backward()  \n",
    "#         optimizer.step()\n",
    "#         optimizer.zero_grad()\n",
    "\n",
    "#         # print statistics\n",
    "#         running_loss += loss.item()\n",
    "#         if i % 200 == 199:    # print every 2000 mini-batches\n",
    "#             print('[%d, %5d] loss: %.3f' %\n",
    "#                   (epoch + 1, i + 1, running_loss / (i+1)))\n",
    "    \n",
    "#     neta.eval()\n",
    "#     test_acc = test(neta)\n",
    "#     adam_loss.append(running_loss/len(trainloader))\n",
    "#     adam_accuracy.append(test_acc)"
   ]
  },
  {
   "cell_type": "code",
   "execution_count": null,
   "id": "b3243969-2c2d-4aa5-bc74-66d5c6432826",
   "metadata": {},
   "outputs": [],
   "source": []
  },
  {
   "cell_type": "code",
   "execution_count": null,
   "id": "bdfeb2d1-947e-48c5-8b39-1f7d32063239",
   "metadata": {},
   "outputs": [],
   "source": [
    "lr_list = [0.1, 0.1, 0.05, 0.05, 0.05, 0.02, 0.02, \n",
    "           0.02, 0.01, 0.01, 0.01, 0.005,\n",
    "           0.005, 0.002, 0.001]\n",
    "print('******************grad gated****************')\n",
    "# lr_list = [0.05] * NUM_EPOCH\n",
    "criterion = nn.CrossEntropyLoss().to(device)\n",
    "optimizer = optim.Adam(neta.parameters(), lr=0.001)\n",
    "gated_loss = []\n",
    "gated_accuracy = []\n",
    "for epoch in range(NUM_EPOCH) :    \n",
    "    running_loss = 0.0\n",
    "    learning_rate = lr_list[epoch]\n",
    "    for i, data in enumerate(trainloader, 0):\n",
    "        inputs, labels = data\n",
    "\n",
    "        outputs = netg(inputs.to(device), conw1g, conw2g, conw3g, conw4g, conw5g)\n",
    "#         print(outputs.shape)\n",
    "#         print(labels.shape)\n",
    "        loss = criterion(outputs, labels.to(device))\n",
    "#         print(loss)\n",
    "        loss.backward()\n",
    "#         optimizer.step()\n",
    "#         optimizer.zero_grad()\n",
    "\n",
    "        # print statistics\n",
    "        running_loss += loss.item()\n",
    "        if i % 200 == 199:    # print every 2000 mini-batches\n",
    "            print('[%d, %5d] loss: %.3f' %\n",
    "                  (epoch + 1, i + 1, running_loss / (i+1)))\n",
    "            \n",
    "        with torch.no_grad():\n",
    "            # Update weights using gradient descent\n",
    "            conw1g -= learning_rate * conw1g.grad\n",
    "            conw2g -= learning_rate * conw2g.grad\n",
    "            conw3g -= learning_rate * conw3g.grad\n",
    "            conw4g -= learning_rate * conw4g.grad\n",
    "            conw5g -= learning_rate * conw5g.grad\n",
    "\n",
    "            # Manually zero the gradients after running the backward pass\n",
    "            conw1g.grad.zero_()\n",
    "            conw2g.grad.zero_()\n",
    "            conw3g.grad.zero_()\n",
    "            conw4g.grad.zero_()\n",
    "            conw5g.grad.zero_()\n",
    "            \n",
    "    test_acc = test(netg, conw1g, conw2g, conw3g, conw4g, conw5g)\n",
    "    gated_loss.append(running_loss/len(trainloader))\n",
    "    gated_accuracy.append(test_acc)"
   ]
  },
  {
   "cell_type": "code",
   "execution_count": null,
   "id": "7113b4c5-d1ad-4b7b-85f6-5541842f8423",
   "metadata": {},
   "outputs": [],
   "source": [
    "for k in netg.state_dict() :\n",
    "    if 'bn1' in k :\n",
    "        print(k)\n",
    "        print(netg.state_dict()[k])        "
   ]
  },
  {
   "cell_type": "code",
   "execution_count": null,
   "id": "3be209fc-1dc9-4503-8cac-cb289ca17d2a",
   "metadata": {},
   "outputs": [],
   "source": []
  },
  {
   "cell_type": "code",
   "execution_count": null,
   "id": "874e72e3-b916-49a3-bbd4-9c0cdd2c0c48",
   "metadata": {},
   "outputs": [],
   "source": [
    "for k in net.state_dict() :\n",
    "    if 'bn1' in k :\n",
    "        print(k)\n",
    "        print(net.state_dict()[k])      "
   ]
  },
  {
   "cell_type": "code",
   "execution_count": null,
   "id": "6dc86290-8dcf-4ba5-b081-a68e0f0b5633",
   "metadata": {},
   "outputs": [],
   "source": [
    "# normal_loss\n",
    "# normal_accuracy"
   ]
  },
  {
   "cell_type": "code",
   "execution_count": null,
   "id": "13d25a3b-a193-4654-9754-c1d9ebb73575",
   "metadata": {},
   "outputs": [],
   "source": [
    "# gated_loss\n",
    "# gated_accuracy"
   ]
  },
  {
   "cell_type": "code",
   "execution_count": null,
   "id": "718b9f1d-1159-47e7-a3be-1a5afd747d83",
   "metadata": {},
   "outputs": [],
   "source": [
    "# adam_loss\n",
    "# adam_accuracy"
   ]
  },
  {
   "cell_type": "code",
   "execution_count": null,
   "id": "3d2eb9d7-947b-4bda-9cbf-a41913ad6f9d",
   "metadata": {},
   "outputs": [],
   "source": [
    "import matplotlib.pyplot as plt\n",
    "%matplotlib inline\n",
    "\n",
    "X = np.arange(0,15,1)\n",
    "plt.plot(X, adam_loss,  color='red')\n",
    "plt.plot(X, gated_loss, color='blue')\n",
    "plt.plot(X, normal_loss, color='green')\n",
    "plt.legend(['adam', 'gated', 'normal'])\n",
    "plt.show()\n"
   ]
  },
  {
   "cell_type": "code",
   "execution_count": null,
   "id": "740b0e00-0d6b-45e7-b5ed-acb133063d1c",
   "metadata": {},
   "outputs": [],
   "source": [
    "import matplotlib.pyplot as plt\n",
    "%matplotlib inline\n",
    "\n",
    "X = np.arange(0,15,1)\n",
    "plt.plot(X, adam_accuracy,  color='red')\n",
    "plt.plot(X, gated_accuracy, color='blue')\n",
    "plt.plot(X, normal_accuracy, color='green')\n",
    "plt.legend(['adam', 'gated', 'normal'])\n",
    "plt.show()"
   ]
  },
  {
   "cell_type": "code",
   "execution_count": null,
   "id": "e710eb41-7640-4ae6-86b4-bb68aba4907e",
   "metadata": {},
   "outputs": [],
   "source": [
    "d = torch.randn(2,4,3,3)\n",
    "d.mean([0,2,3])"
   ]
  },
  {
   "cell_type": "code",
   "execution_count": null,
   "id": "e021c752-770d-435c-ab3c-dc1439038430",
   "metadata": {},
   "outputs": [],
   "source": [
    "d.mean(dim=0).mean(dim=2).mean(dim=1)"
   ]
  },
  {
   "cell_type": "code",
   "execution_count": null,
   "id": "6ef88e98-c34e-4397-a902-874772285386",
   "metadata": {},
   "outputs": [],
   "source": []
  },
  {
   "cell_type": "code",
   "execution_count": null,
   "id": "c3c18890-5953-499d-8498-88ccd8cf7756",
   "metadata": {},
   "outputs": [],
   "source": []
  }
 ],
 "metadata": {
  "kernelspec": {
   "display_name": "pytorch_retina",
   "language": "python",
   "name": "pytorch_retina"
  },
  "language_info": {
   "codemirror_mode": {
    "name": "ipython",
    "version": 3
   },
   "file_extension": ".py",
   "mimetype": "text/x-python",
   "name": "python",
   "nbconvert_exporter": "python",
   "pygments_lexer": "ipython3",
   "version": "3.7.10"
  }
 },
 "nbformat": 4,
 "nbformat_minor": 5
}
