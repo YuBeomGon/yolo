{
 "cells": [
  {
   "cell_type": "code",
   "execution_count": 1,
   "id": "e953aaff-5e25-46ee-a200-7043b49bf93e",
   "metadata": {},
   "outputs": [],
   "source": [
    "# https://discuss.pytorch.org/t/call-backward-on-function-inside-a-backpropagation-step/3793\n",
    "# https://discuss.pytorch.org/t/implementing-a-custom-convolution-using-conv2d-input-and-conv2d-weight/18556\n",
    "# https://discuss.pytorch.org/t/implementing-a-custom-convolution-using-conv2d-input-and-conv2d-weight/18556/21"
   ]
  },
  {
   "cell_type": "code",
   "execution_count": 2,
   "id": "5d81d1b7-de30-4c36-a039-14389f064908",
   "metadata": {},
   "outputs": [],
   "source": [
    "import torch\n",
    "import torch.nn as nn\n",
    "import torch.nn.functional as F\n",
    "import torch.optim as optim\n",
    "import torchvision\n",
    "import torchvision.transforms as transforms\n",
    "\n",
    "import numpy as np"
   ]
  },
  {
   "cell_type": "code",
   "execution_count": 3,
   "id": "4e3e9003-9102-4e71-98f6-bab909d4376a",
   "metadata": {},
   "outputs": [],
   "source": [
    "# Gated gradient\n",
    "class Conv2dFunctionG(torch.autograd.Function):\n",
    "    @staticmethod\n",
    "    def forward(ctx, input, weight, bias=None, stride=1, padding=1, dilation=1, groups=1):\n",
    "        # Save arguments to context to use on backward\n",
    "        # WARNING : if stride, padding, dilation etc is array, this will not work properly!!!!\n",
    "#         print('stride', stride)\n",
    "        if weight.shape[2] == 1 :\n",
    "            padding = 0\n",
    "        elif weight.shape[2] == 5 :\n",
    "            padding = 2\n",
    "        elif weight.shape[2] == 7 :\n",
    "            padding = 3\n",
    "        confs = torch.from_numpy(np.array([stride, padding, dilation, groups]))\n",
    "        out = F.conv2d(input, weight, bias=bias, stride=stride, padding=padding, dilation=dilation, groups=groups)\n",
    "        ctx.save_for_backward(input, out, weight, bias, confs)\n",
    "\n",
    "        # Compute Convolution\n",
    "        return out\n",
    "    \n",
    "    @staticmethod\n",
    "    def backward(ctx, grad_output):\n",
    "        # Load saved tensors\n",
    "        input, out, weight, bias, confs = ctx.saved_variables\n",
    "        confs = confs.numpy()\n",
    "        stride, padding, dilation, groups= confs[0], confs[1], confs[2], confs[3]\n",
    "\n",
    "        # Calculate Gradient\n",
    "        grad_input = grad_weight = grad_bias = None\n",
    "        \n",
    "#         gradient is gated according to the feature map of each layer\n",
    "        grad_output = grad_output * 2*torch.sigmoid(out)*2 *torch.sigmoid(out)\n",
    "        if ctx.needs_input_grad[0]:\n",
    "            grad_input = torch.nn.grad.conv2d_input(input.shape, weight, grad_output, stride, padding, dilation, groups)\n",
    "            \n",
    "        if ctx.needs_input_grad[1]:\n",
    "            grad_weight = torch.nn.grad.conv2d_weight(input, weight.shape, grad_output, stride, padding, dilation, groups)\n",
    "                \n",
    "        # WARNING : Bias maybe buggy, remove if it is buggy\n",
    "        if bias is not None and ctx.needs_input_grad[2]:\n",
    "            grad_bias = grad_output.sum(0).squeeze(0)\n",
    "\n",
    "\n",
    "        # WARNING : Bias maybe buggy, remove if it is buggy\n",
    "        if bias is not None:\n",
    "            return grad_input, grad_weight, grad_bias, None, None, None, None\n",
    "        else:\n",
    "            return grad_input, grad_weight, None, None, None, None, None"
   ]
  },
  {
   "cell_type": "code",
   "execution_count": 4,
   "id": "335decb8-b3ae-49d9-b7f3-2c60ae3f931c",
   "metadata": {},
   "outputs": [],
   "source": [
    "# normal case, stoachastic gradient \n",
    "class Conv2dFunction(torch.autograd.Function):\n",
    "    @staticmethod\n",
    "    def forward(ctx, input, weight, bias=None, stride=1, padding=1, dilation=1, groups=1):\n",
    "        # Save arguments to context to use on backward\n",
    "        # WARNING : if stride, padding, dilation etc is array, this will not work properly!!!!\n",
    "#         print('stride', stride)\n",
    "        if weight.shape[2] == 1 :\n",
    "            padding = 0\n",
    "        elif weight.shape[2] == 5 :\n",
    "            padding = 2\n",
    "        elif weight.shape[2] == 7 :\n",
    "            padding = 3\n",
    "        confs = torch.from_numpy(np.array([stride, padding, dilation, groups]))\n",
    "        out = F.conv2d(input, weight, bias=bias, stride=stride, padding=padding, dilation=dilation, groups=groups)\n",
    "        ctx.save_for_backward(input, out, weight, bias, confs)\n",
    "\n",
    "        # Compute Convolution\n",
    "        return out\n",
    "    \n",
    "    @staticmethod\n",
    "    def backward(ctx, grad_output):\n",
    "        # Load saved tensors\n",
    "        input, out, weight, bias, confs = ctx.saved_variables\n",
    "        confs = confs.numpy()\n",
    "        stride, padding, dilation, groups= confs[0], confs[1], confs[2], confs[3]\n",
    "\n",
    "        # Calculate Gradient\n",
    "        grad_input = grad_weight = grad_bias = None\n",
    "#         grad_output = grad_output * 2*torch.sigmoid(out)\n",
    "        if ctx.needs_input_grad[0]:\n",
    "            grad_input = torch.nn.grad.conv2d_input(input.shape, weight, grad_output, stride, padding, dilation, groups)\n",
    "            \n",
    "        if ctx.needs_input_grad[1]:\n",
    "            grad_weight = torch.nn.grad.conv2d_weight(input, weight.shape, grad_output, stride, padding, dilation, groups)\n",
    "                \n",
    "        # WARNING : Bias maybe buggy, remove if it is buggy\n",
    "        if bias is not None and ctx.needs_input_grad[2]:\n",
    "            grad_bias = grad_output.sum(0).squeeze(0)\n",
    "\n",
    "\n",
    "        # WARNING : Bias maybe buggy, remove if it is buggy\n",
    "        if bias is not None:\n",
    "            return grad_input, grad_weight, grad_bias, None, None, None, None\n",
    "        else:\n",
    "            return grad_input, grad_weight, None, None, None, None, None"
   ]
  },
  {
   "cell_type": "code",
   "execution_count": 5,
   "id": "fd706d30-a744-47e1-b4e7-b000f8dd4c50",
   "metadata": {},
   "outputs": [],
   "source": [
    "# from torch.autograd import gradcheck\n",
    "# conv = Conv2dFunction.apply\n",
    "# gradcheck takes a tuple of tensors as input, check if your gradient\n",
    "# evaluated with these tensors are close enough to numerical\n",
    "# approximations and returns True if they all verify this condition.\n",
    "# input = (torch.randn(20,20,dtype=torch.double,requires_grad=True), torch.randn(30,20,dtype=torch.double,requires_grad=True))\n",
    "# test = gradcheck(linear, input, eps=1e-6, atol=1e-4)\n",
    "# print(test)\n"
   ]
  },
  {
   "cell_type": "code",
   "execution_count": 6,
   "id": "6fbec456-07f5-48e8-ac80-64201f5d4e96",
   "metadata": {},
   "outputs": [
    {
     "name": "stdout",
     "output_type": "stream",
     "text": [
      "Files already downloaded and verified\n",
      "Files already downloaded and verified\n"
     ]
    }
   ],
   "source": [
    "# device = torch.device(\"cpu\")\n",
    "device = torch.device(\"cuda\")\n",
    "dtype = torch.float\n",
    "transform = transforms.Compose(\n",
    "    [transforms.ToTensor(),\n",
    "     transforms.Normalize((0.5, 0.5, 0.5), (0.5, 0.5, 0.5))])\n",
    "\n",
    "batch_size = 64\n",
    "\n",
    "trainset = torchvision.datasets.CIFAR10(root='../data', train=True,\n",
    "                                        download=True, transform=transform)\n",
    "trainloader = torch.utils.data.DataLoader(trainset, batch_size=batch_size,\n",
    "                                          shuffle=True, num_workers=8)\n",
    "\n",
    "testset = torchvision.datasets.CIFAR10(root='../data', train=False,\n",
    "                                       download=True, transform=transform)\n",
    "testloader = torch.utils.data.DataLoader(testset, batch_size=batch_size,\n",
    "                                         shuffle=False, num_workers=8)\n",
    "\n",
    "classes = ('plane', 'car', 'bird', 'cat',\n",
    "           'deer', 'dog', 'frog', 'horse', 'ship', 'truck')"
   ]
  },
  {
   "cell_type": "code",
   "execution_count": 7,
   "id": "0714c16b-d4d3-4993-9880-6ac5862e56bd",
   "metadata": {},
   "outputs": [
    {
     "name": "stderr",
     "output_type": "stream",
     "text": [
      "/home/beomgon/anaconda3/envs/pytorch_retina/lib/python3.7/site-packages/ipykernel_launcher.py:18: UserWarning: To copy construct from a tensor, it is recommended to use sourceTensor.clone().detach() or sourceTensor.clone().detach().requires_grad_(True), rather than torch.tensor(sourceTensor).\n",
      "/home/beomgon/anaconda3/envs/pytorch_retina/lib/python3.7/site-packages/ipykernel_launcher.py:19: UserWarning: To copy construct from a tensor, it is recommended to use sourceTensor.clone().detach() or sourceTensor.clone().detach().requires_grad_(True), rather than torch.tensor(sourceTensor).\n",
      "/home/beomgon/anaconda3/envs/pytorch_retina/lib/python3.7/site-packages/ipykernel_launcher.py:20: UserWarning: To copy construct from a tensor, it is recommended to use sourceTensor.clone().detach() or sourceTensor.clone().detach().requires_grad_(True), rather than torch.tensor(sourceTensor).\n",
      "/home/beomgon/anaconda3/envs/pytorch_retina/lib/python3.7/site-packages/ipykernel_launcher.py:21: UserWarning: To copy construct from a tensor, it is recommended to use sourceTensor.clone().detach() or sourceTensor.clone().detach().requires_grad_(True), rather than torch.tensor(sourceTensor).\n",
      "/home/beomgon/anaconda3/envs/pytorch_retina/lib/python3.7/site-packages/ipykernel_launcher.py:22: UserWarning: To copy construct from a tensor, it is recommended to use sourceTensor.clone().detach() or sourceTensor.clone().detach().requires_grad_(True), rather than torch.tensor(sourceTensor).\n",
      "/home/beomgon/anaconda3/envs/pytorch_retina/lib/python3.7/site-packages/ipykernel_launcher.py:25: UserWarning: To copy construct from a tensor, it is recommended to use sourceTensor.clone().detach() or sourceTensor.clone().detach().requires_grad_(True), rather than torch.tensor(sourceTensor).\n",
      "/home/beomgon/anaconda3/envs/pytorch_retina/lib/python3.7/site-packages/ipykernel_launcher.py:26: UserWarning: To copy construct from a tensor, it is recommended to use sourceTensor.clone().detach() or sourceTensor.clone().detach().requires_grad_(True), rather than torch.tensor(sourceTensor).\n",
      "/home/beomgon/anaconda3/envs/pytorch_retina/lib/python3.7/site-packages/ipykernel_launcher.py:27: UserWarning: To copy construct from a tensor, it is recommended to use sourceTensor.clone().detach() or sourceTensor.clone().detach().requires_grad_(True), rather than torch.tensor(sourceTensor).\n",
      "/home/beomgon/anaconda3/envs/pytorch_retina/lib/python3.7/site-packages/ipykernel_launcher.py:28: UserWarning: To copy construct from a tensor, it is recommended to use sourceTensor.clone().detach() or sourceTensor.clone().detach().requires_grad_(True), rather than torch.tensor(sourceTensor).\n",
      "/home/beomgon/anaconda3/envs/pytorch_retina/lib/python3.7/site-packages/ipykernel_launcher.py:29: UserWarning: To copy construct from a tensor, it is recommended to use sourceTensor.clone().detach() or sourceTensor.clone().detach().requires_grad_(True), rather than torch.tensor(sourceTensor).\n"
     ]
    }
   ],
   "source": [
    "# N, C_in, C_out, K_size = batch_size, 3, 12, 3\n",
    "# Create random Tensors for weights.\n",
    "conw1 = torch.randn(8,3,5,5, device=device, dtype=dtype, requires_grad=True)\n",
    "conw2 = torch.randn(32,8,3,3, device=device, dtype=dtype, requires_grad=True)\n",
    "conw3 = torch.randn(128,32,3,3, device=device, dtype=dtype, requires_grad=True)\n",
    "conw4 = torch.randn(128,128,3,3, device=device, dtype=dtype, requires_grad=True)\n",
    "conw5 = torch.randn(10,128,1,1, device=device, dtype=dtype, requires_grad=True)\n",
    "\n",
    "# weight for normal\n",
    "conw1 = torch.nn.init.xavier_uniform_(conw1, gain=1.0)\n",
    "conw2 = torch.nn.init.xavier_uniform_(conw2, gain=1.0)\n",
    "conw3 = torch.nn.init.xavier_uniform_(conw3, gain=1.0)\n",
    "conw4 = torch.nn.init.xavier_uniform_(conw4, gain=1.0)\n",
    "conw5 = torch.nn.init.xavier_uniform_(conw5, gain=1.0)\n",
    "\n",
    "# weight for gated\n",
    "# conw1g = conw1.clone().detatch(requires_grad=True)\n",
    "conw1g = torch.tensor(conw1, device=device, dtype=dtype, requires_grad=True)\n",
    "conw2g = torch.tensor(conw2, device=device, dtype=dtype, requires_grad=True)\n",
    "conw3g = torch.tensor(conw3, device=device, dtype=dtype, requires_grad=True)\n",
    "conw4g = torch.tensor(conw4, device=device, dtype=dtype, requires_grad=True)\n",
    "conw5g = torch.tensor(conw5, device=device, dtype=dtype, requires_grad=True)\n",
    "\n",
    "# weight for adam \n",
    "conw1a = torch.tensor(conw1, device=device, dtype=dtype, requires_grad=True)\n",
    "conw2a = torch.tensor(conw2, device=device, dtype=dtype, requires_grad=True)\n",
    "conw3a = torch.tensor(conw3, device=device, dtype=dtype, requires_grad=True)\n",
    "conw4a = torch.tensor(conw4, device=device, dtype=dtype, requires_grad=True)\n",
    "conw5a = torch.tensor(conw5, device=device, dtype=dtype, requires_grad=True)\n",
    "\n",
    "# print(conw1[0][0])\n",
    "# print(torch.nn.init.xavier_uniform_(conw1, gain=1.0)[0][0])\n",
    "# print(conw2)"
   ]
  },
  {
   "cell_type": "code",
   "execution_count": 8,
   "id": "8ac85c29-61e9-4b91-aa7e-c2077b9ffc24",
   "metadata": {},
   "outputs": [
    {
     "data": {
      "text/plain": [
       "False"
      ]
     },
     "execution_count": 8,
     "metadata": {},
     "output_type": "execute_result"
    }
   ],
   "source": [
    "conw1 is conw1g"
   ]
  },
  {
   "cell_type": "code",
   "execution_count": 9,
   "id": "31cdcc33-4b9d-4116-9403-15e1fc416f6e",
   "metadata": {},
   "outputs": [],
   "source": [
    "# print(conw1)"
   ]
  },
  {
   "cell_type": "code",
   "execution_count": 10,
   "id": "b67ad14c-9a63-4152-aee0-5ea1d976d84c",
   "metadata": {},
   "outputs": [],
   "source": [
    "# print(conw1g)"
   ]
  },
  {
   "cell_type": "code",
   "execution_count": 11,
   "id": "23d83544-adbf-49f9-bf2e-de7891fa75e7",
   "metadata": {},
   "outputs": [],
   "source": [
    "# normal model\n",
    "class Net(nn.Module):\n",
    "    def __init__(self):\n",
    "        super(Net, self).__init__()\n",
    "        self.conv1 = Conv2dFunction.apply\n",
    "        self.conv2 = Conv2dFunction.apply\n",
    "        self.conv3 = Conv2dFunction.apply\n",
    "        self.conv4 = Conv2dFunction.apply\n",
    "        self.conv5 = Conv2dFunction.apply\n",
    "        self.avgpool = torch.nn.AvgPool2d((2,2) ,stride=(2,2))\n",
    "        self.maxpool = torch.nn.MaxPool2d((2,2), stride=(2,2))\n",
    "        self.linear = torch.nn.Linear(128, 10)\n",
    "        self.act = torch.nn.ReLU()\n",
    "\n",
    "    def forward(self, x, w1, w2, w3, w4, w5):\n",
    "        x = self.act(self.conv1(x, w1))\n",
    "        x = torch.nn.BatchNorm2d(8).to(device)(x)\n",
    "        x = self.maxpool(x)\n",
    "        x = self.act(self.conv2(x, w2))\n",
    "        x = torch.nn.BatchNorm2d(32).to(device)(x)\n",
    "        x = self.maxpool(x)\n",
    "        x = self.act(self.conv3(x, w3))\n",
    "        x = torch.nn.BatchNorm2d(128).to(device)(x)\n",
    "        x = self.maxpool(x)\n",
    "        x = self.act(self.conv4(x, w4))\n",
    "        x = torch.nn.BatchNorm2d(128).to(device)(x)\n",
    "        x = self.maxpool(x)\n",
    "        x = self.conv5(x, w5)\n",
    "        x = self.avgpool(x)\n",
    "        x = torch.squeeze(x)\n",
    "#         x = self.linear(x)\n",
    "        x = torch.nn.Softmax(dim=1)(x)\n",
    "#         x = torch.sigmoid(x)\n",
    "        \n",
    "        return x\n",
    "\n",
    "# gated model    \n",
    "class NetG(nn.Module):\n",
    "    def __init__(self):\n",
    "        super(NetG, self).__init__()\n",
    "        self.conv1 = Conv2dFunctionG.apply\n",
    "        self.conv2 = Conv2dFunctionG.apply\n",
    "        self.conv3 = Conv2dFunctionG.apply\n",
    "        self.conv4 = Conv2dFunctionG.apply\n",
    "        self.conv5 = Conv2dFunctionG.apply\n",
    "        self.avgpool = torch.nn.AvgPool2d((2,2) ,stride=(2,2))\n",
    "        self.maxpool = torch.nn.MaxPool2d((2,2), stride=(2,2))\n",
    "        self.linear = torch.nn.Linear(128, 10)\n",
    "        self.act = torch.nn.ReLU()\n",
    "\n",
    "    def forward(self, x, w1, w2, w3, w4, w5):\n",
    "        x = self.act(self.conv1(x, w1))\n",
    "        x = torch.nn.BatchNorm2d(8).to(device)(x)\n",
    "        x = self.maxpool(x)\n",
    "        x = self.act(self.conv2(x, w2))\n",
    "        x = torch.nn.BatchNorm2d(32).to(device)(x)\n",
    "        x = self.maxpool(x)\n",
    "        x = self.act(self.conv3(x, w3))\n",
    "        x = torch.nn.BatchNorm2d(128).to(device)(x)\n",
    "        x = self.maxpool(x)\n",
    "        x = self.act(self.conv4(x, w4))\n",
    "        x = torch.nn.BatchNorm2d(128).to(device)(x)\n",
    "        x = self.maxpool(x)\n",
    "        x = self.conv5(x, w5)\n",
    "        x = self.avgpool(x)\n",
    "        x = torch.squeeze(x)\n",
    "#         x = self.linear(x)\n",
    "        x = torch.nn.Softmax(dim=1)(x)\n",
    "#         x = torch.sigmoid(x)\n",
    "        \n",
    "        return x    \n",
    "\n",
    "#     adam model\n",
    "class NetA(nn.Module):\n",
    "    def __init__(self):\n",
    "        super(NetA, self).__init__()\n",
    "        self.conv1 = nn.Conv2d(3,8,kernel_size=(5,5),padding=2,bias=False)\n",
    "        self.conv2 = nn.Conv2d(8,32,kernel_size=(3,3),padding=1,bias=False)\n",
    "        self.conv3 = nn.Conv2d(32,128,kernel_size=(3,3),padding=1,bias=False)\n",
    "        self.conv4 = nn.Conv2d(128,128,kernel_size=(3,3),padding=1,bias=False)\n",
    "        self.conv5 = nn.Conv2d(128,10,kernel_size=(1,1),padding=0,bias=False)\n",
    "        self.avgpool = torch.nn.AvgPool2d((2,2) ,stride=(2,2))\n",
    "        self.maxpool = torch.nn.MaxPool2d((2,2), stride=(2,2))\n",
    "#         self.linear = torch.nn.Linear(128, 10)\n",
    "        self.act = torch.nn.ReLU()\n",
    "\n",
    "    def forward(self, x):\n",
    "        x = self.act(self.conv1(x))\n",
    "        x = torch.nn.BatchNorm2d(8).to(device)(x)\n",
    "        x = self.maxpool(x)\n",
    "        x = self.act(self.conv2(x))\n",
    "        x = torch.nn.BatchNorm2d(32).to(device)(x)\n",
    "        x = self.maxpool(x)\n",
    "        x = self.act(self.conv3(x))\n",
    "        x = torch.nn.BatchNorm2d(128).to(device)(x)\n",
    "        x = self.maxpool(x)\n",
    "        x = self.act(self.conv4(x))\n",
    "        x = torch.nn.BatchNorm2d(128).to(device)(x)\n",
    "        x = self.maxpool(x)\n",
    "        x = self.conv5(x)\n",
    "        x = self.avgpool(x)\n",
    "        x = torch.squeeze(x)\n",
    "#         x = self.linear(x)\n",
    "        x = torch.nn.Softmax(dim=1)(x)\n",
    "#         x = torch.sigmoid(x)\n",
    "        \n",
    "        return x        "
   ]
  },
  {
   "cell_type": "code",
   "execution_count": 12,
   "id": "12f00a2e-56f8-400a-8f67-c2566254a401",
   "metadata": {},
   "outputs": [],
   "source": [
    "net = Net().to(device)\n",
    "netg = NetG().to(device)\n",
    "neta = NetA().to(device)\n",
    "criterion = nn.CrossEntropyLoss().to(device)"
   ]
  },
  {
   "cell_type": "code",
   "execution_count": 13,
   "id": "2f330ad0-bb90-47df-acae-e51e49f0ec65",
   "metadata": {},
   "outputs": [],
   "source": [
    "# for k in neta.state_dict() :\n",
    "#     print(k)"
   ]
  },
  {
   "cell_type": "code",
   "execution_count": 14,
   "id": "02a5c621-d1ae-4e31-a55c-403b5ba31886",
   "metadata": {},
   "outputs": [],
   "source": [
    "# for p in neta.parameters() :\n",
    "#     print(p[0][0][0])"
   ]
  },
  {
   "cell_type": "code",
   "execution_count": 15,
   "id": "e125c3c4-b8bc-41b3-9bae-894a6e1b8c3d",
   "metadata": {},
   "outputs": [
    {
     "data": {
      "text/plain": [
       "<All keys matched successfully>"
      ]
     },
     "execution_count": 15,
     "metadata": {},
     "output_type": "execute_result"
    }
   ],
   "source": [
    "# for param in neta.parameters() :\n",
    "#     print(param.shape)\n",
    "\n",
    "# parameter for adam should be same with other model\n",
    "neta_dict = neta.state_dict()\n",
    "for p in neta_dict :\n",
    "    if 'conv1' in p :\n",
    "        neta_dict[p] = conw1a\n",
    "    elif 'conv2' in p :\n",
    "        neta_dict[p] = conw2a\n",
    "    elif 'conv3' in p :\n",
    "        neta_dict[p] = conw3a\n",
    "    elif 'conv4' in p :\n",
    "        neta_dict[p] = conw4a\n",
    "    elif 'conv5' in p :\n",
    "        neta_dict[p] = conw5a        \n",
    "#     print(p)\n",
    "#     print(neta.state_dict()[p].shape)\n",
    "#     print()\n",
    "neta.load_state_dict(neta_dict)"
   ]
  },
  {
   "cell_type": "code",
   "execution_count": 16,
   "id": "8f3efdec-9d54-4b5a-bde2-7f5d01347aac",
   "metadata": {},
   "outputs": [],
   "source": [
    "# for p in neta.parameters() :\n",
    "#     print(p[0][0][0])\n",
    "# print(conw1a[0][0][0])    "
   ]
  },
  {
   "cell_type": "code",
   "execution_count": null,
   "id": "610eb50f-2961-4154-81a9-fce75b43ad93",
   "metadata": {},
   "outputs": [],
   "source": []
  },
  {
   "cell_type": "code",
   "execution_count": 17,
   "id": "5bb5f59f-6c53-4939-904a-c0bc8dcbec09",
   "metadata": {},
   "outputs": [
    {
     "name": "stdout",
     "output_type": "stream",
     "text": [
      "torch.Size([64, 3, 32, 32])\n"
     ]
    }
   ],
   "source": [
    "image, label = iter(trainloader).next()\n",
    "print(image.shape)"
   ]
  },
  {
   "cell_type": "code",
   "execution_count": null,
   "id": "38e7b5f1-5973-4a1a-81e6-b9604c18860e",
   "metadata": {},
   "outputs": [],
   "source": []
  },
  {
   "cell_type": "code",
   "execution_count": 18,
   "id": "5f2c4fbe-b6f4-412b-bfcd-30d6182cb74b",
   "metadata": {},
   "outputs": [
    {
     "name": "stdout",
     "output_type": "stream",
     "text": [
      "torch.Size([64, 10])\n"
     ]
    }
   ],
   "source": [
    "image, labels = iter(trainloader).next()\n",
    "outputs = net(image.to(device), conw1, conw2, conw3, conw4, conw5).to(device)\n",
    "print(outputs.shape)\n",
    "# print(outputs.sum(dim=1))\n",
    "# print(outputs)\n",
    "loss = criterion(outputs, labels.to(device))\n",
    "# loss.backward()\n",
    "# print(torch.nn.Softmax(dim=1)(outputs).sum(dim=1))\n",
    "# outputs\n"
   ]
  },
  {
   "cell_type": "code",
   "execution_count": 19,
   "id": "cf08457c-bdf5-454d-b152-91959d5d4f18",
   "metadata": {},
   "outputs": [],
   "source": [
    "# conw5.grad"
   ]
  },
  {
   "cell_type": "code",
   "execution_count": 20,
   "id": "7a08cb68-a7a9-4163-b096-420b0da1e4fb",
   "metadata": {},
   "outputs": [],
   "source": [
    "def test (model, w1=None, w2=None, w3=None, w4=None, w5=None) :\n",
    "    correct = 0\n",
    "    total = 0\n",
    "    # since we're not training, we don't need to calculate the gradients for our outputs\n",
    "    with torch.no_grad():\n",
    "        for data in testloader:\n",
    "            inputs, labels = data\n",
    "            if w1 == None :\n",
    "                outputs = model(inputs.to(device))\n",
    "            else :\n",
    "                outputs = model(inputs.to(device), w1, w2, w3, w4, w5)\n",
    "            # the class with the highest energy is what we choose as prediction\n",
    "            _, predicted = torch.max(outputs.data, 1)\n",
    "            total += labels.size(0)\n",
    "            correct += (predicted == labels.to(device)).sum().item()\n",
    "\n",
    "    print('Accuracy of the network on the 10000 test images: %d %%' % (\n",
    "        100 * correct / total))\n",
    "    return (100 * correct / total)"
   ]
  },
  {
   "cell_type": "code",
   "execution_count": 21,
   "id": "2d8cf486-5b31-4932-be7a-65eda393e100",
   "metadata": {},
   "outputs": [],
   "source": [
    "NUM_EPOCH = 15"
   ]
  },
  {
   "cell_type": "code",
   "execution_count": 22,
   "id": "2309ec7d-2cba-4900-ab93-c2515453ca67",
   "metadata": {},
   "outputs": [
    {
     "name": "stdout",
     "output_type": "stream",
     "text": [
      "******************normal case with adam****************\n",
      "[1,   200] loss: 2.078\n",
      "[1,   400] loss: 2.030\n",
      "[1,   600] loss: 1.993\n",
      "Accuracy of the network on the 10000 test images: 57 %\n",
      "[2,   200] loss: 1.863\n",
      "[2,   400] loss: 1.855\n",
      "[2,   600] loss: 1.850\n",
      "Accuracy of the network on the 10000 test images: 63 %\n",
      "[3,   200] loss: 1.792\n",
      "[3,   400] loss: 1.793\n",
      "[3,   600] loss: 1.790\n",
      "Accuracy of the network on the 10000 test images: 66 %\n",
      "[4,   200] loss: 1.748\n",
      "[4,   400] loss: 1.749\n",
      "[4,   600] loss: 1.748\n",
      "Accuracy of the network on the 10000 test images: 68 %\n",
      "[5,   200] loss: 1.711\n",
      "[5,   400] loss: 1.716\n",
      "[5,   600] loss: 1.716\n",
      "Accuracy of the network on the 10000 test images: 69 %\n",
      "[6,   200] loss: 1.689\n",
      "[6,   400] loss: 1.688\n",
      "[6,   600] loss: 1.689\n",
      "Accuracy of the network on the 10000 test images: 70 %\n",
      "[7,   200] loss: 1.664\n",
      "[7,   400] loss: 1.667\n",
      "[7,   600] loss: 1.669\n",
      "Accuracy of the network on the 10000 test images: 71 %\n",
      "[8,   200] loss: 1.642\n",
      "[8,   400] loss: 1.645\n",
      "[8,   600] loss: 1.649\n",
      "Accuracy of the network on the 10000 test images: 72 %\n",
      "[9,   200] loss: 1.627\n",
      "[9,   400] loss: 1.632\n",
      "[9,   600] loss: 1.634\n",
      "Accuracy of the network on the 10000 test images: 72 %\n",
      "[10,   200] loss: 1.612\n",
      "[10,   400] loss: 1.617\n",
      "[10,   600] loss: 1.621\n",
      "Accuracy of the network on the 10000 test images: 71 %\n",
      "[11,   200] loss: 1.605\n",
      "[11,   400] loss: 1.606\n",
      "[11,   600] loss: 1.608\n",
      "Accuracy of the network on the 10000 test images: 72 %\n",
      "[12,   200] loss: 1.589\n",
      "[12,   400] loss: 1.592\n",
      "[12,   600] loss: 1.595\n",
      "Accuracy of the network on the 10000 test images: 72 %\n",
      "[13,   200] loss: 1.586\n",
      "[13,   400] loss: 1.587\n",
      "[13,   600] loss: 1.589\n",
      "Accuracy of the network on the 10000 test images: 72 %\n",
      "[14,   200] loss: 1.574\n",
      "[14,   400] loss: 1.575\n",
      "[14,   600] loss: 1.580\n",
      "Accuracy of the network on the 10000 test images: 72 %\n",
      "[15,   200] loss: 1.571\n",
      "[15,   400] loss: 1.572\n",
      "[15,   600] loss: 1.574\n",
      "Accuracy of the network on the 10000 test images: 72 %\n"
     ]
    }
   ],
   "source": [
    "print('******************normal case with adam****************')\n",
    "learning_rate = 0.001\n",
    "criterion = nn.CrossEntropyLoss().to(device)\n",
    "optimizer = optim.Adam(neta.parameters(), lr=learning_rate)\n",
    "adam_loss = []\n",
    "adam_accuracy = []\n",
    "for epoch in range(NUM_EPOCH) :    \n",
    "    running_loss = 0.0\n",
    "    neta.train()\n",
    "    for i, data in enumerate(trainloader, 0):\n",
    "        inputs, labels = data\n",
    "\n",
    "        outputs = neta(inputs.to(device))\n",
    "        loss = criterion(outputs, labels.to(device))\n",
    "        loss.backward()  \n",
    "        optimizer.step()\n",
    "        optimizer.zero_grad()\n",
    "\n",
    "        # print statistics\n",
    "        running_loss += loss.item()\n",
    "        if i % 200 == 199:    # print every 2000 mini-batches\n",
    "            print('[%d, %5d] loss: %.3f' %\n",
    "                  (epoch + 1, i + 1, running_loss / (i+1)))\n",
    "    \n",
    "    neta.eval()\n",
    "    test_acc = test(neta)\n",
    "    adam_loss.append(running_loss/len(trainloader))\n",
    "    adam_accuracy.append(test_acc)"
   ]
  },
  {
   "cell_type": "code",
   "execution_count": 23,
   "id": "b3243969-2c2d-4aa5-bc74-66d5c6432826",
   "metadata": {},
   "outputs": [],
   "source": [
    "# adam_accuracy"
   ]
  },
  {
   "cell_type": "code",
   "execution_count": 24,
   "id": "bdfeb2d1-947e-48c5-8b39-1f7d32063239",
   "metadata": {},
   "outputs": [
    {
     "name": "stdout",
     "output_type": "stream",
     "text": [
      "******************grad gated****************\n"
     ]
    },
    {
     "name": "stderr",
     "output_type": "stream",
     "text": [
      "/home/beomgon/anaconda3/envs/pytorch_retina/lib/python3.7/site-packages/ipykernel_launcher.py:24: DeprecationWarning: 'saved_variables' is deprecated; use 'saved_tensors'\n"
     ]
    },
    {
     "name": "stdout",
     "output_type": "stream",
     "text": [
      "[1,   200] loss: 2.146\n",
      "[1,   400] loss: 2.090\n",
      "[1,   600] loss: 2.059\n",
      "Accuracy of the network on the 10000 test images: 53 %\n",
      "[2,   200] loss: 1.925\n",
      "[2,   400] loss: 1.917\n",
      "[2,   600] loss: 1.905\n",
      "Accuracy of the network on the 10000 test images: 58 %\n",
      "[3,   200] loss: 1.829\n",
      "[3,   400] loss: 1.821\n",
      "[3,   600] loss: 1.818\n",
      "Accuracy of the network on the 10000 test images: 64 %\n",
      "[4,   200] loss: 1.790\n",
      "[4,   400] loss: 1.787\n",
      "[4,   600] loss: 1.785\n",
      "Accuracy of the network on the 10000 test images: 65 %\n",
      "[5,   200] loss: 1.744\n",
      "[5,   400] loss: 1.743\n",
      "[5,   600] loss: 1.746\n",
      "Accuracy of the network on the 10000 test images: 69 %\n",
      "[6,   200] loss: 1.702\n",
      "[6,   400] loss: 1.699\n",
      "[6,   600] loss: 1.696\n",
      "Accuracy of the network on the 10000 test images: 72 %\n",
      "[7,   200] loss: 1.674\n",
      "[7,   400] loss: 1.670\n",
      "[7,   600] loss: 1.672\n",
      "Accuracy of the network on the 10000 test images: 72 %\n",
      "[8,   200] loss: 1.651\n",
      "[8,   400] loss: 1.653\n",
      "[8,   600] loss: 1.656\n",
      "Accuracy of the network on the 10000 test images: 72 %\n",
      "[9,   200] loss: 1.636\n",
      "[9,   400] loss: 1.635\n",
      "[9,   600] loss: 1.636\n",
      "Accuracy of the network on the 10000 test images: 73 %\n",
      "[10,   200] loss: 1.624\n",
      "[10,   400] loss: 1.623\n",
      "[10,   600] loss: 1.626\n",
      "Accuracy of the network on the 10000 test images: 74 %\n",
      "[11,   200] loss: 1.612\n",
      "[11,   400] loss: 1.618\n",
      "[11,   600] loss: 1.619\n",
      "Accuracy of the network on the 10000 test images: 73 %\n",
      "[12,   200] loss: 1.604\n",
      "[12,   400] loss: 1.605\n",
      "[12,   600] loss: 1.606\n",
      "Accuracy of the network on the 10000 test images: 74 %\n",
      "[13,   200] loss: 1.599\n",
      "[13,   400] loss: 1.599\n",
      "[13,   600] loss: 1.600\n",
      "Accuracy of the network on the 10000 test images: 74 %\n",
      "[14,   200] loss: 1.597\n",
      "[14,   400] loss: 1.596\n",
      "[14,   600] loss: 1.596\n",
      "Accuracy of the network on the 10000 test images: 74 %\n",
      "[15,   200] loss: 1.594\n",
      "[15,   400] loss: 1.595\n",
      "[15,   600] loss: 1.594\n",
      "Accuracy of the network on the 10000 test images: 74 %\n"
     ]
    }
   ],
   "source": [
    "lr_list = [0.1, 0.1, 0.05, 0.05, 0.05, 0.02, 0.02, \n",
    "           0.02, 0.01, 0.01, 0.01, 0.005,\n",
    "           0.005, 0.002, 0.001]\n",
    "print('******************grad gated****************')\n",
    "# lr_list = [0.05] * NUM_EPOCH\n",
    "criterion = nn.CrossEntropyLoss().to(device)\n",
    "gated_loss = []\n",
    "gated_accuracy = []\n",
    "for epoch in range(NUM_EPOCH) :    \n",
    "    running_loss = 0.0\n",
    "    learning_rate = lr_list[epoch]\n",
    "    for i, data in enumerate(trainloader, 0):\n",
    "        inputs, labels = data\n",
    "\n",
    "        outputs = netg(inputs.to(device), conw1g, conw2g, conw3g, conw4g, conw5g)\n",
    "#         print(outputs.shape)\n",
    "#         print(labels.shape)\n",
    "        loss = criterion(outputs, labels.to(device))\n",
    "#         print(loss)\n",
    "        loss.backward()    \n",
    "\n",
    "        # print statistics\n",
    "        running_loss += loss.item()\n",
    "        if i % 200 == 199:    # print every 2000 mini-batches\n",
    "            print('[%d, %5d] loss: %.3f' %\n",
    "                  (epoch + 1, i + 1, running_loss / (i+1)))\n",
    "            \n",
    "        with torch.no_grad():\n",
    "            # Update weights using gradient descent\n",
    "            conw1g -= learning_rate * conw1g.grad\n",
    "            conw2g -= learning_rate * conw2g.grad\n",
    "            conw3g -= learning_rate * conw3g.grad\n",
    "            conw4g -= learning_rate * conw4g.grad\n",
    "            conw5g -= learning_rate * conw5g.grad\n",
    "\n",
    "            # Manually zero the gradients after running the backward pass\n",
    "            conw1g.grad.zero_()\n",
    "            conw2g.grad.zero_()\n",
    "            conw3g.grad.zero_()\n",
    "            conw4g.grad.zero_()\n",
    "            conw5g.grad.zero_()\n",
    "            \n",
    "    test_acc = test(netg, conw1g, conw2g, conw3g, conw4g, conw5g)\n",
    "    gated_loss.append(running_loss/len(trainloader))\n",
    "    gated_accuracy.append(test_acc)"
   ]
  },
  {
   "cell_type": "code",
   "execution_count": 25,
   "id": "3be209fc-1dc9-4503-8cac-cb289ca17d2a",
   "metadata": {},
   "outputs": [
    {
     "name": "stdout",
     "output_type": "stream",
     "text": [
      "******************normal case****************\n"
     ]
    },
    {
     "name": "stderr",
     "output_type": "stream",
     "text": [
      "/home/beomgon/anaconda3/envs/pytorch_retina/lib/python3.7/site-packages/ipykernel_launcher.py:24: DeprecationWarning: 'saved_variables' is deprecated; use 'saved_tensors'\n"
     ]
    },
    {
     "name": "stdout",
     "output_type": "stream",
     "text": [
      "[1,   200] loss: 2.104\n",
      "[1,   400] loss: 2.061\n",
      "[1,   600] loss: 2.031\n",
      "Accuracy of the network on the 10000 test images: 50 %\n",
      "[2,   200] loss: 1.915\n",
      "[2,   400] loss: 1.905\n",
      "[2,   600] loss: 1.900\n",
      "Accuracy of the network on the 10000 test images: 59 %\n",
      "[3,   200] loss: 1.823\n",
      "[3,   400] loss: 1.819\n",
      "[3,   600] loss: 1.816\n",
      "Accuracy of the network on the 10000 test images: 64 %\n",
      "[4,   200] loss: 1.779\n",
      "[4,   400] loss: 1.779\n",
      "[4,   600] loss: 1.779\n",
      "Accuracy of the network on the 10000 test images: 65 %\n",
      "[5,   200] loss: 1.754\n",
      "[5,   400] loss: 1.750\n",
      "[5,   600] loss: 1.752\n",
      "Accuracy of the network on the 10000 test images: 65 %\n",
      "[6,   200] loss: 1.715\n",
      "[6,   400] loss: 1.714\n",
      "[6,   600] loss: 1.714\n",
      "Accuracy of the network on the 10000 test images: 68 %\n",
      "[7,   200] loss: 1.696\n",
      "[7,   400] loss: 1.695\n",
      "[7,   600] loss: 1.696\n",
      "Accuracy of the network on the 10000 test images: 68 %\n",
      "[8,   200] loss: 1.678\n",
      "[8,   400] loss: 1.682\n",
      "[8,   600] loss: 1.682\n",
      "Accuracy of the network on the 10000 test images: 69 %\n",
      "[9,   200] loss: 1.669\n",
      "[9,   400] loss: 1.668\n",
      "[9,   600] loss: 1.666\n",
      "Accuracy of the network on the 10000 test images: 69 %\n",
      "[10,   200] loss: 1.655\n",
      "[10,   400] loss: 1.654\n",
      "[10,   600] loss: 1.657\n",
      "Accuracy of the network on the 10000 test images: 69 %\n",
      "[11,   200] loss: 1.648\n",
      "[11,   400] loss: 1.651\n",
      "[11,   600] loss: 1.652\n",
      "Accuracy of the network on the 10000 test images: 69 %\n",
      "[12,   200] loss: 1.642\n",
      "[12,   400] loss: 1.642\n",
      "[12,   600] loss: 1.641\n",
      "Accuracy of the network on the 10000 test images: 69 %\n",
      "[13,   200] loss: 1.637\n",
      "[13,   400] loss: 1.637\n",
      "[13,   600] loss: 1.638\n",
      "Accuracy of the network on the 10000 test images: 69 %\n",
      "[14,   200] loss: 1.633\n",
      "[14,   400] loss: 1.633\n",
      "[14,   600] loss: 1.632\n",
      "Accuracy of the network on the 10000 test images: 70 %\n",
      "[15,   200] loss: 1.629\n",
      "[15,   400] loss: 1.629\n",
      "[15,   600] loss: 1.630\n",
      "Accuracy of the network on the 10000 test images: 69 %\n"
     ]
    }
   ],
   "source": [
    "lr_list = [0.1, 0.1, 0.05, 0.05, 0.05, 0.02, 0.02, \n",
    "           0.02, 0.01, 0.01, 0.01, 0.005,\n",
    "           0.005, 0.002, 0.001]\n",
    "print('******************normal case****************')\n",
    "# lr_list = [0.05] * NUM_EPOCH\n",
    "criterion = nn.CrossEntropyLoss().to(device)\n",
    "normal_loss = []\n",
    "normal_accuracy = []\n",
    "for epoch in range(NUM_EPOCH) :    \n",
    "    running_loss = 0.0\n",
    "    learning_rate = lr_list[epoch]\n",
    "    for i, data in enumerate(trainloader, 0):\n",
    "        inputs, labels = data\n",
    "\n",
    "        outputs = net(inputs.to(device), conw1, conw2, conw3, conw4, conw5)\n",
    "#         print(outputs.shape)\n",
    "#         print(labels.shape)\n",
    "        loss = criterion(outputs, labels.to(device))\n",
    "#         print(loss)\n",
    "        loss.backward()    \n",
    "\n",
    "        # print statistics\n",
    "        running_loss += loss.item()\n",
    "        if i % 200 == 199:    # print every 2000 mini-batches\n",
    "            print('[%d, %5d] loss: %.3f' %\n",
    "                  (epoch + 1, i + 1, running_loss / (i+1)))\n",
    "            \n",
    "        with torch.no_grad():\n",
    "            # Update weights using gradient descent\n",
    "            conw1 -= learning_rate * conw1.grad\n",
    "            conw2 -= learning_rate * conw2.grad\n",
    "            conw3 -= learning_rate * conw3.grad\n",
    "            conw4 -= learning_rate * conw4.grad\n",
    "            conw5 -= learning_rate * conw5.grad\n",
    "\n",
    "            # Manually zero the gradients after running the backward pass\n",
    "            conw1.grad.zero_()\n",
    "            conw2.grad.zero_()   \n",
    "            conw3.grad.zero_()\n",
    "            conw4.grad.zero_()       \n",
    "            conw5.grad.zero_()                   \n",
    "            \n",
    "    test_acc = test(net, conw1, conw2, conw3, conw4, conw5)\n",
    "    normal_loss.append(running_loss/len(trainloader))\n",
    "    normal_accuracy.append(test_acc)    "
   ]
  },
  {
   "cell_type": "code",
   "execution_count": 26,
   "id": "6dc86290-8dcf-4ba5-b081-a68e0f0b5633",
   "metadata": {},
   "outputs": [],
   "source": [
    "# normal_loss\n",
    "# normal_accuracy"
   ]
  },
  {
   "cell_type": "code",
   "execution_count": 27,
   "id": "13d25a3b-a193-4654-9754-c1d9ebb73575",
   "metadata": {},
   "outputs": [],
   "source": [
    "# gated_loss\n",
    "# gated_accuracy"
   ]
  },
  {
   "cell_type": "code",
   "execution_count": 28,
   "id": "718b9f1d-1159-47e7-a3be-1a5afd747d83",
   "metadata": {},
   "outputs": [],
   "source": [
    "# adam_loss\n",
    "# adam_accuracy"
   ]
  },
  {
   "cell_type": "code",
   "execution_count": 29,
   "id": "3d2eb9d7-947b-4bda-9cbf-a41913ad6f9d",
   "metadata": {},
   "outputs": [
    {
     "data": {
      "image/png": "[encoded data removed]",
      "text/plain": [
       "<Figure size 432x288 with 1 Axes>"
      ]
     },
     "metadata": {
      "needs_background": "light"
     },
     "output_type": "display_data"
    }
   ],
   "source": [
    "import matplotlib.pyplot as plt\n",
    "%matplotlib inline\n",
    "\n",
    "X = np.arange(0,15,1)\n",
    "plt.plot(X, adam_loss,  color='red')\n",
    "plt.plot(X, gated_loss, color='blue')\n",
    "plt.plot(X, normal_loss, color='green')\n",
    "plt.legend(['adam', 'gated', 'normal'])\n",
    "plt.show()\n"
   ]
  },
  {
   "cell_type": "code",
   "execution_count": 30,
   "id": "740b0e00-0d6b-45e7-b5ed-acb133063d1c",
   "metadata": {},
   "outputs": [
    {
     "data": {
      "image/png": "[encoded data removed]",
      "text/plain": [
       "<Figure size 432x288 with 1 Axes>"
      ]
     },
     "metadata": {
      "needs_background": "light"
     },
     "output_type": "display_data"
    }
   ],
   "source": [
    "import matplotlib.pyplot as plt\n",
    "%matplotlib inline\n",
    "\n",
    "X = np.arange(0,15,1)\n",
    "plt.plot(X, adam_accuracy,  color='red')\n",
    "plt.plot(X, gated_accuracy, color='blue')\n",
    "plt.plot(X, normal_accuracy, color='green')\n",
    "plt.legend(['adam', 'gated', 'normal'])\n",
    "plt.show()"
   ]
  },
  {
   "cell_type": "code",
   "execution_count": null,
   "id": "e710eb41-7640-4ae6-86b4-bb68aba4907e",
   "metadata": {},
   "outputs": [],
   "source": []
  }
 ],
 "metadata": {
  "kernelspec": {
   "display_name": "pytorch_retina",
   "language": "python",
   "name": "pytorch_retina"
  },
  "language_info": {
   "codemirror_mode": {
    "name": "ipython",
    "version": 3
   },
   "file_extension": ".py",
   "mimetype": "text/x-python",
   "name": "python",
   "nbconvert_exporter": "python",
   "pygments_lexer": "ipython3",
   "version": "3.7.10"
  }
 },
 "nbformat": 4,
 "nbformat_minor": 5
}
