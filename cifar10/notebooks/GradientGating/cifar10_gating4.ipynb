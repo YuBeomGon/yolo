{
 "cells": [
  {
   "cell_type": "code",
   "execution_count": 1,
   "id": "e953aaff-5e25-46ee-a200-7043b49bf93e",
   "metadata": {},
   "outputs": [],
   "source": [
    "# https://discuss.pytorch.org/t/call-backward-on-function-inside-a-backpropagation-step/3793\n",
    "# https://discuss.pytorch.org/t/implementing-a-custom-convolution-using-conv2d-input-and-conv2d-weight/18556\n",
    "# https://discuss.pytorch.org/t/implementing-a-custom-convolution-using-conv2d-input-and-conv2d-weight/18556/21"
   ]
  },
  {
   "cell_type": "code",
   "execution_count": 2,
   "id": "5d81d1b7-de30-4c36-a039-14389f064908",
   "metadata": {},
   "outputs": [],
   "source": [
    "import torch\n",
    "import torch.nn as nn\n",
    "import torch.nn.functional as F\n",
    "import torch.optim as optim\n",
    "import torchvision\n",
    "import torchvision.transforms as transforms\n",
    "\n",
    "import numpy as np"
   ]
  },
  {
   "cell_type": "code",
   "execution_count": 3,
   "id": "4e3e9003-9102-4e71-98f6-bab909d4376a",
   "metadata": {},
   "outputs": [],
   "source": [
    "\n",
    "class Conv2dFunction(torch.autograd.Function):\n",
    "    @staticmethod\n",
    "    def forward(ctx, input, weight, bias=None, stride=1, padding=1, dilation=1, groups=1):\n",
    "        # Save arguments to context to use on backward\n",
    "        # WARNING : if stride, padding, dilation etc is array, this will not work properly!!!!\n",
    "#         print('stride', stride)\n",
    "        if weight.shape[2] == 1 :\n",
    "            padding = 0\n",
    "        elif weight.shape[2] == 5 :\n",
    "            padding = 2\n",
    "        elif weight.shape[2] == 7 :\n",
    "            padding = 3\n",
    "        confs = torch.from_numpy(np.array([stride, padding, dilation, groups]))\n",
    "        out = F.conv2d(input, weight, bias=bias, stride=stride, padding=padding, dilation=dilation, groups=groups)\n",
    "        ctx.save_for_backward(input, out, weight, bias, confs)\n",
    "\n",
    "        # Compute Convolution\n",
    "        return out\n",
    "    \n",
    "    @staticmethod\n",
    "    def backward(ctx, grad_output):\n",
    "        # Load saved tensors\n",
    "        input, out, weight, bias, confs = ctx.saved_variables\n",
    "        confs = confs.numpy()\n",
    "        stride, padding, dilation, groups= confs[0], confs[1], confs[2], confs[3]\n",
    "\n",
    "        # Calculate Gradient\n",
    "        grad_input = grad_weight = grad_bias = None\n",
    "#         print('grad_output', grad_output.shape)\n",
    "#         print('out', out.shape)\n",
    "#         print(out[0][0][0])\n",
    "#         print(out.shape)\n",
    "#         print(torch.max(out))\n",
    "#         print(torch.min(out))\n",
    "# 2*torch.sigmoid(3*x/torch.max(x))\n",
    "        grad_output = grad_output * 2*torch.sigmoid(out)\n",
    "        if ctx.needs_input_grad[0]:\n",
    "            grad_input = torch.nn.grad.conv2d_input(input.shape, weight, grad_output, stride, padding, dilation, groups)\n",
    "            \n",
    "        if ctx.needs_input_grad[1]:\n",
    "            grad_weight = torch.nn.grad.conv2d_weight(input, weight.shape, grad_output, stride, padding, dilation, groups)\n",
    "                \n",
    "        # WARNING : Bias maybe buggy, remove if it is buggy\n",
    "        if bias is not None and ctx.needs_input_grad[2]:\n",
    "            grad_bias = grad_output.sum(0).squeeze(0)\n",
    "\n",
    "\n",
    "        # WARNING : Bias maybe buggy, remove if it is buggy\n",
    "        if bias is not None:\n",
    "            return grad_input, grad_weight, grad_bias, None, None, None, None\n",
    "        else:\n",
    "            return grad_input, grad_weight, None, None, None, None, None"
   ]
  },
  {
   "cell_type": "code",
   "execution_count": 4,
   "id": "fd706d30-a744-47e1-b4e7-b000f8dd4c50",
   "metadata": {},
   "outputs": [],
   "source": [
    "from torch.autograd import gradcheck\n",
    "conv = Conv2dFunction.apply\n",
    "# gradcheck takes a tuple of tensors as input, check if your gradient\n",
    "# evaluated with these tensors are close enough to numerical\n",
    "# approximations and returns True if they all verify this condition.\n",
    "# input = (torch.randn(20,20,dtype=torch.double,requires_grad=True), torch.randn(30,20,dtype=torch.double,requires_grad=True))\n",
    "# test = gradcheck(linear, input, eps=1e-6, atol=1e-4)\n",
    "# print(test)\n"
   ]
  },
  {
   "cell_type": "code",
   "execution_count": 5,
   "id": "6fbec456-07f5-48e8-ac80-64201f5d4e96",
   "metadata": {},
   "outputs": [
    {
     "name": "stdout",
     "output_type": "stream",
     "text": [
      "Files already downloaded and verified\n",
      "Files already downloaded and verified\n"
     ]
    }
   ],
   "source": [
    "# device = torch.device(\"cpu\")\n",
    "device = torch.device(\"cuda\")\n",
    "dtype = torch.float\n",
    "transform = transforms.Compose(\n",
    "    [transforms.ToTensor(),\n",
    "     transforms.Normalize((0.5, 0.5, 0.5), (0.5, 0.5, 0.5))])\n",
    "\n",
    "batch_size = 64\n",
    "\n",
    "trainset = torchvision.datasets.CIFAR10(root='../data', train=True,\n",
    "                                        download=True, transform=transform)\n",
    "trainloader = torch.utils.data.DataLoader(trainset, batch_size=batch_size,\n",
    "                                          shuffle=True, num_workers=4)\n",
    "\n",
    "testset = torchvision.datasets.CIFAR10(root='../data', train=False,\n",
    "                                       download=True, transform=transform)\n",
    "testloader = torch.utils.data.DataLoader(testset, batch_size=batch_size,\n",
    "                                         shuffle=False, num_workers=4)\n",
    "\n",
    "classes = ('plane', 'car', 'bird', 'cat',\n",
    "           'deer', 'dog', 'frog', 'horse', 'ship', 'truck')"
   ]
  },
  {
   "cell_type": "code",
   "execution_count": 6,
   "id": "0714c16b-d4d3-4993-9880-6ac5862e56bd",
   "metadata": {},
   "outputs": [],
   "source": [
    "# N, C_in, C_out, K_size = batch_size, 3, 12, 3\n",
    "# Create random Tensors for weights.\n",
    "conw1 = torch.randn(8,3,5,5, device=device, dtype=dtype, requires_grad=True)\n",
    "conw2 = torch.randn(32,8,3,3, device=device, dtype=dtype, requires_grad=True)\n",
    "conw3 = torch.randn(128,32,3,3, device=device, dtype=dtype, requires_grad=True)\n",
    "conw4 = torch.randn(128,128,3,3, device=device, dtype=dtype, requires_grad=True)\n",
    "conw5 = torch.randn(10,128,1,1, device=device, dtype=dtype, requires_grad=True)\n",
    "\n",
    "conw1 = torch.nn.init.xavier_uniform_(conw1, gain=1.0)\n",
    "conw2 = torch.nn.init.xavier_uniform_(conw2, gain=1.0)\n",
    "conw3 = torch.nn.init.xavier_uniform_(conw3, gain=1.0)\n",
    "conw4 = torch.nn.init.xavier_uniform_(conw4, gain=1.0)\n",
    "conw5 = torch.nn.init.xavier_uniform_(conw5, gain=1.0)\n",
    "\n",
    "# print(conw1[0][0])\n",
    "# print(torch.nn.init.xavier_uniform_(conw1, gain=1.0)[0][0])\n",
    "# print(conw2)"
   ]
  },
  {
   "cell_type": "code",
   "execution_count": 7,
   "id": "23d83544-adbf-49f9-bf2e-de7891fa75e7",
   "metadata": {},
   "outputs": [],
   "source": [
    "class Net(nn.Module):\n",
    "    def __init__(self):\n",
    "        super(Net, self).__init__()\n",
    "        self.conv1 = Conv2dFunction.apply\n",
    "        self.conv2 = Conv2dFunction.apply\n",
    "        self.conv3 = Conv2dFunction.apply\n",
    "        self.conv4 = Conv2dFunction.apply\n",
    "        self.conv5 = Conv2dFunction.apply\n",
    "        self.avgpool = torch.nn.AvgPool2d((2,2) ,stride=(2,2))\n",
    "        self.maxpool = torch.nn.MaxPool2d((2,2), stride=(2,2))\n",
    "        self.linear = torch.nn.Linear(128, 10)\n",
    "        self.act = torch.nn.ReLU()\n",
    "\n",
    "    def forward(self, x, w1, w2, w3, w4, w5):\n",
    "#         x = self.conv1(x, w1)\n",
    "#         x = self.act(x)\n",
    "#         x = self.conv2(x, w2)\n",
    "#         x = self.maxpool(x)\n",
    "#         x = self.conv3(x, w3)\n",
    "#         x = self.act(x)\n",
    "#         x = self.conv4(x, w4)\n",
    "#         x = self.avgpool(x)\n",
    "#         x = torch.squeeze(x)\n",
    "#         x = self.linear(x)\n",
    "#         x = torch.nn.Softmax(dim=1)(x)\n",
    "\n",
    "        x = self.act(self.conv1(x, w1))\n",
    "        x = torch.nn.BatchNorm2d(8).to(device)(x)\n",
    "        x = self.maxpool(x)\n",
    "        x = self.act(self.conv2(x, w2))\n",
    "        x = torch.nn.BatchNorm2d(32).to(device)(x)\n",
    "        x = self.maxpool(x)\n",
    "        x = self.act(self.conv3(x, w3))\n",
    "        x = torch.nn.BatchNorm2d(128).to(device)(x)\n",
    "        x = self.maxpool(x)\n",
    "        x = self.act(self.conv4(x, w4))\n",
    "        x = torch.nn.BatchNorm2d(128).to(device)(x)\n",
    "        x = self.maxpool(x)\n",
    "        x = self.conv5(x, w5)\n",
    "        x = self.avgpool(x)\n",
    "        x = torch.squeeze(x)\n",
    "#         x = self.linear(x)\n",
    "        x = torch.nn.Softmax(dim=1)(x)\n",
    "#         x = torch.sigmoid(x)\n",
    "        \n",
    "        return x"
   ]
  },
  {
   "cell_type": "code",
   "execution_count": 8,
   "id": "12f00a2e-56f8-400a-8f67-c2566254a401",
   "metadata": {},
   "outputs": [],
   "source": [
    "net = Net().to(device)\n",
    "criterion = nn.CrossEntropyLoss().to(device)"
   ]
  },
  {
   "cell_type": "code",
   "execution_count": 9,
   "id": "5bb5f59f-6c53-4939-904a-c0bc8dcbec09",
   "metadata": {},
   "outputs": [
    {
     "name": "stdout",
     "output_type": "stream",
     "text": [
      "torch.Size([64, 3, 32, 32])\n"
     ]
    }
   ],
   "source": [
    "image, label = iter(trainloader).next()\n",
    "print(image.shape)"
   ]
  },
  {
   "cell_type": "code",
   "execution_count": 10,
   "id": "5f2c4fbe-b6f4-412b-bfcd-30d6182cb74b",
   "metadata": {},
   "outputs": [
    {
     "name": "stdout",
     "output_type": "stream",
     "text": [
      "torch.Size([64, 10])\n"
     ]
    },
    {
     "name": "stderr",
     "output_type": "stream",
     "text": [
      "/home/beomgon/anaconda3/envs/pytorch_retina/lib/python3.7/site-packages/ipykernel_launcher.py:23: DeprecationWarning: 'saved_variables' is deprecated; use 'saved_tensors'\n"
     ]
    }
   ],
   "source": [
    "image, labels = iter(trainloader).next()\n",
    "outputs = net(image.to(device), conw1, conw2, conw3, conw4, conw5).to(device)\n",
    "print(outputs.shape)\n",
    "# print(outputs.sum(dim=1))\n",
    "# print(outputs)\n",
    "loss = criterion(outputs, labels.to(device))\n",
    "loss.backward()\n",
    "# print(torch.nn.Softmax(dim=1)(outputs).sum(dim=1))\n",
    "# outputs\n"
   ]
  },
  {
   "cell_type": "code",
   "execution_count": 11,
   "id": "cf08457c-bdf5-454d-b152-91959d5d4f18",
   "metadata": {},
   "outputs": [],
   "source": [
    "# conw5.grad"
   ]
  },
  {
   "cell_type": "code",
   "execution_count": 12,
   "id": "7a08cb68-a7a9-4163-b096-420b0da1e4fb",
   "metadata": {},
   "outputs": [],
   "source": [
    "def test (model, w1, w2, w3, w4, w5) :\n",
    "    correct = 0\n",
    "    total = 0\n",
    "    # since we're not training, we don't need to calculate the gradients for our outputs\n",
    "    with torch.no_grad():\n",
    "        for data in testloader:\n",
    "            inputs, labels = data\n",
    "\n",
    "            outputs = model(inputs.to(device), w1, w2, w3, w4, w5)\n",
    "            # the class with the highest energy is what we choose as prediction\n",
    "            _, predicted = torch.max(outputs.data, 1)\n",
    "            total += labels.size(0)\n",
    "            correct += (predicted == labels.to(device)).sum().item()\n",
    "\n",
    "    print('Accuracy of the network on the 10000 test images: %d %%' % (\n",
    "        100 * correct / total))"
   ]
  },
  {
   "cell_type": "code",
   "execution_count": 13,
   "id": "2309ec7d-2cba-4900-ab93-c2515453ca67",
   "metadata": {},
   "outputs": [
    {
     "name": "stdout",
     "output_type": "stream",
     "text": [
      "[1,     1] loss: 0.012\n"
     ]
    },
    {
     "name": "stderr",
     "output_type": "stream",
     "text": [
      "/home/beomgon/anaconda3/envs/pytorch_retina/lib/python3.7/site-packages/ipykernel_launcher.py:23: DeprecationWarning: 'saved_variables' is deprecated; use 'saved_tensors'\n"
     ]
    },
    {
     "name": "stdout",
     "output_type": "stream",
     "text": [
      "[1,   201] loss: 2.108\n",
      "[1,   401] loss: 2.014\n",
      "[1,   601] loss: 1.973\n",
      "Accuracy of the network on the 10000 test images: 49 %\n",
      "[2,     1] loss: 0.009\n",
      "[2,   201] loss: 1.907\n",
      "[2,   401] loss: 1.896\n",
      "[2,   601] loss: 1.894\n",
      "Accuracy of the network on the 10000 test images: 56 %\n",
      "[3,     1] loss: 0.009\n",
      "[3,   201] loss: 1.871\n",
      "[3,   401] loss: 1.864\n",
      "[3,   601] loss: 1.868\n",
      "Accuracy of the network on the 10000 test images: 59 %\n",
      "[4,     1] loss: 0.009\n",
      "[4,   201] loss: 1.850\n",
      "[4,   401] loss: 1.840\n",
      "[4,   601] loss: 1.840\n",
      "Accuracy of the network on the 10000 test images: 60 %\n",
      "[5,     1] loss: 0.009\n",
      "[5,   201] loss: 1.833\n",
      "[5,   401] loss: 1.838\n",
      "[5,   601] loss: 1.835\n",
      "Accuracy of the network on the 10000 test images: 60 %\n",
      "[6,     1] loss: 0.009\n",
      "[6,   201] loss: 1.830\n",
      "[6,   401] loss: 1.834\n",
      "[6,   601] loss: 1.833\n",
      "Accuracy of the network on the 10000 test images: 60 %\n",
      "[7,     1] loss: 0.009\n",
      "[7,   201] loss: 1.836\n",
      "[7,   401] loss: 1.821\n",
      "[7,   601] loss: 1.829\n",
      "Accuracy of the network on the 10000 test images: 60 %\n",
      "[8,     1] loss: 0.010\n",
      "[8,   201] loss: 1.828\n",
      "[8,   401] loss: 1.824\n",
      "[8,   601] loss: 1.830\n",
      "Accuracy of the network on the 10000 test images: 60 %\n",
      "[9,     1] loss: 0.009\n",
      "[9,   201] loss: 1.824\n",
      "[9,   401] loss: 1.826\n",
      "[9,   601] loss: 1.833\n",
      "Accuracy of the network on the 10000 test images: 60 %\n",
      "[10,     1] loss: 0.009\n",
      "[10,   201] loss: 1.830\n",
      "[10,   401] loss: 1.824\n",
      "[10,   601] loss: 1.828\n",
      "Accuracy of the network on the 10000 test images: 60 %\n"
     ]
    }
   ],
   "source": [
    "lr_list = [0.05, 0.01, 0.01, 0.002, 0.001, 0.001, 0.0002, 0.0001, 0.00002, 0.00001]\n",
    "# lr_list = [0.05] * 10\n",
    "criterion = nn.CrossEntropyLoss().to(device)\n",
    "for epoch in range(10) :    \n",
    "    running_loss = 0.0\n",
    "    learning_rate = lr_list[epoch]\n",
    "    for i, data in enumerate(trainloader, 0):\n",
    "        inputs, labels = data\n",
    "\n",
    "        outputs = net(inputs.to(device), conw1, conw2, conw3, conw4, conw5)\n",
    "#         print(outputs.shape)\n",
    "#         print(labels.shape)\n",
    "        loss = criterion(outputs, labels.to(device))\n",
    "#         print(loss)\n",
    "        loss.backward()    \n",
    "\n",
    "        # print statistics\n",
    "        running_loss += loss.item()\n",
    "        if i % 200 == 0:    # print every 2000 mini-batches\n",
    "            print('[%d, %5d] loss: %.3f' %\n",
    "                  (epoch + 1, i + 1, running_loss / 200))\n",
    "            running_loss = 0.0 \n",
    "#             print(conw1[0][0][0])\n",
    "#             print(conw5[0][0][0])\n",
    "#             print(conw4.grad)\n",
    "            \n",
    "        with torch.no_grad():\n",
    "            # Update weights using gradient descent\n",
    "            conw1 -= learning_rate * conw1.grad\n",
    "            conw2 -= learning_rate * conw2.grad\n",
    "            conw3 -= learning_rate * conw3.grad\n",
    "            conw4 -= learning_rate * conw4.grad\n",
    "            conw5 -= learning_rate * conw5.grad\n",
    "\n",
    "            # Manually zero the gradients after running the backward pass\n",
    "            conw1.grad.zero_()\n",
    "            conw2.grad.zero_()   \n",
    "            conw3.grad.zero_()\n",
    "            conw4.grad.zero_()       \n",
    "            conw5.grad.zero_()                   \n",
    "            \n",
    "    test(net, conw1, conw2, conw3, conw4, conw5)"
   ]
  },
  {
   "cell_type": "code",
   "execution_count": null,
   "id": "9ebaf905-d82c-45f4-8cf5-7dbf57746d48",
   "metadata": {},
   "outputs": [],
   "source": []
  },
  {
   "cell_type": "code",
   "execution_count": 14,
   "id": "3be209fc-1dc9-4503-8cac-cb289ca17d2a",
   "metadata": {},
   "outputs": [],
   "source": [
    "# filters = torch.randn(12, 3, 3, 3)\n",
    "# inputs = torch.randn(2, 3, 32, 32)\n",
    "# F.conv2d(inputs, filters, padding=1).shape"
   ]
  },
  {
   "cell_type": "code",
   "execution_count": 15,
   "id": "6dc86290-8dcf-4ba5-b081-a68e0f0b5633",
   "metadata": {},
   "outputs": [
    {
     "name": "stdout",
     "output_type": "stream",
     "text": [
      "torch.Size([4, 6])\n"
     ]
    },
    {
     "data": {
      "text/plain": [
       "tensor([[ 0.3808, -0.5430,  0.2496,  0.0992,  0.8057,  0.1304],\n",
       "        [ 1.6136, -0.6286, -0.7112,  0.6455, -0.0244,  0.1755],\n",
       "        [ 0.5516, -0.6623,  0.2483,  0.4446,  0.1969, -0.2364],\n",
       "        [ 0.9153, -0.2632,  0.1100,  0.2699, -0.6105,  0.0084]])"
      ]
     },
     "execution_count": 15,
     "metadata": {},
     "output_type": "execute_result"
    }
   ],
   "source": [
    "import torch\n",
    "x = torch.randn(4,6)\n",
    "print(x.shape)\n",
    "# torch.nn.Softmax(dim=1)(x)\n",
    "# x.clamp(min=0)\n",
    "x"
   ]
  },
  {
   "cell_type": "code",
   "execution_count": 16,
   "id": "13d25a3b-a193-4654-9754-c1d9ebb73575",
   "metadata": {},
   "outputs": [
    {
     "data": {
      "text/plain": [
       "tensor([[ 0.7080, -1.0095,  0.4640,  0.1845,  1.4979,  0.2425],\n",
       "        [ 3.0000, -1.1687, -1.3222,  1.2001, -0.0453,  0.3263],\n",
       "        [ 1.0255, -1.2313,  0.4617,  0.8266,  0.3661, -0.4396],\n",
       "        [ 1.7018, -0.4893,  0.2045,  0.5018, -1.1350,  0.0156]])"
      ]
     },
     "execution_count": 16,
     "metadata": {},
     "output_type": "execute_result"
    }
   ],
   "source": [
    "3*x/torch.max(x)"
   ]
  },
  {
   "cell_type": "code",
   "execution_count": 17,
   "id": "718b9f1d-1159-47e7-a3be-1a5afd747d83",
   "metadata": {},
   "outputs": [
    {
     "data": {
      "text/plain": [
       "tensor([[1.3399, 0.5341, 1.2279, 1.0920, 1.6345, 1.1207],\n",
       "        [1.9051, 0.4742, 0.4209, 1.5371, 0.9773, 1.1617],\n",
       "        [1.4721, 0.4519, 1.2268, 1.3913, 1.1810, 0.7837],\n",
       "        [1.6915, 0.7601, 1.1019, 1.2458, 0.4865, 1.0078]])"
      ]
     },
     "execution_count": 17,
     "metadata": {},
     "output_type": "execute_result"
    }
   ],
   "source": [
    "2*torch.sigmoid(3*x/torch.max(x))"
   ]
  },
  {
   "cell_type": "code",
   "execution_count": null,
   "id": "3d2eb9d7-947b-4bda-9cbf-a41913ad6f9d",
   "metadata": {},
   "outputs": [],
   "source": []
  }
 ],
 "metadata": {
  "kernelspec": {
   "display_name": "pytorch_retina",
   "language": "python",
   "name": "pytorch_retina"
  },
  "language_info": {
   "codemirror_mode": {
    "name": "ipython",
    "version": 3
   },
   "file_extension": ".py",
   "mimetype": "text/x-python",
   "name": "python",
   "nbconvert_exporter": "python",
   "pygments_lexer": "ipython3",
   "version": "3.7.10"
  }
 },
 "nbformat": 4,
 "nbformat_minor": 5
}
