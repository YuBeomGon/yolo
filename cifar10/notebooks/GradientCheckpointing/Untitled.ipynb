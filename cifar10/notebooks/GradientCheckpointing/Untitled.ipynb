{
 "cells": [
  {
   "cell_type": "code",
   "execution_count": 1,
   "id": "fefb8688-e7ef-470e-a78f-e2db96cd6e21",
   "metadata": {},
   "outputs": [],
   "source": [
    "# https://spell.ml/blog/gradient-checkpointing-pytorch-YGypLBAAACEAefHs"
   ]
  },
  {
   "cell_type": "code",
   "execution_count": 2,
   "id": "fd1638d4-5728-433c-a0a9-8b5c498206d3",
   "metadata": {},
   "outputs": [],
   "source": [
    "import torch\n",
    "import torch.nn as nn\n",
    "\n",
    "from torch.utils.checkpoint import checkpoint_sequential"
   ]
  },
  {
   "cell_type": "code",
   "execution_count": 3,
   "id": "a66f0cf6-d96d-477b-ae92-b036c921154d",
   "metadata": {},
   "outputs": [],
   "source": [
    "# a trivial model\n",
    "model = nn.Sequential(\n",
    "    nn.Linear(100, 50),\n",
    "    nn.ReLU(),\n",
    "    nn.Linear(50, 20),\n",
    "    nn.ReLU(),\n",
    "    nn.Linear(20, 5),\n",
    "    nn.ReLU()\n",
    ")"
   ]
  },
  {
   "cell_type": "code",
   "execution_count": 8,
   "id": "f9f13709-55e9-4cbb-984c-7c7f3e3a02b9",
   "metadata": {},
   "outputs": [],
   "source": [
    "# # model input\n",
    "# input_var = torch.randn(1, 100, requires_grad=True)\n",
    "\n",
    "# # the number of segments to divide the model into\n",
    "# segments = 2\n",
    "\n",
    "# # finally, apply checkpointing to the model\n",
    "# # note the code that this replaces:\n",
    "# # out = model(input_var)\n",
    "# out = checkpoint_sequential(modules, segments, input_var)\n",
    "\n",
    "# # backpropagate\n",
    "# out.sum().backwards()"
   ]
  },
  {
   "cell_type": "code",
   "execution_count": 29,
   "id": "14ec26f1-195c-4af8-af67-ec25bc61c96f",
   "metadata": {},
   "outputs": [],
   "source": [
    "class CIFAR10Model(nn.Module):\n",
    "    def __init__(self):\n",
    "        super().__init__()\n",
    "        self.cnn_block_1 = nn.Sequential(*[\n",
    "            nn.Conv2d(3, 32, 3, padding=1),\n",
    "            nn.ReLU(),\n",
    "            nn.Conv2d(32, 64, 3, padding=1),\n",
    "            nn.ReLU(),\n",
    "            nn.MaxPool2d(kernel_size=2)\n",
    "        ])\n",
    "        self.dropout_1 = nn.Dropout(0.25)\n",
    "        self.cnn_block_2 = nn.Sequential(*[\n",
    "            nn.Conv2d(64, 64, 3, padding=1),\n",
    "            nn.ReLU(),\n",
    "            nn.Conv2d(64, 64, 3, padding=1),\n",
    "            nn.ReLU(),\n",
    "            nn.MaxPool2d(kernel_size=2)\n",
    "        ])\n",
    "        self.dropout_2 = nn.Dropout(0.25)\n",
    "        self.flatten = lambda inp: torch.flatten(inp, 1)\n",
    "        self.linearize = nn.Sequential(*[\n",
    "            nn.Linear(64 * 8 * 8, 512),\n",
    "            nn.ReLU()\n",
    "        ])\n",
    "        self.dropout_3 = nn.Dropout(0.5)\n",
    "        self.out = nn.Linear(512, 10)\n",
    "        self.softmax = nn.Softmax(dim=-1)\n",
    "    \n",
    "    def forward(self, X):\n",
    "        X = self.cnn_block_1(X)\n",
    "        X = self.dropout_1(X)\n",
    "        X = torch.utils.checkpoint.checkpoint(self.cnn_block_2, X)\n",
    "        X = self.dropout_2(X)\n",
    "        X = self.flatten(X)\n",
    "        X = self.linearize(X)\n",
    "        X = self.dropout_3(X)\n",
    "        X = self.out(X)\n",
    "        X = self.softmax(X)\n",
    "        return X"
   ]
  },
  {
   "cell_type": "code",
   "execution_count": 42,
   "id": "4fe9573d-9a4a-4473-a00b-1f23fff01efb",
   "metadata": {},
   "outputs": [],
   "source": [
    "images = torch.randn(8,3,32,32,  requires_grad=True)\n",
    "label = torch.randint(10, (8,))"
   ]
  },
  {
   "cell_type": "code",
   "execution_count": 43,
   "id": "c6233fc5-0fd2-40d4-bdca-c97a3e603735",
   "metadata": {},
   "outputs": [],
   "source": [
    "model = CIFAR10Model()\n",
    "Celoss = nn.CrossEntropyLoss()\n"
   ]
  },
  {
   "cell_type": "code",
   "execution_count": 44,
   "id": "8e0607aa-076a-427d-bcd8-e2cc42bc8302",
   "metadata": {},
   "outputs": [],
   "source": [
    "out = model(images)"
   ]
  },
  {
   "cell_type": "code",
   "execution_count": 45,
   "id": "548ae132-f34c-4ed3-b20c-25a5d7eef7db",
   "metadata": {},
   "outputs": [
    {
     "data": {
      "text/plain": [
       "tensor([8, 7, 2, 0, 0, 3, 4, 9])"
      ]
     },
     "execution_count": 45,
     "metadata": {},
     "output_type": "execute_result"
    }
   ],
   "source": [
    "label"
   ]
  },
  {
   "cell_type": "code",
   "execution_count": 46,
   "id": "8e3f2b1e-d9f1-4094-80a7-3ae82c44ba32",
   "metadata": {},
   "outputs": [],
   "source": [
    "loss = Celoss(out, label)"
   ]
  },
  {
   "cell_type": "code",
   "execution_count": 49,
   "id": "17d4f28f-252b-4041-8a6e-b771e168008d",
   "metadata": {},
   "outputs": [],
   "source": [
    "loss.backward()"
   ]
  },
  {
   "cell_type": "code",
   "execution_count": null,
   "id": "0a2ed5c9-e092-4afa-90e2-77c8fa74a9ef",
   "metadata": {},
   "outputs": [],
   "source": []
  }
 ],
 "metadata": {
  "kernelspec": {
   "display_name": "pytorch_retina",
   "language": "python",
   "name": "pytorch_retina"
  },
  "language_info": {
   "codemirror_mode": {
    "name": "ipython",
    "version": 3
   },
   "file_extension": ".py",
   "mimetype": "text/x-python",
   "name": "python",
   "nbconvert_exporter": "python",
   "pygments_lexer": "ipython3",
   "version": "3.7.10"
  }
 },
 "nbformat": 4,
 "nbformat_minor": 5
}
