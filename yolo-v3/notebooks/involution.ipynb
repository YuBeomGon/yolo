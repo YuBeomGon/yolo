{
 "cells": [
  {
   "cell_type": "code",
   "execution_count": 2,
   "id": "bcde9571-5981-4454-a35a-7ba6b49f6f31",
   "metadata": {},
   "outputs": [],
   "source": [
    "import torch\n",
    "import torch.nn as nn\n",
    "import sys\n",
    "sys.path.append('../')\n",
    "from involution import Involution"
   ]
  },
  {
   "cell_type": "code",
   "execution_count": 13,
   "id": "5ab0b7ad-4129-4c83-b51f-731a7abda6db",
   "metadata": {},
   "outputs": [
    {
     "name": "stdout",
     "output_type": "stream",
     "text": [
      "torch.Size([2, 33, 99, 99])\n",
      "torch.Size([2, 33, 103, 200])\n",
      "torch.Size([2, 33, 101, 200])\n"
     ]
    }
   ],
   "source": [
    "# With square kernels and equal stride\n",
    "m1 = nn.Conv2d(4, 33, 3, stride=2)\n",
    "# non-square kernels and unequal stride and with padding\n",
    "m2 = nn.Conv2d(4, 33, (3, 5), stride=(2, 1), padding=(4, 2))\n",
    "# non-square kernels and unequal stride and with padding and dilation\n",
    "m3 = nn.Conv2d(4, 33, (3, 5), stride=(2, 1), padding=(4, 2), dilation=(3, 1))\n",
    "input = torch.randn(2, 4, 200, 200)\n",
    "output1 = m1(input)\n",
    "output2 = m2(input)\n",
    "output3 = m3(input)\n",
    "print(output1.shape)\n",
    "print(output2.shape)\n",
    "print(output3.shape)"
   ]
  },
  {
   "cell_type": "code",
   "execution_count": 16,
   "id": "082b6e07-93b3-4450-8a40-92f671242a91",
   "metadata": {},
   "outputs": [
    {
     "name": "stdout",
     "output_type": "stream",
     "text": [
      "torch.Size([2, 30, 200, 200])\n",
      "torch.Size([2, 30, 200, 200])\n"
     ]
    }
   ],
   "source": [
    "i1 = Involution(4, 30 )\n",
    "i2 = Involution(4, 30, groups=2)\n",
    "o1 = i1(input)\n",
    "o2 = i2(input)\n",
    "print(o1.shape)\n",
    "print(o2.shape)"
   ]
  },
  {
   "cell_type": "code",
   "execution_count": 18,
   "id": "bc04e95b-e1ea-4d3b-a745-69a7c4f37754",
   "metadata": {},
   "outputs": [
    {
     "data": {
      "text/plain": [
       "2"
      ]
     },
     "execution_count": 18,
     "metadata": {},
     "output_type": "execute_result"
    }
   ],
   "source": [
    "9//4"
   ]
  },
  {
   "cell_type": "code",
   "execution_count": 19,
   "id": "57b8688d-b992-46bf-ba45-251e30af3b91",
   "metadata": {},
   "outputs": [],
   "source": [
    "m = nn.Conv2d(16, 33, 3, stride=2)"
   ]
  },
  {
   "cell_type": "code",
   "execution_count": null,
   "id": "6078c773-0718-4c93-b313-b11e1ba5f1df",
   "metadata": {},
   "outputs": [],
   "source": [
    "m.ba"
   ]
  }
 ],
 "metadata": {
  "kernelspec": {
   "display_name": "pytorch_retina",
   "language": "python",
   "name": "pytorch_retina"
  },
  "language_info": {
   "codemirror_mode": {
    "name": "ipython",
    "version": 3
   },
   "file_extension": ".py",
   "mimetype": "text/x-python",
   "name": "python",
   "nbconvert_exporter": "python",
   "pygments_lexer": "ipython3",
   "version": "3.7.10"
  }
 },
 "nbformat": 4,
 "nbformat_minor": 5
}
