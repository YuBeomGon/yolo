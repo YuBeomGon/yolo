{
 "cells": [
  {
   "cell_type": "code",
   "execution_count": 1,
   "id": "a08d91b9-2360-491b-8fba-57b538e9b60c",
   "metadata": {},
   "outputs": [
    {
     "name": "stdout",
     "output_type": "stream",
     "text": [
      "[0.05, 0.04351133533380851, 0.03763019350290237, 0.03233860639039575, 0.027610188407766852, 0.023412708106044778, 0.019710173577058045, 0.01646450246756338, 0.013636839516207507, 0.011188577139226377, 0.00908212776868068, 0.0072814904000044894, 0.005752648131336976, 0.004463828361377955, 0.003385652732557608, 0.0024911998332304472, 0.0017560000734507363, 0.001157978988356383, 0.0006773624649329806, 0.00029655499559261365]\n"
     ]
    }
   ],
   "source": [
    "# imports\n",
    "import matplotlib.pyplot as plt\n",
    "import matplotlib\n",
    "# import joblib\n",
    "import cv2\n",
    "import os\n",
    "import torch \n",
    "import numpy as np\n",
    "import torch.nn as nn\n",
    "import torch.nn.functional as F\n",
    "import torch.optim as optim\n",
    "import time\n",
    "import random\n",
    "import math\n",
    "import sys\n",
    "sys.path.append('../')\n",
    "\n",
    "#import pretrainedmodels\n",
    "from imutils import paths\n",
    "from sklearn.preprocessing import LabelBinarizer\n",
    "from sklearn.model_selection import train_test_split\n",
    "from torchvision.transforms import transforms\n",
    "from torch.utils.data import DataLoader, Dataset\n",
    "from tqdm import tqdm\n",
    "\n",
    "from gated import *\n",
    "from resnet import resnet18\n",
    "from resnet_gated import resnet18_gated\n",
    "from train import train_sgd, test, train_gated\n",
    "from dataset import *"
   ]
  },
  {
   "cell_type": "code",
   "execution_count": 2,
   "id": "15d01384-e820-485f-9257-8a266a0ad82f",
   "metadata": {},
   "outputs": [],
   "source": [
    "# !pip install pretrainedmodels"
   ]
  },
  {
   "cell_type": "code",
   "execution_count": 3,
   "id": "ffabfdd5-37bb-46a9-8bf6-8e93e50c34ea",
   "metadata": {},
   "outputs": [],
   "source": [
    "# device = torch.device(\"cpu\")\n",
    "device = torch.device(\"cuda\")\n",
    "dtype = torch.float\n",
    "BATCH_SIZE = 64"
   ]
  },
  {
   "cell_type": "code",
   "execution_count": 4,
   "id": "4b0f42e8-c6e8-4565-9ad8-08044a133b0e",
   "metadata": {},
   "outputs": [
    {
     "name": "stderr",
     "output_type": "stream",
     "text": [
      "/home/beomgon/anaconda3/envs/pytorch_retina/lib/python3.7/site-packages/ipykernel_launcher.py:12: VisibleDeprecationWarning: Creating an ndarray from ragged nested sequences (which is a list-or-tuple of lists-or-tuples-or ndarrays with different lengths or shapes) is deprecated. If you meant to do this, you must specify 'dtype=object' when creating the ndarray\n",
      "  if sys.path[0] == '':\n"
     ]
    }
   ],
   "source": [
    "image_paths = list(paths.list_images('../data/101_ObjectCategories'))\n",
    "data = []\n",
    "labels = []\n",
    "for image_path in image_paths:\n",
    "    label = image_path.split(os.path.sep)[-2]\n",
    "    if label == 'BACKGROUND_Google':\n",
    "        continue\n",
    "    image = cv2.imread(image_path)\n",
    "    image = cv2.cvtColor(image, cv2.COLOR_BGR2RGB)\n",
    "    data.append(image)\n",
    "    labels.append(label)\n",
    "data = np.array(data)\n",
    "labels = np.array(labels)"
   ]
  },
  {
   "cell_type": "code",
   "execution_count": 5,
   "id": "292073f9-9ff6-4f66-b830-fb964b7aa3ad",
   "metadata": {},
   "outputs": [
    {
     "data": {
      "text/plain": [
       "101"
      ]
     },
     "execution_count": 5,
     "metadata": {},
     "output_type": "execute_result"
    }
   ],
   "source": [
    "len(set(labels))"
   ]
  },
  {
   "cell_type": "code",
   "execution_count": 6,
   "id": "745cdd14-feb6-446f-9e24-dff1e3710002",
   "metadata": {},
   "outputs": [
    {
     "name": "stdout",
     "output_type": "stream",
     "text": [
      "Total number of classes: 101\n"
     ]
    }
   ],
   "source": [
    "# one hot encode\n",
    "lb = LabelBinarizer()\n",
    "labels = lb.fit_transform(labels)\n",
    "print(f\"Total number of classes: {len(lb.classes_)}\")\n"
   ]
  },
  {
   "cell_type": "code",
   "execution_count": 7,
   "id": "d1eefcfe-51cf-49d5-9e33-a016f3fa7cb3",
   "metadata": {},
   "outputs": [
    {
     "name": "stdout",
     "output_type": "stream",
     "text": [
      "x_train examples: (6073,)\n",
      "x_test examples: (1693,)\n",
      "x_val examples: (911,)\n"
     ]
    }
   ],
   "source": [
    "# divide the data into train, validation, and test set\n",
    "(x_train, x_val , y_train, y_val) = train_test_split(data, labels, \n",
    "                                                    test_size=0.3,  \n",
    "                                                    stratify=labels,\n",
    "                                                    random_state=42)\n",
    "\n",
    "(x_val, x_test, y_val, y_test) = train_test_split(x_val, y_val, \n",
    "                                                    test_size=0.65, \n",
    "                                                    random_state=42)\n",
    "print(f\"x_train examples: {x_train.shape}\\nx_test examples: {x_test.shape}\\nx_val examples: {x_val.shape}\")"
   ]
  },
  {
   "cell_type": "code",
   "execution_count": 8,
   "id": "673c4df8-a232-4e29-9911-142ad817cda1",
   "metadata": {},
   "outputs": [
    {
     "data": {
      "text/plain": [
       "array([98,  3, 65, 52,  0,  1, 71, 72,  3,  3, 23,  3,  1, 55,  1, 11, 17,\n",
       "       40, 90, 53])"
      ]
     },
     "execution_count": 8,
     "metadata": {},
     "output_type": "execute_result"
    }
   ],
   "source": [
    "np.argmax(y_val[:20], axis=-1)"
   ]
  },
  {
   "cell_type": "code",
   "execution_count": 9,
   "id": "04ab7404-c1f6-4018-8dd3-10d24ec1317c",
   "metadata": {},
   "outputs": [],
   "source": [
    "train_data = ImageDataset(x_train, y_train, train_transform)\n",
    "val_data = ImageDataset(x_val, y_val, val_transform)\n",
    "test_data = ImageDataset(x_test, y_test, val_transform)\n",
    "\n",
    "# dataloaders\n",
    "trainloader = DataLoader(train_data, batch_size=BATCH_SIZE, shuffle=True)\n",
    "valloader = DataLoader(val_data, batch_size=BATCH_SIZE, shuffle=True)\n",
    "testloader = DataLoader(test_data, batch_size=BATCH_SIZE, shuffle=False)"
   ]
  },
  {
   "cell_type": "code",
   "execution_count": 10,
   "id": "0ca52140-4ae7-4072-80c3-49fad5bbed46",
   "metadata": {},
   "outputs": [
    {
     "name": "stdout",
     "output_type": "stream",
     "text": [
      "dilation [False, False, False]\n",
      "stride 1\n",
      "downsample\n",
      "stride 2\n",
      "downsample\n",
      "stride 2\n",
      "downsample\n",
      "stride 2\n",
      "dilation [False, False, False]\n",
      "stride 1\n",
      "downsample\n",
      "stride 2\n",
      "downsample\n",
      "stride 2\n",
      "downsample\n",
      "stride 2\n"
     ]
    }
   ],
   "source": [
    "model = resnet18(pretrained=False).to(device)\n",
    "model_gated = resnet18_gated(pretrained=False).to(device)"
   ]
  },
  {
   "cell_type": "code",
   "execution_count": 11,
   "id": "b7768450-0e47-4bc7-b29d-dc73f876617b",
   "metadata": {},
   "outputs": [
    {
     "name": "stdout",
     "output_type": "stream",
     "text": [
      "Training on 6073 examples, validating on 911 examples...\n",
      "Epoch 1 of 20\n",
      "Train Loss: 0.0604, Train Acc: 20.73\n",
      "Val Loss: 0.0591, Val Acc: 22.17\n",
      "Epoch 2 of 20\n",
      "Train Loss: 0.0491, Train Acc: 31.30\n",
      "Val Loss: 0.0494, Val Acc: 35.35\n",
      "Epoch 3 of 20\n",
      "Train Loss: 0.0429, Train Acc: 38.15\n",
      "Val Loss: 0.0413, Val Acc: 41.05\n",
      "Epoch 4 of 20\n",
      "Train Loss: 0.0378, Train Acc: 43.60\n",
      "Val Loss: 0.0407, Val Acc: 44.13\n",
      "Epoch 5 of 20\n",
      "Train Loss: 0.0330, Train Acc: 49.27\n",
      "Val Loss: 0.0348, Val Acc: 49.62\n",
      "Epoch 6 of 20\n",
      "Train Loss: 0.0292, Train Acc: 53.86\n",
      "Val Loss: 0.0306, Val Acc: 54.67\n",
      "Epoch 7 of 20\n",
      "Train Loss: 0.0238, Train Acc: 60.68\n",
      "Val Loss: 0.0309, Val Acc: 55.43\n",
      "Epoch 8 of 20\n",
      "Train Loss: 0.0195, Train Acc: 67.46\n",
      "Val Loss: 0.0296, Val Acc: 56.53\n",
      "Epoch 9 of 20\n",
      "Train Loss: 0.0154, Train Acc: 73.34\n",
      "Val Loss: 0.0277, Val Acc: 61.14\n",
      "Epoch 10 of 20\n",
      "Train Loss: 0.0112, Train Acc: 80.75\n",
      "Val Loss: 0.0263, Val Acc: 62.02\n",
      "Epoch 11 of 20\n",
      "Train Loss: 0.0054, Train Acc: 92.03\n",
      "Val Loss: 0.0189, Val Acc: 71.90\n",
      "Epoch 12 of 20\n",
      "Train Loss: 0.0034, Train Acc: 96.54\n",
      "Val Loss: 0.0186, Val Acc: 71.35\n",
      "Epoch 13 of 20\n",
      "Train Loss: 0.0027, Train Acc: 97.23\n",
      "Val Loss: 0.0192, Val Acc: 72.01\n",
      "Epoch 14 of 20\n",
      "Train Loss: 0.0022, Train Acc: 97.96\n",
      "Val Loss: 0.0186, Val Acc: 71.68\n",
      "Epoch 15 of 20\n",
      "Train Loss: 0.0018, Train Acc: 98.60\n",
      "Val Loss: 0.0184, Val Acc: 71.46\n",
      "Epoch 16 of 20\n",
      "Train Loss: 0.0015, Train Acc: 98.91\n",
      "Val Loss: 0.0191, Val Acc: 72.34\n",
      "Epoch 17 of 20\n",
      "Train Loss: 0.0013, Train Acc: 99.31\n",
      "Val Loss: 0.0192, Val Acc: 71.79\n",
      "Epoch 18 of 20\n",
      "Train Loss: 0.0010, Train Acc: 99.69\n",
      "Val Loss: 0.0195, Val Acc: 72.45\n",
      "Epoch 19 of 20\n",
      "Train Loss: 0.0009, Train Acc: 99.65\n",
      "Val Loss: 0.0190, Val Acc: 72.23\n",
      "Epoch 20 of 20\n",
      "Train Loss: 0.0008, Train Acc: 99.87\n",
      "Val Loss: 0.0183, Val Acc: 71.90\n",
      "5.592727438608805 minutes\n"
     ]
    },
    {
     "data": {
      "image/png": "[encoded data removed]",
      "text/plain": [
       "<Figure size 720x504 with 1 Axes>"
      ]
     },
     "metadata": {
      "needs_background": "light"
     },
     "output_type": "display_data"
    },
    {
     "data": {
      "image/png": "[encoded data removed]",
      "text/plain": [
       "<Figure size 720x504 with 1 Axes>"
      ]
     },
     "metadata": {
      "needs_background": "light"
     },
     "output_type": "display_data"
    }
   ],
   "source": [
    "print(f\"Training on {len(train_data)} examples, validating on {len(val_data)} examples...\")\n",
    "train_sgd(model, trainloader, valloader)"
   ]
  },
  {
   "cell_type": "code",
   "execution_count": 12,
   "id": "dac1da97-fa8d-4255-8890-bfd0b1f0ee4c",
   "metadata": {},
   "outputs": [
    {
     "name": "stdout",
     "output_type": "stream",
     "text": [
      "Accuracy of testthe network on test images: 72.475 %\n",
      "train.py finished running\n"
     ]
    }
   ],
   "source": [
    "correct, total = test(model, testloader)\n",
    "print('Accuracy of testthe network on test images: %0.3f %%' % (100 * correct / total))\n",
    "print('train.py finished running')"
   ]
  },
  {
   "cell_type": "code",
   "execution_count": null,
   "id": "bfc901a0-25db-428e-bd9c-30b4bbc7b2a8",
   "metadata": {},
   "outputs": [
    {
     "name": "stdout",
     "output_type": "stream",
     "text": [
      "Training on 6073 examples, validating on 911 examples...\n",
      "Epoch 1 of 20\n",
      "Train Loss: 0.0759, Train Acc: 14.56\n",
      "Val Loss: 0.8478, Val Acc: 8.56\n",
      "Epoch 2 of 20\n",
      "Train Loss: 0.0557, Train Acc: 26.03\n",
      "Val Loss: 0.0545, Val Acc: 32.05\n",
      "Epoch 3 of 20\n",
      "Train Loss: 0.0477, Train Acc: 33.74\n",
      "Val Loss: 0.0489, Val Acc: 36.55\n",
      "Epoch 4 of 20\n",
      "Train Loss: 0.0425, Train Acc: 39.04\n",
      "Val Loss: 0.0440, Val Acc: 41.49\n",
      "Epoch 5 of 20\n",
      "Train Loss: 0.0384, Train Acc: 43.50\n",
      "Val Loss: 0.0420, Val Acc: 42.81\n",
      "Epoch 6 of 20\n",
      "Train Loss: 0.0350, Train Acc: 47.72\n",
      "Val Loss: 0.0375, Val Acc: 47.31\n",
      "Epoch 7 of 20\n",
      "Train Loss: 0.0317, Train Acc: 52.10\n",
      "Val Loss: 0.0371, Val Acc: 49.40\n",
      "Epoch 8 of 20\n",
      "Train Loss: 0.0287, Train Acc: 55.59\n",
      "Val Loss: 0.0446, Val Acc: 48.63\n",
      "Epoch 9 of 20\n",
      "Train Loss: 0.0253, Train Acc: 59.48\n",
      "Val Loss: 0.0370, Val Acc: 51.70\n",
      "Epoch 10 of 20\n",
      "Train Loss: 0.0218, Train Acc: 65.42\n",
      "Val Loss: 0.2165, Val Acc: 53.24\n",
      "Epoch 11 of 20\n",
      "Train Loss: 0.0144, Train Acc: 77.61\n",
      "Val Loss: 0.0389, Val Acc: 57.19\n",
      "Epoch 12 of 20\n",
      "Train Loss: 0.0115, Train Acc: 83.25\n",
      "Val Loss: 0.0336, Val Acc: 58.84\n",
      "Epoch 13 of 20\n",
      "Train Loss: 0.0102, Train Acc: 85.66\n",
      "Val Loss: 0.0422, Val Acc: 57.52\n",
      "Epoch 14 of 20\n",
      "Train Loss: 0.0090, Train Acc: 88.14\n",
      "Val Loss: 0.0407, Val Acc: 57.74\n",
      "Epoch 15 of 20\n",
      "Train Loss: 0.0081, Train Acc: 89.40\n",
      "Val Loss: 0.0394, Val Acc: 59.06\n",
      "Epoch 16 of 20\n",
      "Train Loss: 0.0071, Train Acc: 91.54\n",
      "Val Loss: 0.0367, Val Acc: 58.84\n",
      "Epoch 17 of 20\n",
      "Train Loss: 0.0062, Train Acc: 93.13\n",
      "Val Loss: 0.0380, Val Acc: 57.74\n",
      "Epoch 18 of 20\n",
      "Train Loss: 0.0053, Train Acc: 94.76\n",
      "Val Loss: 0.0421, Val Acc: 58.29\n",
      "Epoch 19 of 20\n",
      "Train Loss: 0.0046, Train Acc: 95.90\n",
      "Val Loss: 0.1327, Val Acc: 59.39\n",
      "Epoch 20 of 20\n"
     ]
    }
   ],
   "source": [
    "print(f\"Training on {len(train_data)} examples, validating on {len(val_data)} examples...\")\n",
    "train_gated(model_gated, trainloader, valloader)"
   ]
  },
  {
   "cell_type": "code",
   "execution_count": null,
   "id": "e4199023-3a04-4312-9109-ec39bc15cb21",
   "metadata": {},
   "outputs": [],
   "source": [
    "correct, total = test(model_gated, testloader)\n",
    "print('Accuracy of testthe network on test images: %0.3f %%' % (100 * correct / total))\n",
    "print('train.py finished running')"
   ]
  },
  {
   "cell_type": "code",
   "execution_count": null,
   "id": "08a476e3-e801-4d16-8304-c4cf7b2b8b84",
   "metadata": {},
   "outputs": [],
   "source": []
  }
 ],
 "metadata": {
  "kernelspec": {
   "display_name": "pytorch_retina",
   "language": "python",
   "name": "pytorch_retina"
  },
  "language_info": {
   "codemirror_mode": {
    "name": "ipython",
    "version": 3
   },
   "file_extension": ".py",
   "mimetype": "text/x-python",
   "name": "python",
   "nbconvert_exporter": "python",
   "pygments_lexer": "ipython3",
   "version": "3.7.10"
  }
 },
 "nbformat": 4,
 "nbformat_minor": 5
}
