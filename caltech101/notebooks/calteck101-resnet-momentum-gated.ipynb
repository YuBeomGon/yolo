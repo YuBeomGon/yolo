{
 "cells": [
  {
   "cell_type": "code",
   "execution_count": 1,
   "id": "a08d91b9-2360-491b-8fba-57b538e9b60c",
   "metadata": {},
   "outputs": [
    {
     "name": "stdout",
     "output_type": "stream",
     "text": [
      "[0.05, 0.04351133533380851, 0.03763019350290237, 0.03233860639039575, 0.027610188407766852, 0.023412708106044778, 0.019710173577058045, 0.01646450246756338, 0.013636839516207507, 0.011188577139226377, 0.00908212776868068, 0.0072814904000044894, 0.005752648131336976, 0.004463828361377955, 0.003385652732557608, 0.0024911998332304472, 0.0017560000734507363, 0.001157978988356383, 0.0006773624649329806, 0.00029655499559261365]\n"
     ]
    }
   ],
   "source": [
    "# imports\n",
    "import matplotlib.pyplot as plt\n",
    "import matplotlib\n",
    "# import joblib\n",
    "import cv2\n",
    "import os\n",
    "import torch \n",
    "import numpy as np\n",
    "import torch.nn as nn\n",
    "import torch.nn.functional as F\n",
    "import torch.optim as optim\n",
    "import time\n",
    "import random\n",
    "import math\n",
    "import sys\n",
    "sys.path.append('../')\n",
    "\n",
    "#import pretrainedmodels\n",
    "from imutils import paths\n",
    "from sklearn.preprocessing import LabelBinarizer\n",
    "from sklearn.model_selection import train_test_split\n",
    "from torchvision.transforms import transforms\n",
    "from torch.utils.data import DataLoader, Dataset\n",
    "from tqdm import tqdm\n",
    "\n",
    "from gated import *\n",
    "from resnet_gated import *\n",
    "from train import train_gated, test\n",
    "from dataset import *"
   ]
  },
  {
   "cell_type": "code",
   "execution_count": 2,
   "id": "15d01384-e820-485f-9257-8a266a0ad82f",
   "metadata": {},
   "outputs": [],
   "source": [
    "# !pip install pretrainedmodels"
   ]
  },
  {
   "cell_type": "code",
   "execution_count": 3,
   "id": "ffabfdd5-37bb-46a9-8bf6-8e93e50c34ea",
   "metadata": {},
   "outputs": [],
   "source": [
    "#device = torch.device(\"cpu\")\n",
    "device = torch.device(\"cuda\")\n",
    "dtype = torch.float\n",
    "\n",
    "BATCH_SIZE = 64"
   ]
  },
  {
   "cell_type": "code",
   "execution_count": 4,
   "id": "4b0f42e8-c6e8-4565-9ad8-08044a133b0e",
   "metadata": {},
   "outputs": [
    {
     "name": "stderr",
     "output_type": "stream",
     "text": [
      "/home/beomgon/anaconda3/envs/pytorch_retina/lib/python3.7/site-packages/ipykernel_launcher.py:12: VisibleDeprecationWarning: Creating an ndarray from ragged nested sequences (which is a list-or-tuple of lists-or-tuples-or ndarrays with different lengths or shapes) is deprecated. If you meant to do this, you must specify 'dtype=object' when creating the ndarray\n",
      "  if sys.path[0] == '':\n"
     ]
    }
   ],
   "source": [
    "image_paths = list(paths.list_images('../data/101_ObjectCategories'))\n",
    "data = []\n",
    "labels = []\n",
    "for image_path in image_paths:\n",
    "    label = image_path.split(os.path.sep)[-2]\n",
    "    if label == 'BACKGROUND_Google':\n",
    "        continue\n",
    "    image = cv2.imread(image_path)\n",
    "    image = cv2.cvtColor(image, cv2.COLOR_BGR2RGB)\n",
    "    data.append(image)\n",
    "    labels.append(label)\n",
    "data = np.array(data)\n",
    "labels = np.array(labels)"
   ]
  },
  {
   "cell_type": "code",
   "execution_count": 5,
   "id": "292073f9-9ff6-4f66-b830-fb964b7aa3ad",
   "metadata": {},
   "outputs": [
    {
     "data": {
      "text/plain": [
       "101"
      ]
     },
     "execution_count": 5,
     "metadata": {},
     "output_type": "execute_result"
    }
   ],
   "source": [
    "len(set(labels))"
   ]
  },
  {
   "cell_type": "code",
   "execution_count": 6,
   "id": "745cdd14-feb6-446f-9e24-dff1e3710002",
   "metadata": {},
   "outputs": [
    {
     "name": "stdout",
     "output_type": "stream",
     "text": [
      "Total number of classes: 101\n"
     ]
    }
   ],
   "source": [
    "# one hot encode\n",
    "lb = LabelBinarizer()\n",
    "labels = lb.fit_transform(labels)\n",
    "print(f\"Total number of classes: {len(lb.classes_)}\")\n"
   ]
  },
  {
   "cell_type": "code",
   "execution_count": 7,
   "id": "d1eefcfe-51cf-49d5-9e33-a016f3fa7cb3",
   "metadata": {},
   "outputs": [
    {
     "name": "stdout",
     "output_type": "stream",
     "text": [
      "x_train examples: (6073,)\n",
      "x_test examples: (1693,)\n",
      "x_val examples: (911,)\n"
     ]
    }
   ],
   "source": [
    "# divide the data into train, validation, and test set\n",
    "(x_train, x_val , y_train, y_val) = train_test_split(data, labels, \n",
    "                                                    test_size=0.3,  \n",
    "                                                    stratify=labels,\n",
    "                                                    random_state=42)\n",
    "\n",
    "(x_val, x_test, y_val, y_test) = train_test_split(x_val, y_val, \n",
    "                                                    test_size=0.65, \n",
    "                                                    random_state=42)\n",
    "print(f\"x_train examples: {x_train.shape}\\nx_test examples: {x_test.shape}\\nx_val examples: {x_val.shape}\")"
   ]
  },
  {
   "cell_type": "code",
   "execution_count": 8,
   "id": "7e3e83d1-5285-4337-b35f-b687f3ba98e6",
   "metadata": {},
   "outputs": [
    {
     "data": {
      "text/plain": [
       "array([98,  3, 65, 52,  0,  1, 71, 72,  3,  3, 23,  3,  1, 55,  1, 11, 17,\n",
       "       40, 90, 53])"
      ]
     },
     "execution_count": 8,
     "metadata": {},
     "output_type": "execute_result"
    }
   ],
   "source": [
    "np.argmax(y_val[:20], axis=-1)"
   ]
  },
  {
   "cell_type": "code",
   "execution_count": 9,
   "id": "04ab7404-c1f6-4018-8dd3-10d24ec1317c",
   "metadata": {},
   "outputs": [],
   "source": [
    "train_data = ImageDataset(x_train, y_train, train_transform)\n",
    "val_data = ImageDataset(x_val, y_val, val_transform)\n",
    "test_data = ImageDataset(x_test, y_test, val_transform)\n",
    "\n",
    "# dataloaders\n",
    "trainloader = DataLoader(train_data, batch_size=BATCH_SIZE, shuffle=True)\n",
    "valloader = DataLoader(val_data, batch_size=BATCH_SIZE, shuffle=True)\n",
    "testloader = DataLoader(test_data, batch_size=BATCH_SIZE, shuffle=False)"
   ]
  },
  {
   "cell_type": "code",
   "execution_count": 10,
   "id": "992af6ab-586f-42f6-8fe9-95b2193c708f",
   "metadata": {},
   "outputs": [
    {
     "name": "stdout",
     "output_type": "stream",
     "text": [
      "dilation [False, False, False]\n",
      "stride 1\n",
      "downsample\n",
      "stride 2\n",
      "downsample\n",
      "stride 2\n",
      "downsample\n",
      "stride 2\n"
     ]
    }
   ],
   "source": [
    "model = resnet18(pretrained=False).to(device)"
   ]
  },
  {
   "cell_type": "code",
   "execution_count": 11,
   "id": "825f1417-4ca1-48e4-8bb7-849f26bba09d",
   "metadata": {},
   "outputs": [
    {
     "name": "stdout",
     "output_type": "stream",
     "text": [
      "Training on 6073 examples, validating on 911 examples...\n",
      "Epoch 1 of 20\n",
      "Train Loss: 0.0544, Train Acc: 28.04\n",
      "Val Loss: 0.0569, Val Acc: 34.25\n",
      "Epoch 2 of 20\n",
      "Train Loss: 0.0404, Train Acc: 42.55\n",
      "Val Loss: 0.0403, Val Acc: 47.20\n",
      "Epoch 3 of 20\n",
      "Train Loss: 0.0331, Train Acc: 51.18\n",
      "Val Loss: 0.0333, Val Acc: 53.13\n",
      "Epoch 4 of 20\n",
      "Train Loss: 0.0273, Train Acc: 58.26\n",
      "Val Loss: 0.0331, Val Acc: 52.03\n",
      "Epoch 5 of 20\n",
      "Train Loss: 0.0227, Train Acc: 64.99\n",
      "Val Loss: 0.0296, Val Acc: 58.07\n",
      "Epoch 6 of 20\n",
      "Train Loss: 0.0181, Train Acc: 71.97\n",
      "Val Loss: 0.0252, Val Acc: 62.90\n",
      "Epoch 7 of 20\n",
      "Train Loss: 0.0136, Train Acc: 78.81\n",
      "Val Loss: 0.0237, Val Acc: 64.76\n",
      "Epoch 8 of 20\n",
      "Train Loss: 0.0096, Train Acc: 85.77\n",
      "Val Loss: 0.0217, Val Acc: 66.30\n",
      "Epoch 9 of 20\n",
      "Train Loss: 0.0058, Train Acc: 92.69\n",
      "Val Loss: 0.0202, Val Acc: 69.48\n",
      "Epoch 10 of 20\n",
      "Train Loss: 0.0026, Train Acc: 97.94\n",
      "Val Loss: 0.0194, Val Acc: 68.94\n",
      "Epoch 11 of 20\n",
      "Train Loss: 0.0010, Train Acc: 99.56\n",
      "Val Loss: 0.0184, Val Acc: 71.57\n",
      "Epoch 12 of 20\n",
      "Train Loss: 0.0004, Train Acc: 99.97\n",
      "Val Loss: 0.0176, Val Acc: 73.11\n",
      "Epoch 13 of 20\n",
      "Train Loss: 0.0002, Train Acc: 99.97\n",
      "Val Loss: 0.0174, Val Acc: 72.78\n",
      "Epoch 14 of 20\n",
      "Train Loss: 0.0001, Train Acc: 99.98\n",
      "Val Loss: 0.0177, Val Acc: 73.00\n",
      "Epoch 15 of 20\n",
      "Train Loss: 0.0001, Train Acc: 99.97\n",
      "Val Loss: 0.0179, Val Acc: 73.00\n",
      "Epoch 16 of 20\n",
      "Train Loss: 0.0001, Train Acc: 99.98\n",
      "Val Loss: 0.0180, Val Acc: 72.56\n",
      "Epoch 17 of 20\n",
      "Train Loss: 0.0001, Train Acc: 99.97\n",
      "Val Loss: 0.0183, Val Acc: 72.67\n",
      "Epoch 18 of 20\n",
      "Train Loss: 0.0001, Train Acc: 99.98\n",
      "Val Loss: 0.0174, Val Acc: 72.56\n",
      "Epoch 19 of 20\n",
      "Train Loss: 0.0001, Train Acc: 99.97\n",
      "Val Loss: 0.0175, Val Acc: 73.44\n",
      "Epoch 20 of 20\n",
      "Train Loss: 0.0001, Train Acc: 99.98\n",
      "Val Loss: 0.0179, Val Acc: 72.67\n",
      "17.8052520553271 minutes\n"
     ]
    },
    {
     "data": {
      "image/png": "[encoded data removed]",
      "text/plain": [
       "<Figure size 720x504 with 1 Axes>"
      ]
     },
     "metadata": {
      "needs_background": "light"
     },
     "output_type": "display_data"
    },
    {
     "data": {
      "image/png": "[encoded data removed]",
      "text/plain": [
       "<Figure size 720x504 with 1 Axes>"
      ]
     },
     "metadata": {
      "needs_background": "light"
     },
     "output_type": "display_data"
    }
   ],
   "source": [
    "print(f\"Training on {len(train_data)} examples, validating on {len(val_data)} examples...\")\n",
    "train_gated(model, trainloader, valloader)"
   ]
  },
  {
   "cell_type": "code",
   "execution_count": 12,
   "id": "dac1da97-fa8d-4255-8890-bfd0b1f0ee4c",
   "metadata": {},
   "outputs": [
    {
     "name": "stdout",
     "output_type": "stream",
     "text": [
      "Accuracy of the network on test images: 74.188 %\n",
      "train.py finished running\n"
     ]
    }
   ],
   "source": [
    "correct, total = test(model, testloader)\n",
    "print('Accuracy of the network on test images: %0.3f %%' % (100 * correct / total))\n",
    "print('train.py finished running')"
   ]
  },
  {
   "cell_type": "code",
   "execution_count": 13,
   "id": "2826df50-cbe3-422a-9ac4-f228949aaf40",
   "metadata": {},
   "outputs": [],
   "source": [
    "# state_dict = model.state_dict()\n",
    "# for i in state_dict :\n",
    "# #     print(i)\n",
    "#     if 'conv_w' in i :\n",
    "#         print(state_dict[i][0,0])\n",
    "#     if 'layer1.0.conv1_w' in i :\n",
    "#         print(state_dict[i][0,0])\n",
    "#     if 'layer1.0.conv2_w' in i :\n",
    "#         print(state_dict[i][0,0])     "
   ]
  },
  {
   "cell_type": "code",
   "execution_count": null,
   "id": "c30a8876-c65c-4185-80b3-fb89ec77bd21",
   "metadata": {},
   "outputs": [],
   "source": []
  }
 ],
 "metadata": {
  "kernelspec": {
   "display_name": "pytorch_retina",
   "language": "python",
   "name": "pytorch_retina"
  },
  "language_info": {
   "codemirror_mode": {
    "name": "ipython",
    "version": 3
   },
   "file_extension": ".py",
   "mimetype": "text/x-python",
   "name": "python",
   "nbconvert_exporter": "python",
   "pygments_lexer": "ipython3",
   "version": "3.7.10"
  }
 },
 "nbformat": 4,
 "nbformat_minor": 5
}
