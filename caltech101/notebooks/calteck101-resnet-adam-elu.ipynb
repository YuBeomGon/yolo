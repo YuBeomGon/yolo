{
 "cells": [
  {
   "cell_type": "code",
   "execution_count": 1,
   "id": "a08d91b9-2360-491b-8fba-57b538e9b60c",
   "metadata": {},
   "outputs": [],
   "source": [
    "# imports\n",
    "import matplotlib.pyplot as plt\n",
    "import matplotlib\n",
    "# import joblib\n",
    "import cv2\n",
    "import os\n",
    "import torch \n",
    "import numpy as np\n",
    "import torch.nn as nn\n",
    "import torch.nn.functional as F\n",
    "import torch.optim as optim\n",
    "import time\n",
    "import random\n",
    "import sys\n",
    "sys.path.append('../')\n",
    "\n",
    "#import pretrainedmodels\n",
    "from imutils import paths\n",
    "from sklearn.preprocessing import LabelBinarizer\n",
    "from sklearn.model_selection import train_test_split\n",
    "from torchvision.transforms import transforms\n",
    "from torch.utils.data import DataLoader, Dataset\n",
    "from tqdm import tqdm\n",
    "\n",
    "from gated import *\n",
    "from resnet import *"
   ]
  },
  {
   "cell_type": "code",
   "execution_count": 2,
   "id": "15d01384-e820-485f-9257-8a266a0ad82f",
   "metadata": {},
   "outputs": [],
   "source": [
    "# !pip install pretrainedmodels"
   ]
  },
  {
   "cell_type": "code",
   "execution_count": 3,
   "id": "ffabfdd5-37bb-46a9-8bf6-8e93e50c34ea",
   "metadata": {},
   "outputs": [],
   "source": [
    "# device = torch.device(\"cpu\")\n",
    "device = torch.device(\"cuda\")\n",
    "dtype = torch.float\n",
    "\n",
    "epochs = 20\n",
    "BATCH_SIZE = 64"
   ]
  },
  {
   "cell_type": "code",
   "execution_count": 4,
   "id": "4b0f42e8-c6e8-4565-9ad8-08044a133b0e",
   "metadata": {},
   "outputs": [
    {
     "name": "stderr",
     "output_type": "stream",
     "text": [
      "/home/beomgon/anaconda3/envs/pytorch_retina/lib/python3.7/site-packages/ipykernel_launcher.py:12: VisibleDeprecationWarning: Creating an ndarray from ragged nested sequences (which is a list-or-tuple of lists-or-tuples-or ndarrays with different lengths or shapes) is deprecated. If you meant to do this, you must specify 'dtype=object' when creating the ndarray\n",
      "  if sys.path[0] == '':\n"
     ]
    }
   ],
   "source": [
    "image_paths = list(paths.list_images('../data/101_ObjectCategories'))\n",
    "data = []\n",
    "labels = []\n",
    "for image_path in image_paths:\n",
    "    label = image_path.split(os.path.sep)[-2]\n",
    "    if label == 'BACKGROUND_Google':\n",
    "        continue\n",
    "    image = cv2.imread(image_path)\n",
    "    image = cv2.cvtColor(image, cv2.COLOR_BGR2RGB)\n",
    "    data.append(image)\n",
    "    labels.append(label)\n",
    "data = np.array(data)\n",
    "labels = np.array(labels)"
   ]
  },
  {
   "cell_type": "code",
   "execution_count": 5,
   "id": "292073f9-9ff6-4f66-b830-fb964b7aa3ad",
   "metadata": {},
   "outputs": [
    {
     "data": {
      "text/plain": [
       "101"
      ]
     },
     "execution_count": 5,
     "metadata": {},
     "output_type": "execute_result"
    }
   ],
   "source": [
    "len(set(labels))"
   ]
  },
  {
   "cell_type": "code",
   "execution_count": 6,
   "id": "745cdd14-feb6-446f-9e24-dff1e3710002",
   "metadata": {},
   "outputs": [
    {
     "name": "stdout",
     "output_type": "stream",
     "text": [
      "Total number of classes: 101\n"
     ]
    }
   ],
   "source": [
    "# one hot encode\n",
    "lb = LabelBinarizer()\n",
    "labels = lb.fit_transform(labels)\n",
    "print(f\"Total number of classes: {len(lb.classes_)}\")\n"
   ]
  },
  {
   "cell_type": "code",
   "execution_count": 7,
   "id": "2bcf7464-35a8-4bf9-84e5-acf24b61e5c7",
   "metadata": {},
   "outputs": [],
   "source": [
    "# define transforms\n",
    "train_transform = transforms.Compose(\n",
    "    [transforms.ToPILImage(),\n",
    "     transforms.Resize((224, 224)),\n",
    "     transforms.ToTensor(),\n",
    "     transforms.Normalize(mean=[0.485, 0.456, 0.406],\n",
    "                          std=[0.229, 0.224, 0.225])])\n",
    "val_transform = transforms.Compose(\n",
    "    [transforms.ToPILImage(),\n",
    "     transforms.Resize((224, 224)),\n",
    "     transforms.ToTensor(),\n",
    "     transforms.Normalize(mean=[0.485, 0.456, 0.406],\n",
    "                          std=[0.229, 0.224, 0.225])])"
   ]
  },
  {
   "cell_type": "code",
   "execution_count": 8,
   "id": "d1eefcfe-51cf-49d5-9e33-a016f3fa7cb3",
   "metadata": {},
   "outputs": [
    {
     "name": "stdout",
     "output_type": "stream",
     "text": [
      "x_train examples: (6073,)\n",
      "x_test examples: (1693,)\n",
      "x_val examples: (911,)\n"
     ]
    }
   ],
   "source": [
    "# divide the data into train, validation, and test set\n",
    "(x_train, x_val , y_train, y_val) = train_test_split(data, labels, \n",
    "                                                    test_size=0.3,  \n",
    "                                                    stratify=labels,\n",
    "                                                    random_state=42)\n",
    "\n",
    "(x_val, x_test, y_val, y_test) = train_test_split(x_val, y_val, \n",
    "                                                    test_size=0.65, \n",
    "                                                    random_state=42)\n",
    "print(f\"x_train examples: {x_train.shape}\\nx_test examples: {x_test.shape}\\nx_val examples: {x_val.shape}\")"
   ]
  },
  {
   "cell_type": "code",
   "execution_count": 9,
   "id": "673c4df8-a232-4e29-9911-142ad817cda1",
   "metadata": {},
   "outputs": [
    {
     "data": {
      "text/plain": [
       "array([98,  3, 65, 52,  0,  1, 71, 72,  3,  3, 23,  3,  1, 55,  1, 11, 17,\n",
       "       40, 90, 53])"
      ]
     },
     "execution_count": 9,
     "metadata": {},
     "output_type": "execute_result"
    }
   ],
   "source": [
    "np.argmax(y_val[:20], axis=-1)"
   ]
  },
  {
   "cell_type": "code",
   "execution_count": 10,
   "id": "04ab7404-c1f6-4018-8dd3-10d24ec1317c",
   "metadata": {},
   "outputs": [],
   "source": [
    "# custom dataset\n",
    "class ImageDataset(Dataset):\n",
    "    def __init__(self, images, labels=None, transforms=None):\n",
    "        self.X = images\n",
    "        self.y = labels\n",
    "        self.transforms = transforms\n",
    "         \n",
    "    def __len__(self):\n",
    "        return (len(self.X))\n",
    "    \n",
    "    def __getitem__(self, i):\n",
    "        data = self.X[i][:]\n",
    "        \n",
    "        if self.transforms:\n",
    "            data = self.transforms(data)\n",
    "            \n",
    "        if self.y is not None:\n",
    "            return (data, self.y[i])\n",
    "        else:\n",
    "            return data\n",
    "        \n",
    "train_data = ImageDataset(x_train, y_train, train_transform)\n",
    "val_data = ImageDataset(x_val, y_val, val_transform)\n",
    "test_data = ImageDataset(x_test, y_test, val_transform)"
   ]
  },
  {
   "cell_type": "code",
   "execution_count": 11,
   "id": "81615998-4543-45fc-ae78-5734974a8399",
   "metadata": {},
   "outputs": [],
   "source": [
    "# dataloaders\n",
    "trainloader = DataLoader(train_data, batch_size=BATCH_SIZE, shuffle=True)\n",
    "valloader = DataLoader(val_data, batch_size=BATCH_SIZE, shuffle=True)\n",
    "testloader = DataLoader(test_data, batch_size=BATCH_SIZE, shuffle=False)"
   ]
  },
  {
   "cell_type": "code",
   "execution_count": 12,
   "id": "0ca52140-4ae7-4072-80c3-49fad5bbed46",
   "metadata": {},
   "outputs": [
    {
     "name": "stdout",
     "output_type": "stream",
     "text": [
      "dilation [False, False, False]\n",
      "stride 1\n",
      "downsample\n",
      "stride 2\n",
      "downsample\n",
      "stride 2\n",
      "downsample\n",
      "stride 2\n"
     ]
    }
   ],
   "source": [
    "model = resnet18(pretrained=False).to(device)"
   ]
  },
  {
   "cell_type": "code",
   "execution_count": 13,
   "id": "f85f416a-621c-40f7-91d9-0c0c1856aaaa",
   "metadata": {},
   "outputs": [
    {
     "name": "stdout",
     "output_type": "stream",
     "text": [
      "conv1.weight\n",
      "bn1.weight\n",
      "bn1.bias\n",
      "bn1.running_mean\n",
      "bn1.running_var\n",
      "bn1.num_batches_tracked\n",
      "layer1.0.conv1.weight\n",
      "layer1.0.bn1.weight\n",
      "layer1.0.bn1.bias\n",
      "layer1.0.bn1.running_mean\n",
      "layer1.0.bn1.running_var\n",
      "layer1.0.bn1.num_batches_tracked\n",
      "layer1.0.conv2.weight\n",
      "layer1.0.bn2.weight\n",
      "layer1.0.bn2.bias\n",
      "layer1.0.bn2.running_mean\n",
      "layer1.0.bn2.running_var\n",
      "layer1.0.bn2.num_batches_tracked\n",
      "layer1.1.conv1.weight\n",
      "layer1.1.bn1.weight\n",
      "layer1.1.bn1.bias\n",
      "layer1.1.bn1.running_mean\n",
      "layer1.1.bn1.running_var\n",
      "layer1.1.bn1.num_batches_tracked\n",
      "layer1.1.conv2.weight\n",
      "layer1.1.bn2.weight\n",
      "layer1.1.bn2.bias\n",
      "layer1.1.bn2.running_mean\n",
      "layer1.1.bn2.running_var\n",
      "layer1.1.bn2.num_batches_tracked\n",
      "layer2.0.conv1.weight\n",
      "layer2.0.bn1.weight\n",
      "layer2.0.bn1.bias\n",
      "layer2.0.bn1.running_mean\n",
      "layer2.0.bn1.running_var\n",
      "layer2.0.bn1.num_batches_tracked\n",
      "layer2.0.conv2.weight\n",
      "layer2.0.bn2.weight\n",
      "layer2.0.bn2.bias\n",
      "layer2.0.bn2.running_mean\n",
      "layer2.0.bn2.running_var\n",
      "layer2.0.bn2.num_batches_tracked\n",
      "layer2.0.downsample.0.weight\n",
      "layer2.0.downsample.1.weight\n",
      "layer2.0.downsample.1.bias\n",
      "layer2.0.downsample.1.running_mean\n",
      "layer2.0.downsample.1.running_var\n",
      "layer2.0.downsample.1.num_batches_tracked\n",
      "layer2.1.conv1.weight\n",
      "layer2.1.bn1.weight\n",
      "layer2.1.bn1.bias\n",
      "layer2.1.bn1.running_mean\n",
      "layer2.1.bn1.running_var\n",
      "layer2.1.bn1.num_batches_tracked\n",
      "layer2.1.conv2.weight\n",
      "layer2.1.bn2.weight\n",
      "layer2.1.bn2.bias\n",
      "layer2.1.bn2.running_mean\n",
      "layer2.1.bn2.running_var\n",
      "layer2.1.bn2.num_batches_tracked\n",
      "layer3.0.conv1.weight\n",
      "layer3.0.bn1.weight\n",
      "layer3.0.bn1.bias\n",
      "layer3.0.bn1.running_mean\n",
      "layer3.0.bn1.running_var\n",
      "layer3.0.bn1.num_batches_tracked\n",
      "layer3.0.conv2.weight\n",
      "layer3.0.bn2.weight\n",
      "layer3.0.bn2.bias\n",
      "layer3.0.bn2.running_mean\n",
      "layer3.0.bn2.running_var\n",
      "layer3.0.bn2.num_batches_tracked\n",
      "layer3.0.downsample.0.weight\n",
      "layer3.0.downsample.1.weight\n",
      "layer3.0.downsample.1.bias\n",
      "layer3.0.downsample.1.running_mean\n",
      "layer3.0.downsample.1.running_var\n",
      "layer3.0.downsample.1.num_batches_tracked\n",
      "layer3.1.conv1.weight\n",
      "layer3.1.bn1.weight\n",
      "layer3.1.bn1.bias\n",
      "layer3.1.bn1.running_mean\n",
      "layer3.1.bn1.running_var\n",
      "layer3.1.bn1.num_batches_tracked\n",
      "layer3.1.conv2.weight\n",
      "layer3.1.bn2.weight\n",
      "layer3.1.bn2.bias\n",
      "layer3.1.bn2.running_mean\n",
      "layer3.1.bn2.running_var\n",
      "layer3.1.bn2.num_batches_tracked\n",
      "layer4.0.conv1.weight\n",
      "layer4.0.bn1.weight\n",
      "layer4.0.bn1.bias\n",
      "layer4.0.bn1.running_mean\n",
      "layer4.0.bn1.running_var\n",
      "layer4.0.bn1.num_batches_tracked\n",
      "layer4.0.conv2.weight\n",
      "layer4.0.bn2.weight\n",
      "layer4.0.bn2.bias\n",
      "layer4.0.bn2.running_mean\n",
      "layer4.0.bn2.running_var\n",
      "layer4.0.bn2.num_batches_tracked\n",
      "layer4.0.downsample.0.weight\n",
      "layer4.0.downsample.1.weight\n",
      "layer4.0.downsample.1.bias\n",
      "layer4.0.downsample.1.running_mean\n",
      "layer4.0.downsample.1.running_var\n",
      "layer4.0.downsample.1.num_batches_tracked\n",
      "layer4.1.conv1.weight\n",
      "layer4.1.bn1.weight\n",
      "layer4.1.bn1.bias\n",
      "layer4.1.bn1.running_mean\n",
      "layer4.1.bn1.running_var\n",
      "layer4.1.bn1.num_batches_tracked\n",
      "layer4.1.conv2.weight\n",
      "layer4.1.bn2.weight\n",
      "layer4.1.bn2.bias\n",
      "layer4.1.bn2.running_mean\n",
      "layer4.1.bn2.running_var\n",
      "layer4.1.bn2.num_batches_tracked\n",
      "fc.weight\n",
      "fc.bias\n"
     ]
    }
   ],
   "source": [
    "# model.eval()\n",
    "for i in model.parameters():\n",
    "    pass\n",
    "#     print(i.shape)\n",
    "#     print((i[0].type()))\n",
    "state_dict = model.state_dict()\n",
    "for i in state_dict :\n",
    "    print(i)\n",
    "#     if 'conv1.weight' in i :\n",
    "#         print(state_dict[i][0,0])"
   ]
  },
  {
   "cell_type": "code",
   "execution_count": null,
   "id": "b7768450-0e47-4bc7-b29d-dc73f876617b",
   "metadata": {},
   "outputs": [],
   "source": []
  },
  {
   "cell_type": "code",
   "execution_count": 14,
   "id": "b2b58b8f-4628-4637-8cc1-487c4d6ed505",
   "metadata": {},
   "outputs": [],
   "source": [
    "# optimizer\n",
    "optimizer = optim.Adam(model.parameters(), lr=5e-4)\n",
    "# optimizer = optim.SGD(model.parameters(), lr=0.01, momentum=0.9)\n",
    "# loss function\n",
    "criterion = nn.CrossEntropyLoss()\n",
    "criterion = criterion.to(device)"
   ]
  },
  {
   "cell_type": "code",
   "execution_count": 15,
   "id": "37e8be1d-33f0-4b21-9c23-fd5875eae3b0",
   "metadata": {},
   "outputs": [],
   "source": [
    "# training function\n",
    "def fit(model, dataloader):\n",
    "#     print('Training')\n",
    "    model.train()\n",
    "    running_loss = 0.0\n",
    "    running_correct = 0\n",
    "    for i, data in tqdm(enumerate(dataloader), total=int(len(train_data)/dataloader.batch_size)):\n",
    "        data, target = data[0].to(device), data[1].to(device)\n",
    "        optimizer.zero_grad()\n",
    "        outputs = model(data)\n",
    "        loss = criterion(outputs, torch.max(target, 1)[1])\n",
    "        running_loss += loss.item()\n",
    "        _, preds = torch.max(outputs.data, 1)\n",
    "        running_correct += (preds == torch.max(target, 1)[1]).sum().item()\n",
    "        loss.backward()\n",
    "        optimizer.step()\n",
    "        \n",
    "    loss = running_loss/len(dataloader.dataset)\n",
    "    accuracy = 100. * running_correct/len(dataloader.dataset)\n",
    "    \n",
    "    print(f\"Train Loss: {loss:.4f}, Train Acc: {accuracy:.2f}\")\n",
    "    \n",
    "    return loss, accuracy"
   ]
  },
  {
   "cell_type": "code",
   "execution_count": 16,
   "id": "806f2b08-0170-4893-80e6-505b96e20ed7",
   "metadata": {},
   "outputs": [],
   "source": [
    "#validation function\n",
    "def validate(model, dataloader):\n",
    "#     print('Validating')\n",
    "    model.eval()\n",
    "    running_loss = 0.0\n",
    "    running_correct = 0\n",
    "    with torch.no_grad():\n",
    "        for i, data in tqdm(enumerate(dataloader), total=int(len(val_data)/dataloader.batch_size)):\n",
    "            data, target = data[0].to(device), data[1].to(device)\n",
    "            outputs = model(data)\n",
    "            loss = criterion(outputs, torch.max(target, 1)[1])\n",
    "            \n",
    "            running_loss += loss.item()\n",
    "            _, preds = torch.max(outputs.data, 1)\n",
    "            running_correct += (preds == torch.max(target, 1)[1]).sum().item()\n",
    "        \n",
    "        loss = running_loss/len(dataloader.dataset)\n",
    "        accuracy = 100. * running_correct/len(dataloader.dataset)\n",
    "        print(f'Val Loss: {loss:.4f}, Val Acc: {accuracy:.2f}')\n",
    "        \n",
    "        return loss, accuracy"
   ]
  },
  {
   "cell_type": "code",
   "execution_count": 17,
   "id": "6b073584-b873-4e7f-a110-13ff31b986f8",
   "metadata": {},
   "outputs": [],
   "source": [
    "def test(model, dataloader):\n",
    "    correct = 0\n",
    "    total = 0\n",
    "    with torch.no_grad():\n",
    "        for data in testloader:\n",
    "            inputs, target = data[0].to(device), data[1].to(device)\n",
    "            outputs = model(inputs)\n",
    "            _, predicted = torch.max(outputs.data, 1)\n",
    "            total += target.size(0)\n",
    "            correct += (predicted == torch.max(target, 1)[1]).sum().item()\n",
    "    return correct, total"
   ]
  },
  {
   "cell_type": "code",
   "execution_count": 18,
   "id": "dc30a4e2-5356-442e-9053-d6da123a3712",
   "metadata": {},
   "outputs": [
    {
     "name": "stderr",
     "output_type": "stream",
     "text": [
      "  0%|          | 0/94 [00:00<?, ?it/s]"
     ]
    },
    {
     "name": "stdout",
     "output_type": "stream",
     "text": [
      "Training on 6073 examples, validating on 911 examples...\n"
     ]
    },
    {
     "name": "stderr",
     "output_type": "stream",
     "text": [
      "95it [00:09, 10.29it/s]                        \n",
      "  7%|▋         | 1/14 [00:00<00:01,  8.78it/s]"
     ]
    },
    {
     "name": "stdout",
     "output_type": "stream",
     "text": [
      "Train Loss: 0.0515, Train Acc: 30.18\n"
     ]
    },
    {
     "name": "stderr",
     "output_type": "stream",
     "text": [
      "15it [00:01, 11.64it/s]                        \n",
      "  2%|▏         | 2/94 [00:00<00:08, 10.81it/s]"
     ]
    },
    {
     "name": "stdout",
     "output_type": "stream",
     "text": [
      "Val Loss: 0.0547, Val Acc: 33.04\n"
     ]
    },
    {
     "name": "stderr",
     "output_type": "stream",
     "text": [
      "95it [00:08, 10.77it/s]                        \n",
      " 14%|█▍        | 2/14 [00:00<00:01, 11.93it/s]"
     ]
    },
    {
     "name": "stdout",
     "output_type": "stream",
     "text": [
      "Train Loss: 0.0405, Train Acc: 40.57\n"
     ]
    },
    {
     "name": "stderr",
     "output_type": "stream",
     "text": [
      "15it [00:01, 12.30it/s]                        \n",
      "  2%|▏         | 2/94 [00:00<00:08, 11.18it/s]"
     ]
    },
    {
     "name": "stdout",
     "output_type": "stream",
     "text": [
      "Val Loss: 0.0405, Val Acc: 43.03\n"
     ]
    },
    {
     "name": "stderr",
     "output_type": "stream",
     "text": [
      "95it [00:08, 10.75it/s]                        \n",
      " 14%|█▍        | 2/14 [00:00<00:01, 11.56it/s]"
     ]
    },
    {
     "name": "stdout",
     "output_type": "stream",
     "text": [
      "Train Loss: 0.0355, Train Acc: 47.16\n"
     ]
    },
    {
     "name": "stderr",
     "output_type": "stream",
     "text": [
      "15it [00:01, 12.26it/s]                        \n",
      "  1%|          | 1/94 [00:00<00:09,  9.38it/s]"
     ]
    },
    {
     "name": "stdout",
     "output_type": "stream",
     "text": [
      "Val Loss: 0.0392, Val Acc: 47.09\n"
     ]
    },
    {
     "name": "stderr",
     "output_type": "stream",
     "text": [
      "95it [00:08, 10.71it/s]                        \n",
      " 14%|█▍        | 2/14 [00:00<00:01, 11.72it/s]"
     ]
    },
    {
     "name": "stdout",
     "output_type": "stream",
     "text": [
      "Train Loss: 0.0315, Train Acc: 51.34\n"
     ]
    },
    {
     "name": "stderr",
     "output_type": "stream",
     "text": [
      "15it [00:01, 11.97it/s]                        \n",
      "  2%|▏         | 2/94 [00:00<00:08, 10.59it/s]"
     ]
    },
    {
     "name": "stdout",
     "output_type": "stream",
     "text": [
      "Val Loss: 0.0337, Val Acc: 52.47\n"
     ]
    },
    {
     "name": "stderr",
     "output_type": "stream",
     "text": [
      "95it [00:08, 10.60it/s]                        \n",
      " 14%|█▍        | 2/14 [00:00<00:01, 11.58it/s]"
     ]
    },
    {
     "name": "stdout",
     "output_type": "stream",
     "text": [
      "Train Loss: 0.0276, Train Acc: 56.69\n"
     ]
    },
    {
     "name": "stderr",
     "output_type": "stream",
     "text": [
      "15it [00:01, 12.02it/s]                        \n",
      "  2%|▏         | 2/94 [00:00<00:08, 10.86it/s]"
     ]
    },
    {
     "name": "stdout",
     "output_type": "stream",
     "text": [
      "Val Loss: 0.0323, Val Acc: 51.26\n"
     ]
    },
    {
     "name": "stderr",
     "output_type": "stream",
     "text": [
      "95it [00:08, 10.61it/s]                        \n",
      " 14%|█▍        | 2/14 [00:00<00:01, 11.71it/s]"
     ]
    },
    {
     "name": "stdout",
     "output_type": "stream",
     "text": [
      "Train Loss: 0.0246, Train Acc: 60.86\n"
     ]
    },
    {
     "name": "stderr",
     "output_type": "stream",
     "text": [
      "15it [00:01, 12.03it/s]                        \n",
      "  2%|▏         | 2/94 [00:00<00:08, 10.89it/s]"
     ]
    },
    {
     "name": "stdout",
     "output_type": "stream",
     "text": [
      "Val Loss: 0.0322, Val Acc: 55.54\n"
     ]
    },
    {
     "name": "stderr",
     "output_type": "stream",
     "text": [
      "95it [00:08, 10.65it/s]                        \n",
      " 14%|█▍        | 2/14 [00:00<00:01, 11.86it/s]"
     ]
    },
    {
     "name": "stdout",
     "output_type": "stream",
     "text": [
      "Train Loss: 0.0219, Train Acc: 65.07\n"
     ]
    },
    {
     "name": "stderr",
     "output_type": "stream",
     "text": [
      "15it [00:01, 12.31it/s]                        \n",
      "  2%|▏         | 2/94 [00:00<00:08, 11.02it/s]"
     ]
    },
    {
     "name": "stdout",
     "output_type": "stream",
     "text": [
      "Val Loss: 0.0280, Val Acc: 59.06\n"
     ]
    },
    {
     "name": "stderr",
     "output_type": "stream",
     "text": [
      "95it [00:08, 10.68it/s]                        \n",
      " 14%|█▍        | 2/14 [00:00<00:01, 11.68it/s]"
     ]
    },
    {
     "name": "stdout",
     "output_type": "stream",
     "text": [
      "Train Loss: 0.0194, Train Acc: 68.30\n"
     ]
    },
    {
     "name": "stderr",
     "output_type": "stream",
     "text": [
      "15it [00:01, 12.24it/s]                        \n",
      "  2%|▏         | 2/94 [00:00<00:08, 10.56it/s]"
     ]
    },
    {
     "name": "stdout",
     "output_type": "stream",
     "text": [
      "Val Loss: 0.0272, Val Acc: 61.14\n"
     ]
    },
    {
     "name": "stderr",
     "output_type": "stream",
     "text": [
      "95it [00:08, 10.69it/s]                        \n",
      " 14%|█▍        | 2/14 [00:00<00:01, 11.96it/s]"
     ]
    },
    {
     "name": "stdout",
     "output_type": "stream",
     "text": [
      "Train Loss: 0.0169, Train Acc: 72.11\n"
     ]
    },
    {
     "name": "stderr",
     "output_type": "stream",
     "text": [
      "15it [00:01, 11.97it/s]                        \n",
      "  2%|▏         | 2/94 [00:00<00:08, 10.60it/s]"
     ]
    },
    {
     "name": "stdout",
     "output_type": "stream",
     "text": [
      "Val Loss: 0.0258, Val Acc: 62.35\n"
     ]
    },
    {
     "name": "stderr",
     "output_type": "stream",
     "text": [
      "95it [00:08, 10.68it/s]                        \n",
      " 14%|█▍        | 2/14 [00:00<00:01, 11.92it/s]"
     ]
    },
    {
     "name": "stdout",
     "output_type": "stream",
     "text": [
      "Train Loss: 0.0146, Train Acc: 76.27\n"
     ]
    },
    {
     "name": "stderr",
     "output_type": "stream",
     "text": [
      "15it [00:01, 12.25it/s]                        \n",
      "  2%|▏         | 2/94 [00:00<00:08, 10.66it/s]"
     ]
    },
    {
     "name": "stdout",
     "output_type": "stream",
     "text": [
      "Val Loss: 0.0238, Val Acc: 62.35\n"
     ]
    },
    {
     "name": "stderr",
     "output_type": "stream",
     "text": [
      "95it [00:08, 10.67it/s]                        \n",
      " 14%|█▍        | 2/14 [00:00<00:01, 11.00it/s]"
     ]
    },
    {
     "name": "stdout",
     "output_type": "stream",
     "text": [
      "Train Loss: 0.0119, Train Acc: 79.85\n"
     ]
    },
    {
     "name": "stderr",
     "output_type": "stream",
     "text": [
      "15it [00:01, 11.82it/s]                        \n",
      "  2%|▏         | 2/94 [00:00<00:08, 10.74it/s]"
     ]
    },
    {
     "name": "stdout",
     "output_type": "stream",
     "text": [
      "Val Loss: 0.0219, Val Acc: 66.85\n"
     ]
    },
    {
     "name": "stderr",
     "output_type": "stream",
     "text": [
      "95it [00:08, 10.68it/s]                        \n",
      " 14%|█▍        | 2/14 [00:00<00:01, 11.95it/s]"
     ]
    },
    {
     "name": "stdout",
     "output_type": "stream",
     "text": [
      "Train Loss: 0.0101, Train Acc: 82.99\n"
     ]
    },
    {
     "name": "stderr",
     "output_type": "stream",
     "text": [
      "15it [00:01, 12.34it/s]                        \n",
      "  2%|▏         | 2/94 [00:00<00:08, 10.87it/s]"
     ]
    },
    {
     "name": "stdout",
     "output_type": "stream",
     "text": [
      "Val Loss: 0.0218, Val Acc: 67.07\n"
     ]
    },
    {
     "name": "stderr",
     "output_type": "stream",
     "text": [
      "95it [00:08, 10.69it/s]                        \n",
      " 14%|█▍        | 2/14 [00:00<00:01, 11.80it/s]"
     ]
    },
    {
     "name": "stdout",
     "output_type": "stream",
     "text": [
      "Train Loss: 0.0087, Train Acc: 85.76\n"
     ]
    },
    {
     "name": "stderr",
     "output_type": "stream",
     "text": [
      "15it [00:01, 12.09it/s]                        \n",
      "  2%|▏         | 2/94 [00:00<00:08, 10.93it/s]"
     ]
    },
    {
     "name": "stdout",
     "output_type": "stream",
     "text": [
      "Val Loss: 0.0209, Val Acc: 68.28\n"
     ]
    },
    {
     "name": "stderr",
     "output_type": "stream",
     "text": [
      "95it [00:08, 10.65it/s]                        \n",
      " 14%|█▍        | 2/14 [00:00<00:01, 11.82it/s]"
     ]
    },
    {
     "name": "stdout",
     "output_type": "stream",
     "text": [
      "Train Loss: 0.0072, Train Acc: 88.18\n"
     ]
    },
    {
     "name": "stderr",
     "output_type": "stream",
     "text": [
      "15it [00:01, 12.32it/s]                        \n",
      "  2%|▏         | 2/94 [00:00<00:08, 10.81it/s]"
     ]
    },
    {
     "name": "stdout",
     "output_type": "stream",
     "text": [
      "Val Loss: 0.0236, Val Acc: 66.30\n"
     ]
    },
    {
     "name": "stderr",
     "output_type": "stream",
     "text": [
      "95it [00:08, 10.70it/s]                        \n",
      " 14%|█▍        | 2/14 [00:00<00:01, 11.58it/s]"
     ]
    },
    {
     "name": "stdout",
     "output_type": "stream",
     "text": [
      "Train Loss: 0.0055, Train Acc: 91.45\n"
     ]
    },
    {
     "name": "stderr",
     "output_type": "stream",
     "text": [
      "15it [00:01, 12.08it/s]                        \n",
      "  2%|▏         | 2/94 [00:00<00:08, 10.98it/s]"
     ]
    },
    {
     "name": "stdout",
     "output_type": "stream",
     "text": [
      "Val Loss: 0.0193, Val Acc: 69.48\n"
     ]
    },
    {
     "name": "stderr",
     "output_type": "stream",
     "text": [
      "95it [00:08, 10.63it/s]                        \n",
      " 14%|█▍        | 2/14 [00:00<00:01, 11.79it/s]"
     ]
    },
    {
     "name": "stdout",
     "output_type": "stream",
     "text": [
      "Train Loss: 0.0041, Train Acc: 94.14\n"
     ]
    },
    {
     "name": "stderr",
     "output_type": "stream",
     "text": [
      "15it [00:01, 12.16it/s]                        \n",
      "  2%|▏         | 2/94 [00:00<00:08, 10.85it/s]"
     ]
    },
    {
     "name": "stdout",
     "output_type": "stream",
     "text": [
      "Val Loss: 0.0191, Val Acc: 71.13\n"
     ]
    },
    {
     "name": "stderr",
     "output_type": "stream",
     "text": [
      "95it [00:08, 10.68it/s]                        \n",
      " 14%|█▍        | 2/14 [00:00<00:01, 11.91it/s]"
     ]
    },
    {
     "name": "stdout",
     "output_type": "stream",
     "text": [
      "Train Loss: 0.0028, Train Acc: 96.39\n"
     ]
    },
    {
     "name": "stderr",
     "output_type": "stream",
     "text": [
      "15it [00:01, 12.23it/s]                        \n",
      "  2%|▏         | 2/94 [00:00<00:08, 10.64it/s]"
     ]
    },
    {
     "name": "stdout",
     "output_type": "stream",
     "text": [
      "Val Loss: 0.0191, Val Acc: 71.79\n"
     ]
    },
    {
     "name": "stderr",
     "output_type": "stream",
     "text": [
      "95it [00:08, 10.61it/s]                        \n",
      " 14%|█▍        | 2/14 [00:00<00:01, 11.53it/s]"
     ]
    },
    {
     "name": "stdout",
     "output_type": "stream",
     "text": [
      "Train Loss: 0.0018, Train Acc: 98.25\n"
     ]
    },
    {
     "name": "stderr",
     "output_type": "stream",
     "text": [
      "15it [00:01, 12.24it/s]                        \n",
      "  2%|▏         | 2/94 [00:00<00:08, 10.66it/s]"
     ]
    },
    {
     "name": "stdout",
     "output_type": "stream",
     "text": [
      "Val Loss: 0.0185, Val Acc: 72.01\n"
     ]
    },
    {
     "name": "stderr",
     "output_type": "stream",
     "text": [
      "95it [00:08, 10.73it/s]                        \n",
      " 14%|█▍        | 2/14 [00:00<00:01, 11.76it/s]"
     ]
    },
    {
     "name": "stdout",
     "output_type": "stream",
     "text": [
      "Train Loss: 0.0009, Train Acc: 99.64\n"
     ]
    },
    {
     "name": "stderr",
     "output_type": "stream",
     "text": [
      "15it [00:01, 12.28it/s]                        \n",
      "  1%|          | 1/94 [00:00<00:09,  9.82it/s]"
     ]
    },
    {
     "name": "stdout",
     "output_type": "stream",
     "text": [
      "Val Loss: 0.0169, Val Acc: 73.66\n"
     ]
    },
    {
     "name": "stderr",
     "output_type": "stream",
     "text": [
      "95it [00:08, 10.67it/s]                        \n",
      " 14%|█▍        | 2/14 [00:00<00:01, 11.54it/s]"
     ]
    },
    {
     "name": "stdout",
     "output_type": "stream",
     "text": [
      "Train Loss: 0.0004, Train Acc: 99.82\n"
     ]
    },
    {
     "name": "stderr",
     "output_type": "stream",
     "text": [
      "15it [00:01, 11.93it/s]                        \n"
     ]
    },
    {
     "name": "stdout",
     "output_type": "stream",
     "text": [
      "Val Loss: 0.0164, Val Acc: 75.85\n",
      "3.3852421482404074 minutes\n"
     ]
    },
    {
     "data": {
      "image/png": "[encoded data removed]",
      "text/plain": [
       "<Figure size 720x504 with 1 Axes>"
      ]
     },
     "metadata": {
      "needs_background": "light"
     },
     "output_type": "display_data"
    },
    {
     "data": {
      "image/png": "[encoded data removed]",
      "text/plain": [
       "<Figure size 720x504 with 1 Axes>"
      ]
     },
     "metadata": {
      "needs_background": "light"
     },
     "output_type": "display_data"
    }
   ],
   "source": [
    "train_loss , train_accuracy = [], []\n",
    "val_loss , val_accuracy = [], []\n",
    "print(f\"Training on {len(train_data)} examples, validating on {len(val_data)} examples...\")\n",
    "start = time.time()\n",
    "for epoch in range(epochs):\n",
    "#     print(f\"Epoch {epoch+1} of {epochs}\")\n",
    "    train_epoch_loss, train_epoch_accuracy = fit(model, trainloader)\n",
    "    val_epoch_loss, val_epoch_accuracy = validate(model, valloader)\n",
    "    train_loss.append(train_epoch_loss)\n",
    "    train_accuracy.append(train_epoch_accuracy)\n",
    "    val_loss.append(val_epoch_loss)\n",
    "    val_accuracy.append(val_epoch_accuracy)\n",
    "end = time.time()\n",
    "print((end-start)/60, 'minutes')\n",
    "torch.save(model.state_dict(), f\"../trained_models/resnet18_epochs{epochs}.pth\")\n",
    "# accuracy plots\n",
    "plt.figure(figsize=(10, 7))\n",
    "plt.plot(train_accuracy, color='green', label='train accuracy')\n",
    "plt.plot(val_accuracy, color='blue', label='validataion accuracy')\n",
    "plt.xlabel('Epochs')\n",
    "plt.ylabel('Accuracy')\n",
    "plt.legend()\n",
    "plt.savefig('../outputs/plots/accuracy.png')\n",
    "# loss plots\n",
    "plt.figure(figsize=(10, 7))\n",
    "plt.plot(train_loss, color='orange', label='train loss')\n",
    "plt.plot(val_loss, color='red', label='validataion loss')\n",
    "plt.xlabel('Epochs')\n",
    "plt.ylabel('Loss')\n",
    "plt.legend()\n",
    "plt.savefig('../outputs/plots/loss.png')"
   ]
  },
  {
   "cell_type": "code",
   "execution_count": 19,
   "id": "dac1da97-fa8d-4255-8890-bfd0b1f0ee4c",
   "metadata": {},
   "outputs": [
    {
     "name": "stdout",
     "output_type": "stream",
     "text": [
      "Accuracy of the network on test images: 74.778 %\n",
      "train.py finished running\n"
     ]
    }
   ],
   "source": [
    "correct, total = test(model, testloader)\n",
    "print('Accuracy of the network on test images: %0.3f %%' % (100 * correct / total))\n",
    "print('train.py finished running')"
   ]
  },
  {
   "cell_type": "code",
   "execution_count": 20,
   "id": "2826df50-cbe3-422a-9ac4-f228949aaf40",
   "metadata": {},
   "outputs": [
    {
     "name": "stdout",
     "output_type": "stream",
     "text": [
      "tensor([[ 0.0481,  0.0230, -0.0102,  0.0077,  0.0141,  0.0173, -0.0202],\n",
      "        [ 0.0182,  0.0146,  0.0104,  0.0070, -0.0326,  0.0014, -0.0030],\n",
      "        [ 0.0307, -0.0092,  0.0614,  0.0713, -0.0109,  0.0170, -0.0242],\n",
      "        [ 0.0159, -0.0029,  0.0125, -0.0159, -0.0263, -0.0042, -0.0270],\n",
      "        [-0.0424,  0.0305, -0.0060, -0.0194,  0.0064,  0.0202,  0.0397],\n",
      "        [-0.0172, -0.0145, -0.0524,  0.0177,  0.0354,  0.0231,  0.0472],\n",
      "        [-0.0255, -0.0217, -0.0476,  0.0089, -0.0131, -0.0176,  0.0033]],\n",
      "       device='cuda:0')\n",
      "tensor([[ 0.0381, -0.0401,  0.0025],\n",
      "        [-0.0087, -0.0226, -0.0140],\n",
      "        [-0.0816,  0.0100, -0.1186]], device='cuda:0')\n",
      "tensor([[ 0.0883,  0.0006,  0.0360],\n",
      "        [-0.0070,  0.0072, -0.0773],\n",
      "        [ 0.0266, -0.0549, -0.0455]], device='cuda:0')\n",
      "tensor([[-0.0083,  0.0245,  0.0888],\n",
      "        [ 0.0189, -0.0305,  0.0644],\n",
      "        [-0.0177,  0.0136, -0.1484]], device='cuda:0')\n",
      "tensor([[-0.0453, -0.0591,  0.0312],\n",
      "        [ 0.0138, -0.0245, -0.0981],\n",
      "        [ 0.0051, -0.0621,  0.0259]], device='cuda:0')\n",
      "tensor([[-0.0728, -0.0049, -0.0441],\n",
      "        [ 0.0047, -0.0370, -0.0163],\n",
      "        [-0.0013, -0.0446,  0.0349]], device='cuda:0')\n",
      "tensor([[-0.0064,  0.0012,  0.0504],\n",
      "        [ 0.0054, -0.0087,  0.0213],\n",
      "        [ 0.0105, -0.0031, -0.0751]], device='cuda:0')\n",
      "tensor([[ 0.0156, -0.0422, -0.0387],\n",
      "        [ 0.0253, -0.0269,  0.0024],\n",
      "        [-0.0204, -0.0725, -0.0089]], device='cuda:0')\n",
      "tensor([[ 0.0306,  0.0184,  0.0681],\n",
      "        [ 0.0085,  0.0157,  0.0457],\n",
      "        [-0.0087, -0.0184, -0.0045]], device='cuda:0')\n"
     ]
    }
   ],
   "source": [
    "state_dict = model.state_dict()\n",
    "for i in state_dict :\n",
    "#     print(i)\n",
    "    if 'conv1.weight' in i :\n",
    "        print(state_dict[i][0,0])"
   ]
  },
  {
   "cell_type": "code",
   "execution_count": null,
   "id": "bfc901a0-25db-428e-bd9c-30b4bbc7b2a8",
   "metadata": {},
   "outputs": [],
   "source": []
  }
 ],
 "metadata": {
  "kernelspec": {
   "display_name": "pytorch_retina",
   "language": "python",
   "name": "pytorch_retina"
  },
  "language_info": {
   "codemirror_mode": {
    "name": "ipython",
    "version": 3
   },
   "file_extension": ".py",
   "mimetype": "text/x-python",
   "name": "python",
   "nbconvert_exporter": "python",
   "pygments_lexer": "ipython3",
   "version": "3.7.10"
  }
 },
 "nbformat": 4,
 "nbformat_minor": 5
}
