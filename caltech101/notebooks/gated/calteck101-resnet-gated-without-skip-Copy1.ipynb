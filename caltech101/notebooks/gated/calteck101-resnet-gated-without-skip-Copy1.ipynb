{
 "cells": [
  {
   "cell_type": "code",
   "execution_count": 1,
   "id": "a08d91b9-2360-491b-8fba-57b538e9b60c",
   "metadata": {},
   "outputs": [],
   "source": [
    "# imports\n",
    "import matplotlib.pyplot as plt\n",
    "import matplotlib\n",
    "# import joblib\n",
    "import cv2\n",
    "import os\n",
    "import torch \n",
    "import numpy as np\n",
    "import torch.nn as nn\n",
    "import torch.nn.functional as F\n",
    "import torch.optim as optim\n",
    "import time\n",
    "import random\n",
    "import math\n",
    "import sys\n",
    "sys.path.append('../../')\n",
    "\n",
    "#import pretrainedmodels\n",
    "from imutils import paths\n",
    "from sklearn.preprocessing import LabelBinarizer\n",
    "from sklearn.model_selection import train_test_split\n",
    "from torchvision.transforms import transforms\n",
    "from torch.utils.data import DataLoader, Dataset\n",
    "from tqdm import tqdm\n",
    "\n",
    "from gated import *\n",
    "from resnet_gated_without_skip import *\n",
    "# from resnet_gated import *\n",
    "# from resnet import *\n",
    "from train import train, test\n",
    "from dataset import *\n",
    "from scheduler import CosineAnnealingWarmUpRestarts"
   ]
  },
  {
   "cell_type": "code",
   "execution_count": 2,
   "id": "ffabfdd5-37bb-46a9-8bf6-8e93e50c34ea",
   "metadata": {},
   "outputs": [],
   "source": [
    "#device = torch.device(\"cpu\")\n",
    "device = torch.device(\"cuda\")\n",
    "dtype = torch.float\n",
    "\n",
    "BATCH_SIZE = 64"
   ]
  },
  {
   "cell_type": "code",
   "execution_count": 3,
   "id": "4b0f42e8-c6e8-4565-9ad8-08044a133b0e",
   "metadata": {},
   "outputs": [
    {
     "name": "stderr",
     "output_type": "stream",
     "text": [
      "/home/beomgon/anaconda3/envs/pytorch_retina/lib/python3.7/site-packages/ipykernel_launcher.py:12: VisibleDeprecationWarning: Creating an ndarray from ragged nested sequences (which is a list-or-tuple of lists-or-tuples-or ndarrays with different lengths or shapes) is deprecated. If you meant to do this, you must specify 'dtype=object' when creating the ndarray\n",
      "  if sys.path[0] == '':\n"
     ]
    }
   ],
   "source": [
    "image_paths = list(paths.list_images('../../data/101_ObjectCategories'))\n",
    "data = []\n",
    "labels = []\n",
    "for image_path in image_paths:\n",
    "    label = image_path.split(os.path.sep)[-2]\n",
    "    if label == 'BACKGROUND_Google':\n",
    "        continue\n",
    "    image = cv2.imread(image_path)\n",
    "    image = cv2.cvtColor(image, cv2.COLOR_BGR2RGB)\n",
    "    data.append(image)\n",
    "    labels.append(label)\n",
    "data = np.array(data)\n",
    "labels = np.array(labels)"
   ]
  },
  {
   "cell_type": "code",
   "execution_count": 4,
   "id": "292073f9-9ff6-4f66-b830-fb964b7aa3ad",
   "metadata": {},
   "outputs": [
    {
     "data": {
      "text/plain": [
       "101"
      ]
     },
     "execution_count": 4,
     "metadata": {},
     "output_type": "execute_result"
    }
   ],
   "source": [
    "len(set(labels))"
   ]
  },
  {
   "cell_type": "code",
   "execution_count": 5,
   "id": "745cdd14-feb6-446f-9e24-dff1e3710002",
   "metadata": {},
   "outputs": [
    {
     "name": "stdout",
     "output_type": "stream",
     "text": [
      "Total number of classes: 101\n"
     ]
    }
   ],
   "source": [
    "# one hot encode\n",
    "lb = LabelBinarizer()\n",
    "labels = lb.fit_transform(labels)\n",
    "print(f\"Total number of classes: {len(lb.classes_)}\")\n"
   ]
  },
  {
   "cell_type": "code",
   "execution_count": 6,
   "id": "d1eefcfe-51cf-49d5-9e33-a016f3fa7cb3",
   "metadata": {},
   "outputs": [
    {
     "name": "stdout",
     "output_type": "stream",
     "text": [
      "x_train examples: (6073,)\n",
      "x_test examples: (1693,)\n",
      "x_val examples: (911,)\n"
     ]
    }
   ],
   "source": [
    "# divide the data into train, validation, and test set\n",
    "(x_train, x_val , y_train, y_val) = train_test_split(data, labels, \n",
    "                                                    test_size=0.3,  \n",
    "                                                    stratify=labels,\n",
    "                                                    random_state=42)\n",
    "\n",
    "(x_val, x_test, y_val, y_test) = train_test_split(x_val, y_val, \n",
    "                                                    test_size=0.65, \n",
    "                                                    random_state=42)\n",
    "print(f\"x_train examples: {x_train.shape}\\nx_test examples: {x_test.shape}\\nx_val examples: {x_val.shape}\")"
   ]
  },
  {
   "cell_type": "code",
   "execution_count": 7,
   "id": "7e3e83d1-5285-4337-b35f-b687f3ba98e6",
   "metadata": {},
   "outputs": [
    {
     "data": {
      "text/plain": [
       "array([98,  3, 65, 52,  0,  1, 71, 72,  3,  3, 23,  3,  1, 55,  1, 11, 17,\n",
       "       40, 90, 53])"
      ]
     },
     "execution_count": 7,
     "metadata": {},
     "output_type": "execute_result"
    }
   ],
   "source": [
    "np.argmax(y_val[:20], axis=-1)"
   ]
  },
  {
   "cell_type": "code",
   "execution_count": 8,
   "id": "04ab7404-c1f6-4018-8dd3-10d24ec1317c",
   "metadata": {},
   "outputs": [],
   "source": [
    "train_data = ImageDataset(x_train, y_train, train_transform)\n",
    "val_data = ImageDataset(x_val, y_val, val_transform)\n",
    "test_data = ImageDataset(x_test, y_test, val_transform)\n",
    "\n",
    "# dataloaders\n",
    "trainloader = DataLoader(train_data, batch_size=BATCH_SIZE, shuffle=True)\n",
    "valloader = DataLoader(val_data, batch_size=BATCH_SIZE, shuffle=True)\n",
    "testloader = DataLoader(test_data, batch_size=BATCH_SIZE, shuffle=False)"
   ]
  },
  {
   "cell_type": "code",
   "execution_count": 9,
   "id": "89fc76f1-18b8-4716-bc43-437db21ed83e",
   "metadata": {},
   "outputs": [],
   "source": [
    "# model.eval()"
   ]
  },
  {
   "cell_type": "code",
   "execution_count": 10,
   "id": "3f813620-4e44-4360-b7e9-891a5b81d8c2",
   "metadata": {},
   "outputs": [],
   "source": [
    "# optimizer = optim.SGD(model.parameters(), lr=0.0001, momentum=0.9, weight_decay=1e-4)\n",
    "# scheduler = CosineAnnealingWarmUpRestarts(optimizer, T_0=5, T_mult=2, eta_max=0.1,  T_up=2, gamma=0.5)\n",
    "# for i in range(30) :\n",
    "#     EPOCH_LEARING_RATE = optimizer.param_groups[0][\"lr\"]\n",
    "#     print(EPOCH_LEARING_RATE)\n",
    "#     scheduler.step()"
   ]
  },
  {
   "cell_type": "code",
   "execution_count": 11,
   "id": "c30a8876-c65c-4185-80b3-fb89ec77bd21",
   "metadata": {},
   "outputs": [
    {
     "name": "stdout",
     "output_type": "stream",
     "text": [
      "dilation [False, False, False]\n",
      "stride 1\n",
      "downsample\n",
      "stride 2\n",
      "downsample\n",
      "stride 2\n",
      "downsample\n",
      "stride 2\n",
      "SGD (\n",
      "Parameter Group 0\n",
      "    dampening: 0\n",
      "    lr: 0.0001\n",
      "    momentum: 0.9\n",
      "    nesterov: False\n",
      "    weight_decay: 0.0001\n",
      ")\n",
      "Epoch 1 of 100\n",
      "train loss 0.0718 val loss 0.0744 train acc 2.01 val acc 7.57 lr 0.0001\n",
      "Epoch 2 of 100\n",
      "train loss 0.0643 val loss 0.0602 train acc 15.66 val acc 23.71 lr 0.0501\n",
      "Epoch 3 of 100\n",
      "train loss 0.0552 val loss 0.0548 train acc 25.06 val acc 27.11 lr 0.1000\n",
      "Epoch 4 of 100\n",
      "train loss 0.0490 val loss 0.0474 train acc 32.18 val acc 36.33 lr 0.0750\n",
      "Epoch 5 of 100\n",
      "train loss 0.0426 val loss 0.0434 train acc 38.88 val acc 41.16 lr 0.0251\n",
      "Epoch 6 of 100\n",
      "train loss 0.0397 val loss 0.0423 train acc 42.01 val acc 42.48 lr 0.0001\n",
      "Epoch 7 of 100\n",
      "train loss 0.0392 val loss 0.0410 train acc 42.70 val acc 43.80 lr 0.0250\n",
      "Epoch 8 of 100\n",
      "train loss 0.0377 val loss 0.0443 train acc 43.55 val acc 40.18 lr 0.0500\n",
      "Epoch 9 of 100\n",
      "train loss 0.0333 val loss 0.0365 train acc 49.00 val acc 48.19 lr 0.0467\n",
      "Epoch 10 of 100\n",
      "train loss 0.0282 val loss 0.0347 train acc 55.67 val acc 50.16 lr 0.0375\n",
      "Epoch 11 of 100\n",
      "train loss 0.0229 val loss 0.0311 train acc 63.89 val acc 54.34 lr 0.0250\n",
      "Epoch 12 of 100\n",
      "train loss 0.0182 val loss 0.0262 train acc 71.25 val acc 61.25 lr 0.0126\n",
      "Epoch 13 of 100\n",
      "train loss 0.0148 val loss 0.0246 train acc 76.85 val acc 63.45 lr 0.0034\n",
      "Epoch 14 of 100\n",
      "train loss 0.0135 val loss 0.0241 train acc 80.13 val acc 64.22 lr 0.0001\n",
      "Epoch 15 of 100\n",
      "train loss 0.0149 val loss 0.0263 train acc 76.34 val acc 61.91 lr 0.0126\n",
      "Epoch 16 of 100\n",
      "train loss 0.0161 val loss 0.0316 train acc 73.26 val acc 56.86 lr 0.0250\n",
      "Epoch 17 of 100\n",
      "train loss 0.0134 val loss 0.0301 train acc 77.61 val acc 57.74 lr 0.0246\n",
      "Epoch 18 of 100\n",
      "train loss 0.0101 val loss 0.0289 train acc 83.35 val acc 60.15 lr 0.0233\n",
      "Epoch 19 of 100\n",
      "train loss 0.0069 val loss 0.0259 train acc 89.38 val acc 63.01 lr 0.0214\n",
      "Epoch 20 of 100\n",
      "train loss 0.0039 val loss 0.0253 train acc 95.21 val acc 65.09 lr 0.0188\n",
      "Epoch 21 of 100\n",
      "train loss 0.0018 val loss 0.0246 train acc 98.68 val acc 66.85 lr 0.0158\n",
      "Epoch 22 of 100\n",
      "train loss 0.0008 val loss 0.0226 train acc 99.77 val acc 68.94 lr 0.0126\n",
      "Epoch 23 of 100\n",
      "train loss 0.0005 val loss 0.0217 train acc 99.92 val acc 68.94 lr 0.0093\n",
      "Epoch 24 of 100\n",
      "train loss 0.0004 val loss 0.0216 train acc 99.97 val acc 69.70 lr 0.0063\n",
      "Epoch 25 of 100\n",
      "train loss 0.0003 val loss 0.0224 train acc 99.97 val acc 70.03 lr 0.0037\n",
      "Epoch 26 of 100\n",
      "train loss 0.0003 val loss 0.0216 train acc 99.98 val acc 69.26 lr 0.0018\n",
      "Epoch 27 of 100\n",
      "train loss 0.0003 val loss 0.0218 train acc 99.98 val acc 69.26 lr 0.0005\n",
      "Epoch 28 of 100\n",
      "train loss 0.0003 val loss 0.0217 train acc 99.98 val acc 69.48 lr 0.0001\n",
      "Epoch 29 of 100\n",
      "train loss 0.0003 val loss 0.0219 train acc 99.98 val acc 69.48 lr 0.0063\n",
      "Epoch 30 of 100\n",
      "train loss 0.0003 val loss 0.0217 train acc 99.98 val acc 69.81 lr 0.0125\n",
      "Epoch 31 of 100\n",
      "train loss 0.0002 val loss 0.0217 train acc 99.97 val acc 69.48 lr 0.0124\n",
      "Epoch 32 of 100\n",
      "train loss 0.0002 val loss 0.0218 train acc 99.98 val acc 70.03 lr 0.0123\n",
      "Epoch 33 of 100\n",
      "train loss 0.0002 val loss 0.0216 train acc 99.97 val acc 69.48 lr 0.0120\n",
      "Epoch 34 of 100\n",
      "train loss 0.0002 val loss 0.0221 train acc 99.98 val acc 69.26 lr 0.0117\n",
      "Epoch 35 of 100\n",
      "train loss 0.0002 val loss 0.0221 train acc 99.97 val acc 69.05 lr 0.0112\n",
      "Epoch 36 of 100\n",
      "train loss 0.0001 val loss 0.0223 train acc 99.97 val acc 69.48 lr 0.0107\n",
      "Epoch 37 of 100\n",
      "train loss 0.0001 val loss 0.0224 train acc 99.98 val acc 69.48 lr 0.0101\n",
      "Epoch 38 of 100\n",
      "train loss 0.0001 val loss 0.0228 train acc 99.97 val acc 69.15 lr 0.0094\n",
      "Epoch 39 of 100\n",
      "train loss 0.0001 val loss 0.0221 train acc 99.97 val acc 69.26 lr 0.0087\n",
      "Epoch 40 of 100\n",
      "train loss 0.0001 val loss 0.0217 train acc 99.98 val acc 69.15 lr 0.0079\n",
      "Epoch 41 of 100\n",
      "train loss 0.0001 val loss 0.0229 train acc 99.98 val acc 69.59 lr 0.0071\n",
      "Epoch 42 of 100\n",
      "train loss 0.0001 val loss 0.0221 train acc 100.00 val acc 69.37 lr 0.0063\n",
      "Epoch 43 of 100\n",
      "train loss 0.0001 val loss 0.0225 train acc 99.97 val acc 69.26 lr 0.0055\n",
      "Epoch 44 of 100\n",
      "train loss 0.0001 val loss 0.0232 train acc 99.98 val acc 70.03 lr 0.0047\n",
      "Epoch 45 of 100\n",
      "train loss 0.0001 val loss 0.0227 train acc 99.97 val acc 69.59 lr 0.0039\n",
      "Epoch 46 of 100\n",
      "train loss 0.0001 val loss 0.0219 train acc 99.98 val acc 70.03 lr 0.0032\n",
      "Epoch 47 of 100\n",
      "train loss 0.0001 val loss 0.0228 train acc 99.97 val acc 69.26 lr 0.0025\n",
      "Epoch 48 of 100\n",
      "train loss 0.0001 val loss 0.0235 train acc 99.98 val acc 69.81 lr 0.0019\n",
      "Epoch 49 of 100\n",
      "train loss 0.0001 val loss 0.0224 train acc 99.97 val acc 69.37 lr 0.0014\n",
      "Epoch 50 of 100\n",
      "train loss 0.0001 val loss 0.0222 train acc 99.98 val acc 69.26 lr 0.0009\n",
      "Epoch 51 of 100\n",
      "train loss 0.0001 val loss 0.0228 train acc 99.98 val acc 69.59 lr 0.0006\n",
      "Epoch 52 of 100\n",
      "train loss 0.0001 val loss 0.0217 train acc 99.98 val acc 69.59 lr 0.0003\n",
      "Epoch 53 of 100\n",
      "train loss 0.0001 val loss 0.0217 train acc 100.00 val acc 69.48 lr 0.0002\n",
      "Epoch 54 of 100\n",
      "train loss 0.0001 val loss 0.0220 train acc 99.97 val acc 69.48 lr 0.0001\n",
      "Epoch 55 of 100\n",
      "train loss 0.0001 val loss 0.0227 train acc 99.97 val acc 69.48 lr 0.0032\n",
      "Epoch 56 of 100\n",
      "train loss 0.0001 val loss 0.0222 train acc 99.97 val acc 69.48 lr 0.0063\n",
      "Epoch 57 of 100\n",
      "train loss 0.0001 val loss 0.0226 train acc 99.97 val acc 69.37 lr 0.0062\n",
      "Epoch 58 of 100\n",
      "train loss 0.0001 val loss 0.0229 train acc 99.98 val acc 69.59 lr 0.0062\n",
      "Epoch 59 of 100\n",
      "train loss 0.0001 val loss 0.0227 train acc 99.98 val acc 69.05 lr 0.0062\n",
      "Epoch 60 of 100\n",
      "train loss 0.0001 val loss 0.0223 train acc 99.97 val acc 69.81 lr 0.0061\n",
      "Epoch 61 of 100\n",
      "train loss 0.0001 val loss 0.0232 train acc 99.97 val acc 69.37 lr 0.0061\n",
      "Epoch 62 of 100\n",
      "train loss 0.0001 val loss 0.0221 train acc 99.98 val acc 69.92 lr 0.0060\n",
      "Epoch 63 of 100\n",
      "train loss 0.0001 val loss 0.0229 train acc 99.98 val acc 69.70 lr 0.0059\n",
      "Epoch 64 of 100\n",
      "train loss 0.0001 val loss 0.0218 train acc 99.98 val acc 69.48 lr 0.0058\n",
      "Epoch 65 of 100\n",
      "train loss 0.0001 val loss 0.0214 train acc 99.98 val acc 69.26 lr 0.0057\n",
      "Epoch 66 of 100\n",
      "train loss 0.0001 val loss 0.0228 train acc 99.97 val acc 69.37 lr 0.0056\n",
      "Epoch 67 of 100\n",
      "train loss 0.0001 val loss 0.0226 train acc 99.97 val acc 69.48 lr 0.0055\n",
      "Epoch 68 of 100\n",
      "train loss 0.0001 val loss 0.0223 train acc 99.97 val acc 69.59 lr 0.0053\n",
      "Epoch 69 of 100\n",
      "train loss 0.0001 val loss 0.0224 train acc 99.97 val acc 69.48 lr 0.0052\n",
      "Epoch 70 of 100\n",
      "train loss 0.0001 val loss 0.0223 train acc 99.97 val acc 69.26 lr 0.0050\n",
      "Epoch 71 of 100\n",
      "train loss 0.0001 val loss 0.0217 train acc 99.97 val acc 69.59 lr 0.0049\n",
      "Epoch 72 of 100\n",
      "train loss 0.0001 val loss 0.0224 train acc 99.98 val acc 69.37 lr 0.0047\n",
      "Epoch 73 of 100\n",
      "train loss 0.0001 val loss 0.0226 train acc 99.98 val acc 69.37 lr 0.0045\n",
      "Epoch 74 of 100\n",
      "train loss 0.0001 val loss 0.0218 train acc 99.97 val acc 69.70 lr 0.0044\n",
      "Epoch 75 of 100\n",
      "train loss 0.0001 val loss 0.0216 train acc 99.97 val acc 69.48 lr 0.0042\n",
      "Epoch 76 of 100\n",
      "train loss 0.0001 val loss 0.0229 train acc 99.98 val acc 69.59 lr 0.0040\n",
      "Epoch 77 of 100\n",
      "train loss 0.0001 val loss 0.0220 train acc 99.98 val acc 69.70 lr 0.0038\n",
      "Epoch 78 of 100\n",
      "train loss 0.0001 val loss 0.0228 train acc 99.97 val acc 68.94 lr 0.0036\n",
      "Epoch 79 of 100\n",
      "train loss 0.0001 val loss 0.0223 train acc 99.97 val acc 69.59 lr 0.0034\n",
      "Epoch 80 of 100\n",
      "train loss 0.0001 val loss 0.0220 train acc 99.97 val acc 69.70 lr 0.0032\n",
      "Epoch 81 of 100\n",
      "train loss 0.0001 val loss 0.0220 train acc 99.98 val acc 69.59 lr 0.0030\n",
      "Epoch 82 of 100\n",
      "train loss 0.0001 val loss 0.0225 train acc 99.97 val acc 69.15 lr 0.0028\n",
      "Epoch 83 of 100\n",
      "train loss 0.0001 val loss 0.0227 train acc 99.98 val acc 69.37 lr 0.0026\n",
      "Epoch 84 of 100\n",
      "train loss 0.0001 val loss 0.0223 train acc 99.97 val acc 69.26 lr 0.0024\n",
      "Epoch 85 of 100\n",
      "train loss 0.0001 val loss 0.0226 train acc 99.98 val acc 69.70 lr 0.0022\n",
      "Epoch 86 of 100\n",
      "train loss 0.0001 val loss 0.0226 train acc 99.98 val acc 69.81 lr 0.0020\n",
      "Epoch 87 of 100\n",
      "train loss 0.0001 val loss 0.0230 train acc 99.98 val acc 69.59 lr 0.0018\n",
      "Epoch 88 of 100\n",
      "train loss 0.0001 val loss 0.0221 train acc 99.97 val acc 69.81 lr 0.0016\n",
      "Epoch 89 of 100\n",
      "train loss 0.0001 val loss 0.0223 train acc 99.98 val acc 69.81 lr 0.0015\n",
      "Epoch 90 of 100\n",
      "train loss 0.0001 val loss 0.0218 train acc 99.98 val acc 69.81 lr 0.0013\n",
      "Epoch 91 of 100\n",
      "train loss 0.0001 val loss 0.0216 train acc 99.98 val acc 69.37 lr 0.0011\n",
      "Epoch 92 of 100\n",
      "train loss 0.0001 val loss 0.0225 train acc 99.97 val acc 69.48 lr 0.0010\n",
      "Epoch 93 of 100\n",
      "train loss 0.0001 val loss 0.0227 train acc 99.97 val acc 69.59 lr 0.0009\n",
      "Epoch 94 of 100\n",
      "train loss 0.0001 val loss 0.0224 train acc 100.00 val acc 69.70 lr 0.0007\n",
      "Epoch 95 of 100\n",
      "train loss 0.0001 val loss 0.0228 train acc 99.98 val acc 69.70 lr 0.0006\n",
      "Epoch 96 of 100\n",
      "train loss 0.0001 val loss 0.0215 train acc 99.97 val acc 69.48 lr 0.0005\n",
      "Epoch 97 of 100\n",
      "train loss 0.0001 val loss 0.0224 train acc 99.98 val acc 69.26 lr 0.0004\n",
      "Epoch 98 of 100\n",
      "train loss 0.0001 val loss 0.0229 train acc 99.97 val acc 69.59 lr 0.0003\n",
      "Epoch 99 of 100\n",
      "train loss 0.0001 val loss 0.0225 train acc 99.98 val acc 69.59 lr 0.0003\n",
      "Epoch 100 of 100\n",
      "train loss 0.0001 val loss 0.0219 train acc 99.97 val acc 69.59 lr 0.0002\n",
      "87.4796847263972 minutes\n",
      "Accuracy of the network on test images: 69.285 %\n"
     ]
    },
    {
     "data": {
      "image/png": "[encoded data removed]",
      "text/plain": [
       "<Figure size 720x504 with 1 Axes>"
      ]
     },
     "metadata": {
      "needs_background": "light"
     },
     "output_type": "display_data"
    },
    {
     "data": {
      "image/png": "[encoded data removed]",
      "text/plain": [
       "<Figure size 720x504 with 1 Axes>"
      ]
     },
     "metadata": {
      "needs_background": "light"
     },
     "output_type": "display_data"
    }
   ],
   "source": [
    "model = resnet18_gated_without_skip(pretrained=False).to(device)\n",
    "train(model, trainloader, valloader, opt='sgd')\n",
    "correct, total = test(model, testloader)\n",
    "print('Accuracy of the network on test images: %0.3f %%' % (100 * correct / total))"
   ]
  },
  {
   "cell_type": "code",
   "execution_count": null,
   "id": "97dcfe22-35fa-40a3-ab35-d2997b3e8e8b",
   "metadata": {},
   "outputs": [],
   "source": []
  }
 ],
 "metadata": {
  "kernelspec": {
   "display_name": "pytorch_retina",
   "language": "python",
   "name": "pytorch_retina"
  },
  "language_info": {
   "codemirror_mode": {
    "name": "ipython",
    "version": 3
   },
   "file_extension": ".py",
   "mimetype": "text/x-python",
   "name": "python",
   "nbconvert_exporter": "python",
   "pygments_lexer": "ipython3",
   "version": "3.7.10"
  }
 },
 "nbformat": 4,
 "nbformat_minor": 5
}
