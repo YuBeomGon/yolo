{
 "cells": [
  {
   "cell_type": "code",
   "execution_count": null,
   "id": "c80fa1da-d8cc-43a2-95a0-7c1d343f03d0",
   "metadata": {},
   "outputs": [],
   "source": []
  },
  {
   "cell_type": "code",
   "execution_count": 12,
   "id": "2d212a74-1f50-4320-92a6-e0705ef1f4b1",
   "metadata": {},
   "outputs": [],
   "source": [
    "# import libraries \n",
    "import torch\n",
    "import torch.nn as nn\n",
    "from torch.autograd import Variable\n",
    "import torch.nn.functional as F"
   ]
  },
  {
   "cell_type": "code",
   "execution_count": null,
   "id": "b61aaac5-a188-4069-a5be-acdda55d773b",
   "metadata": {},
   "outputs": [],
   "source": []
  },
  {
   "cell_type": "code",
   "execution_count": 28,
   "id": "b78d8948-e4ab-4d95-a802-9eca0b66c3b7",
   "metadata": {},
   "outputs": [],
   "source": [
    "class XOR(nn.Module):\n",
    "    def __init__(self):\n",
    "        super(XOR, self).__init__()\n",
    "        self.linear = nn.Linear(2, 2)\n",
    "        self.Sigmoid = nn.Sigmoid()\n",
    "        self.linear2 = nn.Linear(2, 1)\n",
    "    def forward(self, input):\n",
    "        x = self.linear(input)\n",
    "#         x = self.Sigmoid(x)\n",
    "        x = self.linear2(x)\n",
    "        return x"
   ]
  },
  {
   "cell_type": "code",
   "execution_count": 29,
   "id": "89e9534b-1da7-4ff3-86ee-fd338e6995b5",
   "metadata": {},
   "outputs": [],
   "source": [
    "xor_network = XOR()"
   ]
  },
  {
   "cell_type": "code",
   "execution_count": 30,
   "id": "6eeb11f8-ca0f-42fb-9349-977ed22e6507",
   "metadata": {},
   "outputs": [],
   "source": [
    "# create data\n",
    "Xs = torch.Tensor([[0., 0.],\n",
    "               [0., 1.],\n",
    "               [1., 0.],\n",
    "               [1., 1.]])\n",
    "\n",
    "y = torch.Tensor([0., 1., 1., 0.]).reshape(Xs.shape[0], 1)"
   ]
  },
  {
   "cell_type": "code",
   "execution_count": 31,
   "id": "d4d15df3-f04d-42c5-b2f3-5b7a961a75b8",
   "metadata": {},
   "outputs": [
    {
     "name": "stdout",
     "output_type": "stream",
     "text": [
      "Epoch: 0 completed\n",
      "Epoch: 500 completed\n"
     ]
    }
   ],
   "source": [
    "xor_network = XOR()\n",
    "epochs = 1000 \n",
    "mseloss = nn.MSELoss() \n",
    "optimizer = torch.optim.Adam(xor_network.parameters(), lr = 0.03) \n",
    "all_losses = [] \n",
    "current_loss = 0 \n",
    "plot_every = 50 \n",
    " \n",
    "for epoch in range(epochs): \n",
    "   \n",
    "    # input training example and return the prediction   \n",
    "    yhat = xor_network(Xs)\n",
    "    \n",
    "    # calculate MSE loss   \n",
    "    loss = mseloss(yhat, y)\n",
    "      \n",
    "    # backpropogate through the loss gradiants   \n",
    "    loss.backward()\n",
    "    \n",
    "    # update model weights   \n",
    "    optimizer.step()\n",
    "    \n",
    "    # remove current gradients for next iteration   \n",
    "    optimizer.zero_grad() \n",
    "   \n",
    "    # append to loss   \n",
    "    current_loss += loss  \n",
    " \n",
    "    if epoch % plot_every == 0:       \n",
    "        all_losses.append(current_loss / plot_every)       \n",
    "        current_loss = 0 \n",
    "     \n",
    "    # print progress   \n",
    "    if epoch % 500 == 0:     \n",
    "        print(f'Epoch: {epoch} completed')"
   ]
  },
  {
   "cell_type": "code",
   "execution_count": 32,
   "id": "50dd9d37-4158-46c6-9ec9-fd34f0568aba",
   "metadata": {},
   "outputs": [
    {
     "data": {
      "image/png": "[encoded data removed]",
      "text/plain": [
       "<Figure size 432x288 with 1 Axes>"
      ]
     },
     "metadata": {
      "needs_background": "light"
     },
     "output_type": "display_data"
    }
   ],
   "source": [
    "import matplotlib.pyplot as plt\n",
    "plt.plot(all_losses)\n",
    "plt.ylabel('Loss')\n",
    "plt.show()"
   ]
  },
  {
   "cell_type": "code",
   "execution_count": 33,
   "id": "ac0d5083-97b1-4d46-8f29-498fb542368b",
   "metadata": {},
   "outputs": [
    {
     "name": "stdout",
     "output_type": "stream",
     "text": [
      "linear.weight tensor([[-0.0009,  0.0024],\n",
      "        [-0.0157,  0.0447]])\n",
      "linear.bias tensor([ 0.8533, -0.1062])\n",
      "linear2.weight tensor([[ 0.4189, -0.0227]])\n",
      "linear2.bias tensor([0.1401])\n"
     ]
    }
   ],
   "source": [
    "# show weights and bias\n",
    "for name, param in xor_network.named_parameters():\n",
    "    if param.requires_grad:\n",
    "        print(name, param.data)"
   ]
  },
  {
   "cell_type": "code",
   "execution_count": 35,
   "id": "c7e8f65a-e085-4bc9-a08a-7a745bcad3a3",
   "metadata": {},
   "outputs": [
    {
     "name": "stdout",
     "output_type": "stream",
     "text": [
      "tensor([0.5000], grad_fn=<AddBackward0>)\n"
     ]
    }
   ],
   "source": [
    "# test input\n",
    "input = torch.tensor([1., 1.])\n",
    "out = xor_network(input)\n",
    "print(out)"
   ]
  },
  {
   "cell_type": "code",
   "execution_count": null,
   "id": "e4cced61-cf4d-4bed-9f7c-0a06abb7a706",
   "metadata": {},
   "outputs": [],
   "source": []
  }
 ],
 "metadata": {
  "kernelspec": {
   "display_name": "pytorch_retina",
   "language": "python",
   "name": "pytorch_retina"
  },
  "language_info": {
   "codemirror_mode": {
    "name": "ipython",
    "version": 3
   },
   "file_extension": ".py",
   "mimetype": "text/x-python",
   "name": "python",
   "nbconvert_exporter": "python",
   "pygments_lexer": "ipython3",
   "version": "3.7.10"
  }
 },
 "nbformat": 4,
 "nbformat_minor": 5
}
