{
 "cells": [
  {
   "cell_type": "code",
   "execution_count": 100,
   "id": "410d04fc-e1da-4509-8d2d-fa05f0851818",
   "metadata": {},
   "outputs": [],
   "source": [
    "import torch\n",
    "import torch.nn as nn"
   ]
  },
  {
   "cell_type": "code",
   "execution_count": 101,
   "id": "4b2cad45-c21e-4544-80b0-197415613694",
   "metadata": {},
   "outputs": [],
   "source": [
    "# http://d2l.ai/chapter_convolutional-modern/batch-norm.html?highlight=batchnorm2d"
   ]
  },
  {
   "cell_type": "code",
   "execution_count": 102,
   "id": "ef745204-5266-458a-9e3a-45693dbb2974",
   "metadata": {},
   "outputs": [],
   "source": [
    "class Net(nn.Module):\n",
    "    def __init__(self):\n",
    "        super(Net, self).__init__()\n",
    "        self.bn = nn.BatchNorm2d(3, affine=False, momentum=False, track_running_stats=False)\n",
    "\n",
    "    def forward(self, x):\n",
    "        x = self.bn(x)\n",
    "        return x"
   ]
  },
  {
   "cell_type": "code",
   "execution_count": 109,
   "id": "a9d37899-5bb3-4698-bc48-f49fe8f62175",
   "metadata": {},
   "outputs": [
    {
     "name": "stdout",
     "output_type": "stream",
     "text": [
      "tensor([[[-0.2002,  1.8858],\n",
      "         [ 0.6419, -0.7827]],\n",
      "\n",
      "        [[-1.7291, -0.5246],\n",
      "         [ 0.9352, -0.3953]],\n",
      "\n",
      "        [[-0.2683,  0.1427],\n",
      "         [-0.0577,  0.6652]]])\n"
     ]
    }
   ],
   "source": [
    "# With Learnable Parameters\n",
    "#m = nn.BatchNorm2d(3, momentum=False, track_running_stats=False)\n",
    "# Without Learnable Parameters\n",
    "m = nn.BatchNorm2d(3, affine=True, momentum=False, track_running_stats=False)\n",
    "input = torch.randn(2, 3, 2, 2)\n",
    "model = Net()\n",
    "model.train()\n",
    "output = model(input)\n",
    "print(input[0])"
   ]
  },
  {
   "cell_type": "code",
   "execution_count": 112,
   "id": "2895764b-dcbe-4e30-9aa5-7a043e6b426f",
   "metadata": {},
   "outputs": [
    {
     "name": "stdout",
     "output_type": "stream",
     "text": [
      "tensor([-0.0844,  0.0880, -0.0050])\n"
     ]
    },
    {
     "data": {
      "text/plain": [
       "tensor([[[[0.1158, 1.9702],\n",
       "          [0.7263, 0.6983]],\n",
       "\n",
       "         [[1.8170, 0.6125],\n",
       "          [0.8473, 0.4832]],\n",
       "\n",
       "         [[0.2633, 0.1477],\n",
       "          [0.0527, 0.6703]]],\n",
       "\n",
       "\n",
       "        [[[0.0111, 0.3808],\n",
       "          [0.0566, 2.3086]],\n",
       "\n",
       "         [[1.6653, 1.4483],\n",
       "          [2.1870, 0.3385]],\n",
       "\n",
       "         [[0.6484, 0.8170],\n",
       "          [0.0263, 0.3597]]]])"
      ]
     },
     "execution_count": 112,
     "metadata": {},
     "output_type": "execute_result"
    }
   ],
   "source": [
    "avg = torch.mean(input, dim=[0,2,3])\n",
    "print(avg)\n",
    "sqr = torch.abs(input - avg[None,:,None,None])\n",
    "sqr"
   ]
  },
  {
   "cell_type": "code",
   "execution_count": 98,
   "id": "0936bdb1-9c9f-4715-828d-e7be178161f7",
   "metadata": {},
   "outputs": [
    {
     "name": "stdout",
     "output_type": "stream",
     "text": [
      "tensor([-0.0109, -0.0147,  0.0013])\n",
      "tensor([1.0322, 1.0050, 0.9993])\n"
     ]
    }
   ],
   "source": [
    "avg = torch.mean(input, dim=[0,2,3])\n",
    "var = torch.sqrt(torch.var(input, dim=[0,2,3], unbiased=False) + 1e-5)\n",
    "print(avg)\n",
    "print(var)"
   ]
  },
  {
   "cell_type": "code",
   "execution_count": 99,
   "id": "1336629c-6f9b-44a9-90f0-8431394e1294",
   "metadata": {},
   "outputs": [
    {
     "data": {
      "text/plain": [
       "tensor([[[[ 0.6877,  0.1461,  1.6874,  ...,  0.4209, -0.3794,  0.4051],\n",
       "          [-1.0926, -2.4687, -0.7446,  ..., -0.9367,  2.4565,  2.1334],\n",
       "          [ 2.1169,  0.2763, -1.6185,  ...,  2.5010,  1.3717,  1.0402],\n",
       "          ...,\n",
       "          [-0.1888,  1.5552,  0.0081,  ..., -0.4778,  0.3557,  2.3575],\n",
       "          [-0.1928, -0.8449, -0.7285,  ...,  1.0142,  0.0646,  1.7503],\n",
       "          [-1.2573,  0.8269,  0.8398,  ...,  1.3521,  0.6122, -0.5174]],\n",
       "\n",
       "         [[-0.3816, -1.7383,  0.0870,  ...,  2.9246,  2.0962,  0.9667],\n",
       "          [ 0.1768, -0.8558, -2.2780,  ...,  0.3553,  2.2534, -1.8988],\n",
       "          [ 0.3465, -0.8680,  2.8089,  ...,  0.9121, -0.3247,  0.7499],\n",
       "          ...,\n",
       "          [-3.1822,  1.6501, -0.7749,  ...,  1.6824, -1.0801,  0.3653],\n",
       "          [ 1.2343, -0.7169, -0.2718,  ...,  0.3745, -0.1327,  0.2272],\n",
       "          [-2.6126, -1.6869, -1.7422,  ..., -1.0244,  0.6757,  0.4838]],\n",
       "\n",
       "         [[-2.0979,  0.5308, -1.0360,  ..., -0.9062,  2.8048,  1.1074],\n",
       "          [-1.3350,  0.0250, -1.8941,  ..., -0.5426,  1.9049,  1.3590],\n",
       "          [-1.8013, -0.4921, -0.0136,  ..., -1.6621, -3.7648,  2.0095],\n",
       "          ...,\n",
       "          [ 1.6250,  1.2096,  1.7099,  ...,  0.7323,  2.9675, -0.8150],\n",
       "          [-0.2197, -0.4303,  0.4138,  ...,  0.4310, -2.0030, -1.5817],\n",
       "          [ 1.2986, -0.4863, -1.0101,  ...,  1.3732, -0.8474,  0.7238]]],\n",
       "\n",
       "\n",
       "        [[[-0.2511, -0.4586, -0.0885,  ..., -0.9352,  2.1975, -0.4021],\n",
       "          [-1.5655, -0.3706, -1.3599,  ...,  1.0066, -2.0352, -2.3579],\n",
       "          [-2.3723, -1.0526, -0.1193,  ..., -1.4104, -0.5163, -1.5178],\n",
       "          ...,\n",
       "          [ 1.4342, -1.2555, -0.8189,  ..., -0.2934,  0.6384,  0.1487],\n",
       "          [-0.1627,  0.7155, -1.1617,  ..., -1.9018,  1.3752, -0.3306],\n",
       "          [-0.5696, -0.3233, -1.7309,  ...,  0.3467, -1.6058, -0.2742]],\n",
       "\n",
       "         [[-0.2892, -0.5879, -1.2425,  ..., -2.3157,  2.9648,  1.1695],\n",
       "          [-0.8256, -0.0961, -0.9411,  ...,  0.3803, -0.2792,  0.0219],\n",
       "          [-0.9527,  0.5717,  0.7708,  ..., -1.5563, -2.0664,  0.2531],\n",
       "          ...,\n",
       "          [-0.6879, -1.0953,  1.8223,  ...,  0.9082, -0.1759, -1.2244],\n",
       "          [ 3.0142, -2.8609, -0.6604,  ...,  3.7477, -1.1649,  0.8206],\n",
       "          [ 0.7555,  0.1355, -0.8622,  ..., -0.7358,  0.1243,  1.1120]],\n",
       "\n",
       "         [[ 1.0674,  1.6093,  0.8368,  ..., -2.8712, -1.3466, -0.5484],\n",
       "          [ 0.4469,  0.9456,  0.5572,  ...,  0.2491, -0.8518,  0.8655],\n",
       "          [-3.3523, -1.2476, -3.1342,  ...,  0.1260, -0.6782, -1.4937],\n",
       "          ...,\n",
       "          [ 2.0447,  0.4074,  1.0247,  ...,  1.1299, -1.1006, -0.5587],\n",
       "          [ 2.3988,  2.5574, -2.2884,  ..., -0.5504, -0.3106, -3.1656],\n",
       "          [ 0.3840, -0.9788,  1.5139,  ...,  1.3119, -2.0907,  0.3680]]]])"
      ]
     },
     "execution_count": 99,
     "metadata": {},
     "output_type": "execute_result"
    }
   ],
   "source": [
    "a = (torch.randn(input.shape) / var[None,:,None,None]) + input\n",
    "a"
   ]
  },
  {
   "cell_type": "code",
   "execution_count": 61,
   "id": "ead38554-62a9-46d9-ad56-84424278d858",
   "metadata": {},
   "outputs": [],
   "source": [
    "#avg[None,:,None, None]"
   ]
  },
  {
   "cell_type": "code",
   "execution_count": 80,
   "id": "efaa2612-8750-4c6d-ae1e-dc73c9d611dc",
   "metadata": {},
   "outputs": [
    {
     "data": {
      "text/plain": [
       "tensor([[[[ 0.2129, -1.4905],\n",
       "          [-1.1706,  1.3179]],\n",
       "\n",
       "         [[ 2.2721,  0.4208],\n",
       "          [-0.9273,  0.1711]],\n",
       "\n",
       "         [[-0.6782, -1.4200],\n",
       "          [ 0.3269,  1.5030]]],\n",
       "\n",
       "\n",
       "        [[[ 0.3856, -0.7068],\n",
       "          [ 0.0461,  1.4054]],\n",
       "\n",
       "         [[-0.5705, -1.0837],\n",
       "          [-0.4813,  0.1990]],\n",
       "\n",
       "         [[-0.1303, -0.7361],\n",
       "          [-0.4213,  1.5560]]]])"
      ]
     },
     "execution_count": 80,
     "metadata": {},
     "output_type": "execute_result"
    }
   ],
   "source": [
    "(input - avg[None,:,None, None])/(var[None,:,None,None])"
   ]
  },
  {
   "cell_type": "code",
   "execution_count": 72,
   "id": "e90748ac-426a-4c5c-be50-6c10b404f35a",
   "metadata": {},
   "outputs": [
    {
     "data": {
      "text/plain": [
       "tensor([[[ 0.2129, -1.4905],\n",
       "         [-1.1706,  1.3179]],\n",
       "\n",
       "        [[ 2.2721,  0.4208],\n",
       "         [-0.9273,  0.1711]],\n",
       "\n",
       "        [[-0.6782, -1.4200],\n",
       "         [ 0.3269,  1.5030]]])"
      ]
     },
     "execution_count": 72,
     "metadata": {},
     "output_type": "execute_result"
    }
   ],
   "source": [
    "output[0]"
   ]
  },
  {
   "cell_type": "code",
   "execution_count": 64,
   "id": "25d1fd71-fbe9-4b52-bf93-645c7f7fd9ff",
   "metadata": {},
   "outputs": [
    {
     "data": {
      "text/plain": [
       "Parameter containing:\n",
       "tensor([1., 1., 1.], requires_grad=True)"
      ]
     },
     "execution_count": 64,
     "metadata": {},
     "output_type": "execute_result"
    }
   ],
   "source": [
    "m.weight"
   ]
  },
  {
   "cell_type": "code",
   "execution_count": 65,
   "id": "6fde8503-5797-43fd-9f42-c0a63a26f174",
   "metadata": {},
   "outputs": [
    {
     "data": {
      "text/plain": [
       "Parameter containing:\n",
       "tensor([0., 0., 0.], requires_grad=True)"
      ]
     },
     "execution_count": 65,
     "metadata": {},
     "output_type": "execute_result"
    }
   ],
   "source": [
    "m.bias"
   ]
  },
  {
   "cell_type": "code",
   "execution_count": 49,
   "id": "f4d793ec-d8f1-4ad0-9bab-84e3684d6877",
   "metadata": {},
   "outputs": [
    {
     "data": {
      "text/plain": [
       "BatchNorm2d(3, eps=1e-05, momentum=False, affine=True, track_running_stats=False)"
      ]
     },
     "execution_count": 49,
     "metadata": {},
     "output_type": "execute_result"
    }
   ],
   "source": [
    "m"
   ]
  },
  {
   "cell_type": "code",
   "execution_count": 50,
   "id": "d02e7d05-175d-48cb-941a-00181e09c7d7",
   "metadata": {},
   "outputs": [],
   "source": [
    "for i in model.parameters() :\n",
    "    print(i)"
   ]
  },
  {
   "cell_type": "code",
   "execution_count": 33,
   "id": "28b4b69f-b2c3-4bab-a2ae-b36997591dec",
   "metadata": {},
   "outputs": [
    {
     "name": "stdout",
     "output_type": "stream",
     "text": [
      "Parameter containing:\n",
      "tensor([1., 1., 1.], requires_grad=True)\n",
      "Parameter containing:\n",
      "tensor([0., 0., 0.], requires_grad=True)\n"
     ]
    }
   ],
   "source": [
    "for p in model.parameters() :\n",
    "    print(p)"
   ]
  },
  {
   "cell_type": "code",
   "execution_count": 76,
   "id": "6c1d3024-b519-4e59-b766-ae23ccdf9cc8",
   "metadata": {},
   "outputs": [],
   "source": [
    "import torch\n",
    "from torch import nn\n",
    "# from d2l import torch as d2l\n",
    "\n",
    "def batch_norm(X, gamma, beta, moving_mean, moving_var, eps, momentum):\n",
    "    # Use `is_grad_enabled` to determine whether the current mode is training\n",
    "    # mode or prediction mode\n",
    "    if not torch.is_grad_enabled():\n",
    "        # If it is prediction mode, directly use the mean and variance\n",
    "        # obtained by moving average\n",
    "        X_hat = (X - moving_mean) / torch.sqrt(moving_var + eps)\n",
    "    else:\n",
    "        assert len(X.shape) in (2, 4)\n",
    "        if len(X.shape) == 2:\n",
    "            # When using a fully-connected layer, calculate the mean and\n",
    "            # variance on the feature dimension\n",
    "            mean = X.mean(dim=0)\n",
    "            var = ((X - mean)**2).mean(dim=0)\n",
    "        else:\n",
    "            # When using a two-dimensional convolutional layer, calculate the\n",
    "            # mean and variance on the channel dimension (axis=1). Here we\n",
    "            # need to maintain the shape of `X`, so that the broadcasting\n",
    "            # operation can be carried out later\n",
    "            mean = X.mean(dim=(0, 2, 3), keepdim=True)\n",
    "            var = ((X - mean)**2).mean(dim=(0, 2, 3), keepdim=True)\n",
    "        # In training mode, the current mean and variance are used for the\n",
    "        # standardization\n",
    "        X_hat = (X - mean) / torch.sqrt(var + eps)\n",
    "        # Update the mean and variance using moving average\n",
    "        moving_mean = momentum * moving_mean + (1.0 - momentum) * mean\n",
    "        moving_var = momentum * moving_var + (1.0 - momentum) * var\n",
    "    Y = gamma * X_hat + beta  # Scale and shift\n",
    "    return Y, moving_mean.data, moving_var.data"
   ]
  },
  {
   "cell_type": "code",
   "execution_count": 77,
   "id": "c45b886f-cd83-4afa-bb2c-4aeaf2eaa1a4",
   "metadata": {},
   "outputs": [],
   "source": [
    "class BatchNorm(nn.Module):\n",
    "    # `num_features`: the number of outputs for a fully-connected layer\n",
    "    # or the number of output channels for a convolutional layer. `num_dims`:\n",
    "    # 2 for a fully-connected layer and 4 for a convolutional layer\n",
    "    def __init__(self, num_features, num_dims):\n",
    "        super().__init__()\n",
    "        if num_dims == 2:\n",
    "            shape = (1, num_features)\n",
    "        else:\n",
    "            shape = (1, num_features, 1, 1)\n",
    "        # The scale parameter and the shift parameter (model parameters) are\n",
    "        # initialized to 1 and 0, respectively\n",
    "        self.gamma = nn.Parameter(torch.ones(shape))\n",
    "        self.beta = nn.Parameter(torch.zeros(shape))\n",
    "        # The variables that are not model parameters are initialized to 0 and 1\n",
    "        self.moving_mean = torch.zeros(shape)\n",
    "        self.moving_var = torch.ones(shape)\n",
    "\n",
    "    def forward(self, X):\n",
    "        # If `X` is not on the main memory, copy `moving_mean` and\n",
    "        # `moving_var` to the device where `X` is located\n",
    "        if self.moving_mean.device != X.device:\n",
    "            self.moving_mean = self.moving_mean.to(X.device)\n",
    "            self.moving_var = self.moving_var.to(X.device)\n",
    "        # Save the updated `moving_mean` and `moving_var`\n",
    "        Y, self.moving_mean, self.moving_var = batch_norm(\n",
    "            X, self.gamma, self.beta, self.moving_mean, self.moving_var,\n",
    "            eps=1e-5, momentum=0.9)\n",
    "        return Y"
   ]
  },
  {
   "cell_type": "code",
   "execution_count": 78,
   "id": "b61d6f62-736c-439d-be1c-d4d4cd1aa615",
   "metadata": {},
   "outputs": [],
   "source": [
    "custom_m = BatchNorm(num_features=3, num_dims=4)"
   ]
  },
  {
   "cell_type": "code",
   "execution_count": 79,
   "id": "1875a418-c55e-4ea5-8253-ca0833c428fd",
   "metadata": {},
   "outputs": [
    {
     "data": {
      "text/plain": [
       "tensor([[[[ 0.2129, -1.4905],\n",
       "          [-1.1706,  1.3179]],\n",
       "\n",
       "         [[ 2.2721,  0.4208],\n",
       "          [-0.9273,  0.1711]],\n",
       "\n",
       "         [[-0.6782, -1.4200],\n",
       "          [ 0.3269,  1.5030]]],\n",
       "\n",
       "\n",
       "        [[[ 0.3856, -0.7068],\n",
       "          [ 0.0461,  1.4054]],\n",
       "\n",
       "         [[-0.5705, -1.0837],\n",
       "          [-0.4813,  0.1990]],\n",
       "\n",
       "         [[-0.1303, -0.7361],\n",
       "          [-0.4213,  1.5560]]]], grad_fn=<AddBackward0>)"
      ]
     },
     "execution_count": 79,
     "metadata": {},
     "output_type": "execute_result"
    }
   ],
   "source": [
    "output = custom_m(input)\n",
    "output"
   ]
  },
  {
   "cell_type": "code",
   "execution_count": 117,
   "id": "b0fbcd1b-3349-48fc-b4af-080c3bc87b91",
   "metadata": {},
   "outputs": [
    {
     "data": {
      "text/plain": [
       "False"
      ]
     },
     "execution_count": 117,
     "metadata": {},
     "output_type": "execute_result"
    }
   ],
   "source": [
    "torch.rand(1).item() > 0.5"
   ]
  },
  {
   "cell_type": "code",
   "execution_count": null,
   "id": "738487b7-4f6a-41d9-9095-099af9960f0f",
   "metadata": {},
   "outputs": [],
   "source": []
  }
 ],
 "metadata": {
  "kernelspec": {
   "display_name": "pytorch_retina",
   "language": "python",
   "name": "pytorch_retina"
  },
  "language_info": {
   "codemirror_mode": {
    "name": "ipython",
    "version": 3
   },
   "file_extension": ".py",
   "mimetype": "text/x-python",
   "name": "python",
   "nbconvert_exporter": "python",
   "pygments_lexer": "ipython3",
   "version": "3.7.10"
  }
 },
 "nbformat": 4,
 "nbformat_minor": 5
}
