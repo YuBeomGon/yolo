{
 "cells": [
  {
   "cell_type": "code",
   "execution_count": 1,
   "id": "b5950ef2-e106-47f1-8e5b-673d2ec1cf45",
   "metadata": {},
   "outputs": [
    {
     "name": "stdout",
     "output_type": "stream",
     "text": [
      "[1, 4, 9]\n"
     ]
    }
   ],
   "source": [
    "from multiprocessing import Pool\n",
    "\n",
    "def f(x):\n",
    "    return x*x\n",
    "\n",
    "if __name__ == '__main__':\n",
    "    with Pool(5) as p:\n",
    "        print(p.map(f, [1, 2, 3]))"
   ]
  },
  {
   "cell_type": "code",
   "execution_count": 3,
   "id": "ee34637e-f088-453b-b32b-972facf05778",
   "metadata": {},
   "outputs": [],
   "source": [
    "# print(p.map(f, [1,2,3]))"
   ]
  },
  {
   "cell_type": "code",
   "execution_count": 5,
   "id": "4a65fa1c-0184-445e-868c-cd10124a41cf",
   "metadata": {},
   "outputs": [
    {
     "data": {
      "text/plain": [
       "[1, 2, 3]"
      ]
     },
     "execution_count": 5,
     "metadata": {},
     "output_type": "execute_result"
    }
   ],
   "source": [
    "a = list([1,2,3])\n",
    "a"
   ]
  },
  {
   "cell_type": "code",
   "execution_count": null,
   "id": "83128c10-f2ca-4d82-8cc6-aa5b22912045",
   "metadata": {},
   "outputs": [],
   "source": []
  },
  {
   "cell_type": "code",
   "execution_count": 9,
   "id": "57749d0d-b241-4f70-8feb-7de342b1c8ee",
   "metadata": {},
   "outputs": [
    {
     "name": "stdout",
     "output_type": "stream",
     "text": [
      "Number at beginning is <Synchronized wrapper for c_int(0)>\n",
      "number at end is <Synchronized wrapper for c_int(200)>\n"
     ]
    }
   ],
   "source": [
    "from multiprocessing import Process, Value, Array\n",
    "import time\n",
    "import os\n",
    "\n",
    "def add_100(number):\n",
    "    for i in range(100):\n",
    "        time.sleep(0.01)\n",
    "        number.value += 1\n",
    "\n",
    "if __name__ == \"__main__\":\n",
    "\n",
    "    shared_number = Value('i', 0)\n",
    "    print(\"Number at beginning is\", shared_number)\n",
    "\n",
    "    p1 = Process(target=add_100, args=(shared_number,))\n",
    "    p2 = Process(target=add_100, args=(shared_number,))\n",
    "    p1.start()\n",
    "    p2.start()\n",
    "    p1.join()\n",
    "    p2.join()\n",
    "\n",
    "    print(\"number at end is\", shared_number)"
   ]
  },
  {
   "cell_type": "code",
   "execution_count": null,
   "id": "478d0ecb-0c33-4bc2-8d9f-4c93c087f669",
   "metadata": {},
   "outputs": [],
   "source": []
  }
 ],
 "metadata": {
  "kernelspec": {
   "display_name": "pytorch_retina",
   "language": "python",
   "name": "pytorch_retina"
  },
  "language_info": {
   "codemirror_mode": {
    "name": "ipython",
    "version": 3
   },
   "file_extension": ".py",
   "mimetype": "text/x-python",
   "name": "python",
   "nbconvert_exporter": "python",
   "pygments_lexer": "ipython3",
   "version": "3.7.10"
  }
 },
 "nbformat": 4,
 "nbformat_minor": 5
}
