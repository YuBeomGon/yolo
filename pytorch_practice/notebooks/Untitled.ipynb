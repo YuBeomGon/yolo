{
 "cells": [
  {
   "cell_type": "code",
   "execution_count": 64,
   "id": "6c80a4ef-feac-43e1-94bf-3d8606ef3f9c",
   "metadata": {},
   "outputs": [],
   "source": [
    "import torch\n",
    "import numpy as np\n",
    "import torch.nn as nn"
   ]
  },
  {
   "cell_type": "code",
   "execution_count": 8,
   "id": "9b8e68fd-34c5-4f5f-92f8-f680a2c13d04",
   "metadata": {},
   "outputs": [
    {
     "data": {
      "text/plain": [
       "tensor([[1., 1., 1., 1., 1.],\n",
       "        [1., 1., 1., 1., 1.],\n",
       "        [1., 1., 1., 1., 1.],\n",
       "        [1., 1., 1., 1., 1.],\n",
       "        [1., 1., 1., 1., 1.]])"
      ]
     },
     "execution_count": 8,
     "metadata": {},
     "output_type": "execute_result"
    }
   ],
   "source": [
    "a = torch.ones((5,5))\n",
    "a"
   ]
  },
  {
   "cell_type": "code",
   "execution_count": 9,
   "id": "8755a017-f15d-431e-af3b-eb5d0510d21d",
   "metadata": {},
   "outputs": [
    {
     "data": {
      "text/plain": [
       "'torch.FloatTensor'"
      ]
     },
     "execution_count": 9,
     "metadata": {},
     "output_type": "execute_result"
    }
   ],
   "source": [
    "a.type()"
   ]
  },
  {
   "cell_type": "code",
   "execution_count": 10,
   "id": "69eed939-51bc-490f-9cee-08a9292d6b94",
   "metadata": {},
   "outputs": [
    {
     "data": {
      "text/plain": [
       "False"
      ]
     },
     "execution_count": 10,
     "metadata": {},
     "output_type": "execute_result"
    }
   ],
   "source": [
    "a.is_shared()"
   ]
  },
  {
   "cell_type": "code",
   "execution_count": 11,
   "id": "a86a0056-ae2f-4f2c-a1cc-d3d8887f7e17",
   "metadata": {},
   "outputs": [],
   "source": [
    "a = a.share_memory_()"
   ]
  },
  {
   "cell_type": "code",
   "execution_count": 12,
   "id": "8dceea64-1f30-4483-855f-2550b78d33d1",
   "metadata": {},
   "outputs": [
    {
     "data": {
      "text/plain": [
       "True"
      ]
     },
     "execution_count": 12,
     "metadata": {},
     "output_type": "execute_result"
    }
   ],
   "source": [
    "a.is_shared()"
   ]
  },
  {
   "cell_type": "code",
   "execution_count": 15,
   "id": "8bd3698a-e0cf-4515-9db7-c4a1804eb7f1",
   "metadata": {},
   "outputs": [
    {
     "name": "stdout",
     "output_type": "stream",
     "text": [
      "t: tensor([1., 1., 1., 1., 1.])\n"
     ]
    }
   ],
   "source": [
    "t = torch.ones(5)\n",
    "print(f\"t: {t}\")"
   ]
  },
  {
   "cell_type": "code",
   "execution_count": 16,
   "id": "d2da339c-a66d-4cc0-8961-7a411242726b",
   "metadata": {},
   "outputs": [
    {
     "name": "stdout",
     "output_type": "stream",
     "text": [
      "n: [1. 1. 1. 1. 1.]\n"
     ]
    }
   ],
   "source": [
    "n = t.numpy()\n",
    "print(f\"n: {n}\")"
   ]
  },
  {
   "cell_type": "code",
   "execution_count": 17,
   "id": "2a691b22-b54b-4b23-a868-f0ad7777ebbe",
   "metadata": {},
   "outputs": [
    {
     "data": {
      "text/plain": [
       "tensor([2., 2., 2., 2., 2.])"
      ]
     },
     "execution_count": 17,
     "metadata": {},
     "output_type": "execute_result"
    }
   ],
   "source": [
    "t.add_(1)"
   ]
  },
  {
   "cell_type": "code",
   "execution_count": 18,
   "id": "1674ca2e-c34b-4394-932f-56461d0f11a0",
   "metadata": {},
   "outputs": [
    {
     "name": "stdout",
     "output_type": "stream",
     "text": [
      "n: [2. 2. 2. 2. 2.]\n"
     ]
    }
   ],
   "source": [
    "print(f\"n: {n}\")"
   ]
  },
  {
   "cell_type": "code",
   "execution_count": 20,
   "id": "5decb973-1b77-444b-8e67-bb89579b006e",
   "metadata": {},
   "outputs": [
    {
     "data": {
      "text/plain": [
       "tensor([[1, 2],\n",
       "        [3, 4]])"
      ]
     },
     "execution_count": 20,
     "metadata": {},
     "output_type": "execute_result"
    }
   ],
   "source": [
    "data = [[1, 2],[3, 4]]\n",
    "x_data = torch.tensor(data)\n",
    "x_data"
   ]
  },
  {
   "cell_type": "code",
   "execution_count": 24,
   "id": "1aaae64a-8bd1-4c87-b853-2b3a3d8e14ac",
   "metadata": {},
   "outputs": [],
   "source": [
    "np_array = np.array(data)\n",
    "x_np = torch.from_numpy(np_array)"
   ]
  },
  {
   "cell_type": "code",
   "execution_count": 25,
   "id": "0b2f04a6-0011-4f5d-af5a-1e8f4da5b8d6",
   "metadata": {},
   "outputs": [
    {
     "data": {
      "text/plain": [
       "tensor([[2, 3],\n",
       "        [4, 5]])"
      ]
     },
     "execution_count": 25,
     "metadata": {},
     "output_type": "execute_result"
    }
   ],
   "source": [
    "x_np.add_(1)"
   ]
  },
  {
   "cell_type": "code",
   "execution_count": 26,
   "id": "da36e203-4e66-41e8-bfdd-1da0bd48988f",
   "metadata": {},
   "outputs": [
    {
     "data": {
      "text/plain": [
       "array([[2, 3],\n",
       "       [4, 5]])"
      ]
     },
     "execution_count": 26,
     "metadata": {},
     "output_type": "execute_result"
    }
   ],
   "source": [
    "np_array"
   ]
  },
  {
   "cell_type": "code",
   "execution_count": 27,
   "id": "8a3d6093-42f0-4257-9ef8-13d6e880eaf2",
   "metadata": {},
   "outputs": [
    {
     "data": {
      "text/plain": [
       "[[1, 2], [3, 4]]"
      ]
     },
     "execution_count": 27,
     "metadata": {},
     "output_type": "execute_result"
    }
   ],
   "source": [
    "data"
   ]
  },
  {
   "cell_type": "code",
   "execution_count": 28,
   "id": "9be41f69-d238-4359-804d-d50cec9993e6",
   "metadata": {},
   "outputs": [
    {
     "data": {
      "text/plain": [
       "tensor([[1, 2],\n",
       "        [3, 4]])"
      ]
     },
     "execution_count": 28,
     "metadata": {},
     "output_type": "execute_result"
    }
   ],
   "source": [
    "x_data"
   ]
  },
  {
   "cell_type": "code",
   "execution_count": 29,
   "id": "757fb9cd-55aa-4762-b9c2-c90808af8b49",
   "metadata": {},
   "outputs": [],
   "source": [
    "tensor = torch.rand(3,4)"
   ]
  },
  {
   "cell_type": "code",
   "execution_count": 30,
   "id": "21a5a784-3a3b-47d1-9b72-c7dde5768220",
   "metadata": {},
   "outputs": [
    {
     "data": {
      "text/plain": [
       "torch.Size([3, 4])"
      ]
     },
     "execution_count": 30,
     "metadata": {},
     "output_type": "execute_result"
    }
   ],
   "source": [
    "tensor.shape"
   ]
  },
  {
   "cell_type": "code",
   "execution_count": 31,
   "id": "34057688-41f2-4ec9-b816-c10944268c24",
   "metadata": {},
   "outputs": [
    {
     "data": {
      "text/plain": [
       "torch.float32"
      ]
     },
     "execution_count": 31,
     "metadata": {},
     "output_type": "execute_result"
    }
   ],
   "source": [
    "tensor.dtype"
   ]
  },
  {
   "cell_type": "code",
   "execution_count": 32,
   "id": "2d7ccb91-0934-48f8-9bfc-77adb5fd65ed",
   "metadata": {},
   "outputs": [
    {
     "data": {
      "text/plain": [
       "device(type='cpu')"
      ]
     },
     "execution_count": 32,
     "metadata": {},
     "output_type": "execute_result"
    }
   ],
   "source": [
    "tensor.device"
   ]
  },
  {
   "cell_type": "code",
   "execution_count": 35,
   "id": "bfe6b516-a7c3-4a75-ae3f-1d988c37d205",
   "metadata": {},
   "outputs": [
    {
     "data": {
      "text/plain": [
       "tensor([[0.5239, 0.1424, 0.7090, 0.4583],\n",
       "        [0.4863, 0.2209, 0.0108, 0.9114],\n",
       "        [0.0289, 0.5397, 0.6122, 0.5051],\n",
       "        [0.9232, 0.9337, 0.3621, 0.9654]])"
      ]
     },
     "execution_count": 35,
     "metadata": {},
     "output_type": "execute_result"
    }
   ],
   "source": [
    "tensor = torch.rand(4, 4)\n",
    "tensor"
   ]
  },
  {
   "cell_type": "code",
   "execution_count": 38,
   "id": "04007b94-cfd6-495c-ae58-24508f42554c",
   "metadata": {},
   "outputs": [
    {
     "data": {
      "text/plain": [
       "tensor([0.4583, 0.9114, 0.5051, 0.9654])"
      ]
     },
     "execution_count": 38,
     "metadata": {},
     "output_type": "execute_result"
    }
   ],
   "source": [
    "tensor[..., -1]"
   ]
  },
  {
   "cell_type": "code",
   "execution_count": 40,
   "id": "2601fff1-187b-45cd-bb7e-d0f18d258780",
   "metadata": {},
   "outputs": [],
   "source": [
    "tensor[:,1] = 0"
   ]
  },
  {
   "cell_type": "code",
   "execution_count": 41,
   "id": "be0aecd5-a998-4e6d-930c-81342fada565",
   "metadata": {},
   "outputs": [
    {
     "data": {
      "text/plain": [
       "tensor([[0.5239, 0.0000, 0.7090, 0.4583],\n",
       "        [0.4863, 0.0000, 0.0108, 0.9114],\n",
       "        [0.0289, 0.0000, 0.6122, 0.5051],\n",
       "        [0.9232, 0.0000, 0.3621, 0.9654]])"
      ]
     },
     "execution_count": 41,
     "metadata": {},
     "output_type": "execute_result"
    }
   ],
   "source": [
    "tensor"
   ]
  },
  {
   "cell_type": "code",
   "execution_count": 45,
   "id": "b761e49b-81a5-4d4a-a766-a97345c1365a",
   "metadata": {},
   "outputs": [
    {
     "data": {
      "text/plain": [
       "torch.Size([8, 4])"
      ]
     },
     "execution_count": 45,
     "metadata": {},
     "output_type": "execute_result"
    }
   ],
   "source": [
    "torch.cat([tensor, tensor],dim=0).shape"
   ]
  },
  {
   "cell_type": "code",
   "execution_count": 52,
   "id": "d4808a01-38ee-4bc4-8de2-f22055fc34bb",
   "metadata": {},
   "outputs": [
    {
     "data": {
      "text/plain": [
       "torch.Size([2, 4, 4])"
      ]
     },
     "execution_count": 52,
     "metadata": {},
     "output_type": "execute_result"
    }
   ],
   "source": [
    "torch.stack([tensor, tensor], dim=0)"
   ]
  },
  {
   "cell_type": "code",
   "execution_count": 53,
   "id": "2caf3826-4d39-4c1f-a2b1-95b2f5460f2e",
   "metadata": {},
   "outputs": [],
   "source": [
    "a = torch.ones((2,3))\n",
    "b = torch.ones((3,4))"
   ]
  },
  {
   "cell_type": "code",
   "execution_count": 54,
   "id": "894c1c04-9707-4532-b117-c37fb77dae97",
   "metadata": {},
   "outputs": [
    {
     "data": {
      "text/plain": [
       "tensor([[3., 3., 3., 3.],\n",
       "        [3., 3., 3., 3.]])"
      ]
     },
     "execution_count": 54,
     "metadata": {},
     "output_type": "execute_result"
    }
   ],
   "source": [
    "a @ b"
   ]
  },
  {
   "cell_type": "code",
   "execution_count": 55,
   "id": "08f8d2a7-80a2-4f6b-b8c8-fd712788837e",
   "metadata": {},
   "outputs": [],
   "source": [
    "c = a.matmul(b)"
   ]
  },
  {
   "cell_type": "code",
   "execution_count": 203,
   "id": "545b0532-67bb-4040-b4b8-30260e906c4b",
   "metadata": {},
   "outputs": [],
   "source": [
    "input = torch.tensor([-0.1, 0.1, 0.2, 0.8, 0.9])\n",
    "label = torch.tensor([1.,1.,1.,0.,0.])"
   ]
  },
  {
   "cell_type": "code",
   "execution_count": 204,
   "id": "7cea6464-2ee6-4a0d-8596-0ed6053b4540",
   "metadata": {},
   "outputs": [
    {
     "name": "stdout",
     "output_type": "stream",
     "text": [
      "tensor([0.2309], requires_grad=True)\n",
      "tensor([0.6773], requires_grad=True)\n"
     ]
    }
   ],
   "source": [
    "w1 = torch.randn((1,), requires_grad=True)\n",
    "w2 = torch.randn((1,), requires_grad=True)\n",
    "print(w1)\n",
    "print(w2)"
   ]
  },
  {
   "cell_type": "code",
   "execution_count": null,
   "id": "6a503ab8-1192-4d2c-a16f-c4b9ded3583f",
   "metadata": {},
   "outputs": [],
   "source": []
  },
  {
   "cell_type": "code",
   "execution_count": 205,
   "id": "ea3d9c42-85b9-4214-b924-822cdae12fad",
   "metadata": {},
   "outputs": [],
   "source": [
    "relu = torch.nn.ReLU()\n",
    "elu = torch.nn.ELU(alpha=1.0, inplace=False)"
   ]
  },
  {
   "cell_type": "code",
   "execution_count": 206,
   "id": "e709feb4-df72-45bc-b0d4-3c894fea63e0",
   "metadata": {},
   "outputs": [
    {
     "data": {
      "text/plain": [
       "tensor([0.5000, 0.5039, 0.5078, 0.5312, 0.5351], grad_fn=<SigmoidBackward>)"
      ]
     },
     "execution_count": 206,
     "metadata": {},
     "output_type": "execute_result"
    }
   ],
   "source": [
    "out = torch.sigmoid(relu(input * w1) * w2)\n",
    "out"
   ]
  },
  {
   "cell_type": "code",
   "execution_count": 207,
   "id": "b6d969c2-b4ad-4dc6-95ad-7bf2c4b8d18b",
   "metadata": {},
   "outputs": [
    {
     "data": {
      "text/plain": [
       "tensor([0.2500, 0.2461, 0.2422, 0.2822, 0.2864], grad_fn=<PowBackward0>)"
      ]
     },
     "execution_count": 207,
     "metadata": {},
     "output_type": "execute_result"
    }
   ],
   "source": [
    "loss = (out - label) ** 2\n",
    "loss"
   ]
  },
  {
   "cell_type": "code",
   "execution_count": 208,
   "id": "e6e8d550-bdb0-49aa-9d84-7b00fe9ec0e1",
   "metadata": {},
   "outputs": [],
   "source": [
    "loss.sum().backward()"
   ]
  },
  {
   "cell_type": "code",
   "execution_count": 209,
   "id": "5d09c37c-8773-4f77-a179-b15caabc05cd",
   "metadata": {},
   "outputs": [
    {
     "data": {
      "text/plain": [
       "tensor([0.1685], grad_fn=<SubBackward0>)"
      ]
     },
     "execution_count": 209,
     "metadata": {},
     "output_type": "execute_result"
    }
   ],
   "source": [
    "w1 = torch.randn((1,), requires_grad=True) - 1\n",
    "w1"
   ]
  },
  {
   "cell_type": "code",
   "execution_count": 210,
   "id": "2abb07e0-a65b-41ad-8c2e-898e5e18c9fb",
   "metadata": {},
   "outputs": [
    {
     "name": "stdout",
     "output_type": "stream",
     "text": [
      "tensor([-0.0060,  0.0060,  0.0120,  0.0481,  0.0541], grad_fn=<EluBackward0>)\n",
      "tensor([-0.0170,  0.0171,  0.0342,  0.1369,  0.1540], grad_fn=<EluBackward0>)\n",
      "tensor([-0.1252,  0.1338,  0.2675,  1.0701,  1.2039], grad_fn=<EluBackward0>)\n",
      "tensor([-0.1319,  0.1415,  0.2830,  1.1318,  1.2733], grad_fn=<EluBackward0>)\n",
      "tensor([-0.1312,  0.1407,  0.2814,  1.1254,  1.2661], grad_fn=<EluBackward0>)\n",
      "tensor([-0.1304,  0.1397,  0.2794,  1.1174,  1.2571], grad_fn=<EluBackward0>)\n",
      "tensor([-0.1295,  0.1387,  0.2774,  1.1095,  1.2482], grad_fn=<EluBackward0>)\n",
      "tensor([-0.1287,  0.1377,  0.2754,  1.1018,  1.2395], grad_fn=<EluBackward0>)\n",
      "tensor([-0.1278,  0.1368,  0.2735,  1.0941,  1.2308], grad_fn=<EluBackward0>)\n",
      "tensor([-0.1270,  0.1358,  0.2716,  1.0865,  1.2223], grad_fn=<EluBackward0>)\n",
      "tensor([-0.1262,  0.1349,  0.2698,  1.0791,  1.2139], grad_fn=<EluBackward0>)\n",
      "tensor([-0.1254,  0.1340,  0.2679,  1.0717,  1.2057], grad_fn=<EluBackward0>)\n",
      "tensor([-0.1246,  0.1331,  0.2661,  1.0645,  1.1976], grad_fn=<EluBackward0>)\n",
      "tensor([-0.1238,  0.1322,  0.2644,  1.0574,  1.1896], grad_fn=<EluBackward0>)\n",
      "tensor([-0.1230,  0.1313,  0.2626,  1.0504,  1.1817], grad_fn=<EluBackward0>)\n",
      "tensor([-0.1223,  0.1304,  0.2609,  1.0435,  1.1739], grad_fn=<EluBackward0>)\n",
      "tensor([-0.1215,  0.1296,  0.2592,  1.0367,  1.1663], grad_fn=<EluBackward0>)\n",
      "tensor([-0.1208,  0.1287,  0.2575,  1.0300,  1.1587], grad_fn=<EluBackward0>)\n",
      "tensor([-0.1201,  0.1279,  0.2558,  1.0234,  1.1513], grad_fn=<EluBackward0>)\n",
      "tensor([-0.1194,  0.1271,  0.2542,  1.0169,  1.1440], grad_fn=<EluBackward0>)\n",
      "tensor([-0.1187,  0.1263,  0.2526,  1.0105,  1.1368], grad_fn=<EluBackward0>)\n",
      "tensor([-0.1180,  0.1255,  0.2510,  1.0042,  1.1297], grad_fn=<EluBackward0>)\n",
      "tensor([-0.1173,  0.1247,  0.2495,  0.9979,  1.1227], grad_fn=<EluBackward0>)\n",
      "tensor([-0.1166,  0.1240,  0.2480,  0.9918,  1.1158], grad_fn=<EluBackward0>)\n",
      "tensor([-0.1159,  0.1232,  0.2465,  0.9858,  1.1090], grad_fn=<EluBackward0>)\n",
      "tensor([-0.1153,  0.1225,  0.2450,  0.9799,  1.1024], grad_fn=<EluBackward0>)\n",
      "tensor([-0.1146,  0.1218,  0.2435,  0.9740,  1.0958], grad_fn=<EluBackward0>)\n",
      "tensor([-0.1140,  0.1210,  0.2421,  0.9683,  1.0893], grad_fn=<EluBackward0>)\n",
      "tensor([-0.1134,  0.1203,  0.2407,  0.9626,  1.0830], grad_fn=<EluBackward0>)\n",
      "tensor([-0.1128,  0.1196,  0.2393,  0.9570,  1.0767], grad_fn=<EluBackward0>)\n",
      "tensor([-0.1121,  0.1189,  0.2379,  0.9515,  1.0705], grad_fn=<EluBackward0>)\n",
      "tensor([-0.1115,  0.1183,  0.2365,  0.9461,  1.0644], grad_fn=<EluBackward0>)\n",
      "tensor([-0.1109,  0.1176,  0.2352,  0.9408,  1.0584], grad_fn=<EluBackward0>)\n",
      "tensor([-0.1104,  0.1169,  0.2339,  0.9355,  1.0525], grad_fn=<EluBackward0>)\n",
      "tensor([-0.1098,  0.1163,  0.2326,  0.9304,  1.0467], grad_fn=<EluBackward0>)\n",
      "tensor([-0.1092,  0.1157,  0.2313,  0.9253,  1.0409], grad_fn=<EluBackward0>)\n",
      "tensor([-0.1087,  0.1150,  0.2301,  0.9203,  1.0353], grad_fn=<EluBackward0>)\n",
      "tensor([-0.1081,  0.1144,  0.2288,  0.9153,  1.0297], grad_fn=<EluBackward0>)\n",
      "tensor([-0.1076,  0.1138,  0.2276,  0.9104,  1.0242], grad_fn=<EluBackward0>)\n",
      "tensor([-0.1070,  0.1132,  0.2264,  0.9056,  1.0188], grad_fn=<EluBackward0>)\n",
      "tensor([-0.1065,  0.1126,  0.2252,  0.9009,  1.0135], grad_fn=<EluBackward0>)\n",
      "tensor([-0.1060,  0.1120,  0.2241,  0.8962,  1.0083], grad_fn=<EluBackward0>)\n",
      "tensor([-0.1055,  0.1115,  0.2229,  0.8916,  1.0031], grad_fn=<EluBackward0>)\n",
      "tensor([-0.1050,  0.1109,  0.2218,  0.8871,  0.9980], grad_fn=<EluBackward0>)\n",
      "tensor([-0.1045,  0.1103,  0.2207,  0.8826,  0.9930], grad_fn=<EluBackward0>)\n",
      "tensor([-0.1040,  0.1098,  0.2196,  0.8783,  0.9880], grad_fn=<EluBackward0>)\n",
      "tensor([-0.1035,  0.1092,  0.2185,  0.8739,  0.9832], grad_fn=<EluBackward0>)\n",
      "tensor([-0.1030,  0.1087,  0.2174,  0.8697,  0.9784], grad_fn=<EluBackward0>)\n",
      "tensor([-0.1025,  0.1082,  0.2164,  0.8655,  0.9736], grad_fn=<EluBackward0>)\n",
      "tensor([-0.1021,  0.1077,  0.2153,  0.8613,  0.9690], grad_fn=<EluBackward0>)\n",
      "tensor([-0.1016,  0.1072,  0.2143,  0.8572,  0.9644], grad_fn=<EluBackward0>)\n",
      "tensor([-0.1012,  0.1066,  0.2133,  0.8532,  0.9598], grad_fn=<EluBackward0>)\n",
      "tensor([-0.1007,  0.1061,  0.2123,  0.8492,  0.9553], grad_fn=<EluBackward0>)\n",
      "tensor([-0.1003,  0.1057,  0.2113,  0.8453,  0.9509], grad_fn=<EluBackward0>)\n",
      "tensor([-0.0998,  0.1052,  0.2104,  0.8414,  0.9466], grad_fn=<EluBackward0>)\n",
      "tensor([-0.0994,  0.1047,  0.2094,  0.8376,  0.9423], grad_fn=<EluBackward0>)\n",
      "tensor([-0.0990,  0.1042,  0.2085,  0.8338,  0.9381], grad_fn=<EluBackward0>)\n",
      "tensor([-0.0986,  0.1038,  0.2075,  0.8301,  0.9339], grad_fn=<EluBackward0>)\n",
      "tensor([-0.0982,  0.1033,  0.2066,  0.8265,  0.9298], grad_fn=<EluBackward0>)\n",
      "tensor([-0.0977,  0.1029,  0.2057,  0.8229,  0.9257], grad_fn=<EluBackward0>)\n",
      "tensor([-0.0973,  0.1024,  0.2048,  0.8193,  0.9217], grad_fn=<EluBackward0>)\n",
      "tensor([-0.0970,  0.1020,  0.2040,  0.8158,  0.9178], grad_fn=<EluBackward0>)\n",
      "tensor([-0.0966,  0.1015,  0.2031,  0.8124,  0.9139], grad_fn=<EluBackward0>)\n",
      "tensor([-0.0962,  0.1011,  0.2022,  0.8089,  0.9101], grad_fn=<EluBackward0>)\n",
      "tensor([-0.0958,  0.1007,  0.2014,  0.8056,  0.9063], grad_fn=<EluBackward0>)\n",
      "tensor([-0.0954,  0.1003,  0.2006,  0.8022,  0.9025], grad_fn=<EluBackward0>)\n",
      "tensor([-0.0950,  0.0999,  0.1997,  0.7989,  0.8988], grad_fn=<EluBackward0>)\n",
      "tensor([-0.0947,  0.0995,  0.1989,  0.7957,  0.8952], grad_fn=<EluBackward0>)\n",
      "tensor([-0.0943,  0.0991,  0.1981,  0.7925,  0.8916], grad_fn=<EluBackward0>)\n",
      "tensor([-0.0940,  0.0987,  0.1973,  0.7893,  0.8880], grad_fn=<EluBackward0>)\n",
      "tensor([-0.0936,  0.0983,  0.1966,  0.7862,  0.8845], grad_fn=<EluBackward0>)\n",
      "tensor([-0.0932,  0.0979,  0.1958,  0.7831,  0.8810], grad_fn=<EluBackward0>)\n",
      "tensor([-0.0929,  0.0975,  0.1950,  0.7801,  0.8776], grad_fn=<EluBackward0>)\n",
      "tensor([-0.0926,  0.0971,  0.1943,  0.7771,  0.8742], grad_fn=<EluBackward0>)\n",
      "tensor([-0.0922,  0.0968,  0.1935,  0.7741,  0.8709], grad_fn=<EluBackward0>)\n",
      "tensor([-0.0919,  0.0964,  0.1928,  0.7712,  0.8676], grad_fn=<EluBackward0>)\n",
      "tensor([-0.0916,  0.0960,  0.1921,  0.7683,  0.8643], grad_fn=<EluBackward0>)\n",
      "tensor([-0.0912,  0.0957,  0.1913,  0.7654,  0.8611], grad_fn=<EluBackward0>)\n",
      "tensor([-0.0909,  0.0953,  0.1906,  0.7626,  0.8579], grad_fn=<EluBackward0>)\n",
      "tensor([-0.0906,  0.0950,  0.1899,  0.7598,  0.8548], grad_fn=<EluBackward0>)\n",
      "tensor([-0.0903,  0.0946,  0.1893,  0.7571,  0.8517], grad_fn=<EluBackward0>)\n",
      "tensor([-0.0900,  0.0943,  0.1886,  0.7543,  0.8486], grad_fn=<EluBackward0>)\n",
      "tensor([-0.0897,  0.0940,  0.1879,  0.7516,  0.8456], grad_fn=<EluBackward0>)\n",
      "tensor([-0.0894,  0.0936,  0.1872,  0.7489,  0.8426], grad_fn=<EluBackward0>)\n",
      "tensor([-0.0891,  0.0933,  0.1866,  0.7463,  0.8396], grad_fn=<EluBackward0>)\n",
      "tensor([-0.0888,  0.0930,  0.1859,  0.7437,  0.8367], grad_fn=<EluBackward0>)\n",
      "tensor([-0.0885,  0.0926,  0.1853,  0.7412,  0.8338], grad_fn=<EluBackward0>)\n",
      "tensor([-0.0882,  0.0923,  0.1847,  0.7386,  0.8310], grad_fn=<EluBackward0>)\n",
      "tensor([-0.0879,  0.0920,  0.1840,  0.7361,  0.8281], grad_fn=<EluBackward0>)\n",
      "tensor([-0.0876,  0.0917,  0.1834,  0.7336,  0.8253], grad_fn=<EluBackward0>)\n",
      "tensor([-0.0873,  0.0914,  0.1828,  0.7311,  0.8225], grad_fn=<EluBackward0>)\n",
      "tensor([-0.0871,  0.0911,  0.1822,  0.7287,  0.8198], grad_fn=<EluBackward0>)\n",
      "tensor([-0.0868,  0.0908,  0.1816,  0.7263,  0.8171], grad_fn=<EluBackward0>)\n",
      "tensor([-0.0865,  0.0905,  0.1810,  0.7240,  0.8145], grad_fn=<EluBackward0>)\n",
      "tensor([-0.0863,  0.0902,  0.1804,  0.7216,  0.8118], grad_fn=<EluBackward0>)\n",
      "tensor([-0.0860,  0.0899,  0.1798,  0.7193,  0.8092], grad_fn=<EluBackward0>)\n",
      "tensor([-0.0857,  0.0896,  0.1793,  0.7170,  0.8066], grad_fn=<EluBackward0>)\n",
      "tensor([-0.0855,  0.0893,  0.1787,  0.7147,  0.8041], grad_fn=<EluBackward0>)\n",
      "tensor([-0.0852,  0.0891,  0.1781,  0.7124,  0.8015], grad_fn=<EluBackward0>)\n",
      "tensor([-0.0850,  0.0888,  0.1776,  0.7102,  0.7990], grad_fn=<EluBackward0>)\n"
     ]
    }
   ],
   "source": [
    "# w1 = torch.randn((1,), requires_grad=True) \n",
    "# w2 = torch.randn((1,), requires_grad=True) \n",
    "w1 = torch.tensor([0.0601], requires_grad=True)\n",
    "w2 = torch.tensor([0.0520], requires_grad=True)\n",
    "lr = 0.01\n",
    "for i in range(100000) :\n",
    "#     out = torch.sigmoid(relu(input * w1) * w2)\n",
    "    out = torch.sigmoid(elu(input * w1) * w2)\n",
    "\n",
    "    loss = (out - label) ** 2\n",
    "    loss.sum().backward()\n",
    "\n",
    "    if i % 1000 == 0:\n",
    "        print(elu(input * w1))\n",
    "#         print(w1)\n",
    "    with torch.no_grad():\n",
    "        w1 -= lr * w1.grad\n",
    "        w2 -= lr * w2.grad\n",
    "        w1.grad.zero_()\n",
    "        w2.grad.zero_()"
   ]
  },
  {
   "cell_type": "code",
   "execution_count": 212,
   "id": "c90777b3-d30a-41ec-b6d2-b159738f9dd8",
   "metadata": {},
   "outputs": [
    {
     "data": {
      "text/plain": [
       "tensor([0.5489, 0.4489, 0.3989, 0.1625, 0.1365], grad_fn=<SigmoidBackward>)"
      ]
     },
     "execution_count": 212,
     "metadata": {},
     "output_type": "execute_result"
    }
   ],
   "source": [
    "out"
   ]
  },
  {
   "cell_type": "code",
   "execution_count": 198,
   "id": "9d61903d-8ee0-4b1d-beaf-8942f925ccf1",
   "metadata": {},
   "outputs": [
    {
     "data": {
      "text/plain": [
       "tensor([-0.1000,  0.1000,  0.2000,  0.8000,  0.9000])"
      ]
     },
     "execution_count": 198,
     "metadata": {},
     "output_type": "execute_result"
    }
   ],
   "source": [
    "input"
   ]
  },
  {
   "cell_type": "code",
   "execution_count": 1,
   "id": "2a6adaf3-5318-4e5b-9506-85a5cc7f8522",
   "metadata": {},
   "outputs": [],
   "source": [
    "import torch\n",
    "import torchvision"
   ]
  },
  {
   "cell_type": "code",
   "execution_count": 2,
   "id": "eb4d5d06-a361-4dc2-9253-6b0905ff5ca2",
   "metadata": {},
   "outputs": [
    {
     "name": "stderr",
     "output_type": "stream",
     "text": [
      "Downloading: \"https://download.pytorch.org/models/vgg16-397923af.pth\" to /home/beomgon/.cache/torch/hub/checkpoints/vgg16-397923af.pth\n"
     ]
    },
    {
     "data": {
      "application/vnd.jupyter.widget-view+json": {
       "model_id": "f5e485a8839849c2a85e2abe5aeb4398",
       "version_major": 2,
       "version_minor": 0
      },
      "text/plain": [
       "  0%|          | 0.00/528M [00:00<?, ?B/s]"
      ]
     },
     "metadata": {},
     "output_type": "display_data"
    }
   ],
   "source": [
    "model = torchvision.models.vgg16(pretrained=True)\n",
    "features = list(model.features)"
   ]
  },
  {
   "cell_type": "code",
   "execution_count": 4,
   "id": "2f4dd4a0-5c03-4b79-9446-5a22cf1d2540",
   "metadata": {},
   "outputs": [
    {
     "data": {
      "text/plain": [
       "Sequential(\n",
       "  (0): Conv2d(3, 64, kernel_size=(3, 3), stride=(1, 1), padding=(1, 1))\n",
       "  (1): ReLU(inplace=True)\n",
       "  (2): Conv2d(64, 64, kernel_size=(3, 3), stride=(1, 1), padding=(1, 1))\n",
       "  (3): ReLU(inplace=True)\n",
       "  (4): MaxPool2d(kernel_size=2, stride=2, padding=0, dilation=1, ceil_mode=False)\n",
       "  (5): Conv2d(64, 128, kernel_size=(3, 3), stride=(1, 1), padding=(1, 1))\n",
       "  (6): ReLU(inplace=True)\n",
       "  (7): Conv2d(128, 128, kernel_size=(3, 3), stride=(1, 1), padding=(1, 1))\n",
       "  (8): ReLU(inplace=True)\n",
       "  (9): MaxPool2d(kernel_size=2, stride=2, padding=0, dilation=1, ceil_mode=False)\n",
       "  (10): Conv2d(128, 256, kernel_size=(3, 3), stride=(1, 1), padding=(1, 1))\n",
       "  (11): ReLU(inplace=True)\n",
       "  (12): Conv2d(256, 256, kernel_size=(3, 3), stride=(1, 1), padding=(1, 1))\n",
       "  (13): ReLU(inplace=True)\n",
       "  (14): Conv2d(256, 256, kernel_size=(3, 3), stride=(1, 1), padding=(1, 1))\n",
       "  (15): ReLU(inplace=True)\n",
       "  (16): MaxPool2d(kernel_size=2, stride=2, padding=0, dilation=1, ceil_mode=False)\n",
       "  (17): Conv2d(256, 512, kernel_size=(3, 3), stride=(1, 1), padding=(1, 1))\n",
       "  (18): ReLU(inplace=True)\n",
       "  (19): Conv2d(512, 512, kernel_size=(3, 3), stride=(1, 1), padding=(1, 1))\n",
       "  (20): ReLU(inplace=True)\n",
       "  (21): Conv2d(512, 512, kernel_size=(3, 3), stride=(1, 1), padding=(1, 1))\n",
       "  (22): ReLU(inplace=True)\n",
       "  (23): MaxPool2d(kernel_size=2, stride=2, padding=0, dilation=1, ceil_mode=False)\n",
       "  (24): Conv2d(512, 512, kernel_size=(3, 3), stride=(1, 1), padding=(1, 1))\n",
       "  (25): ReLU(inplace=True)\n",
       "  (26): Conv2d(512, 512, kernel_size=(3, 3), stride=(1, 1), padding=(1, 1))\n",
       "  (27): ReLU(inplace=True)\n",
       "  (28): Conv2d(512, 512, kernel_size=(3, 3), stride=(1, 1), padding=(1, 1))\n",
       "  (29): ReLU(inplace=True)\n",
       "  (30): MaxPool2d(kernel_size=2, stride=2, padding=0, dilation=1, ceil_mode=False)\n",
       ")"
      ]
     },
     "execution_count": 4,
     "metadata": {},
     "output_type": "execute_result"
    }
   ],
   "source": [
    "model.features"
   ]
  },
  {
   "cell_type": "code",
   "execution_count": 6,
   "id": "41776d0d-b1be-438e-82b4-cdb6fc37403e",
   "metadata": {},
   "outputs": [
    {
     "ename": "NameError",
     "evalue": "name 'nn' is not defined",
     "output_type": "error",
     "traceback": [
      "\u001b[0;31m---------------------------------------------------------------------------\u001b[0m",
      "\u001b[0;31mNameError\u001b[0m                                 Traceback (most recent call last)",
      "\u001b[0;32m<ipython-input-6-1c28b420c5b5>\u001b[0m in \u001b[0;36m<module>\u001b[0;34m\u001b[0m\n\u001b[1;32m     13\u001b[0m     \u001b[0mout_channels\u001b[0m \u001b[0;34m=\u001b[0m \u001b[0moutput\u001b[0m\u001b[0;34m.\u001b[0m\u001b[0msize\u001b[0m\u001b[0;34m(\u001b[0m\u001b[0;34m)\u001b[0m\u001b[0;34m[\u001b[0m\u001b[0;36m1\u001b[0m\u001b[0;34m]\u001b[0m\u001b[0;34m\u001b[0m\u001b[0;34m\u001b[0m\u001b[0m\n\u001b[1;32m     14\u001b[0m \u001b[0;34m\u001b[0m\u001b[0m\n\u001b[0;32m---> 15\u001b[0;31m \u001b[0mfaster_rcnn_feature_extractor\u001b[0m \u001b[0;34m=\u001b[0m \u001b[0mnn\u001b[0m\u001b[0;34m.\u001b[0m\u001b[0mSequential\u001b[0m\u001b[0;34m(\u001b[0m\u001b[0;34m*\u001b[0m\u001b[0mreq_features\u001b[0m\u001b[0;34m)\u001b[0m\u001b[0;34m\u001b[0m\u001b[0;34m\u001b[0m\u001b[0m\n\u001b[0m\u001b[1;32m     16\u001b[0m \u001b[0;34m\u001b[0m\u001b[0m\n\u001b[1;32m     17\u001b[0m \u001b[0moutput_map\u001b[0m \u001b[0;34m=\u001b[0m \u001b[0mfaster_rcnn_feature_extractor\u001b[0m\u001b[0;34m(\u001b[0m\u001b[0mimgTensor\u001b[0m\u001b[0;34m)\u001b[0m\u001b[0;34m\u001b[0m\u001b[0;34m\u001b[0m\u001b[0m\n",
      "\u001b[0;31mNameError\u001b[0m: name 'nn' is not defined"
     ]
    }
   ],
   "source": [
    "# only collect layers with output feature map size (W, H) < 50\n",
    "dummy_img = torch.zeros((1, 3, 800, 800)).float() # test image array\n",
    "\n",
    "req_features = []\n",
    "output = dummy_img.clone()\n",
    "\n",
    "for feature in features:\n",
    "    output = feature(output)\n",
    "#     print(output.size()) => torch.Size([batch_size, channel, width, height])\n",
    "    if output.size()[2] < 800//16: # 800/16=50\n",
    "        break\n",
    "    req_features.append(feature)\n",
    "    out_channels = output.size()[1]\n",
    "\n",
    "faster_rcnn_feature_extractor = nn.Sequential(*req_features)\n",
    "\n",
    "output_map = faster_rcnn_feature_extractor(imgTensor)"
   ]
  },
  {
   "cell_type": "code",
   "execution_count": 24,
   "id": "3cb894a1-c86b-4fde-954e-28431ae5f203",
   "metadata": {},
   "outputs": [
    {
     "data": {
      "text/plain": [
       "tensor([[ 2,  4,  1,  2,  9],\n",
       "        [12, 14, 11, 12, 19]])"
      ]
     },
     "execution_count": 24,
     "metadata": {},
     "output_type": "execute_result"
    }
   ],
   "source": [
    "import torch\n",
    "src = torch.arange(1, 11).reshape((2, 5))\n",
    "src = torch.tensor([[2,4,1,2,9],\n",
    "                   [12,14,11,12,19]])\n",
    "src"
   ]
  },
  {
   "cell_type": "code",
   "execution_count": 25,
   "id": "6291f2f0-7726-4d69-a57a-5fae5aa4b2d9",
   "metadata": {},
   "outputs": [
    {
     "data": {
      "text/plain": [
       "tensor([[0, 1, 2, 3, 0]])"
      ]
     },
     "execution_count": 25,
     "metadata": {},
     "output_type": "execute_result"
    }
   ],
   "source": [
    "index = torch.tensor([[0, 1, 2, 3, 0]])\n",
    "index"
   ]
  },
  {
   "cell_type": "code",
   "execution_count": 28,
   "id": "5b199a76-a348-4f1d-a79b-ccd2f6bd2456",
   "metadata": {},
   "outputs": [
    {
     "data": {
      "text/plain": [
       "tensor([[2, 0, 0, 0, 9],\n",
       "        [0, 4, 0, 0, 0],\n",
       "        [0, 0, 1, 0, 0],\n",
       "        [0, 0, 0, 2, 0]])"
      ]
     },
     "execution_count": 28,
     "metadata": {},
     "output_type": "execute_result"
    }
   ],
   "source": [
    "torch.zeros(4, 5, dtype=src.dtype).scatter_(0, index, src)"
   ]
  },
  {
   "cell_type": "code",
   "execution_count": null,
   "id": "87f9f642-a723-418d-b68f-320e9626b0a1",
   "metadata": {},
   "outputs": [],
   "source": []
  },
  {
   "cell_type": "code",
   "execution_count": null,
   "id": "4a09843d-ecef-4738-8e9e-6f5ba584275c",
   "metadata": {},
   "outputs": [],
   "source": []
  }
 ],
 "metadata": {
  "kernelspec": {
   "display_name": "pytorch_retina",
   "language": "python",
   "name": "pytorch_retina"
  },
  "language_info": {
   "codemirror_mode": {
    "name": "ipython",
    "version": 3
   },
   "file_extension": ".py",
   "mimetype": "text/x-python",
   "name": "python",
   "nbconvert_exporter": "python",
   "pygments_lexer": "ipython3",
   "version": "3.7.10"
  }
 },
 "nbformat": 4,
 "nbformat_minor": 5
}
