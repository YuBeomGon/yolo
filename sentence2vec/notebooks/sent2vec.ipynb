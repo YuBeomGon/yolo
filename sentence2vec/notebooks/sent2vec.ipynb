{
 "cells": [
  {
   "cell_type": "code",
   "execution_count": null,
   "id": "c9f225c5-ecac-4828-b8e0-2987946653d3",
   "metadata": {},
   "outputs": [],
   "source": []
  },
  {
   "cell_type": "code",
   "execution_count": 1,
   "id": "64df9b32-2b07-46d3-a419-467da1744add",
   "metadata": {},
   "outputs": [],
   "source": [
    "import sent2vec\n"
   ]
  },
  {
   "cell_type": "code",
   "execution_count": 35,
   "id": "7c9d9364-3028-4f90-b228-66f481d3e3be",
   "metadata": {},
   "outputs": [],
   "source": [
    "model = sent2vec.Sent2vecModel()\n",
    "# model.load_model('../sent2vec/wiki_unigrams.bin')\n",
    "model.load_model('../sent2vec/wiki_bigrams.bin')\n",
    "emb = model.embed_sentence(\"once upon a time .\") \n",
    "embs = model.embed_sentences([\"first sentence .\", \"another sentence\"])"
   ]
  },
  {
   "cell_type": "code",
   "execution_count": 36,
   "id": "9857e25f-85ff-4fa3-baec-1eabcb997787",
   "metadata": {},
   "outputs": [
    {
     "data": {
      "text/plain": [
       "(2, 700)"
      ]
     },
     "execution_count": 36,
     "metadata": {},
     "output_type": "execute_result"
    }
   ],
   "source": [
    "embs.shape\n"
   ]
  },
  {
   "cell_type": "code",
   "execution_count": 42,
   "id": "0f86bd57-0502-40ad-9dd2-d80a097bc823",
   "metadata": {},
   "outputs": [],
   "source": [
    "apple = model.embed_sentence(\"apple\") \n",
    "apples = model.embed_sentence(\"apples\") \n",
    "orange = model.embed_sentence(\"orange\") \n",
    "cat = model.embed_sentence(\"cat\") \n",
    "dog = model.embed_sentence(\"dog\") \n",
    "wolf = model.embed_sentence(\"wolf\") \n",
    "man = model.embed_sentence(\"man\") \n",
    "waman = model.embed_sentence(\"waman\") \n",
    "person = model.embed_sentence(\"person\") \n",
    "plane = model.embed_sentence(\"plane\") \n",
    "glove = model.embed_sentence(\"glove\") \n",
    "ball = model.embed_sentence(\"ball\") \n",
    "\n",
    "corn = model.embed_sentence(\"corn\") \n",
    "ear = model.embed_sentence(\"ear\") "
   ]
  },
  {
   "cell_type": "code",
   "execution_count": 43,
   "id": "a6ef08d2-edd6-4aef-8fdd-14d2a09d1139",
   "metadata": {},
   "outputs": [],
   "source": [
    "from scipy import spatial"
   ]
  },
  {
   "cell_type": "code",
   "execution_count": 44,
   "id": "0cda9b64-d1e4-4ec3-9bb6-5075f185d826",
   "metadata": {},
   "outputs": [
    {
     "name": "stdout",
     "output_type": "stream",
     "text": [
      "0.07735148817300797\n",
      "0.05385968089103699\n",
      "0.039768703281879425\n",
      "0.2356729805469513\n",
      "-0.05222387611865997\n",
      "***********************************|\n",
      "0.08222611993551254\n",
      "0.216894268989563\n",
      "-0.01693999394774437\n",
      "0.12648971378803253\n",
      "0.36412596702575684\n",
      "0.194902703166008\n"
     ]
    }
   ],
   "source": [
    "result = 1 - spatial.distance.cosine(person, plane)\n",
    "print(1 - spatial.distance.cosine(person, plane))\n",
    "print(1 - spatial.distance.cosine(person, glove))\n",
    "print(1 - spatial.distance.cosine(person, ball))\n",
    "print(1 - spatial.distance.cosine(glove, ball))\n",
    "print(1 - spatial.distance.cosine(man, waman))\n",
    "print('***********************************|')\n",
    "print(1 - spatial.distance.cosine(ball, man))\n",
    "print(1 - spatial.distance.cosine(wolf, dog))\n",
    "print(1 - spatial.distance.cosine(apple, ball))\n",
    "print(1 - spatial.distance.cosine(apple, orange))\n",
    "print(1 - spatial.distance.cosine(cat, dog))\n",
    "print(1 - spatial.distance.cosine(corn, ear))"
   ]
  },
  {
   "cell_type": "code",
   "execution_count": 15,
   "id": "d11c6ea9-44f3-4146-ae92-81b3119d7515",
   "metadata": {},
   "outputs": [
    {
     "data": {
      "text/plain": [
       "0.12560901"
      ]
     },
     "execution_count": 15,
     "metadata": {},
     "output_type": "execute_result"
    }
   ],
   "source": [
    "# from numpy import dot\n",
    "# from numpy.linalg import norm\n",
    "\n",
    "# cos_sim = dot(apple.squeeze(), orange.squeeze())/(norm(apple)*norm(orange))\n",
    "# cos_sim"
   ]
  },
  {
   "cell_type": "code",
   "execution_count": 49,
   "id": "34134663-39b9-4306-831a-f6fa3796f32b",
   "metadata": {},
   "outputs": [
    {
     "name": "stdout",
     "output_type": "stream",
     "text": [
      "0.3902864158153534\n",
      "0.03944126516580582\n",
      "0.09278376400470734\n",
      "0.10736151784658432\n",
      "0.04236787557601929\n",
      "0.08154592663049698\n",
      "0.19098426401615143\n",
      "0.2032412588596344\n",
      "0.04365008696913719\n",
      "0.0733899399638176\n",
      "0.058395326137542725\n"
     ]
    }
   ],
   "source": [
    "tench = model.embed_sentence('tench, Tinca tinca') \n",
    "goldfish = model.embed_sentence('goldfish, Carassius auratus') \n",
    "shark = model.embed_sentence('great white shark, white shark, man-eater, man-eating shark, Carcharodon carcharias') \n",
    "tiger_shark = model.embed_sentence('tiger shark, Galeocerdo cuvieri')  \n",
    "hammerhead = model.embed_sentence('hammerhead, hammerhead shark')  \n",
    "electric_ray = model.embed_sentence('electric ray, crampfish, numbfish, torpedo')  \n",
    "stingray = model.embed_sentence('stingray')\n",
    "\n",
    "kite = model.embed_sentence('kite')\n",
    "\n",
    "print(1 - spatial.distance.cosine(tench, goldfish))\n",
    "print(1 - spatial.distance.cosine(tench, shark))\n",
    "print(1 - spatial.distance.cosine(tench, tiger_shark))\n",
    "print(1 - spatial.distance.cosine(tench, hammerhead))\n",
    "print(1 - spatial.distance.cosine(tench, electric_ray))\n",
    "print(1 - spatial.distance.cosine(tench, stingray))\n",
    "print(1 - spatial.distance.cosine(electric_ray, stingray))\n",
    "print(1 - spatial.distance.cosine(tiger_shark, shark))\n",
    "\n",
    "print(1 - spatial.distance.cosine(tench, kite))\n",
    "print(1 - spatial.distance.cosine(electric_ray, kite))\n",
    "print(1 - spatial.distance.cosine(tiger_shark, kite))"
   ]
  },
  {
   "cell_type": "code",
   "execution_count": null,
   "id": "33d51ab5-9054-42f9-8e01-be75a35e5469",
   "metadata": {},
   "outputs": [],
   "source": []
  }
 ],
 "metadata": {
  "kernelspec": {
   "display_name": "pytorch_retina",
   "language": "python",
   "name": "pytorch_retina"
  },
  "language_info": {
   "codemirror_mode": {
    "name": "ipython",
    "version": 3
   },
   "file_extension": ".py",
   "mimetype": "text/x-python",
   "name": "python",
   "nbconvert_exporter": "python",
   "pygments_lexer": "ipython3",
   "version": "3.7.10"
  }
 },
 "nbformat": 4,
 "nbformat_minor": 5
}
